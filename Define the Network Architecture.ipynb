<!DOCTYPE html>
<html>
<head><meta charset="utf-8" />

<title>2. Define the Network Architecture</title>

<script src="https://cdnjs.cloudflare.com/ajax/libs/require.js/2.1.10/require.min.js"></script>
<script src="https://cdnjs.cloudflare.com/ajax/libs/jquery/2.0.3/jquery.min.js"></script>



<style type="text/css">
    /*!
*
* Twitter Bootstrap
*
*/
/*!
 * Bootstrap v3.3.7 (http://getbootstrap.com)
 * Copyright 2011-2016 Twitter, Inc.
 * Licensed under MIT (https://github.com/twbs/bootstrap/blob/master/LICENSE)
 */
/*! normalize.css v3.0.3 | MIT License | github.com/necolas/normalize.css */
html {
  font-family: sans-serif;
  -ms-text-size-adjust: 100%;
  -webkit-text-size-adjust: 100%;
}
body {
  margin: 0;
}
article,
aside,
details,
figcaption,
figure,
footer,
header,
hgroup,
main,
menu,
nav,
section,
summary {
  display: block;
}
audio,
canvas,
progress,
video {
  display: inline-block;
  vertical-align: baseline;
}
audio:not([controls]) {
  display: none;
  height: 0;
}
[hidden],
template {
  display: none;
}
a {
  background-color: transparent;
}
a:active,
a:hover {
  outline: 0;
}
abbr[title] {
  border-bottom: 1px dotted;
}
b,
strong {
  font-weight: bold;
}
dfn {
  font-style: italic;
}
h1 {
  font-size: 2em;
  margin: 0.67em 0;
}
mark {
  background: #ff0;
  color: #000;
}
small {
  font-size: 80%;
}
sub,
sup {
  font-size: 75%;
  line-height: 0;
  position: relative;
  vertical-align: baseline;
}
sup {
  top: -0.5em;
}
sub {
  bottom: -0.25em;
}
img {
  border: 0;
}
svg:not(:root) {
  overflow: hidden;
}
figure {
  margin: 1em 40px;
}
hr {
  box-sizing: content-box;
  height: 0;
}
pre {
  overflow: auto;
}
code,
kbd,
pre,
samp {
  font-family: monospace, monospace;
  font-size: 1em;
}
button,
input,
optgroup,
select,
textarea {
  color: inherit;
  font: inherit;
  margin: 0;
}
button {
  overflow: visible;
}
button,
select {
  text-transform: none;
}
button,
html input[type="button"],
input[type="reset"],
input[type="submit"] {
  -webkit-appearance: button;
  cursor: pointer;
}
button[disabled],
html input[disabled] {
  cursor: default;
}
button::-moz-focus-inner,
input::-moz-focus-inner {
  border: 0;
  padding: 0;
}
input {
  line-height: normal;
}
input[type="checkbox"],
input[type="radio"] {
  box-sizing: border-box;
  padding: 0;
}
input[type="number"]::-webkit-inner-spin-button,
input[type="number"]::-webkit-outer-spin-button {
  height: auto;
}
input[type="search"] {
  -webkit-appearance: textfield;
  box-sizing: content-box;
}
input[type="search"]::-webkit-search-cancel-button,
input[type="search"]::-webkit-search-decoration {
  -webkit-appearance: none;
}
fieldset {
  border: 1px solid #c0c0c0;
  margin: 0 2px;
  padding: 0.35em 0.625em 0.75em;
}
legend {
  border: 0;
  padding: 0;
}
textarea {
  overflow: auto;
}
optgroup {
  font-weight: bold;
}
table {
  border-collapse: collapse;
  border-spacing: 0;
}
td,
th {
  padding: 0;
}
/*! Source: https://github.com/h5bp/html5-boilerplate/blob/master/src/css/main.css */
@media print {
  *,
  *:before,
  *:after {
    background: transparent !important;
    box-shadow: none !important;
    text-shadow: none !important;
  }
  a,
  a:visited {
    text-decoration: underline;
  }
  a[href]:after {
    content: " (" attr(href) ")";
  }
  abbr[title]:after {
    content: " (" attr(title) ")";
  }
  a[href^="#"]:after,
  a[href^="javascript:"]:after {
    content: "";
  }
  pre,
  blockquote {
    border: 1px solid #999;
    page-break-inside: avoid;
  }
  thead {
    display: table-header-group;
  }
  tr,
  img {
    page-break-inside: avoid;
  }
  img {
    max-width: 100% !important;
  }
  p,
  h2,
  h3 {
    orphans: 3;
    widows: 3;
  }
  h2,
  h3 {
    page-break-after: avoid;
  }
  .navbar {
    display: none;
  }
  .btn > .caret,
  .dropup > .btn > .caret {
    border-top-color: #000 !important;
  }
  .label {
    border: 1px solid #000;
  }
  .table {
    border-collapse: collapse !important;
  }
  .table td,
  .table th {
    background-color: #fff !important;
  }
  .table-bordered th,
  .table-bordered td {
    border: 1px solid #ddd !important;
  }
}
@font-face {
  font-family: 'Glyphicons Halflings';
  src: url('../components/bootstrap/fonts/glyphicons-halflings-regular.eot');
  src: url('../components/bootstrap/fonts/glyphicons-halflings-regular.eot?#iefix') format('embedded-opentype'), url('../components/bootstrap/fonts/glyphicons-halflings-regular.woff2') format('woff2'), url('../components/bootstrap/fonts/glyphicons-halflings-regular.woff') format('woff'), url('../components/bootstrap/fonts/glyphicons-halflings-regular.ttf') format('truetype'), url('../components/bootstrap/fonts/glyphicons-halflings-regular.svg#glyphicons_halflingsregular') format('svg');
}
.glyphicon {
  position: relative;
  top: 1px;
  display: inline-block;
  font-family: 'Glyphicons Halflings';
  font-style: normal;
  font-weight: normal;
  line-height: 1;
  -webkit-font-smoothing: antialiased;
  -moz-osx-font-smoothing: grayscale;
}
.glyphicon-asterisk:before {
  content: "\002a";
}
.glyphicon-plus:before {
  content: "\002b";
}
.glyphicon-euro:before,
.glyphicon-eur:before {
  content: "\20ac";
}
.glyphicon-minus:before {
  content: "\2212";
}
.glyphicon-cloud:before {
  content: "\2601";
}
.glyphicon-envelope:before {
  content: "\2709";
}
.glyphicon-pencil:before {
  content: "\270f";
}
.glyphicon-glass:before {
  content: "\e001";
}
.glyphicon-music:before {
  content: "\e002";
}
.glyphicon-search:before {
  content: "\e003";
}
.glyphicon-heart:before {
  content: "\e005";
}
.glyphicon-star:before {
  content: "\e006";
}
.glyphicon-star-empty:before {
  content: "\e007";
}
.glyphicon-user:before {
  content: "\e008";
}
.glyphicon-film:before {
  content: "\e009";
}
.glyphicon-th-large:before {
  content: "\e010";
}
.glyphicon-th:before {
  content: "\e011";
}
.glyphicon-th-list:before {
  content: "\e012";
}
.glyphicon-ok:before {
  content: "\e013";
}
.glyphicon-remove:before {
  content: "\e014";
}
.glyphicon-zoom-in:before {
  content: "\e015";
}
.glyphicon-zoom-out:before {
  content: "\e016";
}
.glyphicon-off:before {
  content: "\e017";
}
.glyphicon-signal:before {
  content: "\e018";
}
.glyphicon-cog:before {
  content: "\e019";
}
.glyphicon-trash:before {
  content: "\e020";
}
.glyphicon-home:before {
  content: "\e021";
}
.glyphicon-file:before {
  content: "\e022";
}
.glyphicon-time:before {
  content: "\e023";
}
.glyphicon-road:before {
  content: "\e024";
}
.glyphicon-download-alt:before {
  content: "\e025";
}
.glyphicon-download:before {
  content: "\e026";
}
.glyphicon-upload:before {
  content: "\e027";
}
.glyphicon-inbox:before {
  content: "\e028";
}
.glyphicon-play-circle:before {
  content: "\e029";
}
.glyphicon-repeat:before {
  content: "\e030";
}
.glyphicon-refresh:before {
  content: "\e031";
}
.glyphicon-list-alt:before {
  content: "\e032";
}
.glyphicon-lock:before {
  content: "\e033";
}
.glyphicon-flag:before {
  content: "\e034";
}
.glyphicon-headphones:before {
  content: "\e035";
}
.glyphicon-volume-off:before {
  content: "\e036";
}
.glyphicon-volume-down:before {
  content: "\e037";
}
.glyphicon-volume-up:before {
  content: "\e038";
}
.glyphicon-qrcode:before {
  content: "\e039";
}
.glyphicon-barcode:before {
  content: "\e040";
}
.glyphicon-tag:before {
  content: "\e041";
}
.glyphicon-tags:before {
  content: "\e042";
}
.glyphicon-book:before {
  content: "\e043";
}
.glyphicon-bookmark:before {
  content: "\e044";
}
.glyphicon-print:before {
  content: "\e045";
}
.glyphicon-camera:before {
  content: "\e046";
}
.glyphicon-font:before {
  content: "\e047";
}
.glyphicon-bold:before {
  content: "\e048";
}
.glyphicon-italic:before {
  content: "\e049";
}
.glyphicon-text-height:before {
  content: "\e050";
}
.glyphicon-text-width:before {
  content: "\e051";
}
.glyphicon-align-left:before {
  content: "\e052";
}
.glyphicon-align-center:before {
  content: "\e053";
}
.glyphicon-align-right:before {
  content: "\e054";
}
.glyphicon-align-justify:before {
  content: "\e055";
}
.glyphicon-list:before {
  content: "\e056";
}
.glyphicon-indent-left:before {
  content: "\e057";
}
.glyphicon-indent-right:before {
  content: "\e058";
}
.glyphicon-facetime-video:before {
  content: "\e059";
}
.glyphicon-picture:before {
  content: "\e060";
}
.glyphicon-map-marker:before {
  content: "\e062";
}
.glyphicon-adjust:before {
  content: "\e063";
}
.glyphicon-tint:before {
  content: "\e064";
}
.glyphicon-edit:before {
  content: "\e065";
}
.glyphicon-share:before {
  content: "\e066";
}
.glyphicon-check:before {
  content: "\e067";
}
.glyphicon-move:before {
  content: "\e068";
}
.glyphicon-step-backward:before {
  content: "\e069";
}
.glyphicon-fast-backward:before {
  content: "\e070";
}
.glyphicon-backward:before {
  content: "\e071";
}
.glyphicon-play:before {
  content: "\e072";
}
.glyphicon-pause:before {
  content: "\e073";
}
.glyphicon-stop:before {
  content: "\e074";
}
.glyphicon-forward:before {
  content: "\e075";
}
.glyphicon-fast-forward:before {
  content: "\e076";
}
.glyphicon-step-forward:before {
  content: "\e077";
}
.glyphicon-eject:before {
  content: "\e078";
}
.glyphicon-chevron-left:before {
  content: "\e079";
}
.glyphicon-chevron-right:before {
  content: "\e080";
}
.glyphicon-plus-sign:before {
  content: "\e081";
}
.glyphicon-minus-sign:before {
  content: "\e082";
}
.glyphicon-remove-sign:before {
  content: "\e083";
}
.glyphicon-ok-sign:before {
  content: "\e084";
}
.glyphicon-question-sign:before {
  content: "\e085";
}
.glyphicon-info-sign:before {
  content: "\e086";
}
.glyphicon-screenshot:before {
  content: "\e087";
}
.glyphicon-remove-circle:before {
  content: "\e088";
}
.glyphicon-ok-circle:before {
  content: "\e089";
}
.glyphicon-ban-circle:before {
  content: "\e090";
}
.glyphicon-arrow-left:before {
  content: "\e091";
}
.glyphicon-arrow-right:before {
  content: "\e092";
}
.glyphicon-arrow-up:before {
  content: "\e093";
}
.glyphicon-arrow-down:before {
  content: "\e094";
}
.glyphicon-share-alt:before {
  content: "\e095";
}
.glyphicon-resize-full:before {
  content: "\e096";
}
.glyphicon-resize-small:before {
  content: "\e097";
}
.glyphicon-exclamation-sign:before {
  content: "\e101";
}
.glyphicon-gift:before {
  content: "\e102";
}
.glyphicon-leaf:before {
  content: "\e103";
}
.glyphicon-fire:before {
  content: "\e104";
}
.glyphicon-eye-open:before {
  content: "\e105";
}
.glyphicon-eye-close:before {
  content: "\e106";
}
.glyphicon-warning-sign:before {
  content: "\e107";
}
.glyphicon-plane:before {
  content: "\e108";
}
.glyphicon-calendar:before {
  content: "\e109";
}
.glyphicon-random:before {
  content: "\e110";
}
.glyphicon-comment:before {
  content: "\e111";
}
.glyphicon-magnet:before {
  content: "\e112";
}
.glyphicon-chevron-up:before {
  content: "\e113";
}
.glyphicon-chevron-down:before {
  content: "\e114";
}
.glyphicon-retweet:before {
  content: "\e115";
}
.glyphicon-shopping-cart:before {
  content: "\e116";
}
.glyphicon-folder-close:before {
  content: "\e117";
}
.glyphicon-folder-open:before {
  content: "\e118";
}
.glyphicon-resize-vertical:before {
  content: "\e119";
}
.glyphicon-resize-horizontal:before {
  content: "\e120";
}
.glyphicon-hdd:before {
  content: "\e121";
}
.glyphicon-bullhorn:before {
  content: "\e122";
}
.glyphicon-bell:before {
  content: "\e123";
}
.glyphicon-certificate:before {
  content: "\e124";
}
.glyphicon-thumbs-up:before {
  content: "\e125";
}
.glyphicon-thumbs-down:before {
  content: "\e126";
}
.glyphicon-hand-right:before {
  content: "\e127";
}
.glyphicon-hand-left:before {
  content: "\e128";
}
.glyphicon-hand-up:before {
  content: "\e129";
}
.glyphicon-hand-down:before {
  content: "\e130";
}
.glyphicon-circle-arrow-right:before {
  content: "\e131";
}
.glyphicon-circle-arrow-left:before {
  content: "\e132";
}
.glyphicon-circle-arrow-up:before {
  content: "\e133";
}
.glyphicon-circle-arrow-down:before {
  content: "\e134";
}
.glyphicon-globe:before {
  content: "\e135";
}
.glyphicon-wrench:before {
  content: "\e136";
}
.glyphicon-tasks:before {
  content: "\e137";
}
.glyphicon-filter:before {
  content: "\e138";
}
.glyphicon-briefcase:before {
  content: "\e139";
}
.glyphicon-fullscreen:before {
  content: "\e140";
}
.glyphicon-dashboard:before {
  content: "\e141";
}
.glyphicon-paperclip:before {
  content: "\e142";
}
.glyphicon-heart-empty:before {
  content: "\e143";
}
.glyphicon-link:before {
  content: "\e144";
}
.glyphicon-phone:before {
  content: "\e145";
}
.glyphicon-pushpin:before {
  content: "\e146";
}
.glyphicon-usd:before {
  content: "\e148";
}
.glyphicon-gbp:before {
  content: "\e149";
}
.glyphicon-sort:before {
  content: "\e150";
}
.glyphicon-sort-by-alphabet:before {
  content: "\e151";
}
.glyphicon-sort-by-alphabet-alt:before {
  content: "\e152";
}
.glyphicon-sort-by-order:before {
  content: "\e153";
}
.glyphicon-sort-by-order-alt:before {
  content: "\e154";
}
.glyphicon-sort-by-attributes:before {
  content: "\e155";
}
.glyphicon-sort-by-attributes-alt:before {
  content: "\e156";
}
.glyphicon-unchecked:before {
  content: "\e157";
}
.glyphicon-expand:before {
  content: "\e158";
}
.glyphicon-collapse-down:before {
  content: "\e159";
}
.glyphicon-collapse-up:before {
  content: "\e160";
}
.glyphicon-log-in:before {
  content: "\e161";
}
.glyphicon-flash:before {
  content: "\e162";
}
.glyphicon-log-out:before {
  content: "\e163";
}
.glyphicon-new-window:before {
  content: "\e164";
}
.glyphicon-record:before {
  content: "\e165";
}
.glyphicon-save:before {
  content: "\e166";
}
.glyphicon-open:before {
  content: "\e167";
}
.glyphicon-saved:before {
  content: "\e168";
}
.glyphicon-import:before {
  content: "\e169";
}
.glyphicon-export:before {
  content: "\e170";
}
.glyphicon-send:before {
  content: "\e171";
}
.glyphicon-floppy-disk:before {
  content: "\e172";
}
.glyphicon-floppy-saved:before {
  content: "\e173";
}
.glyphicon-floppy-remove:before {
  content: "\e174";
}
.glyphicon-floppy-save:before {
  content: "\e175";
}
.glyphicon-floppy-open:before {
  content: "\e176";
}
.glyphicon-credit-card:before {
  content: "\e177";
}
.glyphicon-transfer:before {
  content: "\e178";
}
.glyphicon-cutlery:before {
  content: "\e179";
}
.glyphicon-header:before {
  content: "\e180";
}
.glyphicon-compressed:before {
  content: "\e181";
}
.glyphicon-earphone:before {
  content: "\e182";
}
.glyphicon-phone-alt:before {
  content: "\e183";
}
.glyphicon-tower:before {
  content: "\e184";
}
.glyphicon-stats:before {
  content: "\e185";
}
.glyphicon-sd-video:before {
  content: "\e186";
}
.glyphicon-hd-video:before {
  content: "\e187";
}
.glyphicon-subtitles:before {
  content: "\e188";
}
.glyphicon-sound-stereo:before {
  content: "\e189";
}
.glyphicon-sound-dolby:before {
  content: "\e190";
}
.glyphicon-sound-5-1:before {
  content: "\e191";
}
.glyphicon-sound-6-1:before {
  content: "\e192";
}
.glyphicon-sound-7-1:before {
  content: "\e193";
}
.glyphicon-copyright-mark:before {
  content: "\e194";
}
.glyphicon-registration-mark:before {
  content: "\e195";
}
.glyphicon-cloud-download:before {
  content: "\e197";
}
.glyphicon-cloud-upload:before {
  content: "\e198";
}
.glyphicon-tree-conifer:before {
  content: "\e199";
}
.glyphicon-tree-deciduous:before {
  content: "\e200";
}
.glyphicon-cd:before {
  content: "\e201";
}
.glyphicon-save-file:before {
  content: "\e202";
}
.glyphicon-open-file:before {
  content: "\e203";
}
.glyphicon-level-up:before {
  content: "\e204";
}
.glyphicon-copy:before {
  content: "\e205";
}
.glyphicon-paste:before {
  content: "\e206";
}
.glyphicon-alert:before {
  content: "\e209";
}
.glyphicon-equalizer:before {
  content: "\e210";
}
.glyphicon-king:before {
  content: "\e211";
}
.glyphicon-queen:before {
  content: "\e212";
}
.glyphicon-pawn:before {
  content: "\e213";
}
.glyphicon-bishop:before {
  content: "\e214";
}
.glyphicon-knight:before {
  content: "\e215";
}
.glyphicon-baby-formula:before {
  content: "\e216";
}
.glyphicon-tent:before {
  content: "\26fa";
}
.glyphicon-blackboard:before {
  content: "\e218";
}
.glyphicon-bed:before {
  content: "\e219";
}
.glyphicon-apple:before {
  content: "\f8ff";
}
.glyphicon-erase:before {
  content: "\e221";
}
.glyphicon-hourglass:before {
  content: "\231b";
}
.glyphicon-lamp:before {
  content: "\e223";
}
.glyphicon-duplicate:before {
  content: "\e224";
}
.glyphicon-piggy-bank:before {
  content: "\e225";
}
.glyphicon-scissors:before {
  content: "\e226";
}
.glyphicon-bitcoin:before {
  content: "\e227";
}
.glyphicon-btc:before {
  content: "\e227";
}
.glyphicon-xbt:before {
  content: "\e227";
}
.glyphicon-yen:before {
  content: "\00a5";
}
.glyphicon-jpy:before {
  content: "\00a5";
}
.glyphicon-ruble:before {
  content: "\20bd";
}
.glyphicon-rub:before {
  content: "\20bd";
}
.glyphicon-scale:before {
  content: "\e230";
}
.glyphicon-ice-lolly:before {
  content: "\e231";
}
.glyphicon-ice-lolly-tasted:before {
  content: "\e232";
}
.glyphicon-education:before {
  content: "\e233";
}
.glyphicon-option-horizontal:before {
  content: "\e234";
}
.glyphicon-option-vertical:before {
  content: "\e235";
}
.glyphicon-menu-hamburger:before {
  content: "\e236";
}
.glyphicon-modal-window:before {
  content: "\e237";
}
.glyphicon-oil:before {
  content: "\e238";
}
.glyphicon-grain:before {
  content: "\e239";
}
.glyphicon-sunglasses:before {
  content: "\e240";
}
.glyphicon-text-size:before {
  content: "\e241";
}
.glyphicon-text-color:before {
  content: "\e242";
}
.glyphicon-text-background:before {
  content: "\e243";
}
.glyphicon-object-align-top:before {
  content: "\e244";
}
.glyphicon-object-align-bottom:before {
  content: "\e245";
}
.glyphicon-object-align-horizontal:before {
  content: "\e246";
}
.glyphicon-object-align-left:before {
  content: "\e247";
}
.glyphicon-object-align-vertical:before {
  content: "\e248";
}
.glyphicon-object-align-right:before {
  content: "\e249";
}
.glyphicon-triangle-right:before {
  content: "\e250";
}
.glyphicon-triangle-left:before {
  content: "\e251";
}
.glyphicon-triangle-bottom:before {
  content: "\e252";
}
.glyphicon-triangle-top:before {
  content: "\e253";
}
.glyphicon-console:before {
  content: "\e254";
}
.glyphicon-superscript:before {
  content: "\e255";
}
.glyphicon-subscript:before {
  content: "\e256";
}
.glyphicon-menu-left:before {
  content: "\e257";
}
.glyphicon-menu-right:before {
  content: "\e258";
}
.glyphicon-menu-down:before {
  content: "\e259";
}
.glyphicon-menu-up:before {
  content: "\e260";
}
* {
  -webkit-box-sizing: border-box;
  -moz-box-sizing: border-box;
  box-sizing: border-box;
}
*:before,
*:after {
  -webkit-box-sizing: border-box;
  -moz-box-sizing: border-box;
  box-sizing: border-box;
}
html {
  font-size: 10px;
  -webkit-tap-highlight-color: rgba(0, 0, 0, 0);
}
body {
  font-family: "Helvetica Neue", Helvetica, Arial, sans-serif;
  font-size: 13px;
  line-height: 1.42857143;
  color: #000;
  background-color: #fff;
}
input,
button,
select,
textarea {
  font-family: inherit;
  font-size: inherit;
  line-height: inherit;
}
a {
  color: #337ab7;
  text-decoration: none;
}
a:hover,
a:focus {
  color: #23527c;
  text-decoration: underline;
}
a:focus {
  outline: 5px auto -webkit-focus-ring-color;
  outline-offset: -2px;
}
figure {
  margin: 0;
}
img {
  vertical-align: middle;
}
.img-responsive,
.thumbnail > img,
.thumbnail a > img,
.carousel-inner > .item > img,
.carousel-inner > .item > a > img {
  display: block;
  max-width: 100%;
  height: auto;
}
.img-rounded {
  border-radius: 3px;
}
.img-thumbnail {
  padding: 4px;
  line-height: 1.42857143;
  background-color: #fff;
  border: 1px solid #ddd;
  border-radius: 2px;
  -webkit-transition: all 0.2s ease-in-out;
  -o-transition: all 0.2s ease-in-out;
  transition: all 0.2s ease-in-out;
  display: inline-block;
  max-width: 100%;
  height: auto;
}
.img-circle {
  border-radius: 50%;
}
hr {
  margin-top: 18px;
  margin-bottom: 18px;
  border: 0;
  border-top: 1px solid #eeeeee;
}
.sr-only {
  position: absolute;
  width: 1px;
  height: 1px;
  margin: -1px;
  padding: 0;
  overflow: hidden;
  clip: rect(0, 0, 0, 0);
  border: 0;
}
.sr-only-focusable:active,
.sr-only-focusable:focus {
  position: static;
  width: auto;
  height: auto;
  margin: 0;
  overflow: visible;
  clip: auto;
}
[role="button"] {
  cursor: pointer;
}
h1,
h2,
h3,
h4,
h5,
h6,
.h1,
.h2,
.h3,
.h4,
.h5,
.h6 {
  font-family: inherit;
  font-weight: 500;
  line-height: 1.1;
  color: inherit;
}
h1 small,
h2 small,
h3 small,
h4 small,
h5 small,
h6 small,
.h1 small,
.h2 small,
.h3 small,
.h4 small,
.h5 small,
.h6 small,
h1 .small,
h2 .small,
h3 .small,
h4 .small,
h5 .small,
h6 .small,
.h1 .small,
.h2 .small,
.h3 .small,
.h4 .small,
.h5 .small,
.h6 .small {
  font-weight: normal;
  line-height: 1;
  color: #777777;
}
h1,
.h1,
h2,
.h2,
h3,
.h3 {
  margin-top: 18px;
  margin-bottom: 9px;
}
h1 small,
.h1 small,
h2 small,
.h2 small,
h3 small,
.h3 small,
h1 .small,
.h1 .small,
h2 .small,
.h2 .small,
h3 .small,
.h3 .small {
  font-size: 65%;
}
h4,
.h4,
h5,
.h5,
h6,
.h6 {
  margin-top: 9px;
  margin-bottom: 9px;
}
h4 small,
.h4 small,
h5 small,
.h5 small,
h6 small,
.h6 small,
h4 .small,
.h4 .small,
h5 .small,
.h5 .small,
h6 .small,
.h6 .small {
  font-size: 75%;
}
h1,
.h1 {
  font-size: 33px;
}
h2,
.h2 {
  font-size: 27px;
}
h3,
.h3 {
  font-size: 23px;
}
h4,
.h4 {
  font-size: 17px;
}
h5,
.h5 {
  font-size: 13px;
}
h6,
.h6 {
  font-size: 12px;
}
p {
  margin: 0 0 9px;
}
.lead {
  margin-bottom: 18px;
  font-size: 14px;
  font-weight: 300;
  line-height: 1.4;
}
@media (min-width: 768px) {
  .lead {
    font-size: 19.5px;
  }
}
small,
.small {
  font-size: 92%;
}
mark,
.mark {
  background-color: #fcf8e3;
  padding: .2em;
}
.text-left {
  text-align: left;
}
.text-right {
  text-align: right;
}
.text-center {
  text-align: center;
}
.text-justify {
  text-align: justify;
}
.text-nowrap {
  white-space: nowrap;
}
.text-lowercase {
  text-transform: lowercase;
}
.text-uppercase {
  text-transform: uppercase;
}
.text-capitalize {
  text-transform: capitalize;
}
.text-muted {
  color: #777777;
}
.text-primary {
  color: #337ab7;
}
a.text-primary:hover,
a.text-primary:focus {
  color: #286090;
}
.text-success {
  color: #3c763d;
}
a.text-success:hover,
a.text-success:focus {
  color: #2b542c;
}
.text-info {
  color: #31708f;
}
a.text-info:hover,
a.text-info:focus {
  color: #245269;
}
.text-warning {
  color: #8a6d3b;
}
a.text-warning:hover,
a.text-warning:focus {
  color: #66512c;
}
.text-danger {
  color: #a94442;
}
a.text-danger:hover,
a.text-danger:focus {
  color: #843534;
}
.bg-primary {
  color: #fff;
  background-color: #337ab7;
}
a.bg-primary:hover,
a.bg-primary:focus {
  background-color: #286090;
}
.bg-success {
  background-color: #dff0d8;
}
a.bg-success:hover,
a.bg-success:focus {
  background-color: #c1e2b3;
}
.bg-info {
  background-color: #d9edf7;
}
a.bg-info:hover,
a.bg-info:focus {
  background-color: #afd9ee;
}
.bg-warning {
  background-color: #fcf8e3;
}
a.bg-warning:hover,
a.bg-warning:focus {
  background-color: #f7ecb5;
}
.bg-danger {
  background-color: #f2dede;
}
a.bg-danger:hover,
a.bg-danger:focus {
  background-color: #e4b9b9;
}
.page-header {
  padding-bottom: 8px;
  margin: 36px 0 18px;
  border-bottom: 1px solid #eeeeee;
}
ul,
ol {
  margin-top: 0;
  margin-bottom: 9px;
}
ul ul,
ol ul,
ul ol,
ol ol {
  margin-bottom: 0;
}
.list-unstyled {
  padding-left: 0;
  list-style: none;
}
.list-inline {
  padding-left: 0;
  list-style: none;
  margin-left: -5px;
}
.list-inline > li {
  display: inline-block;
  padding-left: 5px;
  padding-right: 5px;
}
dl {
  margin-top: 0;
  margin-bottom: 18px;
}
dt,
dd {
  line-height: 1.42857143;
}
dt {
  font-weight: bold;
}
dd {
  margin-left: 0;
}
@media (min-width: 541px) {
  .dl-horizontal dt {
    float: left;
    width: 160px;
    clear: left;
    text-align: right;
    overflow: hidden;
    text-overflow: ellipsis;
    white-space: nowrap;
  }
  .dl-horizontal dd {
    margin-left: 180px;
  }
}
abbr[title],
abbr[data-original-title] {
  cursor: help;
  border-bottom: 1px dotted #777777;
}
.initialism {
  font-size: 90%;
  text-transform: uppercase;
}
blockquote {
  padding: 9px 18px;
  margin: 0 0 18px;
  font-size: inherit;
  border-left: 5px solid #eeeeee;
}
blockquote p:last-child,
blockquote ul:last-child,
blockquote ol:last-child {
  margin-bottom: 0;
}
blockquote footer,
blockquote small,
blockquote .small {
  display: block;
  font-size: 80%;
  line-height: 1.42857143;
  color: #777777;
}
blockquote footer:before,
blockquote small:before,
blockquote .small:before {
  content: '\2014 \00A0';
}
.blockquote-reverse,
blockquote.pull-right {
  padding-right: 15px;
  padding-left: 0;
  border-right: 5px solid #eeeeee;
  border-left: 0;
  text-align: right;
}
.blockquote-reverse footer:before,
blockquote.pull-right footer:before,
.blockquote-reverse small:before,
blockquote.pull-right small:before,
.blockquote-reverse .small:before,
blockquote.pull-right .small:before {
  content: '';
}
.blockquote-reverse footer:after,
blockquote.pull-right footer:after,
.blockquote-reverse small:after,
blockquote.pull-right small:after,
.blockquote-reverse .small:after,
blockquote.pull-right .small:after {
  content: '\00A0 \2014';
}
address {
  margin-bottom: 18px;
  font-style: normal;
  line-height: 1.42857143;
}
code,
kbd,
pre,
samp {
  font-family: monospace;
}
code {
  padding: 2px 4px;
  font-size: 90%;
  color: #c7254e;
  background-color: #f9f2f4;
  border-radius: 2px;
}
kbd {
  padding: 2px 4px;
  font-size: 90%;
  color: #888;
  background-color: transparent;
  border-radius: 1px;
  box-shadow: inset 0 -1px 0 rgba(0, 0, 0, 0.25);
}
kbd kbd {
  padding: 0;
  font-size: 100%;
  font-weight: bold;
  box-shadow: none;
}
pre {
  display: block;
  padding: 8.5px;
  margin: 0 0 9px;
  font-size: 12px;
  line-height: 1.42857143;
  word-break: break-all;
  word-wrap: break-word;
  color: #333333;
  background-color: #f5f5f5;
  border: 1px solid #ccc;
  border-radius: 2px;
}
pre code {
  padding: 0;
  font-size: inherit;
  color: inherit;
  white-space: pre-wrap;
  background-color: transparent;
  border-radius: 0;
}
.pre-scrollable {
  max-height: 340px;
  overflow-y: scroll;
}
.container {
  margin-right: auto;
  margin-left: auto;
  padding-left: 0px;
  padding-right: 0px;
}
@media (min-width: 768px) {
  .container {
    width: 768px;
  }
}
@media (min-width: 992px) {
  .container {
    width: 940px;
  }
}
@media (min-width: 1200px) {
  .container {
    width: 1140px;
  }
}
.container-fluid {
  margin-right: auto;
  margin-left: auto;
  padding-left: 0px;
  padding-right: 0px;
}
.row {
  margin-left: 0px;
  margin-right: 0px;
}
.col-xs-1, .col-sm-1, .col-md-1, .col-lg-1, .col-xs-2, .col-sm-2, .col-md-2, .col-lg-2, .col-xs-3, .col-sm-3, .col-md-3, .col-lg-3, .col-xs-4, .col-sm-4, .col-md-4, .col-lg-4, .col-xs-5, .col-sm-5, .col-md-5, .col-lg-5, .col-xs-6, .col-sm-6, .col-md-6, .col-lg-6, .col-xs-7, .col-sm-7, .col-md-7, .col-lg-7, .col-xs-8, .col-sm-8, .col-md-8, .col-lg-8, .col-xs-9, .col-sm-9, .col-md-9, .col-lg-9, .col-xs-10, .col-sm-10, .col-md-10, .col-lg-10, .col-xs-11, .col-sm-11, .col-md-11, .col-lg-11, .col-xs-12, .col-sm-12, .col-md-12, .col-lg-12 {
  position: relative;
  min-height: 1px;
  padding-left: 0px;
  padding-right: 0px;
}
.col-xs-1, .col-xs-2, .col-xs-3, .col-xs-4, .col-xs-5, .col-xs-6, .col-xs-7, .col-xs-8, .col-xs-9, .col-xs-10, .col-xs-11, .col-xs-12 {
  float: left;
}
.col-xs-12 {
  width: 100%;
}
.col-xs-11 {
  width: 91.66666667%;
}
.col-xs-10 {
  width: 83.33333333%;
}
.col-xs-9 {
  width: 75%;
}
.col-xs-8 {
  width: 66.66666667%;
}
.col-xs-7 {
  width: 58.33333333%;
}
.col-xs-6 {
  width: 50%;
}
.col-xs-5 {
  width: 41.66666667%;
}
.col-xs-4 {
  width: 33.33333333%;
}
.col-xs-3 {
  width: 25%;
}
.col-xs-2 {
  width: 16.66666667%;
}
.col-xs-1 {
  width: 8.33333333%;
}
.col-xs-pull-12 {
  right: 100%;
}
.col-xs-pull-11 {
  right: 91.66666667%;
}
.col-xs-pull-10 {
  right: 83.33333333%;
}
.col-xs-pull-9 {
  right: 75%;
}
.col-xs-pull-8 {
  right: 66.66666667%;
}
.col-xs-pull-7 {
  right: 58.33333333%;
}
.col-xs-pull-6 {
  right: 50%;
}
.col-xs-pull-5 {
  right: 41.66666667%;
}
.col-xs-pull-4 {
  right: 33.33333333%;
}
.col-xs-pull-3 {
  right: 25%;
}
.col-xs-pull-2 {
  right: 16.66666667%;
}
.col-xs-pull-1 {
  right: 8.33333333%;
}
.col-xs-pull-0 {
  right: auto;
}
.col-xs-push-12 {
  left: 100%;
}
.col-xs-push-11 {
  left: 91.66666667%;
}
.col-xs-push-10 {
  left: 83.33333333%;
}
.col-xs-push-9 {
  left: 75%;
}
.col-xs-push-8 {
  left: 66.66666667%;
}
.col-xs-push-7 {
  left: 58.33333333%;
}
.col-xs-push-6 {
  left: 50%;
}
.col-xs-push-5 {
  left: 41.66666667%;
}
.col-xs-push-4 {
  left: 33.33333333%;
}
.col-xs-push-3 {
  left: 25%;
}
.col-xs-push-2 {
  left: 16.66666667%;
}
.col-xs-push-1 {
  left: 8.33333333%;
}
.col-xs-push-0 {
  left: auto;
}
.col-xs-offset-12 {
  margin-left: 100%;
}
.col-xs-offset-11 {
  margin-left: 91.66666667%;
}
.col-xs-offset-10 {
  margin-left: 83.33333333%;
}
.col-xs-offset-9 {
  margin-left: 75%;
}
.col-xs-offset-8 {
  margin-left: 66.66666667%;
}
.col-xs-offset-7 {
  margin-left: 58.33333333%;
}
.col-xs-offset-6 {
  margin-left: 50%;
}
.col-xs-offset-5 {
  margin-left: 41.66666667%;
}
.col-xs-offset-4 {
  margin-left: 33.33333333%;
}
.col-xs-offset-3 {
  margin-left: 25%;
}
.col-xs-offset-2 {
  margin-left: 16.66666667%;
}
.col-xs-offset-1 {
  margin-left: 8.33333333%;
}
.col-xs-offset-0 {
  margin-left: 0%;
}
@media (min-width: 768px) {
  .col-sm-1, .col-sm-2, .col-sm-3, .col-sm-4, .col-sm-5, .col-sm-6, .col-sm-7, .col-sm-8, .col-sm-9, .col-sm-10, .col-sm-11, .col-sm-12 {
    float: left;
  }
  .col-sm-12 {
    width: 100%;
  }
  .col-sm-11 {
    width: 91.66666667%;
  }
  .col-sm-10 {
    width: 83.33333333%;
  }
  .col-sm-9 {
    width: 75%;
  }
  .col-sm-8 {
    width: 66.66666667%;
  }
  .col-sm-7 {
    width: 58.33333333%;
  }
  .col-sm-6 {
    width: 50%;
  }
  .col-sm-5 {
    width: 41.66666667%;
  }
  .col-sm-4 {
    width: 33.33333333%;
  }
  .col-sm-3 {
    width: 25%;
  }
  .col-sm-2 {
    width: 16.66666667%;
  }
  .col-sm-1 {
    width: 8.33333333%;
  }
  .col-sm-pull-12 {
    right: 100%;
  }
  .col-sm-pull-11 {
    right: 91.66666667%;
  }
  .col-sm-pull-10 {
    right: 83.33333333%;
  }
  .col-sm-pull-9 {
    right: 75%;
  }
  .col-sm-pull-8 {
    right: 66.66666667%;
  }
  .col-sm-pull-7 {
    right: 58.33333333%;
  }
  .col-sm-pull-6 {
    right: 50%;
  }
  .col-sm-pull-5 {
    right: 41.66666667%;
  }
  .col-sm-pull-4 {
    right: 33.33333333%;
  }
  .col-sm-pull-3 {
    right: 25%;
  }
  .col-sm-pull-2 {
    right: 16.66666667%;
  }
  .col-sm-pull-1 {
    right: 8.33333333%;
  }
  .col-sm-pull-0 {
    right: auto;
  }
  .col-sm-push-12 {
    left: 100%;
  }
  .col-sm-push-11 {
    left: 91.66666667%;
  }
  .col-sm-push-10 {
    left: 83.33333333%;
  }
  .col-sm-push-9 {
    left: 75%;
  }
  .col-sm-push-8 {
    left: 66.66666667%;
  }
  .col-sm-push-7 {
    left: 58.33333333%;
  }
  .col-sm-push-6 {
    left: 50%;
  }
  .col-sm-push-5 {
    left: 41.66666667%;
  }
  .col-sm-push-4 {
    left: 33.33333333%;
  }
  .col-sm-push-3 {
    left: 25%;
  }
  .col-sm-push-2 {
    left: 16.66666667%;
  }
  .col-sm-push-1 {
    left: 8.33333333%;
  }
  .col-sm-push-0 {
    left: auto;
  }
  .col-sm-offset-12 {
    margin-left: 100%;
  }
  .col-sm-offset-11 {
    margin-left: 91.66666667%;
  }
  .col-sm-offset-10 {
    margin-left: 83.33333333%;
  }
  .col-sm-offset-9 {
    margin-left: 75%;
  }
  .col-sm-offset-8 {
    margin-left: 66.66666667%;
  }
  .col-sm-offset-7 {
    margin-left: 58.33333333%;
  }
  .col-sm-offset-6 {
    margin-left: 50%;
  }
  .col-sm-offset-5 {
    margin-left: 41.66666667%;
  }
  .col-sm-offset-4 {
    margin-left: 33.33333333%;
  }
  .col-sm-offset-3 {
    margin-left: 25%;
  }
  .col-sm-offset-2 {
    margin-left: 16.66666667%;
  }
  .col-sm-offset-1 {
    margin-left: 8.33333333%;
  }
  .col-sm-offset-0 {
    margin-left: 0%;
  }
}
@media (min-width: 992px) {
  .col-md-1, .col-md-2, .col-md-3, .col-md-4, .col-md-5, .col-md-6, .col-md-7, .col-md-8, .col-md-9, .col-md-10, .col-md-11, .col-md-12 {
    float: left;
  }
  .col-md-12 {
    width: 100%;
  }
  .col-md-11 {
    width: 91.66666667%;
  }
  .col-md-10 {
    width: 83.33333333%;
  }
  .col-md-9 {
    width: 75%;
  }
  .col-md-8 {
    width: 66.66666667%;
  }
  .col-md-7 {
    width: 58.33333333%;
  }
  .col-md-6 {
    width: 50%;
  }
  .col-md-5 {
    width: 41.66666667%;
  }
  .col-md-4 {
    width: 33.33333333%;
  }
  .col-md-3 {
    width: 25%;
  }
  .col-md-2 {
    width: 16.66666667%;
  }
  .col-md-1 {
    width: 8.33333333%;
  }
  .col-md-pull-12 {
    right: 100%;
  }
  .col-md-pull-11 {
    right: 91.66666667%;
  }
  .col-md-pull-10 {
    right: 83.33333333%;
  }
  .col-md-pull-9 {
    right: 75%;
  }
  .col-md-pull-8 {
    right: 66.66666667%;
  }
  .col-md-pull-7 {
    right: 58.33333333%;
  }
  .col-md-pull-6 {
    right: 50%;
  }
  .col-md-pull-5 {
    right: 41.66666667%;
  }
  .col-md-pull-4 {
    right: 33.33333333%;
  }
  .col-md-pull-3 {
    right: 25%;
  }
  .col-md-pull-2 {
    right: 16.66666667%;
  }
  .col-md-pull-1 {
    right: 8.33333333%;
  }
  .col-md-pull-0 {
    right: auto;
  }
  .col-md-push-12 {
    left: 100%;
  }
  .col-md-push-11 {
    left: 91.66666667%;
  }
  .col-md-push-10 {
    left: 83.33333333%;
  }
  .col-md-push-9 {
    left: 75%;
  }
  .col-md-push-8 {
    left: 66.66666667%;
  }
  .col-md-push-7 {
    left: 58.33333333%;
  }
  .col-md-push-6 {
    left: 50%;
  }
  .col-md-push-5 {
    left: 41.66666667%;
  }
  .col-md-push-4 {
    left: 33.33333333%;
  }
  .col-md-push-3 {
    left: 25%;
  }
  .col-md-push-2 {
    left: 16.66666667%;
  }
  .col-md-push-1 {
    left: 8.33333333%;
  }
  .col-md-push-0 {
    left: auto;
  }
  .col-md-offset-12 {
    margin-left: 100%;
  }
  .col-md-offset-11 {
    margin-left: 91.66666667%;
  }
  .col-md-offset-10 {
    margin-left: 83.33333333%;
  }
  .col-md-offset-9 {
    margin-left: 75%;
  }
  .col-md-offset-8 {
    margin-left: 66.66666667%;
  }
  .col-md-offset-7 {
    margin-left: 58.33333333%;
  }
  .col-md-offset-6 {
    margin-left: 50%;
  }
  .col-md-offset-5 {
    margin-left: 41.66666667%;
  }
  .col-md-offset-4 {
    margin-left: 33.33333333%;
  }
  .col-md-offset-3 {
    margin-left: 25%;
  }
  .col-md-offset-2 {
    margin-left: 16.66666667%;
  }
  .col-md-offset-1 {
    margin-left: 8.33333333%;
  }
  .col-md-offset-0 {
    margin-left: 0%;
  }
}
@media (min-width: 1200px) {
  .col-lg-1, .col-lg-2, .col-lg-3, .col-lg-4, .col-lg-5, .col-lg-6, .col-lg-7, .col-lg-8, .col-lg-9, .col-lg-10, .col-lg-11, .col-lg-12 {
    float: left;
  }
  .col-lg-12 {
    width: 100%;
  }
  .col-lg-11 {
    width: 91.66666667%;
  }
  .col-lg-10 {
    width: 83.33333333%;
  }
  .col-lg-9 {
    width: 75%;
  }
  .col-lg-8 {
    width: 66.66666667%;
  }
  .col-lg-7 {
    width: 58.33333333%;
  }
  .col-lg-6 {
    width: 50%;
  }
  .col-lg-5 {
    width: 41.66666667%;
  }
  .col-lg-4 {
    width: 33.33333333%;
  }
  .col-lg-3 {
    width: 25%;
  }
  .col-lg-2 {
    width: 16.66666667%;
  }
  .col-lg-1 {
    width: 8.33333333%;
  }
  .col-lg-pull-12 {
    right: 100%;
  }
  .col-lg-pull-11 {
    right: 91.66666667%;
  }
  .col-lg-pull-10 {
    right: 83.33333333%;
  }
  .col-lg-pull-9 {
    right: 75%;
  }
  .col-lg-pull-8 {
    right: 66.66666667%;
  }
  .col-lg-pull-7 {
    right: 58.33333333%;
  }
  .col-lg-pull-6 {
    right: 50%;
  }
  .col-lg-pull-5 {
    right: 41.66666667%;
  }
  .col-lg-pull-4 {
    right: 33.33333333%;
  }
  .col-lg-pull-3 {
    right: 25%;
  }
  .col-lg-pull-2 {
    right: 16.66666667%;
  }
  .col-lg-pull-1 {
    right: 8.33333333%;
  }
  .col-lg-pull-0 {
    right: auto;
  }
  .col-lg-push-12 {
    left: 100%;
  }
  .col-lg-push-11 {
    left: 91.66666667%;
  }
  .col-lg-push-10 {
    left: 83.33333333%;
  }
  .col-lg-push-9 {
    left: 75%;
  }
  .col-lg-push-8 {
    left: 66.66666667%;
  }
  .col-lg-push-7 {
    left: 58.33333333%;
  }
  .col-lg-push-6 {
    left: 50%;
  }
  .col-lg-push-5 {
    left: 41.66666667%;
  }
  .col-lg-push-4 {
    left: 33.33333333%;
  }
  .col-lg-push-3 {
    left: 25%;
  }
  .col-lg-push-2 {
    left: 16.66666667%;
  }
  .col-lg-push-1 {
    left: 8.33333333%;
  }
  .col-lg-push-0 {
    left: auto;
  }
  .col-lg-offset-12 {
    margin-left: 100%;
  }
  .col-lg-offset-11 {
    margin-left: 91.66666667%;
  }
  .col-lg-offset-10 {
    margin-left: 83.33333333%;
  }
  .col-lg-offset-9 {
    margin-left: 75%;
  }
  .col-lg-offset-8 {
    margin-left: 66.66666667%;
  }
  .col-lg-offset-7 {
    margin-left: 58.33333333%;
  }
  .col-lg-offset-6 {
    margin-left: 50%;
  }
  .col-lg-offset-5 {
    margin-left: 41.66666667%;
  }
  .col-lg-offset-4 {
    margin-left: 33.33333333%;
  }
  .col-lg-offset-3 {
    margin-left: 25%;
  }
  .col-lg-offset-2 {
    margin-left: 16.66666667%;
  }
  .col-lg-offset-1 {
    margin-left: 8.33333333%;
  }
  .col-lg-offset-0 {
    margin-left: 0%;
  }
}
table {
  background-color: transparent;
}
caption {
  padding-top: 8px;
  padding-bottom: 8px;
  color: #777777;
  text-align: left;
}
th {
  text-align: left;
}
.table {
  width: 100%;
  max-width: 100%;
  margin-bottom: 18px;
}
.table > thead > tr > th,
.table > tbody > tr > th,
.table > tfoot > tr > th,
.table > thead > tr > td,
.table > tbody > tr > td,
.table > tfoot > tr > td {
  padding: 8px;
  line-height: 1.42857143;
  vertical-align: top;
  border-top: 1px solid #ddd;
}
.table > thead > tr > th {
  vertical-align: bottom;
  border-bottom: 2px solid #ddd;
}
.table > caption + thead > tr:first-child > th,
.table > colgroup + thead > tr:first-child > th,
.table > thead:first-child > tr:first-child > th,
.table > caption + thead > tr:first-child > td,
.table > colgroup + thead > tr:first-child > td,
.table > thead:first-child > tr:first-child > td {
  border-top: 0;
}
.table > tbody + tbody {
  border-top: 2px solid #ddd;
}
.table .table {
  background-color: #fff;
}
.table-condensed > thead > tr > th,
.table-condensed > tbody > tr > th,
.table-condensed > tfoot > tr > th,
.table-condensed > thead > tr > td,
.table-condensed > tbody > tr > td,
.table-condensed > tfoot > tr > td {
  padding: 5px;
}
.table-bordered {
  border: 1px solid #ddd;
}
.table-bordered > thead > tr > th,
.table-bordered > tbody > tr > th,
.table-bordered > tfoot > tr > th,
.table-bordered > thead > tr > td,
.table-bordered > tbody > tr > td,
.table-bordered > tfoot > tr > td {
  border: 1px solid #ddd;
}
.table-bordered > thead > tr > th,
.table-bordered > thead > tr > td {
  border-bottom-width: 2px;
}
.table-striped > tbody > tr:nth-of-type(odd) {
  background-color: #f9f9f9;
}
.table-hover > tbody > tr:hover {
  background-color: #f5f5f5;
}
table col[class*="col-"] {
  position: static;
  float: none;
  display: table-column;
}
table td[class*="col-"],
table th[class*="col-"] {
  position: static;
  float: none;
  display: table-cell;
}
.table > thead > tr > td.active,
.table > tbody > tr > td.active,
.table > tfoot > tr > td.active,
.table > thead > tr > th.active,
.table > tbody > tr > th.active,
.table > tfoot > tr > th.active,
.table > thead > tr.active > td,
.table > tbody > tr.active > td,
.table > tfoot > tr.active > td,
.table > thead > tr.active > th,
.table > tbody > tr.active > th,
.table > tfoot > tr.active > th {
  background-color: #f5f5f5;
}
.table-hover > tbody > tr > td.active:hover,
.table-hover > tbody > tr > th.active:hover,
.table-hover > tbody > tr.active:hover > td,
.table-hover > tbody > tr:hover > .active,
.table-hover > tbody > tr.active:hover > th {
  background-color: #e8e8e8;
}
.table > thead > tr > td.success,
.table > tbody > tr > td.success,
.table > tfoot > tr > td.success,
.table > thead > tr > th.success,
.table > tbody > tr > th.success,
.table > tfoot > tr > th.success,
.table > thead > tr.success > td,
.table > tbody > tr.success > td,
.table > tfoot > tr.success > td,
.table > thead > tr.success > th,
.table > tbody > tr.success > th,
.table > tfoot > tr.success > th {
  background-color: #dff0d8;
}
.table-hover > tbody > tr > td.success:hover,
.table-hover > tbody > tr > th.success:hover,
.table-hover > tbody > tr.success:hover > td,
.table-hover > tbody > tr:hover > .success,
.table-hover > tbody > tr.success:hover > th {
  background-color: #d0e9c6;
}
.table > thead > tr > td.info,
.table > tbody > tr > td.info,
.table > tfoot > tr > td.info,
.table > thead > tr > th.info,
.table > tbody > tr > th.info,
.table > tfoot > tr > th.info,
.table > thead > tr.info > td,
.table > tbody > tr.info > td,
.table > tfoot > tr.info > td,
.table > thead > tr.info > th,
.table > tbody > tr.info > th,
.table > tfoot > tr.info > th {
  background-color: #d9edf7;
}
.table-hover > tbody > tr > td.info:hover,
.table-hover > tbody > tr > th.info:hover,
.table-hover > tbody > tr.info:hover > td,
.table-hover > tbody > tr:hover > .info,
.table-hover > tbody > tr.info:hover > th {
  background-color: #c4e3f3;
}
.table > thead > tr > td.warning,
.table > tbody > tr > td.warning,
.table > tfoot > tr > td.warning,
.table > thead > tr > th.warning,
.table > tbody > tr > th.warning,
.table > tfoot > tr > th.warning,
.table > thead > tr.warning > td,
.table > tbody > tr.warning > td,
.table > tfoot > tr.warning > td,
.table > thead > tr.warning > th,
.table > tbody > tr.warning > th,
.table > tfoot > tr.warning > th {
  background-color: #fcf8e3;
}
.table-hover > tbody > tr > td.warning:hover,
.table-hover > tbody > tr > th.warning:hover,
.table-hover > tbody > tr.warning:hover > td,
.table-hover > tbody > tr:hover > .warning,
.table-hover > tbody > tr.warning:hover > th {
  background-color: #faf2cc;
}
.table > thead > tr > td.danger,
.table > tbody > tr > td.danger,
.table > tfoot > tr > td.danger,
.table > thead > tr > th.danger,
.table > tbody > tr > th.danger,
.table > tfoot > tr > th.danger,
.table > thead > tr.danger > td,
.table > tbody > tr.danger > td,
.table > tfoot > tr.danger > td,
.table > thead > tr.danger > th,
.table > tbody > tr.danger > th,
.table > tfoot > tr.danger > th {
  background-color: #f2dede;
}
.table-hover > tbody > tr > td.danger:hover,
.table-hover > tbody > tr > th.danger:hover,
.table-hover > tbody > tr.danger:hover > td,
.table-hover > tbody > tr:hover > .danger,
.table-hover > tbody > tr.danger:hover > th {
  background-color: #ebcccc;
}
.table-responsive {
  overflow-x: auto;
  min-height: 0.01%;
}
@media screen and (max-width: 767px) {
  .table-responsive {
    width: 100%;
    margin-bottom: 13.5px;
    overflow-y: hidden;
    -ms-overflow-style: -ms-autohiding-scrollbar;
    border: 1px solid #ddd;
  }
  .table-responsive > .table {
    margin-bottom: 0;
  }
  .table-responsive > .table > thead > tr > th,
  .table-responsive > .table > tbody > tr > th,
  .table-responsive > .table > tfoot > tr > th,
  .table-responsive > .table > thead > tr > td,
  .table-responsive > .table > tbody > tr > td,
  .table-responsive > .table > tfoot > tr > td {
    white-space: nowrap;
  }
  .table-responsive > .table-bordered {
    border: 0;
  }
  .table-responsive > .table-bordered > thead > tr > th:first-child,
  .table-responsive > .table-bordered > tbody > tr > th:first-child,
  .table-responsive > .table-bordered > tfoot > tr > th:first-child,
  .table-responsive > .table-bordered > thead > tr > td:first-child,
  .table-responsive > .table-bordered > tbody > tr > td:first-child,
  .table-responsive > .table-bordered > tfoot > tr > td:first-child {
    border-left: 0;
  }
  .table-responsive > .table-bordered > thead > tr > th:last-child,
  .table-responsive > .table-bordered > tbody > tr > th:last-child,
  .table-responsive > .table-bordered > tfoot > tr > th:last-child,
  .table-responsive > .table-bordered > thead > tr > td:last-child,
  .table-responsive > .table-bordered > tbody > tr > td:last-child,
  .table-responsive > .table-bordered > tfoot > tr > td:last-child {
    border-right: 0;
  }
  .table-responsive > .table-bordered > tbody > tr:last-child > th,
  .table-responsive > .table-bordered > tfoot > tr:last-child > th,
  .table-responsive > .table-bordered > tbody > tr:last-child > td,
  .table-responsive > .table-bordered > tfoot > tr:last-child > td {
    border-bottom: 0;
  }
}
fieldset {
  padding: 0;
  margin: 0;
  border: 0;
  min-width: 0;
}
legend {
  display: block;
  width: 100%;
  padding: 0;
  margin-bottom: 18px;
  font-size: 19.5px;
  line-height: inherit;
  color: #333333;
  border: 0;
  border-bottom: 1px solid #e5e5e5;
}
label {
  display: inline-block;
  max-width: 100%;
  margin-bottom: 5px;
  font-weight: bold;
}
input[type="search"] {
  -webkit-box-sizing: border-box;
  -moz-box-sizing: border-box;
  box-sizing: border-box;
}
input[type="radio"],
input[type="checkbox"] {
  margin: 4px 0 0;
  margin-top: 1px \9;
  line-height: normal;
}
input[type="file"] {
  display: block;
}
input[type="range"] {
  display: block;
  width: 100%;
}
select[multiple],
select[size] {
  height: auto;
}
input[type="file"]:focus,
input[type="radio"]:focus,
input[type="checkbox"]:focus {
  outline: 5px auto -webkit-focus-ring-color;
  outline-offset: -2px;
}
output {
  display: block;
  padding-top: 7px;
  font-size: 13px;
  line-height: 1.42857143;
  color: #555555;
}
.form-control {
  display: block;
  width: 100%;
  height: 32px;
  padding: 6px 12px;
  font-size: 13px;
  line-height: 1.42857143;
  color: #555555;
  background-color: #fff;
  background-image: none;
  border: 1px solid #ccc;
  border-radius: 2px;
  -webkit-box-shadow: inset 0 1px 1px rgba(0, 0, 0, 0.075);
  box-shadow: inset 0 1px 1px rgba(0, 0, 0, 0.075);
  -webkit-transition: border-color ease-in-out .15s, box-shadow ease-in-out .15s;
  -o-transition: border-color ease-in-out .15s, box-shadow ease-in-out .15s;
  transition: border-color ease-in-out .15s, box-shadow ease-in-out .15s;
}
.form-control:focus {
  border-color: #66afe9;
  outline: 0;
  -webkit-box-shadow: inset 0 1px 1px rgba(0,0,0,.075), 0 0 8px rgba(102, 175, 233, 0.6);
  box-shadow: inset 0 1px 1px rgba(0,0,0,.075), 0 0 8px rgba(102, 175, 233, 0.6);
}
.form-control::-moz-placeholder {
  color: #999;
  opacity: 1;
}
.form-control:-ms-input-placeholder {
  color: #999;
}
.form-control::-webkit-input-placeholder {
  color: #999;
}
.form-control::-ms-expand {
  border: 0;
  background-color: transparent;
}
.form-control[disabled],
.form-control[readonly],
fieldset[disabled] .form-control {
  background-color: #eeeeee;
  opacity: 1;
}
.form-control[disabled],
fieldset[disabled] .form-control {
  cursor: not-allowed;
}
textarea.form-control {
  height: auto;
}
input[type="search"] {
  -webkit-appearance: none;
}
@media screen and (-webkit-min-device-pixel-ratio: 0) {
  input[type="date"].form-control,
  input[type="time"].form-control,
  input[type="datetime-local"].form-control,
  input[type="month"].form-control {
    line-height: 32px;
  }
  input[type="date"].input-sm,
  input[type="time"].input-sm,
  input[type="datetime-local"].input-sm,
  input[type="month"].input-sm,
  .input-group-sm input[type="date"],
  .input-group-sm input[type="time"],
  .input-group-sm input[type="datetime-local"],
  .input-group-sm input[type="month"] {
    line-height: 30px;
  }
  input[type="date"].input-lg,
  input[type="time"].input-lg,
  input[type="datetime-local"].input-lg,
  input[type="month"].input-lg,
  .input-group-lg input[type="date"],
  .input-group-lg input[type="time"],
  .input-group-lg input[type="datetime-local"],
  .input-group-lg input[type="month"] {
    line-height: 45px;
  }
}
.form-group {
  margin-bottom: 15px;
}
.radio,
.checkbox {
  position: relative;
  display: block;
  margin-top: 10px;
  margin-bottom: 10px;
}
.radio label,
.checkbox label {
  min-height: 18px;
  padding-left: 20px;
  margin-bottom: 0;
  font-weight: normal;
  cursor: pointer;
}
.radio input[type="radio"],
.radio-inline input[type="radio"],
.checkbox input[type="checkbox"],
.checkbox-inline input[type="checkbox"] {
  position: absolute;
  margin-left: -20px;
  margin-top: 4px \9;
}
.radio + .radio,
.checkbox + .checkbox {
  margin-top: -5px;
}
.radio-inline,
.checkbox-inline {
  position: relative;
  display: inline-block;
  padding-left: 20px;
  margin-bottom: 0;
  vertical-align: middle;
  font-weight: normal;
  cursor: pointer;
}
.radio-inline + .radio-inline,
.checkbox-inline + .checkbox-inline {
  margin-top: 0;
  margin-left: 10px;
}
input[type="radio"][disabled],
input[type="checkbox"][disabled],
input[type="radio"].disabled,
input[type="checkbox"].disabled,
fieldset[disabled] input[type="radio"],
fieldset[disabled] input[type="checkbox"] {
  cursor: not-allowed;
}
.radio-inline.disabled,
.checkbox-inline.disabled,
fieldset[disabled] .radio-inline,
fieldset[disabled] .checkbox-inline {
  cursor: not-allowed;
}
.radio.disabled label,
.checkbox.disabled label,
fieldset[disabled] .radio label,
fieldset[disabled] .checkbox label {
  cursor: not-allowed;
}
.form-control-static {
  padding-top: 7px;
  padding-bottom: 7px;
  margin-bottom: 0;
  min-height: 31px;
}
.form-control-static.input-lg,
.form-control-static.input-sm {
  padding-left: 0;
  padding-right: 0;
}
.input-sm {
  height: 30px;
  padding: 5px 10px;
  font-size: 12px;
  line-height: 1.5;
  border-radius: 1px;
}
select.input-sm {
  height: 30px;
  line-height: 30px;
}
textarea.input-sm,
select[multiple].input-sm {
  height: auto;
}
.form-group-sm .form-control {
  height: 30px;
  padding: 5px 10px;
  font-size: 12px;
  line-height: 1.5;
  border-radius: 1px;
}
.form-group-sm select.form-control {
  height: 30px;
  line-height: 30px;
}
.form-group-sm textarea.form-control,
.form-group-sm select[multiple].form-control {
  height: auto;
}
.form-group-sm .form-control-static {
  height: 30px;
  min-height: 30px;
  padding: 6px 10px;
  font-size: 12px;
  line-height: 1.5;
}
.input-lg {
  height: 45px;
  padding: 10px 16px;
  font-size: 17px;
  line-height: 1.3333333;
  border-radius: 3px;
}
select.input-lg {
  height: 45px;
  line-height: 45px;
}
textarea.input-lg,
select[multiple].input-lg {
  height: auto;
}
.form-group-lg .form-control {
  height: 45px;
  padding: 10px 16px;
  font-size: 17px;
  line-height: 1.3333333;
  border-radius: 3px;
}
.form-group-lg select.form-control {
  height: 45px;
  line-height: 45px;
}
.form-group-lg textarea.form-control,
.form-group-lg select[multiple].form-control {
  height: auto;
}
.form-group-lg .form-control-static {
  height: 45px;
  min-height: 35px;
  padding: 11px 16px;
  font-size: 17px;
  line-height: 1.3333333;
}
.has-feedback {
  position: relative;
}
.has-feedback .form-control {
  padding-right: 40px;
}
.form-control-feedback {
  position: absolute;
  top: 0;
  right: 0;
  z-index: 2;
  display: block;
  width: 32px;
  height: 32px;
  line-height: 32px;
  text-align: center;
  pointer-events: none;
}
.input-lg + .form-control-feedback,
.input-group-lg + .form-control-feedback,
.form-group-lg .form-control + .form-control-feedback {
  width: 45px;
  height: 45px;
  line-height: 45px;
}
.input-sm + .form-control-feedback,
.input-group-sm + .form-control-feedback,
.form-group-sm .form-control + .form-control-feedback {
  width: 30px;
  height: 30px;
  line-height: 30px;
}
.has-success .help-block,
.has-success .control-label,
.has-success .radio,
.has-success .checkbox,
.has-success .radio-inline,
.has-success .checkbox-inline,
.has-success.radio label,
.has-success.checkbox label,
.has-success.radio-inline label,
.has-success.checkbox-inline label {
  color: #3c763d;
}
.has-success .form-control {
  border-color: #3c763d;
  -webkit-box-shadow: inset 0 1px 1px rgba(0, 0, 0, 0.075);
  box-shadow: inset 0 1px 1px rgba(0, 0, 0, 0.075);
}
.has-success .form-control:focus {
  border-color: #2b542c;
  -webkit-box-shadow: inset 0 1px 1px rgba(0, 0, 0, 0.075), 0 0 6px #67b168;
  box-shadow: inset 0 1px 1px rgba(0, 0, 0, 0.075), 0 0 6px #67b168;
}
.has-success .input-group-addon {
  color: #3c763d;
  border-color: #3c763d;
  background-color: #dff0d8;
}
.has-success .form-control-feedback {
  color: #3c763d;
}
.has-warning .help-block,
.has-warning .control-label,
.has-warning .radio,
.has-warning .checkbox,
.has-warning .radio-inline,
.has-warning .checkbox-inline,
.has-warning.radio label,
.has-warning.checkbox label,
.has-warning.radio-inline label,
.has-warning.checkbox-inline label {
  color: #8a6d3b;
}
.has-warning .form-control {
  border-color: #8a6d3b;
  -webkit-box-shadow: inset 0 1px 1px rgba(0, 0, 0, 0.075);
  box-shadow: inset 0 1px 1px rgba(0, 0, 0, 0.075);
}
.has-warning .form-control:focus {
  border-color: #66512c;
  -webkit-box-shadow: inset 0 1px 1px rgba(0, 0, 0, 0.075), 0 0 6px #c0a16b;
  box-shadow: inset 0 1px 1px rgba(0, 0, 0, 0.075), 0 0 6px #c0a16b;
}
.has-warning .input-group-addon {
  color: #8a6d3b;
  border-color: #8a6d3b;
  background-color: #fcf8e3;
}
.has-warning .form-control-feedback {
  color: #8a6d3b;
}
.has-error .help-block,
.has-error .control-label,
.has-error .radio,
.has-error .checkbox,
.has-error .radio-inline,
.has-error .checkbox-inline,
.has-error.radio label,
.has-error.checkbox label,
.has-error.radio-inline label,
.has-error.checkbox-inline label {
  color: #a94442;
}
.has-error .form-control {
  border-color: #a94442;
  -webkit-box-shadow: inset 0 1px 1px rgba(0, 0, 0, 0.075);
  box-shadow: inset 0 1px 1px rgba(0, 0, 0, 0.075);
}
.has-error .form-control:focus {
  border-color: #843534;
  -webkit-box-shadow: inset 0 1px 1px rgba(0, 0, 0, 0.075), 0 0 6px #ce8483;
  box-shadow: inset 0 1px 1px rgba(0, 0, 0, 0.075), 0 0 6px #ce8483;
}
.has-error .input-group-addon {
  color: #a94442;
  border-color: #a94442;
  background-color: #f2dede;
}
.has-error .form-control-feedback {
  color: #a94442;
}
.has-feedback label ~ .form-control-feedback {
  top: 23px;
}
.has-feedback label.sr-only ~ .form-control-feedback {
  top: 0;
}
.help-block {
  display: block;
  margin-top: 5px;
  margin-bottom: 10px;
  color: #404040;
}
@media (min-width: 768px) {
  .form-inline .form-group {
    display: inline-block;
    margin-bottom: 0;
    vertical-align: middle;
  }
  .form-inline .form-control {
    display: inline-block;
    width: auto;
    vertical-align: middle;
  }
  .form-inline .form-control-static {
    display: inline-block;
  }
  .form-inline .input-group {
    display: inline-table;
    vertical-align: middle;
  }
  .form-inline .input-group .input-group-addon,
  .form-inline .input-group .input-group-btn,
  .form-inline .input-group .form-control {
    width: auto;
  }
  .form-inline .input-group > .form-control {
    width: 100%;
  }
  .form-inline .control-label {
    margin-bottom: 0;
    vertical-align: middle;
  }
  .form-inline .radio,
  .form-inline .checkbox {
    display: inline-block;
    margin-top: 0;
    margin-bottom: 0;
    vertical-align: middle;
  }
  .form-inline .radio label,
  .form-inline .checkbox label {
    padding-left: 0;
  }
  .form-inline .radio input[type="radio"],
  .form-inline .checkbox input[type="checkbox"] {
    position: relative;
    margin-left: 0;
  }
  .form-inline .has-feedback .form-control-feedback {
    top: 0;
  }
}
.form-horizontal .radio,
.form-horizontal .checkbox,
.form-horizontal .radio-inline,
.form-horizontal .checkbox-inline {
  margin-top: 0;
  margin-bottom: 0;
  padding-top: 7px;
}
.form-horizontal .radio,
.form-horizontal .checkbox {
  min-height: 25px;
}
.form-horizontal .form-group {
  margin-left: 0px;
  margin-right: 0px;
}
@media (min-width: 768px) {
  .form-horizontal .control-label {
    text-align: right;
    margin-bottom: 0;
    padding-top: 7px;
  }
}
.form-horizontal .has-feedback .form-control-feedback {
  right: 0px;
}
@media (min-width: 768px) {
  .form-horizontal .form-group-lg .control-label {
    padding-top: 11px;
    font-size: 17px;
  }
}
@media (min-width: 768px) {
  .form-horizontal .form-group-sm .control-label {
    padding-top: 6px;
    font-size: 12px;
  }
}
.btn {
  display: inline-block;
  margin-bottom: 0;
  font-weight: normal;
  text-align: center;
  vertical-align: middle;
  touch-action: manipulation;
  cursor: pointer;
  background-image: none;
  border: 1px solid transparent;
  white-space: nowrap;
  padding: 6px 12px;
  font-size: 13px;
  line-height: 1.42857143;
  border-radius: 2px;
  -webkit-user-select: none;
  -moz-user-select: none;
  -ms-user-select: none;
  user-select: none;
}
.btn:focus,
.btn:active:focus,
.btn.active:focus,
.btn.focus,
.btn:active.focus,
.btn.active.focus {
  outline: 5px auto -webkit-focus-ring-color;
  outline-offset: -2px;
}
.btn:hover,
.btn:focus,
.btn.focus {
  color: #333;
  text-decoration: none;
}
.btn:active,
.btn.active {
  outline: 0;
  background-image: none;
  -webkit-box-shadow: inset 0 3px 5px rgba(0, 0, 0, 0.125);
  box-shadow: inset 0 3px 5px rgba(0, 0, 0, 0.125);
}
.btn.disabled,
.btn[disabled],
fieldset[disabled] .btn {
  cursor: not-allowed;
  opacity: 0.65;
  filter: alpha(opacity=65);
  -webkit-box-shadow: none;
  box-shadow: none;
}
a.btn.disabled,
fieldset[disabled] a.btn {
  pointer-events: none;
}
.btn-default {
  color: #333;
  background-color: #fff;
  border-color: #ccc;
}
.btn-default:focus,
.btn-default.focus {
  color: #333;
  background-color: #e6e6e6;
  border-color: #8c8c8c;
}
.btn-default:hover {
  color: #333;
  background-color: #e6e6e6;
  border-color: #adadad;
}
.btn-default:active,
.btn-default.active,
.open > .dropdown-toggle.btn-default {
  color: #333;
  background-color: #e6e6e6;
  border-color: #adadad;
}
.btn-default:active:hover,
.btn-default.active:hover,
.open > .dropdown-toggle.btn-default:hover,
.btn-default:active:focus,
.btn-default.active:focus,
.open > .dropdown-toggle.btn-default:focus,
.btn-default:active.focus,
.btn-default.active.focus,
.open > .dropdown-toggle.btn-default.focus {
  color: #333;
  background-color: #d4d4d4;
  border-color: #8c8c8c;
}
.btn-default:active,
.btn-default.active,
.open > .dropdown-toggle.btn-default {
  background-image: none;
}
.btn-default.disabled:hover,
.btn-default[disabled]:hover,
fieldset[disabled] .btn-default:hover,
.btn-default.disabled:focus,
.btn-default[disabled]:focus,
fieldset[disabled] .btn-default:focus,
.btn-default.disabled.focus,
.btn-default[disabled].focus,
fieldset[disabled] .btn-default.focus {
  background-color: #fff;
  border-color: #ccc;
}
.btn-default .badge {
  color: #fff;
  background-color: #333;
}
.btn-primary {
  color: #fff;
  background-color: #337ab7;
  border-color: #2e6da4;
}
.btn-primary:focus,
.btn-primary.focus {
  color: #fff;
  background-color: #286090;
  border-color: #122b40;
}
.btn-primary:hover {
  color: #fff;
  background-color: #286090;
  border-color: #204d74;
}
.btn-primary:active,
.btn-primary.active,
.open > .dropdown-toggle.btn-primary {
  color: #fff;
  background-color: #286090;
  border-color: #204d74;
}
.btn-primary:active:hover,
.btn-primary.active:hover,
.open > .dropdown-toggle.btn-primary:hover,
.btn-primary:active:focus,
.btn-primary.active:focus,
.open > .dropdown-toggle.btn-primary:focus,
.btn-primary:active.focus,
.btn-primary.active.focus,
.open > .dropdown-toggle.btn-primary.focus {
  color: #fff;
  background-color: #204d74;
  border-color: #122b40;
}
.btn-primary:active,
.btn-primary.active,
.open > .dropdown-toggle.btn-primary {
  background-image: none;
}
.btn-primary.disabled:hover,
.btn-primary[disabled]:hover,
fieldset[disabled] .btn-primary:hover,
.btn-primary.disabled:focus,
.btn-primary[disabled]:focus,
fieldset[disabled] .btn-primary:focus,
.btn-primary.disabled.focus,
.btn-primary[disabled].focus,
fieldset[disabled] .btn-primary.focus {
  background-color: #337ab7;
  border-color: #2e6da4;
}
.btn-primary .badge {
  color: #337ab7;
  background-color: #fff;
}
.btn-success {
  color: #fff;
  background-color: #5cb85c;
  border-color: #4cae4c;
}
.btn-success:focus,
.btn-success.focus {
  color: #fff;
  background-color: #449d44;
  border-color: #255625;
}
.btn-success:hover {
  color: #fff;
  background-color: #449d44;
  border-color: #398439;
}
.btn-success:active,
.btn-success.active,
.open > .dropdown-toggle.btn-success {
  color: #fff;
  background-color: #449d44;
  border-color: #398439;
}
.btn-success:active:hover,
.btn-success.active:hover,
.open > .dropdown-toggle.btn-success:hover,
.btn-success:active:focus,
.btn-success.active:focus,
.open > .dropdown-toggle.btn-success:focus,
.btn-success:active.focus,
.btn-success.active.focus,
.open > .dropdown-toggle.btn-success.focus {
  color: #fff;
  background-color: #398439;
  border-color: #255625;
}
.btn-success:active,
.btn-success.active,
.open > .dropdown-toggle.btn-success {
  background-image: none;
}
.btn-success.disabled:hover,
.btn-success[disabled]:hover,
fieldset[disabled] .btn-success:hover,
.btn-success.disabled:focus,
.btn-success[disabled]:focus,
fieldset[disabled] .btn-success:focus,
.btn-success.disabled.focus,
.btn-success[disabled].focus,
fieldset[disabled] .btn-success.focus {
  background-color: #5cb85c;
  border-color: #4cae4c;
}
.btn-success .badge {
  color: #5cb85c;
  background-color: #fff;
}
.btn-info {
  color: #fff;
  background-color: #5bc0de;
  border-color: #46b8da;
}
.btn-info:focus,
.btn-info.focus {
  color: #fff;
  background-color: #31b0d5;
  border-color: #1b6d85;
}
.btn-info:hover {
  color: #fff;
  background-color: #31b0d5;
  border-color: #269abc;
}
.btn-info:active,
.btn-info.active,
.open > .dropdown-toggle.btn-info {
  color: #fff;
  background-color: #31b0d5;
  border-color: #269abc;
}
.btn-info:active:hover,
.btn-info.active:hover,
.open > .dropdown-toggle.btn-info:hover,
.btn-info:active:focus,
.btn-info.active:focus,
.open > .dropdown-toggle.btn-info:focus,
.btn-info:active.focus,
.btn-info.active.focus,
.open > .dropdown-toggle.btn-info.focus {
  color: #fff;
  background-color: #269abc;
  border-color: #1b6d85;
}
.btn-info:active,
.btn-info.active,
.open > .dropdown-toggle.btn-info {
  background-image: none;
}
.btn-info.disabled:hover,
.btn-info[disabled]:hover,
fieldset[disabled] .btn-info:hover,
.btn-info.disabled:focus,
.btn-info[disabled]:focus,
fieldset[disabled] .btn-info:focus,
.btn-info.disabled.focus,
.btn-info[disabled].focus,
fieldset[disabled] .btn-info.focus {
  background-color: #5bc0de;
  border-color: #46b8da;
}
.btn-info .badge {
  color: #5bc0de;
  background-color: #fff;
}
.btn-warning {
  color: #fff;
  background-color: #f0ad4e;
  border-color: #eea236;
}
.btn-warning:focus,
.btn-warning.focus {
  color: #fff;
  background-color: #ec971f;
  border-color: #985f0d;
}
.btn-warning:hover {
  color: #fff;
  background-color: #ec971f;
  border-color: #d58512;
}
.btn-warning:active,
.btn-warning.active,
.open > .dropdown-toggle.btn-warning {
  color: #fff;
  background-color: #ec971f;
  border-color: #d58512;
}
.btn-warning:active:hover,
.btn-warning.active:hover,
.open > .dropdown-toggle.btn-warning:hover,
.btn-warning:active:focus,
.btn-warning.active:focus,
.open > .dropdown-toggle.btn-warning:focus,
.btn-warning:active.focus,
.btn-warning.active.focus,
.open > .dropdown-toggle.btn-warning.focus {
  color: #fff;
  background-color: #d58512;
  border-color: #985f0d;
}
.btn-warning:active,
.btn-warning.active,
.open > .dropdown-toggle.btn-warning {
  background-image: none;
}
.btn-warning.disabled:hover,
.btn-warning[disabled]:hover,
fieldset[disabled] .btn-warning:hover,
.btn-warning.disabled:focus,
.btn-warning[disabled]:focus,
fieldset[disabled] .btn-warning:focus,
.btn-warning.disabled.focus,
.btn-warning[disabled].focus,
fieldset[disabled] .btn-warning.focus {
  background-color: #f0ad4e;
  border-color: #eea236;
}
.btn-warning .badge {
  color: #f0ad4e;
  background-color: #fff;
}
.btn-danger {
  color: #fff;
  background-color: #d9534f;
  border-color: #d43f3a;
}
.btn-danger:focus,
.btn-danger.focus {
  color: #fff;
  background-color: #c9302c;
  border-color: #761c19;
}
.btn-danger:hover {
  color: #fff;
  background-color: #c9302c;
  border-color: #ac2925;
}
.btn-danger:active,
.btn-danger.active,
.open > .dropdown-toggle.btn-danger {
  color: #fff;
  background-color: #c9302c;
  border-color: #ac2925;
}
.btn-danger:active:hover,
.btn-danger.active:hover,
.open > .dropdown-toggle.btn-danger:hover,
.btn-danger:active:focus,
.btn-danger.active:focus,
.open > .dropdown-toggle.btn-danger:focus,
.btn-danger:active.focus,
.btn-danger.active.focus,
.open > .dropdown-toggle.btn-danger.focus {
  color: #fff;
  background-color: #ac2925;
  border-color: #761c19;
}
.btn-danger:active,
.btn-danger.active,
.open > .dropdown-toggle.btn-danger {
  background-image: none;
}
.btn-danger.disabled:hover,
.btn-danger[disabled]:hover,
fieldset[disabled] .btn-danger:hover,
.btn-danger.disabled:focus,
.btn-danger[disabled]:focus,
fieldset[disabled] .btn-danger:focus,
.btn-danger.disabled.focus,
.btn-danger[disabled].focus,
fieldset[disabled] .btn-danger.focus {
  background-color: #d9534f;
  border-color: #d43f3a;
}
.btn-danger .badge {
  color: #d9534f;
  background-color: #fff;
}
.btn-link {
  color: #337ab7;
  font-weight: normal;
  border-radius: 0;
}
.btn-link,
.btn-link:active,
.btn-link.active,
.btn-link[disabled],
fieldset[disabled] .btn-link {
  background-color: transparent;
  -webkit-box-shadow: none;
  box-shadow: none;
}
.btn-link,
.btn-link:hover,
.btn-link:focus,
.btn-link:active {
  border-color: transparent;
}
.btn-link:hover,
.btn-link:focus {
  color: #23527c;
  text-decoration: underline;
  background-color: transparent;
}
.btn-link[disabled]:hover,
fieldset[disabled] .btn-link:hover,
.btn-link[disabled]:focus,
fieldset[disabled] .btn-link:focus {
  color: #777777;
  text-decoration: none;
}
.btn-lg,
.btn-group-lg > .btn {
  padding: 10px 16px;
  font-size: 17px;
  line-height: 1.3333333;
  border-radius: 3px;
}
.btn-sm,
.btn-group-sm > .btn {
  padding: 5px 10px;
  font-size: 12px;
  line-height: 1.5;
  border-radius: 1px;
}
.btn-xs,
.btn-group-xs > .btn {
  padding: 1px 5px;
  font-size: 12px;
  line-height: 1.5;
  border-radius: 1px;
}
.btn-block {
  display: block;
  width: 100%;
}
.btn-block + .btn-block {
  margin-top: 5px;
}
input[type="submit"].btn-block,
input[type="reset"].btn-block,
input[type="button"].btn-block {
  width: 100%;
}
.fade {
  opacity: 0;
  -webkit-transition: opacity 0.15s linear;
  -o-transition: opacity 0.15s linear;
  transition: opacity 0.15s linear;
}
.fade.in {
  opacity: 1;
}
.collapse {
  display: none;
}
.collapse.in {
  display: block;
}
tr.collapse.in {
  display: table-row;
}
tbody.collapse.in {
  display: table-row-group;
}
.collapsing {
  position: relative;
  height: 0;
  overflow: hidden;
  -webkit-transition-property: height, visibility;
  transition-property: height, visibility;
  -webkit-transition-duration: 0.35s;
  transition-duration: 0.35s;
  -webkit-transition-timing-function: ease;
  transition-timing-function: ease;
}
.caret {
  display: inline-block;
  width: 0;
  height: 0;
  margin-left: 2px;
  vertical-align: middle;
  border-top: 4px dashed;
  border-top: 4px solid \9;
  border-right: 4px solid transparent;
  border-left: 4px solid transparent;
}
.dropup,
.dropdown {
  position: relative;
}
.dropdown-toggle:focus {
  outline: 0;
}
.dropdown-menu {
  position: absolute;
  top: 100%;
  left: 0;
  z-index: 1000;
  display: none;
  float: left;
  min-width: 160px;
  padding: 5px 0;
  margin: 2px 0 0;
  list-style: none;
  font-size: 13px;
  text-align: left;
  background-color: #fff;
  border: 1px solid #ccc;
  border: 1px solid rgba(0, 0, 0, 0.15);
  border-radius: 2px;
  -webkit-box-shadow: 0 6px 12px rgba(0, 0, 0, 0.175);
  box-shadow: 0 6px 12px rgba(0, 0, 0, 0.175);
  background-clip: padding-box;
}
.dropdown-menu.pull-right {
  right: 0;
  left: auto;
}
.dropdown-menu .divider {
  height: 1px;
  margin: 8px 0;
  overflow: hidden;
  background-color: #e5e5e5;
}
.dropdown-menu > li > a {
  display: block;
  padding: 3px 20px;
  clear: both;
  font-weight: normal;
  line-height: 1.42857143;
  color: #333333;
  white-space: nowrap;
}
.dropdown-menu > li > a:hover,
.dropdown-menu > li > a:focus {
  text-decoration: none;
  color: #262626;
  background-color: #f5f5f5;
}
.dropdown-menu > .active > a,
.dropdown-menu > .active > a:hover,
.dropdown-menu > .active > a:focus {
  color: #fff;
  text-decoration: none;
  outline: 0;
  background-color: #337ab7;
}
.dropdown-menu > .disabled > a,
.dropdown-menu > .disabled > a:hover,
.dropdown-menu > .disabled > a:focus {
  color: #777777;
}
.dropdown-menu > .disabled > a:hover,
.dropdown-menu > .disabled > a:focus {
  text-decoration: none;
  background-color: transparent;
  background-image: none;
  filter: progid:DXImageTransform.Microsoft.gradient(enabled = false);
  cursor: not-allowed;
}
.open > .dropdown-menu {
  display: block;
}
.open > a {
  outline: 0;
}
.dropdown-menu-right {
  left: auto;
  right: 0;
}
.dropdown-menu-left {
  left: 0;
  right: auto;
}
.dropdown-header {
  display: block;
  padding: 3px 20px;
  font-size: 12px;
  line-height: 1.42857143;
  color: #777777;
  white-space: nowrap;
}
.dropdown-backdrop {
  position: fixed;
  left: 0;
  right: 0;
  bottom: 0;
  top: 0;
  z-index: 990;
}
.pull-right > .dropdown-menu {
  right: 0;
  left: auto;
}
.dropup .caret,
.navbar-fixed-bottom .dropdown .caret {
  border-top: 0;
  border-bottom: 4px dashed;
  border-bottom: 4px solid \9;
  content: "";
}
.dropup .dropdown-menu,
.navbar-fixed-bottom .dropdown .dropdown-menu {
  top: auto;
  bottom: 100%;
  margin-bottom: 2px;
}
@media (min-width: 541px) {
  .navbar-right .dropdown-menu {
    left: auto;
    right: 0;
  }
  .navbar-right .dropdown-menu-left {
    left: 0;
    right: auto;
  }
}
.btn-group,
.btn-group-vertical {
  position: relative;
  display: inline-block;
  vertical-align: middle;
}
.btn-group > .btn,
.btn-group-vertical > .btn {
  position: relative;
  float: left;
}
.btn-group > .btn:hover,
.btn-group-vertical > .btn:hover,
.btn-group > .btn:focus,
.btn-group-vertical > .btn:focus,
.btn-group > .btn:active,
.btn-group-vertical > .btn:active,
.btn-group > .btn.active,
.btn-group-vertical > .btn.active {
  z-index: 2;
}
.btn-group .btn + .btn,
.btn-group .btn + .btn-group,
.btn-group .btn-group + .btn,
.btn-group .btn-group + .btn-group {
  margin-left: -1px;
}
.btn-toolbar {
  margin-left: -5px;
}
.btn-toolbar .btn,
.btn-toolbar .btn-group,
.btn-toolbar .input-group {
  float: left;
}
.btn-toolbar > .btn,
.btn-toolbar > .btn-group,
.btn-toolbar > .input-group {
  margin-left: 5px;
}
.btn-group > .btn:not(:first-child):not(:last-child):not(.dropdown-toggle) {
  border-radius: 0;
}
.btn-group > .btn:first-child {
  margin-left: 0;
}
.btn-group > .btn:first-child:not(:last-child):not(.dropdown-toggle) {
  border-bottom-right-radius: 0;
  border-top-right-radius: 0;
}
.btn-group > .btn:last-child:not(:first-child),
.btn-group > .dropdown-toggle:not(:first-child) {
  border-bottom-left-radius: 0;
  border-top-left-radius: 0;
}
.btn-group > .btn-group {
  float: left;
}
.btn-group > .btn-group:not(:first-child):not(:last-child) > .btn {
  border-radius: 0;
}
.btn-group > .btn-group:first-child:not(:last-child) > .btn:last-child,
.btn-group > .btn-group:first-child:not(:last-child) > .dropdown-toggle {
  border-bottom-right-radius: 0;
  border-top-right-radius: 0;
}
.btn-group > .btn-group:last-child:not(:first-child) > .btn:first-child {
  border-bottom-left-radius: 0;
  border-top-left-radius: 0;
}
.btn-group .dropdown-toggle:active,
.btn-group.open .dropdown-toggle {
  outline: 0;
}
.btn-group > .btn + .dropdown-toggle {
  padding-left: 8px;
  padding-right: 8px;
}
.btn-group > .btn-lg + .dropdown-toggle {
  padding-left: 12px;
  padding-right: 12px;
}
.btn-group.open .dropdown-toggle {
  -webkit-box-shadow: inset 0 3px 5px rgba(0, 0, 0, 0.125);
  box-shadow: inset 0 3px 5px rgba(0, 0, 0, 0.125);
}
.btn-group.open .dropdown-toggle.btn-link {
  -webkit-box-shadow: none;
  box-shadow: none;
}
.btn .caret {
  margin-left: 0;
}
.btn-lg .caret {
  border-width: 5px 5px 0;
  border-bottom-width: 0;
}
.dropup .btn-lg .caret {
  border-width: 0 5px 5px;
}
.btn-group-vertical > .btn,
.btn-group-vertical > .btn-group,
.btn-group-vertical > .btn-group > .btn {
  display: block;
  float: none;
  width: 100%;
  max-width: 100%;
}
.btn-group-vertical > .btn-group > .btn {
  float: none;
}
.btn-group-vertical > .btn + .btn,
.btn-group-vertical > .btn + .btn-group,
.btn-group-vertical > .btn-group + .btn,
.btn-group-vertical > .btn-group + .btn-group {
  margin-top: -1px;
  margin-left: 0;
}
.btn-group-vertical > .btn:not(:first-child):not(:last-child) {
  border-radius: 0;
}
.btn-group-vertical > .btn:first-child:not(:last-child) {
  border-top-right-radius: 2px;
  border-top-left-radius: 2px;
  border-bottom-right-radius: 0;
  border-bottom-left-radius: 0;
}
.btn-group-vertical > .btn:last-child:not(:first-child) {
  border-top-right-radius: 0;
  border-top-left-radius: 0;
  border-bottom-right-radius: 2px;
  border-bottom-left-radius: 2px;
}
.btn-group-vertical > .btn-group:not(:first-child):not(:last-child) > .btn {
  border-radius: 0;
}
.btn-group-vertical > .btn-group:first-child:not(:last-child) > .btn:last-child,
.btn-group-vertical > .btn-group:first-child:not(:last-child) > .dropdown-toggle {
  border-bottom-right-radius: 0;
  border-bottom-left-radius: 0;
}
.btn-group-vertical > .btn-group:last-child:not(:first-child) > .btn:first-child {
  border-top-right-radius: 0;
  border-top-left-radius: 0;
}
.btn-group-justified {
  display: table;
  width: 100%;
  table-layout: fixed;
  border-collapse: separate;
}
.btn-group-justified > .btn,
.btn-group-justified > .btn-group {
  float: none;
  display: table-cell;
  width: 1%;
}
.btn-group-justified > .btn-group .btn {
  width: 100%;
}
.btn-group-justified > .btn-group .dropdown-menu {
  left: auto;
}
[data-toggle="buttons"] > .btn input[type="radio"],
[data-toggle="buttons"] > .btn-group > .btn input[type="radio"],
[data-toggle="buttons"] > .btn input[type="checkbox"],
[data-toggle="buttons"] > .btn-group > .btn input[type="checkbox"] {
  position: absolute;
  clip: rect(0, 0, 0, 0);
  pointer-events: none;
}
.input-group {
  position: relative;
  display: table;
  border-collapse: separate;
}
.input-group[class*="col-"] {
  float: none;
  padding-left: 0;
  padding-right: 0;
}
.input-group .form-control {
  position: relative;
  z-index: 2;
  float: left;
  width: 100%;
  margin-bottom: 0;
}
.input-group .form-control:focus {
  z-index: 3;
}
.input-group-lg > .form-control,
.input-group-lg > .input-group-addon,
.input-group-lg > .input-group-btn > .btn {
  height: 45px;
  padding: 10px 16px;
  font-size: 17px;
  line-height: 1.3333333;
  border-radius: 3px;
}
select.input-group-lg > .form-control,
select.input-group-lg > .input-group-addon,
select.input-group-lg > .input-group-btn > .btn {
  height: 45px;
  line-height: 45px;
}
textarea.input-group-lg > .form-control,
textarea.input-group-lg > .input-group-addon,
textarea.input-group-lg > .input-group-btn > .btn,
select[multiple].input-group-lg > .form-control,
select[multiple].input-group-lg > .input-group-addon,
select[multiple].input-group-lg > .input-group-btn > .btn {
  height: auto;
}
.input-group-sm > .form-control,
.input-group-sm > .input-group-addon,
.input-group-sm > .input-group-btn > .btn {
  height: 30px;
  padding: 5px 10px;
  font-size: 12px;
  line-height: 1.5;
  border-radius: 1px;
}
select.input-group-sm > .form-control,
select.input-group-sm > .input-group-addon,
select.input-group-sm > .input-group-btn > .btn {
  height: 30px;
  line-height: 30px;
}
textarea.input-group-sm > .form-control,
textarea.input-group-sm > .input-group-addon,
textarea.input-group-sm > .input-group-btn > .btn,
select[multiple].input-group-sm > .form-control,
select[multiple].input-group-sm > .input-group-addon,
select[multiple].input-group-sm > .input-group-btn > .btn {
  height: auto;
}
.input-group-addon,
.input-group-btn,
.input-group .form-control {
  display: table-cell;
}
.input-group-addon:not(:first-child):not(:last-child),
.input-group-btn:not(:first-child):not(:last-child),
.input-group .form-control:not(:first-child):not(:last-child) {
  border-radius: 0;
}
.input-group-addon,
.input-group-btn {
  width: 1%;
  white-space: nowrap;
  vertical-align: middle;
}
.input-group-addon {
  padding: 6px 12px;
  font-size: 13px;
  font-weight: normal;
  line-height: 1;
  color: #555555;
  text-align: center;
  background-color: #eeeeee;
  border: 1px solid #ccc;
  border-radius: 2px;
}
.input-group-addon.input-sm {
  padding: 5px 10px;
  font-size: 12px;
  border-radius: 1px;
}
.input-group-addon.input-lg {
  padding: 10px 16px;
  font-size: 17px;
  border-radius: 3px;
}
.input-group-addon input[type="radio"],
.input-group-addon input[type="checkbox"] {
  margin-top: 0;
}
.input-group .form-control:first-child,
.input-group-addon:first-child,
.input-group-btn:first-child > .btn,
.input-group-btn:first-child > .btn-group > .btn,
.input-group-btn:first-child > .dropdown-toggle,
.input-group-btn:last-child > .btn:not(:last-child):not(.dropdown-toggle),
.input-group-btn:last-child > .btn-group:not(:last-child) > .btn {
  border-bottom-right-radius: 0;
  border-top-right-radius: 0;
}
.input-group-addon:first-child {
  border-right: 0;
}
.input-group .form-control:last-child,
.input-group-addon:last-child,
.input-group-btn:last-child > .btn,
.input-group-btn:last-child > .btn-group > .btn,
.input-group-btn:last-child > .dropdown-toggle,
.input-group-btn:first-child > .btn:not(:first-child),
.input-group-btn:first-child > .btn-group:not(:first-child) > .btn {
  border-bottom-left-radius: 0;
  border-top-left-radius: 0;
}
.input-group-addon:last-child {
  border-left: 0;
}
.input-group-btn {
  position: relative;
  font-size: 0;
  white-space: nowrap;
}
.input-group-btn > .btn {
  position: relative;
}
.input-group-btn > .btn + .btn {
  margin-left: -1px;
}
.input-group-btn > .btn:hover,
.input-group-btn > .btn:focus,
.input-group-btn > .btn:active {
  z-index: 2;
}
.input-group-btn:first-child > .btn,
.input-group-btn:first-child > .btn-group {
  margin-right: -1px;
}
.input-group-btn:last-child > .btn,
.input-group-btn:last-child > .btn-group {
  z-index: 2;
  margin-left: -1px;
}
.nav {
  margin-bottom: 0;
  padding-left: 0;
  list-style: none;
}
.nav > li {
  position: relative;
  display: block;
}
.nav > li > a {
  position: relative;
  display: block;
  padding: 10px 15px;
}
.nav > li > a:hover,
.nav > li > a:focus {
  text-decoration: none;
  background-color: #eeeeee;
}
.nav > li.disabled > a {
  color: #777777;
}
.nav > li.disabled > a:hover,
.nav > li.disabled > a:focus {
  color: #777777;
  text-decoration: none;
  background-color: transparent;
  cursor: not-allowed;
}
.nav .open > a,
.nav .open > a:hover,
.nav .open > a:focus {
  background-color: #eeeeee;
  border-color: #337ab7;
}
.nav .nav-divider {
  height: 1px;
  margin: 8px 0;
  overflow: hidden;
  background-color: #e5e5e5;
}
.nav > li > a > img {
  max-width: none;
}
.nav-tabs {
  border-bottom: 1px solid #ddd;
}
.nav-tabs > li {
  float: left;
  margin-bottom: -1px;
}
.nav-tabs > li > a {
  margin-right: 2px;
  line-height: 1.42857143;
  border: 1px solid transparent;
  border-radius: 2px 2px 0 0;
}
.nav-tabs > li > a:hover {
  border-color: #eeeeee #eeeeee #ddd;
}
.nav-tabs > li.active > a,
.nav-tabs > li.active > a:hover,
.nav-tabs > li.active > a:focus {
  color: #555555;
  background-color: #fff;
  border: 1px solid #ddd;
  border-bottom-color: transparent;
  cursor: default;
}
.nav-tabs.nav-justified {
  width: 100%;
  border-bottom: 0;
}
.nav-tabs.nav-justified > li {
  float: none;
}
.nav-tabs.nav-justified > li > a {
  text-align: center;
  margin-bottom: 5px;
}
.nav-tabs.nav-justified > .dropdown .dropdown-menu {
  top: auto;
  left: auto;
}
@media (min-width: 768px) {
  .nav-tabs.nav-justified > li {
    display: table-cell;
    width: 1%;
  }
  .nav-tabs.nav-justified > li > a {
    margin-bottom: 0;
  }
}
.nav-tabs.nav-justified > li > a {
  margin-right: 0;
  border-radius: 2px;
}
.nav-tabs.nav-justified > .active > a,
.nav-tabs.nav-justified > .active > a:hover,
.nav-tabs.nav-justified > .active > a:focus {
  border: 1px solid #ddd;
}
@media (min-width: 768px) {
  .nav-tabs.nav-justified > li > a {
    border-bottom: 1px solid #ddd;
    border-radius: 2px 2px 0 0;
  }
  .nav-tabs.nav-justified > .active > a,
  .nav-tabs.nav-justified > .active > a:hover,
  .nav-tabs.nav-justified > .active > a:focus {
    border-bottom-color: #fff;
  }
}
.nav-pills > li {
  float: left;
}
.nav-pills > li > a {
  border-radius: 2px;
}
.nav-pills > li + li {
  margin-left: 2px;
}
.nav-pills > li.active > a,
.nav-pills > li.active > a:hover,
.nav-pills > li.active > a:focus {
  color: #fff;
  background-color: #337ab7;
}
.nav-stacked > li {
  float: none;
}
.nav-stacked > li + li {
  margin-top: 2px;
  margin-left: 0;
}
.nav-justified {
  width: 100%;
}
.nav-justified > li {
  float: none;
}
.nav-justified > li > a {
  text-align: center;
  margin-bottom: 5px;
}
.nav-justified > .dropdown .dropdown-menu {
  top: auto;
  left: auto;
}
@media (min-width: 768px) {
  .nav-justified > li {
    display: table-cell;
    width: 1%;
  }
  .nav-justified > li > a {
    margin-bottom: 0;
  }
}
.nav-tabs-justified {
  border-bottom: 0;
}
.nav-tabs-justified > li > a {
  margin-right: 0;
  border-radius: 2px;
}
.nav-tabs-justified > .active > a,
.nav-tabs-justified > .active > a:hover,
.nav-tabs-justified > .active > a:focus {
  border: 1px solid #ddd;
}
@media (min-width: 768px) {
  .nav-tabs-justified > li > a {
    border-bottom: 1px solid #ddd;
    border-radius: 2px 2px 0 0;
  }
  .nav-tabs-justified > .active > a,
  .nav-tabs-justified > .active > a:hover,
  .nav-tabs-justified > .active > a:focus {
    border-bottom-color: #fff;
  }
}
.tab-content > .tab-pane {
  display: none;
}
.tab-content > .active {
  display: block;
}
.nav-tabs .dropdown-menu {
  margin-top: -1px;
  border-top-right-radius: 0;
  border-top-left-radius: 0;
}
.navbar {
  position: relative;
  min-height: 30px;
  margin-bottom: 18px;
  border: 1px solid transparent;
}
@media (min-width: 541px) {
  .navbar {
    border-radius: 2px;
  }
}
@media (min-width: 541px) {
  .navbar-header {
    float: left;
  }
}
.navbar-collapse {
  overflow-x: visible;
  padding-right: 0px;
  padding-left: 0px;
  border-top: 1px solid transparent;
  box-shadow: inset 0 1px 0 rgba(255, 255, 255, 0.1);
  -webkit-overflow-scrolling: touch;
}
.navbar-collapse.in {
  overflow-y: auto;
}
@media (min-width: 541px) {
  .navbar-collapse {
    width: auto;
    border-top: 0;
    box-shadow: none;
  }
  .navbar-collapse.collapse {
    display: block !important;
    height: auto !important;
    padding-bottom: 0;
    overflow: visible !important;
  }
  .navbar-collapse.in {
    overflow-y: visible;
  }
  .navbar-fixed-top .navbar-collapse,
  .navbar-static-top .navbar-collapse,
  .navbar-fixed-bottom .navbar-collapse {
    padding-left: 0;
    padding-right: 0;
  }
}
.navbar-fixed-top .navbar-collapse,
.navbar-fixed-bottom .navbar-collapse {
  max-height: 340px;
}
@media (max-device-width: 540px) and (orientation: landscape) {
  .navbar-fixed-top .navbar-collapse,
  .navbar-fixed-bottom .navbar-collapse {
    max-height: 200px;
  }
}
.container > .navbar-header,
.container-fluid > .navbar-header,
.container > .navbar-collapse,
.container-fluid > .navbar-collapse {
  margin-right: 0px;
  margin-left: 0px;
}
@media (min-width: 541px) {
  .container > .navbar-header,
  .container-fluid > .navbar-header,
  .container > .navbar-collapse,
  .container-fluid > .navbar-collapse {
    margin-right: 0;
    margin-left: 0;
  }
}
.navbar-static-top {
  z-index: 1000;
  border-width: 0 0 1px;
}
@media (min-width: 541px) {
  .navbar-static-top {
    border-radius: 0;
  }
}
.navbar-fixed-top,
.navbar-fixed-bottom {
  position: fixed;
  right: 0;
  left: 0;
  z-index: 1030;
}
@media (min-width: 541px) {
  .navbar-fixed-top,
  .navbar-fixed-bottom {
    border-radius: 0;
  }
}
.navbar-fixed-top {
  top: 0;
  border-width: 0 0 1px;
}
.navbar-fixed-bottom {
  bottom: 0;
  margin-bottom: 0;
  border-width: 1px 0 0;
}
.navbar-brand {
  float: left;
  padding: 6px 0px;
  font-size: 17px;
  line-height: 18px;
  height: 30px;
}
.navbar-brand:hover,
.navbar-brand:focus {
  text-decoration: none;
}
.navbar-brand > img {
  display: block;
}
@media (min-width: 541px) {
  .navbar > .container .navbar-brand,
  .navbar > .container-fluid .navbar-brand {
    margin-left: 0px;
  }
}
.navbar-toggle {
  position: relative;
  float: right;
  margin-right: 0px;
  padding: 9px 10px;
  margin-top: -2px;
  margin-bottom: -2px;
  background-color: transparent;
  background-image: none;
  border: 1px solid transparent;
  border-radius: 2px;
}
.navbar-toggle:focus {
  outline: 0;
}
.navbar-toggle .icon-bar {
  display: block;
  width: 22px;
  height: 2px;
  border-radius: 1px;
}
.navbar-toggle .icon-bar + .icon-bar {
  margin-top: 4px;
}
@media (min-width: 541px) {
  .navbar-toggle {
    display: none;
  }
}
.navbar-nav {
  margin: 3px 0px;
}
.navbar-nav > li > a {
  padding-top: 10px;
  padding-bottom: 10px;
  line-height: 18px;
}
@media (max-width: 540px) {
  .navbar-nav .open .dropdown-menu {
    position: static;
    float: none;
    width: auto;
    margin-top: 0;
    background-color: transparent;
    border: 0;
    box-shadow: none;
  }
  .navbar-nav .open .dropdown-menu > li > a,
  .navbar-nav .open .dropdown-menu .dropdown-header {
    padding: 5px 15px 5px 25px;
  }
  .navbar-nav .open .dropdown-menu > li > a {
    line-height: 18px;
  }
  .navbar-nav .open .dropdown-menu > li > a:hover,
  .navbar-nav .open .dropdown-menu > li > a:focus {
    background-image: none;
  }
}
@media (min-width: 541px) {
  .navbar-nav {
    float: left;
    margin: 0;
  }
  .navbar-nav > li {
    float: left;
  }
  .navbar-nav > li > a {
    padding-top: 6px;
    padding-bottom: 6px;
  }
}
.navbar-form {
  margin-left: 0px;
  margin-right: 0px;
  padding: 10px 0px;
  border-top: 1px solid transparent;
  border-bottom: 1px solid transparent;
  -webkit-box-shadow: inset 0 1px 0 rgba(255, 255, 255, 0.1), 0 1px 0 rgba(255, 255, 255, 0.1);
  box-shadow: inset 0 1px 0 rgba(255, 255, 255, 0.1), 0 1px 0 rgba(255, 255, 255, 0.1);
  margin-top: -1px;
  margin-bottom: -1px;
}
@media (min-width: 768px) {
  .navbar-form .form-group {
    display: inline-block;
    margin-bottom: 0;
    vertical-align: middle;
  }
  .navbar-form .form-control {
    display: inline-block;
    width: auto;
    vertical-align: middle;
  }
  .navbar-form .form-control-static {
    display: inline-block;
  }
  .navbar-form .input-group {
    display: inline-table;
    vertical-align: middle;
  }
  .navbar-form .input-group .input-group-addon,
  .navbar-form .input-group .input-group-btn,
  .navbar-form .input-group .form-control {
    width: auto;
  }
  .navbar-form .input-group > .form-control {
    width: 100%;
  }
  .navbar-form .control-label {
    margin-bottom: 0;
    vertical-align: middle;
  }
  .navbar-form .radio,
  .navbar-form .checkbox {
    display: inline-block;
    margin-top: 0;
    margin-bottom: 0;
    vertical-align: middle;
  }
  .navbar-form .radio label,
  .navbar-form .checkbox label {
    padding-left: 0;
  }
  .navbar-form .radio input[type="radio"],
  .navbar-form .checkbox input[type="checkbox"] {
    position: relative;
    margin-left: 0;
  }
  .navbar-form .has-feedback .form-control-feedback {
    top: 0;
  }
}
@media (max-width: 540px) {
  .navbar-form .form-group {
    margin-bottom: 5px;
  }
  .navbar-form .form-group:last-child {
    margin-bottom: 0;
  }
}
@media (min-width: 541px) {
  .navbar-form {
    width: auto;
    border: 0;
    margin-left: 0;
    margin-right: 0;
    padding-top: 0;
    padding-bottom: 0;
    -webkit-box-shadow: none;
    box-shadow: none;
  }
}
.navbar-nav > li > .dropdown-menu {
  margin-top: 0;
  border-top-right-radius: 0;
  border-top-left-radius: 0;
}
.navbar-fixed-bottom .navbar-nav > li > .dropdown-menu {
  margin-bottom: 0;
  border-top-right-radius: 2px;
  border-top-left-radius: 2px;
  border-bottom-right-radius: 0;
  border-bottom-left-radius: 0;
}
.navbar-btn {
  margin-top: -1px;
  margin-bottom: -1px;
}
.navbar-btn.btn-sm {
  margin-top: 0px;
  margin-bottom: 0px;
}
.navbar-btn.btn-xs {
  margin-top: 4px;
  margin-bottom: 4px;
}
.navbar-text {
  margin-top: 6px;
  margin-bottom: 6px;
}
@media (min-width: 541px) {
  .navbar-text {
    float: left;
    margin-left: 0px;
    margin-right: 0px;
  }
}
@media (min-width: 541px) {
  .navbar-left {
    float: left !important;
    float: left;
  }
  .navbar-right {
    float: right !important;
    float: right;
    margin-right: 0px;
  }
  .navbar-right ~ .navbar-right {
    margin-right: 0;
  }
}
.navbar-default {
  background-color: #f8f8f8;
  border-color: #e7e7e7;
}
.navbar-default .navbar-brand {
  color: #777;
}
.navbar-default .navbar-brand:hover,
.navbar-default .navbar-brand:focus {
  color: #5e5e5e;
  background-color: transparent;
}
.navbar-default .navbar-text {
  color: #777;
}
.navbar-default .navbar-nav > li > a {
  color: #777;
}
.navbar-default .navbar-nav > li > a:hover,
.navbar-default .navbar-nav > li > a:focus {
  color: #333;
  background-color: transparent;
}
.navbar-default .navbar-nav > .active > a,
.navbar-default .navbar-nav > .active > a:hover,
.navbar-default .navbar-nav > .active > a:focus {
  color: #555;
  background-color: #e7e7e7;
}
.navbar-default .navbar-nav > .disabled > a,
.navbar-default .navbar-nav > .disabled > a:hover,
.navbar-default .navbar-nav > .disabled > a:focus {
  color: #ccc;
  background-color: transparent;
}
.navbar-default .navbar-toggle {
  border-color: #ddd;
}
.navbar-default .navbar-toggle:hover,
.navbar-default .navbar-toggle:focus {
  background-color: #ddd;
}
.navbar-default .navbar-toggle .icon-bar {
  background-color: #888;
}
.navbar-default .navbar-collapse,
.navbar-default .navbar-form {
  border-color: #e7e7e7;
}
.navbar-default .navbar-nav > .open > a,
.navbar-default .navbar-nav > .open > a:hover,
.navbar-default .navbar-nav > .open > a:focus {
  background-color: #e7e7e7;
  color: #555;
}
@media (max-width: 540px) {
  .navbar-default .navbar-nav .open .dropdown-menu > li > a {
    color: #777;
  }
  .navbar-default .navbar-nav .open .dropdown-menu > li > a:hover,
  .navbar-default .navbar-nav .open .dropdown-menu > li > a:focus {
    color: #333;
    background-color: transparent;
  }
  .navbar-default .navbar-nav .open .dropdown-menu > .active > a,
  .navbar-default .navbar-nav .open .dropdown-menu > .active > a:hover,
  .navbar-default .navbar-nav .open .dropdown-menu > .active > a:focus {
    color: #555;
    background-color: #e7e7e7;
  }
  .navbar-default .navbar-nav .open .dropdown-menu > .disabled > a,
  .navbar-default .navbar-nav .open .dropdown-menu > .disabled > a:hover,
  .navbar-default .navbar-nav .open .dropdown-menu > .disabled > a:focus {
    color: #ccc;
    background-color: transparent;
  }
}
.navbar-default .navbar-link {
  color: #777;
}
.navbar-default .navbar-link:hover {
  color: #333;
}
.navbar-default .btn-link {
  color: #777;
}
.navbar-default .btn-link:hover,
.navbar-default .btn-link:focus {
  color: #333;
}
.navbar-default .btn-link[disabled]:hover,
fieldset[disabled] .navbar-default .btn-link:hover,
.navbar-default .btn-link[disabled]:focus,
fieldset[disabled] .navbar-default .btn-link:focus {
  color: #ccc;
}
.navbar-inverse {
  background-color: #222;
  border-color: #080808;
}
.navbar-inverse .navbar-brand {
  color: #9d9d9d;
}
.navbar-inverse .navbar-brand:hover,
.navbar-inverse .navbar-brand:focus {
  color: #fff;
  background-color: transparent;
}
.navbar-inverse .navbar-text {
  color: #9d9d9d;
}
.navbar-inverse .navbar-nav > li > a {
  color: #9d9d9d;
}
.navbar-inverse .navbar-nav > li > a:hover,
.navbar-inverse .navbar-nav > li > a:focus {
  color: #fff;
  background-color: transparent;
}
.navbar-inverse .navbar-nav > .active > a,
.navbar-inverse .navbar-nav > .active > a:hover,
.navbar-inverse .navbar-nav > .active > a:focus {
  color: #fff;
  background-color: #080808;
}
.navbar-inverse .navbar-nav > .disabled > a,
.navbar-inverse .navbar-nav > .disabled > a:hover,
.navbar-inverse .navbar-nav > .disabled > a:focus {
  color: #444;
  background-color: transparent;
}
.navbar-inverse .navbar-toggle {
  border-color: #333;
}
.navbar-inverse .navbar-toggle:hover,
.navbar-inverse .navbar-toggle:focus {
  background-color: #333;
}
.navbar-inverse .navbar-toggle .icon-bar {
  background-color: #fff;
}
.navbar-inverse .navbar-collapse,
.navbar-inverse .navbar-form {
  border-color: #101010;
}
.navbar-inverse .navbar-nav > .open > a,
.navbar-inverse .navbar-nav > .open > a:hover,
.navbar-inverse .navbar-nav > .open > a:focus {
  background-color: #080808;
  color: #fff;
}
@media (max-width: 540px) {
  .navbar-inverse .navbar-nav .open .dropdown-menu > .dropdown-header {
    border-color: #080808;
  }
  .navbar-inverse .navbar-nav .open .dropdown-menu .divider {
    background-color: #080808;
  }
  .navbar-inverse .navbar-nav .open .dropdown-menu > li > a {
    color: #9d9d9d;
  }
  .navbar-inverse .navbar-nav .open .dropdown-menu > li > a:hover,
  .navbar-inverse .navbar-nav .open .dropdown-menu > li > a:focus {
    color: #fff;
    background-color: transparent;
  }
  .navbar-inverse .navbar-nav .open .dropdown-menu > .active > a,
  .navbar-inverse .navbar-nav .open .dropdown-menu > .active > a:hover,
  .navbar-inverse .navbar-nav .open .dropdown-menu > .active > a:focus {
    color: #fff;
    background-color: #080808;
  }
  .navbar-inverse .navbar-nav .open .dropdown-menu > .disabled > a,
  .navbar-inverse .navbar-nav .open .dropdown-menu > .disabled > a:hover,
  .navbar-inverse .navbar-nav .open .dropdown-menu > .disabled > a:focus {
    color: #444;
    background-color: transparent;
  }
}
.navbar-inverse .navbar-link {
  color: #9d9d9d;
}
.navbar-inverse .navbar-link:hover {
  color: #fff;
}
.navbar-inverse .btn-link {
  color: #9d9d9d;
}
.navbar-inverse .btn-link:hover,
.navbar-inverse .btn-link:focus {
  color: #fff;
}
.navbar-inverse .btn-link[disabled]:hover,
fieldset[disabled] .navbar-inverse .btn-link:hover,
.navbar-inverse .btn-link[disabled]:focus,
fieldset[disabled] .navbar-inverse .btn-link:focus {
  color: #444;
}
.breadcrumb {
  padding: 8px 15px;
  margin-bottom: 18px;
  list-style: none;
  background-color: #f5f5f5;
  border-radius: 2px;
}
.breadcrumb > li {
  display: inline-block;
}
.breadcrumb > li + li:before {
  content: "/\00a0";
  padding: 0 5px;
  color: #5e5e5e;
}
.breadcrumb > .active {
  color: #777777;
}
.pagination {
  display: inline-block;
  padding-left: 0;
  margin: 18px 0;
  border-radius: 2px;
}
.pagination > li {
  display: inline;
}
.pagination > li > a,
.pagination > li > span {
  position: relative;
  float: left;
  padding: 6px 12px;
  line-height: 1.42857143;
  text-decoration: none;
  color: #337ab7;
  background-color: #fff;
  border: 1px solid #ddd;
  margin-left: -1px;
}
.pagination > li:first-child > a,
.pagination > li:first-child > span {
  margin-left: 0;
  border-bottom-left-radius: 2px;
  border-top-left-radius: 2px;
}
.pagination > li:last-child > a,
.pagination > li:last-child > span {
  border-bottom-right-radius: 2px;
  border-top-right-radius: 2px;
}
.pagination > li > a:hover,
.pagination > li > span:hover,
.pagination > li > a:focus,
.pagination > li > span:focus {
  z-index: 2;
  color: #23527c;
  background-color: #eeeeee;
  border-color: #ddd;
}
.pagination > .active > a,
.pagination > .active > span,
.pagination > .active > a:hover,
.pagination > .active > span:hover,
.pagination > .active > a:focus,
.pagination > .active > span:focus {
  z-index: 3;
  color: #fff;
  background-color: #337ab7;
  border-color: #337ab7;
  cursor: default;
}
.pagination > .disabled > span,
.pagination > .disabled > span:hover,
.pagination > .disabled > span:focus,
.pagination > .disabled > a,
.pagination > .disabled > a:hover,
.pagination > .disabled > a:focus {
  color: #777777;
  background-color: #fff;
  border-color: #ddd;
  cursor: not-allowed;
}
.pagination-lg > li > a,
.pagination-lg > li > span {
  padding: 10px 16px;
  font-size: 17px;
  line-height: 1.3333333;
}
.pagination-lg > li:first-child > a,
.pagination-lg > li:first-child > span {
  border-bottom-left-radius: 3px;
  border-top-left-radius: 3px;
}
.pagination-lg > li:last-child > a,
.pagination-lg > li:last-child > span {
  border-bottom-right-radius: 3px;
  border-top-right-radius: 3px;
}
.pagination-sm > li > a,
.pagination-sm > li > span {
  padding: 5px 10px;
  font-size: 12px;
  line-height: 1.5;
}
.pagination-sm > li:first-child > a,
.pagination-sm > li:first-child > span {
  border-bottom-left-radius: 1px;
  border-top-left-radius: 1px;
}
.pagination-sm > li:last-child > a,
.pagination-sm > li:last-child > span {
  border-bottom-right-radius: 1px;
  border-top-right-radius: 1px;
}
.pager {
  padding-left: 0;
  margin: 18px 0;
  list-style: none;
  text-align: center;
}
.pager li {
  display: inline;
}
.pager li > a,
.pager li > span {
  display: inline-block;
  padding: 5px 14px;
  background-color: #fff;
  border: 1px solid #ddd;
  border-radius: 15px;
}
.pager li > a:hover,
.pager li > a:focus {
  text-decoration: none;
  background-color: #eeeeee;
}
.pager .next > a,
.pager .next > span {
  float: right;
}
.pager .previous > a,
.pager .previous > span {
  float: left;
}
.pager .disabled > a,
.pager .disabled > a:hover,
.pager .disabled > a:focus,
.pager .disabled > span {
  color: #777777;
  background-color: #fff;
  cursor: not-allowed;
}
.label {
  display: inline;
  padding: .2em .6em .3em;
  font-size: 75%;
  font-weight: bold;
  line-height: 1;
  color: #fff;
  text-align: center;
  white-space: nowrap;
  vertical-align: baseline;
  border-radius: .25em;
}
a.label:hover,
a.label:focus {
  color: #fff;
  text-decoration: none;
  cursor: pointer;
}
.label:empty {
  display: none;
}
.btn .label {
  position: relative;
  top: -1px;
}
.label-default {
  background-color: #777777;
}
.label-default[href]:hover,
.label-default[href]:focus {
  background-color: #5e5e5e;
}
.label-primary {
  background-color: #337ab7;
}
.label-primary[href]:hover,
.label-primary[href]:focus {
  background-color: #286090;
}
.label-success {
  background-color: #5cb85c;
}
.label-success[href]:hover,
.label-success[href]:focus {
  background-color: #449d44;
}
.label-info {
  background-color: #5bc0de;
}
.label-info[href]:hover,
.label-info[href]:focus {
  background-color: #31b0d5;
}
.label-warning {
  background-color: #f0ad4e;
}
.label-warning[href]:hover,
.label-warning[href]:focus {
  background-color: #ec971f;
}
.label-danger {
  background-color: #d9534f;
}
.label-danger[href]:hover,
.label-danger[href]:focus {
  background-color: #c9302c;
}
.badge {
  display: inline-block;
  min-width: 10px;
  padding: 3px 7px;
  font-size: 12px;
  font-weight: bold;
  color: #fff;
  line-height: 1;
  vertical-align: middle;
  white-space: nowrap;
  text-align: center;
  background-color: #777777;
  border-radius: 10px;
}
.badge:empty {
  display: none;
}
.btn .badge {
  position: relative;
  top: -1px;
}
.btn-xs .badge,
.btn-group-xs > .btn .badge {
  top: 0;
  padding: 1px 5px;
}
a.badge:hover,
a.badge:focus {
  color: #fff;
  text-decoration: none;
  cursor: pointer;
}
.list-group-item.active > .badge,
.nav-pills > .active > a > .badge {
  color: #337ab7;
  background-color: #fff;
}
.list-group-item > .badge {
  float: right;
}
.list-group-item > .badge + .badge {
  margin-right: 5px;
}
.nav-pills > li > a > .badge {
  margin-left: 3px;
}
.jumbotron {
  padding-top: 30px;
  padding-bottom: 30px;
  margin-bottom: 30px;
  color: inherit;
  background-color: #eeeeee;
}
.jumbotron h1,
.jumbotron .h1 {
  color: inherit;
}
.jumbotron p {
  margin-bottom: 15px;
  font-size: 20px;
  font-weight: 200;
}
.jumbotron > hr {
  border-top-color: #d5d5d5;
}
.container .jumbotron,
.container-fluid .jumbotron {
  border-radius: 3px;
  padding-left: 0px;
  padding-right: 0px;
}
.jumbotron .container {
  max-width: 100%;
}
@media screen and (min-width: 768px) {
  .jumbotron {
    padding-top: 48px;
    padding-bottom: 48px;
  }
  .container .jumbotron,
  .container-fluid .jumbotron {
    padding-left: 60px;
    padding-right: 60px;
  }
  .jumbotron h1,
  .jumbotron .h1 {
    font-size: 59px;
  }
}
.thumbnail {
  display: block;
  padding: 4px;
  margin-bottom: 18px;
  line-height: 1.42857143;
  background-color: #fff;
  border: 1px solid #ddd;
  border-radius: 2px;
  -webkit-transition: border 0.2s ease-in-out;
  -o-transition: border 0.2s ease-in-out;
  transition: border 0.2s ease-in-out;
}
.thumbnail > img,
.thumbnail a > img {
  margin-left: auto;
  margin-right: auto;
}
a.thumbnail:hover,
a.thumbnail:focus,
a.thumbnail.active {
  border-color: #337ab7;
}
.thumbnail .caption {
  padding: 9px;
  color: #000;
}
.alert {
  padding: 15px;
  margin-bottom: 18px;
  border: 1px solid transparent;
  border-radius: 2px;
}
.alert h4 {
  margin-top: 0;
  color: inherit;
}
.alert .alert-link {
  font-weight: bold;
}
.alert > p,
.alert > ul {
  margin-bottom: 0;
}
.alert > p + p {
  margin-top: 5px;
}
.alert-dismissable,
.alert-dismissible {
  padding-right: 35px;
}
.alert-dismissable .close,
.alert-dismissible .close {
  position: relative;
  top: -2px;
  right: -21px;
  color: inherit;
}
.alert-success {
  background-color: #dff0d8;
  border-color: #d6e9c6;
  color: #3c763d;
}
.alert-success hr {
  border-top-color: #c9e2b3;
}
.alert-success .alert-link {
  color: #2b542c;
}
.alert-info {
  background-color: #d9edf7;
  border-color: #bce8f1;
  color: #31708f;
}
.alert-info hr {
  border-top-color: #a6e1ec;
}
.alert-info .alert-link {
  color: #245269;
}
.alert-warning {
  background-color: #fcf8e3;
  border-color: #faebcc;
  color: #8a6d3b;
}
.alert-warning hr {
  border-top-color: #f7e1b5;
}
.alert-warning .alert-link {
  color: #66512c;
}
.alert-danger {
  background-color: #f2dede;
  border-color: #ebccd1;
  color: #a94442;
}
.alert-danger hr {
  border-top-color: #e4b9c0;
}
.alert-danger .alert-link {
  color: #843534;
}
@-webkit-keyframes progress-bar-stripes {
  from {
    background-position: 40px 0;
  }
  to {
    background-position: 0 0;
  }
}
@keyframes progress-bar-stripes {
  from {
    background-position: 40px 0;
  }
  to {
    background-position: 0 0;
  }
}
.progress {
  overflow: hidden;
  height: 18px;
  margin-bottom: 18px;
  background-color: #f5f5f5;
  border-radius: 2px;
  -webkit-box-shadow: inset 0 1px 2px rgba(0, 0, 0, 0.1);
  box-shadow: inset 0 1px 2px rgba(0, 0, 0, 0.1);
}
.progress-bar {
  float: left;
  width: 0%;
  height: 100%;
  font-size: 12px;
  line-height: 18px;
  color: #fff;
  text-align: center;
  background-color: #337ab7;
  -webkit-box-shadow: inset 0 -1px 0 rgba(0, 0, 0, 0.15);
  box-shadow: inset 0 -1px 0 rgba(0, 0, 0, 0.15);
  -webkit-transition: width 0.6s ease;
  -o-transition: width 0.6s ease;
  transition: width 0.6s ease;
}
.progress-striped .progress-bar,
.progress-bar-striped {
  background-image: -webkit-linear-gradient(45deg, rgba(255, 255, 255, 0.15) 25%, transparent 25%, transparent 50%, rgba(255, 255, 255, 0.15) 50%, rgba(255, 255, 255, 0.15) 75%, transparent 75%, transparent);
  background-image: -o-linear-gradient(45deg, rgba(255, 255, 255, 0.15) 25%, transparent 25%, transparent 50%, rgba(255, 255, 255, 0.15) 50%, rgba(255, 255, 255, 0.15) 75%, transparent 75%, transparent);
  background-image: linear-gradient(45deg, rgba(255, 255, 255, 0.15) 25%, transparent 25%, transparent 50%, rgba(255, 255, 255, 0.15) 50%, rgba(255, 255, 255, 0.15) 75%, transparent 75%, transparent);
  background-size: 40px 40px;
}
.progress.active .progress-bar,
.progress-bar.active {
  -webkit-animation: progress-bar-stripes 2s linear infinite;
  -o-animation: progress-bar-stripes 2s linear infinite;
  animation: progress-bar-stripes 2s linear infinite;
}
.progress-bar-success {
  background-color: #5cb85c;
}
.progress-striped .progress-bar-success {
  background-image: -webkit-linear-gradient(45deg, rgba(255, 255, 255, 0.15) 25%, transparent 25%, transparent 50%, rgba(255, 255, 255, 0.15) 50%, rgba(255, 255, 255, 0.15) 75%, transparent 75%, transparent);
  background-image: -o-linear-gradient(45deg, rgba(255, 255, 255, 0.15) 25%, transparent 25%, transparent 50%, rgba(255, 255, 255, 0.15) 50%, rgba(255, 255, 255, 0.15) 75%, transparent 75%, transparent);
  background-image: linear-gradient(45deg, rgba(255, 255, 255, 0.15) 25%, transparent 25%, transparent 50%, rgba(255, 255, 255, 0.15) 50%, rgba(255, 255, 255, 0.15) 75%, transparent 75%, transparent);
}
.progress-bar-info {
  background-color: #5bc0de;
}
.progress-striped .progress-bar-info {
  background-image: -webkit-linear-gradient(45deg, rgba(255, 255, 255, 0.15) 25%, transparent 25%, transparent 50%, rgba(255, 255, 255, 0.15) 50%, rgba(255, 255, 255, 0.15) 75%, transparent 75%, transparent);
  background-image: -o-linear-gradient(45deg, rgba(255, 255, 255, 0.15) 25%, transparent 25%, transparent 50%, rgba(255, 255, 255, 0.15) 50%, rgba(255, 255, 255, 0.15) 75%, transparent 75%, transparent);
  background-image: linear-gradient(45deg, rgba(255, 255, 255, 0.15) 25%, transparent 25%, transparent 50%, rgba(255, 255, 255, 0.15) 50%, rgba(255, 255, 255, 0.15) 75%, transparent 75%, transparent);
}
.progress-bar-warning {
  background-color: #f0ad4e;
}
.progress-striped .progress-bar-warning {
  background-image: -webkit-linear-gradient(45deg, rgba(255, 255, 255, 0.15) 25%, transparent 25%, transparent 50%, rgba(255, 255, 255, 0.15) 50%, rgba(255, 255, 255, 0.15) 75%, transparent 75%, transparent);
  background-image: -o-linear-gradient(45deg, rgba(255, 255, 255, 0.15) 25%, transparent 25%, transparent 50%, rgba(255, 255, 255, 0.15) 50%, rgba(255, 255, 255, 0.15) 75%, transparent 75%, transparent);
  background-image: linear-gradient(45deg, rgba(255, 255, 255, 0.15) 25%, transparent 25%, transparent 50%, rgba(255, 255, 255, 0.15) 50%, rgba(255, 255, 255, 0.15) 75%, transparent 75%, transparent);
}
.progress-bar-danger {
  background-color: #d9534f;
}
.progress-striped .progress-bar-danger {
  background-image: -webkit-linear-gradient(45deg, rgba(255, 255, 255, 0.15) 25%, transparent 25%, transparent 50%, rgba(255, 255, 255, 0.15) 50%, rgba(255, 255, 255, 0.15) 75%, transparent 75%, transparent);
  background-image: -o-linear-gradient(45deg, rgba(255, 255, 255, 0.15) 25%, transparent 25%, transparent 50%, rgba(255, 255, 255, 0.15) 50%, rgba(255, 255, 255, 0.15) 75%, transparent 75%, transparent);
  background-image: linear-gradient(45deg, rgba(255, 255, 255, 0.15) 25%, transparent 25%, transparent 50%, rgba(255, 255, 255, 0.15) 50%, rgba(255, 255, 255, 0.15) 75%, transparent 75%, transparent);
}
.media {
  margin-top: 15px;
}
.media:first-child {
  margin-top: 0;
}
.media,
.media-body {
  zoom: 1;
  overflow: hidden;
}
.media-body {
  width: 10000px;
}
.media-object {
  display: block;
}
.media-object.img-thumbnail {
  max-width: none;
}
.media-right,
.media > .pull-right {
  padding-left: 10px;
}
.media-left,
.media > .pull-left {
  padding-right: 10px;
}
.media-left,
.media-right,
.media-body {
  display: table-cell;
  vertical-align: top;
}
.media-middle {
  vertical-align: middle;
}
.media-bottom {
  vertical-align: bottom;
}
.media-heading {
  margin-top: 0;
  margin-bottom: 5px;
}
.media-list {
  padding-left: 0;
  list-style: none;
}
.list-group {
  margin-bottom: 20px;
  padding-left: 0;
}
.list-group-item {
  position: relative;
  display: block;
  padding: 10px 15px;
  margin-bottom: -1px;
  background-color: #fff;
  border: 1px solid #ddd;
}
.list-group-item:first-child {
  border-top-right-radius: 2px;
  border-top-left-radius: 2px;
}
.list-group-item:last-child {
  margin-bottom: 0;
  border-bottom-right-radius: 2px;
  border-bottom-left-radius: 2px;
}
a.list-group-item,
button.list-group-item {
  color: #555;
}
a.list-group-item .list-group-item-heading,
button.list-group-item .list-group-item-heading {
  color: #333;
}
a.list-group-item:hover,
button.list-group-item:hover,
a.list-group-item:focus,
button.list-group-item:focus {
  text-decoration: none;
  color: #555;
  background-color: #f5f5f5;
}
button.list-group-item {
  width: 100%;
  text-align: left;
}
.list-group-item.disabled,
.list-group-item.disabled:hover,
.list-group-item.disabled:focus {
  background-color: #eeeeee;
  color: #777777;
  cursor: not-allowed;
}
.list-group-item.disabled .list-group-item-heading,
.list-group-item.disabled:hover .list-group-item-heading,
.list-group-item.disabled:focus .list-group-item-heading {
  color: inherit;
}
.list-group-item.disabled .list-group-item-text,
.list-group-item.disabled:hover .list-group-item-text,
.list-group-item.disabled:focus .list-group-item-text {
  color: #777777;
}
.list-group-item.active,
.list-group-item.active:hover,
.list-group-item.active:focus {
  z-index: 2;
  color: #fff;
  background-color: #337ab7;
  border-color: #337ab7;
}
.list-group-item.active .list-group-item-heading,
.list-group-item.active:hover .list-group-item-heading,
.list-group-item.active:focus .list-group-item-heading,
.list-group-item.active .list-group-item-heading > small,
.list-group-item.active:hover .list-group-item-heading > small,
.list-group-item.active:focus .list-group-item-heading > small,
.list-group-item.active .list-group-item-heading > .small,
.list-group-item.active:hover .list-group-item-heading > .small,
.list-group-item.active:focus .list-group-item-heading > .small {
  color: inherit;
}
.list-group-item.active .list-group-item-text,
.list-group-item.active:hover .list-group-item-text,
.list-group-item.active:focus .list-group-item-text {
  color: #c7ddef;
}
.list-group-item-success {
  color: #3c763d;
  background-color: #dff0d8;
}
a.list-group-item-success,
button.list-group-item-success {
  color: #3c763d;
}
a.list-group-item-success .list-group-item-heading,
button.list-group-item-success .list-group-item-heading {
  color: inherit;
}
a.list-group-item-success:hover,
button.list-group-item-success:hover,
a.list-group-item-success:focus,
button.list-group-item-success:focus {
  color: #3c763d;
  background-color: #d0e9c6;
}
a.list-group-item-success.active,
button.list-group-item-success.active,
a.list-group-item-success.active:hover,
button.list-group-item-success.active:hover,
a.list-group-item-success.active:focus,
button.list-group-item-success.active:focus {
  color: #fff;
  background-color: #3c763d;
  border-color: #3c763d;
}
.list-group-item-info {
  color: #31708f;
  background-color: #d9edf7;
}
a.list-group-item-info,
button.list-group-item-info {
  color: #31708f;
}
a.list-group-item-info .list-group-item-heading,
button.list-group-item-info .list-group-item-heading {
  color: inherit;
}
a.list-group-item-info:hover,
button.list-group-item-info:hover,
a.list-group-item-info:focus,
button.list-group-item-info:focus {
  color: #31708f;
  background-color: #c4e3f3;
}
a.list-group-item-info.active,
button.list-group-item-info.active,
a.list-group-item-info.active:hover,
button.list-group-item-info.active:hover,
a.list-group-item-info.active:focus,
button.list-group-item-info.active:focus {
  color: #fff;
  background-color: #31708f;
  border-color: #31708f;
}
.list-group-item-warning {
  color: #8a6d3b;
  background-color: #fcf8e3;
}
a.list-group-item-warning,
button.list-group-item-warning {
  color: #8a6d3b;
}
a.list-group-item-warning .list-group-item-heading,
button.list-group-item-warning .list-group-item-heading {
  color: inherit;
}
a.list-group-item-warning:hover,
button.list-group-item-warning:hover,
a.list-group-item-warning:focus,
button.list-group-item-warning:focus {
  color: #8a6d3b;
  background-color: #faf2cc;
}
a.list-group-item-warning.active,
button.list-group-item-warning.active,
a.list-group-item-warning.active:hover,
button.list-group-item-warning.active:hover,
a.list-group-item-warning.active:focus,
button.list-group-item-warning.active:focus {
  color: #fff;
  background-color: #8a6d3b;
  border-color: #8a6d3b;
}
.list-group-item-danger {
  color: #a94442;
  background-color: #f2dede;
}
a.list-group-item-danger,
button.list-group-item-danger {
  color: #a94442;
}
a.list-group-item-danger .list-group-item-heading,
button.list-group-item-danger .list-group-item-heading {
  color: inherit;
}
a.list-group-item-danger:hover,
button.list-group-item-danger:hover,
a.list-group-item-danger:focus,
button.list-group-item-danger:focus {
  color: #a94442;
  background-color: #ebcccc;
}
a.list-group-item-danger.active,
button.list-group-item-danger.active,
a.list-group-item-danger.active:hover,
button.list-group-item-danger.active:hover,
a.list-group-item-danger.active:focus,
button.list-group-item-danger.active:focus {
  color: #fff;
  background-color: #a94442;
  border-color: #a94442;
}
.list-group-item-heading {
  margin-top: 0;
  margin-bottom: 5px;
}
.list-group-item-text {
  margin-bottom: 0;
  line-height: 1.3;
}
.panel {
  margin-bottom: 18px;
  background-color: #fff;
  border: 1px solid transparent;
  border-radius: 2px;
  -webkit-box-shadow: 0 1px 1px rgba(0, 0, 0, 0.05);
  box-shadow: 0 1px 1px rgba(0, 0, 0, 0.05);
}
.panel-body {
  padding: 15px;
}
.panel-heading {
  padding: 10px 15px;
  border-bottom: 1px solid transparent;
  border-top-right-radius: 1px;
  border-top-left-radius: 1px;
}
.panel-heading > .dropdown .dropdown-toggle {
  color: inherit;
}
.panel-title {
  margin-top: 0;
  margin-bottom: 0;
  font-size: 15px;
  color: inherit;
}
.panel-title > a,
.panel-title > small,
.panel-title > .small,
.panel-title > small > a,
.panel-title > .small > a {
  color: inherit;
}
.panel-footer {
  padding: 10px 15px;
  background-color: #f5f5f5;
  border-top: 1px solid #ddd;
  border-bottom-right-radius: 1px;
  border-bottom-left-radius: 1px;
}
.panel > .list-group,
.panel > .panel-collapse > .list-group {
  margin-bottom: 0;
}
.panel > .list-group .list-group-item,
.panel > .panel-collapse > .list-group .list-group-item {
  border-width: 1px 0;
  border-radius: 0;
}
.panel > .list-group:first-child .list-group-item:first-child,
.panel > .panel-collapse > .list-group:first-child .list-group-item:first-child {
  border-top: 0;
  border-top-right-radius: 1px;
  border-top-left-radius: 1px;
}
.panel > .list-group:last-child .list-group-item:last-child,
.panel > .panel-collapse > .list-group:last-child .list-group-item:last-child {
  border-bottom: 0;
  border-bottom-right-radius: 1px;
  border-bottom-left-radius: 1px;
}
.panel > .panel-heading + .panel-collapse > .list-group .list-group-item:first-child {
  border-top-right-radius: 0;
  border-top-left-radius: 0;
}
.panel-heading + .list-group .list-group-item:first-child {
  border-top-width: 0;
}
.list-group + .panel-footer {
  border-top-width: 0;
}
.panel > .table,
.panel > .table-responsive > .table,
.panel > .panel-collapse > .table {
  margin-bottom: 0;
}
.panel > .table caption,
.panel > .table-responsive > .table caption,
.panel > .panel-collapse > .table caption {
  padding-left: 15px;
  padding-right: 15px;
}
.panel > .table:first-child,
.panel > .table-responsive:first-child > .table:first-child {
  border-top-right-radius: 1px;
  border-top-left-radius: 1px;
}
.panel > .table:first-child > thead:first-child > tr:first-child,
.panel > .table-responsive:first-child > .table:first-child > thead:first-child > tr:first-child,
.panel > .table:first-child > tbody:first-child > tr:first-child,
.panel > .table-responsive:first-child > .table:first-child > tbody:first-child > tr:first-child {
  border-top-left-radius: 1px;
  border-top-right-radius: 1px;
}
.panel > .table:first-child > thead:first-child > tr:first-child td:first-child,
.panel > .table-responsive:first-child > .table:first-child > thead:first-child > tr:first-child td:first-child,
.panel > .table:first-child > tbody:first-child > tr:first-child td:first-child,
.panel > .table-responsive:first-child > .table:first-child > tbody:first-child > tr:first-child td:first-child,
.panel > .table:first-child > thead:first-child > tr:first-child th:first-child,
.panel > .table-responsive:first-child > .table:first-child > thead:first-child > tr:first-child th:first-child,
.panel > .table:first-child > tbody:first-child > tr:first-child th:first-child,
.panel > .table-responsive:first-child > .table:first-child > tbody:first-child > tr:first-child th:first-child {
  border-top-left-radius: 1px;
}
.panel > .table:first-child > thead:first-child > tr:first-child td:last-child,
.panel > .table-responsive:first-child > .table:first-child > thead:first-child > tr:first-child td:last-child,
.panel > .table:first-child > tbody:first-child > tr:first-child td:last-child,
.panel > .table-responsive:first-child > .table:first-child > tbody:first-child > tr:first-child td:last-child,
.panel > .table:first-child > thead:first-child > tr:first-child th:last-child,
.panel > .table-responsive:first-child > .table:first-child > thead:first-child > tr:first-child th:last-child,
.panel > .table:first-child > tbody:first-child > tr:first-child th:last-child,
.panel > .table-responsive:first-child > .table:first-child > tbody:first-child > tr:first-child th:last-child {
  border-top-right-radius: 1px;
}
.panel > .table:last-child,
.panel > .table-responsive:last-child > .table:last-child {
  border-bottom-right-radius: 1px;
  border-bottom-left-radius: 1px;
}
.panel > .table:last-child > tbody:last-child > tr:last-child,
.panel > .table-responsive:last-child > .table:last-child > tbody:last-child > tr:last-child,
.panel > .table:last-child > tfoot:last-child > tr:last-child,
.panel > .table-responsive:last-child > .table:last-child > tfoot:last-child > tr:last-child {
  border-bottom-left-radius: 1px;
  border-bottom-right-radius: 1px;
}
.panel > .table:last-child > tbody:last-child > tr:last-child td:first-child,
.panel > .table-responsive:last-child > .table:last-child > tbody:last-child > tr:last-child td:first-child,
.panel > .table:last-child > tfoot:last-child > tr:last-child td:first-child,
.panel > .table-responsive:last-child > .table:last-child > tfoot:last-child > tr:last-child td:first-child,
.panel > .table:last-child > tbody:last-child > tr:last-child th:first-child,
.panel > .table-responsive:last-child > .table:last-child > tbody:last-child > tr:last-child th:first-child,
.panel > .table:last-child > tfoot:last-child > tr:last-child th:first-child,
.panel > .table-responsive:last-child > .table:last-child > tfoot:last-child > tr:last-child th:first-child {
  border-bottom-left-radius: 1px;
}
.panel > .table:last-child > tbody:last-child > tr:last-child td:last-child,
.panel > .table-responsive:last-child > .table:last-child > tbody:last-child > tr:last-child td:last-child,
.panel > .table:last-child > tfoot:last-child > tr:last-child td:last-child,
.panel > .table-responsive:last-child > .table:last-child > tfoot:last-child > tr:last-child td:last-child,
.panel > .table:last-child > tbody:last-child > tr:last-child th:last-child,
.panel > .table-responsive:last-child > .table:last-child > tbody:last-child > tr:last-child th:last-child,
.panel > .table:last-child > tfoot:last-child > tr:last-child th:last-child,
.panel > .table-responsive:last-child > .table:last-child > tfoot:last-child > tr:last-child th:last-child {
  border-bottom-right-radius: 1px;
}
.panel > .panel-body + .table,
.panel > .panel-body + .table-responsive,
.panel > .table + .panel-body,
.panel > .table-responsive + .panel-body {
  border-top: 1px solid #ddd;
}
.panel > .table > tbody:first-child > tr:first-child th,
.panel > .table > tbody:first-child > tr:first-child td {
  border-top: 0;
}
.panel > .table-bordered,
.panel > .table-responsive > .table-bordered {
  border: 0;
}
.panel > .table-bordered > thead > tr > th:first-child,
.panel > .table-responsive > .table-bordered > thead > tr > th:first-child,
.panel > .table-bordered > tbody > tr > th:first-child,
.panel > .table-responsive > .table-bordered > tbody > tr > th:first-child,
.panel > .table-bordered > tfoot > tr > th:first-child,
.panel > .table-responsive > .table-bordered > tfoot > tr > th:first-child,
.panel > .table-bordered > thead > tr > td:first-child,
.panel > .table-responsive > .table-bordered > thead > tr > td:first-child,
.panel > .table-bordered > tbody > tr > td:first-child,
.panel > .table-responsive > .table-bordered > tbody > tr > td:first-child,
.panel > .table-bordered > tfoot > tr > td:first-child,
.panel > .table-responsive > .table-bordered > tfoot > tr > td:first-child {
  border-left: 0;
}
.panel > .table-bordered > thead > tr > th:last-child,
.panel > .table-responsive > .table-bordered > thead > tr > th:last-child,
.panel > .table-bordered > tbody > tr > th:last-child,
.panel > .table-responsive > .table-bordered > tbody > tr > th:last-child,
.panel > .table-bordered > tfoot > tr > th:last-child,
.panel > .table-responsive > .table-bordered > tfoot > tr > th:last-child,
.panel > .table-bordered > thead > tr > td:last-child,
.panel > .table-responsive > .table-bordered > thead > tr > td:last-child,
.panel > .table-bordered > tbody > tr > td:last-child,
.panel > .table-responsive > .table-bordered > tbody > tr > td:last-child,
.panel > .table-bordered > tfoot > tr > td:last-child,
.panel > .table-responsive > .table-bordered > tfoot > tr > td:last-child {
  border-right: 0;
}
.panel > .table-bordered > thead > tr:first-child > td,
.panel > .table-responsive > .table-bordered > thead > tr:first-child > td,
.panel > .table-bordered > tbody > tr:first-child > td,
.panel > .table-responsive > .table-bordered > tbody > tr:first-child > td,
.panel > .table-bordered > thead > tr:first-child > th,
.panel > .table-responsive > .table-bordered > thead > tr:first-child > th,
.panel > .table-bordered > tbody > tr:first-child > th,
.panel > .table-responsive > .table-bordered > tbody > tr:first-child > th {
  border-bottom: 0;
}
.panel > .table-bordered > tbody > tr:last-child > td,
.panel > .table-responsive > .table-bordered > tbody > tr:last-child > td,
.panel > .table-bordered > tfoot > tr:last-child > td,
.panel > .table-responsive > .table-bordered > tfoot > tr:last-child > td,
.panel > .table-bordered > tbody > tr:last-child > th,
.panel > .table-responsive > .table-bordered > tbody > tr:last-child > th,
.panel > .table-bordered > tfoot > tr:last-child > th,
.panel > .table-responsive > .table-bordered > tfoot > tr:last-child > th {
  border-bottom: 0;
}
.panel > .table-responsive {
  border: 0;
  margin-bottom: 0;
}
.panel-group {
  margin-bottom: 18px;
}
.panel-group .panel {
  margin-bottom: 0;
  border-radius: 2px;
}
.panel-group .panel + .panel {
  margin-top: 5px;
}
.panel-group .panel-heading {
  border-bottom: 0;
}
.panel-group .panel-heading + .panel-collapse > .panel-body,
.panel-group .panel-heading + .panel-collapse > .list-group {
  border-top: 1px solid #ddd;
}
.panel-group .panel-footer {
  border-top: 0;
}
.panel-group .panel-footer + .panel-collapse .panel-body {
  border-bottom: 1px solid #ddd;
}
.panel-default {
  border-color: #ddd;
}
.panel-default > .panel-heading {
  color: #333333;
  background-color: #f5f5f5;
  border-color: #ddd;
}
.panel-default > .panel-heading + .panel-collapse > .panel-body {
  border-top-color: #ddd;
}
.panel-default > .panel-heading .badge {
  color: #f5f5f5;
  background-color: #333333;
}
.panel-default > .panel-footer + .panel-collapse > .panel-body {
  border-bottom-color: #ddd;
}
.panel-primary {
  border-color: #337ab7;
}
.panel-primary > .panel-heading {
  color: #fff;
  background-color: #337ab7;
  border-color: #337ab7;
}
.panel-primary > .panel-heading + .panel-collapse > .panel-body {
  border-top-color: #337ab7;
}
.panel-primary > .panel-heading .badge {
  color: #337ab7;
  background-color: #fff;
}
.panel-primary > .panel-footer + .panel-collapse > .panel-body {
  border-bottom-color: #337ab7;
}
.panel-success {
  border-color: #d6e9c6;
}
.panel-success > .panel-heading {
  color: #3c763d;
  background-color: #dff0d8;
  border-color: #d6e9c6;
}
.panel-success > .panel-heading + .panel-collapse > .panel-body {
  border-top-color: #d6e9c6;
}
.panel-success > .panel-heading .badge {
  color: #dff0d8;
  background-color: #3c763d;
}
.panel-success > .panel-footer + .panel-collapse > .panel-body {
  border-bottom-color: #d6e9c6;
}
.panel-info {
  border-color: #bce8f1;
}
.panel-info > .panel-heading {
  color: #31708f;
  background-color: #d9edf7;
  border-color: #bce8f1;
}
.panel-info > .panel-heading + .panel-collapse > .panel-body {
  border-top-color: #bce8f1;
}
.panel-info > .panel-heading .badge {
  color: #d9edf7;
  background-color: #31708f;
}
.panel-info > .panel-footer + .panel-collapse > .panel-body {
  border-bottom-color: #bce8f1;
}
.panel-warning {
  border-color: #faebcc;
}
.panel-warning > .panel-heading {
  color: #8a6d3b;
  background-color: #fcf8e3;
  border-color: #faebcc;
}
.panel-warning > .panel-heading + .panel-collapse > .panel-body {
  border-top-color: #faebcc;
}
.panel-warning > .panel-heading .badge {
  color: #fcf8e3;
  background-color: #8a6d3b;
}
.panel-warning > .panel-footer + .panel-collapse > .panel-body {
  border-bottom-color: #faebcc;
}
.panel-danger {
  border-color: #ebccd1;
}
.panel-danger > .panel-heading {
  color: #a94442;
  background-color: #f2dede;
  border-color: #ebccd1;
}
.panel-danger > .panel-heading + .panel-collapse > .panel-body {
  border-top-color: #ebccd1;
}
.panel-danger > .panel-heading .badge {
  color: #f2dede;
  background-color: #a94442;
}
.panel-danger > .panel-footer + .panel-collapse > .panel-body {
  border-bottom-color: #ebccd1;
}
.embed-responsive {
  position: relative;
  display: block;
  height: 0;
  padding: 0;
  overflow: hidden;
}
.embed-responsive .embed-responsive-item,
.embed-responsive iframe,
.embed-responsive embed,
.embed-responsive object,
.embed-responsive video {
  position: absolute;
  top: 0;
  left: 0;
  bottom: 0;
  height: 100%;
  width: 100%;
  border: 0;
}
.embed-responsive-16by9 {
  padding-bottom: 56.25%;
}
.embed-responsive-4by3 {
  padding-bottom: 75%;
}
.well {
  min-height: 20px;
  padding: 19px;
  margin-bottom: 20px;
  background-color: #f5f5f5;
  border: 1px solid #e3e3e3;
  border-radius: 2px;
  -webkit-box-shadow: inset 0 1px 1px rgba(0, 0, 0, 0.05);
  box-shadow: inset 0 1px 1px rgba(0, 0, 0, 0.05);
}
.well blockquote {
  border-color: #ddd;
  border-color: rgba(0, 0, 0, 0.15);
}
.well-lg {
  padding: 24px;
  border-radius: 3px;
}
.well-sm {
  padding: 9px;
  border-radius: 1px;
}
.close {
  float: right;
  font-size: 19.5px;
  font-weight: bold;
  line-height: 1;
  color: #000;
  text-shadow: 0 1px 0 #fff;
  opacity: 0.2;
  filter: alpha(opacity=20);
}
.close:hover,
.close:focus {
  color: #000;
  text-decoration: none;
  cursor: pointer;
  opacity: 0.5;
  filter: alpha(opacity=50);
}
button.close {
  padding: 0;
  cursor: pointer;
  background: transparent;
  border: 0;
  -webkit-appearance: none;
}
.modal-open {
  overflow: hidden;
}
.modal {
  display: none;
  overflow: hidden;
  position: fixed;
  top: 0;
  right: 0;
  bottom: 0;
  left: 0;
  z-index: 1050;
  -webkit-overflow-scrolling: touch;
  outline: 0;
}
.modal.fade .modal-dialog {
  -webkit-transform: translate(0, -25%);
  -ms-transform: translate(0, -25%);
  -o-transform: translate(0, -25%);
  transform: translate(0, -25%);
  -webkit-transition: -webkit-transform 0.3s ease-out;
  -moz-transition: -moz-transform 0.3s ease-out;
  -o-transition: -o-transform 0.3s ease-out;
  transition: transform 0.3s ease-out;
}
.modal.in .modal-dialog {
  -webkit-transform: translate(0, 0);
  -ms-transform: translate(0, 0);
  -o-transform: translate(0, 0);
  transform: translate(0, 0);
}
.modal-open .modal {
  overflow-x: hidden;
  overflow-y: auto;
}
.modal-dialog {
  position: relative;
  width: auto;
  margin: 10px;
}
.modal-content {
  position: relative;
  background-color: #fff;
  border: 1px solid #999;
  border: 1px solid rgba(0, 0, 0, 0.2);
  border-radius: 3px;
  -webkit-box-shadow: 0 3px 9px rgba(0, 0, 0, 0.5);
  box-shadow: 0 3px 9px rgba(0, 0, 0, 0.5);
  background-clip: padding-box;
  outline: 0;
}
.modal-backdrop {
  position: fixed;
  top: 0;
  right: 0;
  bottom: 0;
  left: 0;
  z-index: 1040;
  background-color: #000;
}
.modal-backdrop.fade {
  opacity: 0;
  filter: alpha(opacity=0);
}
.modal-backdrop.in {
  opacity: 0.5;
  filter: alpha(opacity=50);
}
.modal-header {
  padding: 15px;
  border-bottom: 1px solid #e5e5e5;
}
.modal-header .close {
  margin-top: -2px;
}
.modal-title {
  margin: 0;
  line-height: 1.42857143;
}
.modal-body {
  position: relative;
  padding: 15px;
}
.modal-footer {
  padding: 15px;
  text-align: right;
  border-top: 1px solid #e5e5e5;
}
.modal-footer .btn + .btn {
  margin-left: 5px;
  margin-bottom: 0;
}
.modal-footer .btn-group .btn + .btn {
  margin-left: -1px;
}
.modal-footer .btn-block + .btn-block {
  margin-left: 0;
}
.modal-scrollbar-measure {
  position: absolute;
  top: -9999px;
  width: 50px;
  height: 50px;
  overflow: scroll;
}
@media (min-width: 768px) {
  .modal-dialog {
    width: 600px;
    margin: 30px auto;
  }
  .modal-content {
    -webkit-box-shadow: 0 5px 15px rgba(0, 0, 0, 0.5);
    box-shadow: 0 5px 15px rgba(0, 0, 0, 0.5);
  }
  .modal-sm {
    width: 300px;
  }
}
@media (min-width: 992px) {
  .modal-lg {
    width: 900px;
  }
}
.tooltip {
  position: absolute;
  z-index: 1070;
  display: block;
  font-family: "Helvetica Neue", Helvetica, Arial, sans-serif;
  font-style: normal;
  font-weight: normal;
  letter-spacing: normal;
  line-break: auto;
  line-height: 1.42857143;
  text-align: left;
  text-align: start;
  text-decoration: none;
  text-shadow: none;
  text-transform: none;
  white-space: normal;
  word-break: normal;
  word-spacing: normal;
  word-wrap: normal;
  font-size: 12px;
  opacity: 0;
  filter: alpha(opacity=0);
}
.tooltip.in {
  opacity: 0.9;
  filter: alpha(opacity=90);
}
.tooltip.top {
  margin-top: -3px;
  padding: 5px 0;
}
.tooltip.right {
  margin-left: 3px;
  padding: 0 5px;
}
.tooltip.bottom {
  margin-top: 3px;
  padding: 5px 0;
}
.tooltip.left {
  margin-left: -3px;
  padding: 0 5px;
}
.tooltip-inner {
  max-width: 200px;
  padding: 3px 8px;
  color: #fff;
  text-align: center;
  background-color: #000;
  border-radius: 2px;
}
.tooltip-arrow {
  position: absolute;
  width: 0;
  height: 0;
  border-color: transparent;
  border-style: solid;
}
.tooltip.top .tooltip-arrow {
  bottom: 0;
  left: 50%;
  margin-left: -5px;
  border-width: 5px 5px 0;
  border-top-color: #000;
}
.tooltip.top-left .tooltip-arrow {
  bottom: 0;
  right: 5px;
  margin-bottom: -5px;
  border-width: 5px 5px 0;
  border-top-color: #000;
}
.tooltip.top-right .tooltip-arrow {
  bottom: 0;
  left: 5px;
  margin-bottom: -5px;
  border-width: 5px 5px 0;
  border-top-color: #000;
}
.tooltip.right .tooltip-arrow {
  top: 50%;
  left: 0;
  margin-top: -5px;
  border-width: 5px 5px 5px 0;
  border-right-color: #000;
}
.tooltip.left .tooltip-arrow {
  top: 50%;
  right: 0;
  margin-top: -5px;
  border-width: 5px 0 5px 5px;
  border-left-color: #000;
}
.tooltip.bottom .tooltip-arrow {
  top: 0;
  left: 50%;
  margin-left: -5px;
  border-width: 0 5px 5px;
  border-bottom-color: #000;
}
.tooltip.bottom-left .tooltip-arrow {
  top: 0;
  right: 5px;
  margin-top: -5px;
  border-width: 0 5px 5px;
  border-bottom-color: #000;
}
.tooltip.bottom-right .tooltip-arrow {
  top: 0;
  left: 5px;
  margin-top: -5px;
  border-width: 0 5px 5px;
  border-bottom-color: #000;
}
.popover {
  position: absolute;
  top: 0;
  left: 0;
  z-index: 1060;
  display: none;
  max-width: 276px;
  padding: 1px;
  font-family: "Helvetica Neue", Helvetica, Arial, sans-serif;
  font-style: normal;
  font-weight: normal;
  letter-spacing: normal;
  line-break: auto;
  line-height: 1.42857143;
  text-align: left;
  text-align: start;
  text-decoration: none;
  text-shadow: none;
  text-transform: none;
  white-space: normal;
  word-break: normal;
  word-spacing: normal;
  word-wrap: normal;
  font-size: 13px;
  background-color: #fff;
  background-clip: padding-box;
  border: 1px solid #ccc;
  border: 1px solid rgba(0, 0, 0, 0.2);
  border-radius: 3px;
  -webkit-box-shadow: 0 5px 10px rgba(0, 0, 0, 0.2);
  box-shadow: 0 5px 10px rgba(0, 0, 0, 0.2);
}
.popover.top {
  margin-top: -10px;
}
.popover.right {
  margin-left: 10px;
}
.popover.bottom {
  margin-top: 10px;
}
.popover.left {
  margin-left: -10px;
}
.popover-title {
  margin: 0;
  padding: 8px 14px;
  font-size: 13px;
  background-color: #f7f7f7;
  border-bottom: 1px solid #ebebeb;
  border-radius: 2px 2px 0 0;
}
.popover-content {
  padding: 9px 14px;
}
.popover > .arrow,
.popover > .arrow:after {
  position: absolute;
  display: block;
  width: 0;
  height: 0;
  border-color: transparent;
  border-style: solid;
}
.popover > .arrow {
  border-width: 11px;
}
.popover > .arrow:after {
  border-width: 10px;
  content: "";
}
.popover.top > .arrow {
  left: 50%;
  margin-left: -11px;
  border-bottom-width: 0;
  border-top-color: #999999;
  border-top-color: rgba(0, 0, 0, 0.25);
  bottom: -11px;
}
.popover.top > .arrow:after {
  content: " ";
  bottom: 1px;
  margin-left: -10px;
  border-bottom-width: 0;
  border-top-color: #fff;
}
.popover.right > .arrow {
  top: 50%;
  left: -11px;
  margin-top: -11px;
  border-left-width: 0;
  border-right-color: #999999;
  border-right-color: rgba(0, 0, 0, 0.25);
}
.popover.right > .arrow:after {
  content: " ";
  left: 1px;
  bottom: -10px;
  border-left-width: 0;
  border-right-color: #fff;
}
.popover.bottom > .arrow {
  left: 50%;
  margin-left: -11px;
  border-top-width: 0;
  border-bottom-color: #999999;
  border-bottom-color: rgba(0, 0, 0, 0.25);
  top: -11px;
}
.popover.bottom > .arrow:after {
  content: " ";
  top: 1px;
  margin-left: -10px;
  border-top-width: 0;
  border-bottom-color: #fff;
}
.popover.left > .arrow {
  top: 50%;
  right: -11px;
  margin-top: -11px;
  border-right-width: 0;
  border-left-color: #999999;
  border-left-color: rgba(0, 0, 0, 0.25);
}
.popover.left > .arrow:after {
  content: " ";
  right: 1px;
  border-right-width: 0;
  border-left-color: #fff;
  bottom: -10px;
}
.carousel {
  position: relative;
}
.carousel-inner {
  position: relative;
  overflow: hidden;
  width: 100%;
}
.carousel-inner > .item {
  display: none;
  position: relative;
  -webkit-transition: 0.6s ease-in-out left;
  -o-transition: 0.6s ease-in-out left;
  transition: 0.6s ease-in-out left;
}
.carousel-inner > .item > img,
.carousel-inner > .item > a > img {
  line-height: 1;
}
@media all and (transform-3d), (-webkit-transform-3d) {
  .carousel-inner > .item {
    -webkit-transition: -webkit-transform 0.6s ease-in-out;
    -moz-transition: -moz-transform 0.6s ease-in-out;
    -o-transition: -o-transform 0.6s ease-in-out;
    transition: transform 0.6s ease-in-out;
    -webkit-backface-visibility: hidden;
    -moz-backface-visibility: hidden;
    backface-visibility: hidden;
    -webkit-perspective: 1000px;
    -moz-perspective: 1000px;
    perspective: 1000px;
  }
  .carousel-inner > .item.next,
  .carousel-inner > .item.active.right {
    -webkit-transform: translate3d(100%, 0, 0);
    transform: translate3d(100%, 0, 0);
    left: 0;
  }
  .carousel-inner > .item.prev,
  .carousel-inner > .item.active.left {
    -webkit-transform: translate3d(-100%, 0, 0);
    transform: translate3d(-100%, 0, 0);
    left: 0;
  }
  .carousel-inner > .item.next.left,
  .carousel-inner > .item.prev.right,
  .carousel-inner > .item.active {
    -webkit-transform: translate3d(0, 0, 0);
    transform: translate3d(0, 0, 0);
    left: 0;
  }
}
.carousel-inner > .active,
.carousel-inner > .next,
.carousel-inner > .prev {
  display: block;
}
.carousel-inner > .active {
  left: 0;
}
.carousel-inner > .next,
.carousel-inner > .prev {
  position: absolute;
  top: 0;
  width: 100%;
}
.carousel-inner > .next {
  left: 100%;
}
.carousel-inner > .prev {
  left: -100%;
}
.carousel-inner > .next.left,
.carousel-inner > .prev.right {
  left: 0;
}
.carousel-inner > .active.left {
  left: -100%;
}
.carousel-inner > .active.right {
  left: 100%;
}
.carousel-control {
  position: absolute;
  top: 0;
  left: 0;
  bottom: 0;
  width: 15%;
  opacity: 0.5;
  filter: alpha(opacity=50);
  font-size: 20px;
  color: #fff;
  text-align: center;
  text-shadow: 0 1px 2px rgba(0, 0, 0, 0.6);
  background-color: rgba(0, 0, 0, 0);
}
.carousel-control.left {
  background-image: -webkit-linear-gradient(left, rgba(0, 0, 0, 0.5) 0%, rgba(0, 0, 0, 0.0001) 100%);
  background-image: -o-linear-gradient(left, rgba(0, 0, 0, 0.5) 0%, rgba(0, 0, 0, 0.0001) 100%);
  background-image: linear-gradient(to right, rgba(0, 0, 0, 0.5) 0%, rgba(0, 0, 0, 0.0001) 100%);
  background-repeat: repeat-x;
  filter: progid:DXImageTransform.Microsoft.gradient(startColorstr='#80000000', endColorstr='#00000000', GradientType=1);
}
.carousel-control.right {
  left: auto;
  right: 0;
  background-image: -webkit-linear-gradient(left, rgba(0, 0, 0, 0.0001) 0%, rgba(0, 0, 0, 0.5) 100%);
  background-image: -o-linear-gradient(left, rgba(0, 0, 0, 0.0001) 0%, rgba(0, 0, 0, 0.5) 100%);
  background-image: linear-gradient(to right, rgba(0, 0, 0, 0.0001) 0%, rgba(0, 0, 0, 0.5) 100%);
  background-repeat: repeat-x;
  filter: progid:DXImageTransform.Microsoft.gradient(startColorstr='#00000000', endColorstr='#80000000', GradientType=1);
}
.carousel-control:hover,
.carousel-control:focus {
  outline: 0;
  color: #fff;
  text-decoration: none;
  opacity: 0.9;
  filter: alpha(opacity=90);
}
.carousel-control .icon-prev,
.carousel-control .icon-next,
.carousel-control .glyphicon-chevron-left,
.carousel-control .glyphicon-chevron-right {
  position: absolute;
  top: 50%;
  margin-top: -10px;
  z-index: 5;
  display: inline-block;
}
.carousel-control .icon-prev,
.carousel-control .glyphicon-chevron-left {
  left: 50%;
  margin-left: -10px;
}
.carousel-control .icon-next,
.carousel-control .glyphicon-chevron-right {
  right: 50%;
  margin-right: -10px;
}
.carousel-control .icon-prev,
.carousel-control .icon-next {
  width: 20px;
  height: 20px;
  line-height: 1;
  font-family: serif;
}
.carousel-control .icon-prev:before {
  content: '\2039';
}
.carousel-control .icon-next:before {
  content: '\203a';
}
.carousel-indicators {
  position: absolute;
  bottom: 10px;
  left: 50%;
  z-index: 15;
  width: 60%;
  margin-left: -30%;
  padding-left: 0;
  list-style: none;
  text-align: center;
}
.carousel-indicators li {
  display: inline-block;
  width: 10px;
  height: 10px;
  margin: 1px;
  text-indent: -999px;
  border: 1px solid #fff;
  border-radius: 10px;
  cursor: pointer;
  background-color: #000 \9;
  background-color: rgba(0, 0, 0, 0);
}
.carousel-indicators .active {
  margin: 0;
  width: 12px;
  height: 12px;
  background-color: #fff;
}
.carousel-caption {
  position: absolute;
  left: 15%;
  right: 15%;
  bottom: 20px;
  z-index: 10;
  padding-top: 20px;
  padding-bottom: 20px;
  color: #fff;
  text-align: center;
  text-shadow: 0 1px 2px rgba(0, 0, 0, 0.6);
}
.carousel-caption .btn {
  text-shadow: none;
}
@media screen and (min-width: 768px) {
  .carousel-control .glyphicon-chevron-left,
  .carousel-control .glyphicon-chevron-right,
  .carousel-control .icon-prev,
  .carousel-control .icon-next {
    width: 30px;
    height: 30px;
    margin-top: -10px;
    font-size: 30px;
  }
  .carousel-control .glyphicon-chevron-left,
  .carousel-control .icon-prev {
    margin-left: -10px;
  }
  .carousel-control .glyphicon-chevron-right,
  .carousel-control .icon-next {
    margin-right: -10px;
  }
  .carousel-caption {
    left: 20%;
    right: 20%;
    padding-bottom: 30px;
  }
  .carousel-indicators {
    bottom: 20px;
  }
}
.clearfix:before,
.clearfix:after,
.dl-horizontal dd:before,
.dl-horizontal dd:after,
.container:before,
.container:after,
.container-fluid:before,
.container-fluid:after,
.row:before,
.row:after,
.form-horizontal .form-group:before,
.form-horizontal .form-group:after,
.btn-toolbar:before,
.btn-toolbar:after,
.btn-group-vertical > .btn-group:before,
.btn-group-vertical > .btn-group:after,
.nav:before,
.nav:after,
.navbar:before,
.navbar:after,
.navbar-header:before,
.navbar-header:after,
.navbar-collapse:before,
.navbar-collapse:after,
.pager:before,
.pager:after,
.panel-body:before,
.panel-body:after,
.modal-header:before,
.modal-header:after,
.modal-footer:before,
.modal-footer:after,
.item_buttons:before,
.item_buttons:after {
  content: " ";
  display: table;
}
.clearfix:after,
.dl-horizontal dd:after,
.container:after,
.container-fluid:after,
.row:after,
.form-horizontal .form-group:after,
.btn-toolbar:after,
.btn-group-vertical > .btn-group:after,
.nav:after,
.navbar:after,
.navbar-header:after,
.navbar-collapse:after,
.pager:after,
.panel-body:after,
.modal-header:after,
.modal-footer:after,
.item_buttons:after {
  clear: both;
}
.center-block {
  display: block;
  margin-left: auto;
  margin-right: auto;
}
.pull-right {
  float: right !important;
}
.pull-left {
  float: left !important;
}
.hide {
  display: none !important;
}
.show {
  display: block !important;
}
.invisible {
  visibility: hidden;
}
.text-hide {
  font: 0/0 a;
  color: transparent;
  text-shadow: none;
  background-color: transparent;
  border: 0;
}
.hidden {
  display: none !important;
}
.affix {
  position: fixed;
}
@-ms-viewport {
  width: device-width;
}
.visible-xs,
.visible-sm,
.visible-md,
.visible-lg {
  display: none !important;
}
.visible-xs-block,
.visible-xs-inline,
.visible-xs-inline-block,
.visible-sm-block,
.visible-sm-inline,
.visible-sm-inline-block,
.visible-md-block,
.visible-md-inline,
.visible-md-inline-block,
.visible-lg-block,
.visible-lg-inline,
.visible-lg-inline-block {
  display: none !important;
}
@media (max-width: 767px) {
  .visible-xs {
    display: block !important;
  }
  table.visible-xs {
    display: table !important;
  }
  tr.visible-xs {
    display: table-row !important;
  }
  th.visible-xs,
  td.visible-xs {
    display: table-cell !important;
  }
}
@media (max-width: 767px) {
  .visible-xs-block {
    display: block !important;
  }
}
@media (max-width: 767px) {
  .visible-xs-inline {
    display: inline !important;
  }
}
@media (max-width: 767px) {
  .visible-xs-inline-block {
    display: inline-block !important;
  }
}
@media (min-width: 768px) and (max-width: 991px) {
  .visible-sm {
    display: block !important;
  }
  table.visible-sm {
    display: table !important;
  }
  tr.visible-sm {
    display: table-row !important;
  }
  th.visible-sm,
  td.visible-sm {
    display: table-cell !important;
  }
}
@media (min-width: 768px) and (max-width: 991px) {
  .visible-sm-block {
    display: block !important;
  }
}
@media (min-width: 768px) and (max-width: 991px) {
  .visible-sm-inline {
    display: inline !important;
  }
}
@media (min-width: 768px) and (max-width: 991px) {
  .visible-sm-inline-block {
    display: inline-block !important;
  }
}
@media (min-width: 992px) and (max-width: 1199px) {
  .visible-md {
    display: block !important;
  }
  table.visible-md {
    display: table !important;
  }
  tr.visible-md {
    display: table-row !important;
  }
  th.visible-md,
  td.visible-md {
    display: table-cell !important;
  }
}
@media (min-width: 992px) and (max-width: 1199px) {
  .visible-md-block {
    display: block !important;
  }
}
@media (min-width: 992px) and (max-width: 1199px) {
  .visible-md-inline {
    display: inline !important;
  }
}
@media (min-width: 992px) and (max-width: 1199px) {
  .visible-md-inline-block {
    display: inline-block !important;
  }
}
@media (min-width: 1200px) {
  .visible-lg {
    display: block !important;
  }
  table.visible-lg {
    display: table !important;
  }
  tr.visible-lg {
    display: table-row !important;
  }
  th.visible-lg,
  td.visible-lg {
    display: table-cell !important;
  }
}
@media (min-width: 1200px) {
  .visible-lg-block {
    display: block !important;
  }
}
@media (min-width: 1200px) {
  .visible-lg-inline {
    display: inline !important;
  }
}
@media (min-width: 1200px) {
  .visible-lg-inline-block {
    display: inline-block !important;
  }
}
@media (max-width: 767px) {
  .hidden-xs {
    display: none !important;
  }
}
@media (min-width: 768px) and (max-width: 991px) {
  .hidden-sm {
    display: none !important;
  }
}
@media (min-width: 992px) and (max-width: 1199px) {
  .hidden-md {
    display: none !important;
  }
}
@media (min-width: 1200px) {
  .hidden-lg {
    display: none !important;
  }
}
.visible-print {
  display: none !important;
}
@media print {
  .visible-print {
    display: block !important;
  }
  table.visible-print {
    display: table !important;
  }
  tr.visible-print {
    display: table-row !important;
  }
  th.visible-print,
  td.visible-print {
    display: table-cell !important;
  }
}
.visible-print-block {
  display: none !important;
}
@media print {
  .visible-print-block {
    display: block !important;
  }
}
.visible-print-inline {
  display: none !important;
}
@media print {
  .visible-print-inline {
    display: inline !important;
  }
}
.visible-print-inline-block {
  display: none !important;
}
@media print {
  .visible-print-inline-block {
    display: inline-block !important;
  }
}
@media print {
  .hidden-print {
    display: none !important;
  }
}
/*!
*
* Font Awesome
*
*/
/*!
 *  Font Awesome 4.7.0 by @davegandy - http://fontawesome.io - @fontawesome
 *  License - http://fontawesome.io/license (Font: SIL OFL 1.1, CSS: MIT License)
 */
/* FONT PATH
 * -------------------------- */
@font-face {
  font-family: 'FontAwesome';
  src: url('../components/font-awesome/fonts/fontawesome-webfont.eot?v=4.7.0');
  src: url('../components/font-awesome/fonts/fontawesome-webfont.eot?#iefix&v=4.7.0') format('embedded-opentype'), url('../components/font-awesome/fonts/fontawesome-webfont.woff2?v=4.7.0') format('woff2'), url('../components/font-awesome/fonts/fontawesome-webfont.woff?v=4.7.0') format('woff'), url('../components/font-awesome/fonts/fontawesome-webfont.ttf?v=4.7.0') format('truetype'), url('../components/font-awesome/fonts/fontawesome-webfont.svg?v=4.7.0#fontawesomeregular') format('svg');
  font-weight: normal;
  font-style: normal;
}
.fa {
  display: inline-block;
  font: normal normal normal 14px/1 FontAwesome;
  font-size: inherit;
  text-rendering: auto;
  -webkit-font-smoothing: antialiased;
  -moz-osx-font-smoothing: grayscale;
}
/* makes the font 33% larger relative to the icon container */
.fa-lg {
  font-size: 1.33333333em;
  line-height: 0.75em;
  vertical-align: -15%;
}
.fa-2x {
  font-size: 2em;
}
.fa-3x {
  font-size: 3em;
}
.fa-4x {
  font-size: 4em;
}
.fa-5x {
  font-size: 5em;
}
.fa-fw {
  width: 1.28571429em;
  text-align: center;
}
.fa-ul {
  padding-left: 0;
  margin-left: 2.14285714em;
  list-style-type: none;
}
.fa-ul > li {
  position: relative;
}
.fa-li {
  position: absolute;
  left: -2.14285714em;
  width: 2.14285714em;
  top: 0.14285714em;
  text-align: center;
}
.fa-li.fa-lg {
  left: -1.85714286em;
}
.fa-border {
  padding: .2em .25em .15em;
  border: solid 0.08em #eee;
  border-radius: .1em;
}
.fa-pull-left {
  float: left;
}
.fa-pull-right {
  float: right;
}
.fa.fa-pull-left {
  margin-right: .3em;
}
.fa.fa-pull-right {
  margin-left: .3em;
}
/* Deprecated as of 4.4.0 */
.pull-right {
  float: right;
}
.pull-left {
  float: left;
}
.fa.pull-left {
  margin-right: .3em;
}
.fa.pull-right {
  margin-left: .3em;
}
.fa-spin {
  -webkit-animation: fa-spin 2s infinite linear;
  animation: fa-spin 2s infinite linear;
}
.fa-pulse {
  -webkit-animation: fa-spin 1s infinite steps(8);
  animation: fa-spin 1s infinite steps(8);
}
@-webkit-keyframes fa-spin {
  0% {
    -webkit-transform: rotate(0deg);
    transform: rotate(0deg);
  }
  100% {
    -webkit-transform: rotate(359deg);
    transform: rotate(359deg);
  }
}
@keyframes fa-spin {
  0% {
    -webkit-transform: rotate(0deg);
    transform: rotate(0deg);
  }
  100% {
    -webkit-transform: rotate(359deg);
    transform: rotate(359deg);
  }
}
.fa-rotate-90 {
  -ms-filter: "progid:DXImageTransform.Microsoft.BasicImage(rotation=1)";
  -webkit-transform: rotate(90deg);
  -ms-transform: rotate(90deg);
  transform: rotate(90deg);
}
.fa-rotate-180 {
  -ms-filter: "progid:DXImageTransform.Microsoft.BasicImage(rotation=2)";
  -webkit-transform: rotate(180deg);
  -ms-transform: rotate(180deg);
  transform: rotate(180deg);
}
.fa-rotate-270 {
  -ms-filter: "progid:DXImageTransform.Microsoft.BasicImage(rotation=3)";
  -webkit-transform: rotate(270deg);
  -ms-transform: rotate(270deg);
  transform: rotate(270deg);
}
.fa-flip-horizontal {
  -ms-filter: "progid:DXImageTransform.Microsoft.BasicImage(rotation=0, mirror=1)";
  -webkit-transform: scale(-1, 1);
  -ms-transform: scale(-1, 1);
  transform: scale(-1, 1);
}
.fa-flip-vertical {
  -ms-filter: "progid:DXImageTransform.Microsoft.BasicImage(rotation=2, mirror=1)";
  -webkit-transform: scale(1, -1);
  -ms-transform: scale(1, -1);
  transform: scale(1, -1);
}
:root .fa-rotate-90,
:root .fa-rotate-180,
:root .fa-rotate-270,
:root .fa-flip-horizontal,
:root .fa-flip-vertical {
  filter: none;
}
.fa-stack {
  position: relative;
  display: inline-block;
  width: 2em;
  height: 2em;
  line-height: 2em;
  vertical-align: middle;
}
.fa-stack-1x,
.fa-stack-2x {
  position: absolute;
  left: 0;
  width: 100%;
  text-align: center;
}
.fa-stack-1x {
  line-height: inherit;
}
.fa-stack-2x {
  font-size: 2em;
}
.fa-inverse {
  color: #fff;
}
/* Font Awesome uses the Unicode Private Use Area (PUA) to ensure screen
   readers do not read off random characters that represent icons */
.fa-glass:before {
  content: "\f000";
}
.fa-music:before {
  content: "\f001";
}
.fa-search:before {
  content: "\f002";
}
.fa-envelope-o:before {
  content: "\f003";
}
.fa-heart:before {
  content: "\f004";
}
.fa-star:before {
  content: "\f005";
}
.fa-star-o:before {
  content: "\f006";
}
.fa-user:before {
  content: "\f007";
}
.fa-film:before {
  content: "\f008";
}
.fa-th-large:before {
  content: "\f009";
}
.fa-th:before {
  content: "\f00a";
}
.fa-th-list:before {
  content: "\f00b";
}
.fa-check:before {
  content: "\f00c";
}
.fa-remove:before,
.fa-close:before,
.fa-times:before {
  content: "\f00d";
}
.fa-search-plus:before {
  content: "\f00e";
}
.fa-search-minus:before {
  content: "\f010";
}
.fa-power-off:before {
  content: "\f011";
}
.fa-signal:before {
  content: "\f012";
}
.fa-gear:before,
.fa-cog:before {
  content: "\f013";
}
.fa-trash-o:before {
  content: "\f014";
}
.fa-home:before {
  content: "\f015";
}
.fa-file-o:before {
  content: "\f016";
}
.fa-clock-o:before {
  content: "\f017";
}
.fa-road:before {
  content: "\f018";
}
.fa-download:before {
  content: "\f019";
}
.fa-arrow-circle-o-down:before {
  content: "\f01a";
}
.fa-arrow-circle-o-up:before {
  content: "\f01b";
}
.fa-inbox:before {
  content: "\f01c";
}
.fa-play-circle-o:before {
  content: "\f01d";
}
.fa-rotate-right:before,
.fa-repeat:before {
  content: "\f01e";
}
.fa-refresh:before {
  content: "\f021";
}
.fa-list-alt:before {
  content: "\f022";
}
.fa-lock:before {
  content: "\f023";
}
.fa-flag:before {
  content: "\f024";
}
.fa-headphones:before {
  content: "\f025";
}
.fa-volume-off:before {
  content: "\f026";
}
.fa-volume-down:before {
  content: "\f027";
}
.fa-volume-up:before {
  content: "\f028";
}
.fa-qrcode:before {
  content: "\f029";
}
.fa-barcode:before {
  content: "\f02a";
}
.fa-tag:before {
  content: "\f02b";
}
.fa-tags:before {
  content: "\f02c";
}
.fa-book:before {
  content: "\f02d";
}
.fa-bookmark:before {
  content: "\f02e";
}
.fa-print:before {
  content: "\f02f";
}
.fa-camera:before {
  content: "\f030";
}
.fa-font:before {
  content: "\f031";
}
.fa-bold:before {
  content: "\f032";
}
.fa-italic:before {
  content: "\f033";
}
.fa-text-height:before {
  content: "\f034";
}
.fa-text-width:before {
  content: "\f035";
}
.fa-align-left:before {
  content: "\f036";
}
.fa-align-center:before {
  content: "\f037";
}
.fa-align-right:before {
  content: "\f038";
}
.fa-align-justify:before {
  content: "\f039";
}
.fa-list:before {
  content: "\f03a";
}
.fa-dedent:before,
.fa-outdent:before {
  content: "\f03b";
}
.fa-indent:before {
  content: "\f03c";
}
.fa-video-camera:before {
  content: "\f03d";
}
.fa-photo:before,
.fa-image:before,
.fa-picture-o:before {
  content: "\f03e";
}
.fa-pencil:before {
  content: "\f040";
}
.fa-map-marker:before {
  content: "\f041";
}
.fa-adjust:before {
  content: "\f042";
}
.fa-tint:before {
  content: "\f043";
}
.fa-edit:before,
.fa-pencil-square-o:before {
  content: "\f044";
}
.fa-share-square-o:before {
  content: "\f045";
}
.fa-check-square-o:before {
  content: "\f046";
}
.fa-arrows:before {
  content: "\f047";
}
.fa-step-backward:before {
  content: "\f048";
}
.fa-fast-backward:before {
  content: "\f049";
}
.fa-backward:before {
  content: "\f04a";
}
.fa-play:before {
  content: "\f04b";
}
.fa-pause:before {
  content: "\f04c";
}
.fa-stop:before {
  content: "\f04d";
}
.fa-forward:before {
  content: "\f04e";
}
.fa-fast-forward:before {
  content: "\f050";
}
.fa-step-forward:before {
  content: "\f051";
}
.fa-eject:before {
  content: "\f052";
}
.fa-chevron-left:before {
  content: "\f053";
}
.fa-chevron-right:before {
  content: "\f054";
}
.fa-plus-circle:before {
  content: "\f055";
}
.fa-minus-circle:before {
  content: "\f056";
}
.fa-times-circle:before {
  content: "\f057";
}
.fa-check-circle:before {
  content: "\f058";
}
.fa-question-circle:before {
  content: "\f059";
}
.fa-info-circle:before {
  content: "\f05a";
}
.fa-crosshairs:before {
  content: "\f05b";
}
.fa-times-circle-o:before {
  content: "\f05c";
}
.fa-check-circle-o:before {
  content: "\f05d";
}
.fa-ban:before {
  content: "\f05e";
}
.fa-arrow-left:before {
  content: "\f060";
}
.fa-arrow-right:before {
  content: "\f061";
}
.fa-arrow-up:before {
  content: "\f062";
}
.fa-arrow-down:before {
  content: "\f063";
}
.fa-mail-forward:before,
.fa-share:before {
  content: "\f064";
}
.fa-expand:before {
  content: "\f065";
}
.fa-compress:before {
  content: "\f066";
}
.fa-plus:before {
  content: "\f067";
}
.fa-minus:before {
  content: "\f068";
}
.fa-asterisk:before {
  content: "\f069";
}
.fa-exclamation-circle:before {
  content: "\f06a";
}
.fa-gift:before {
  content: "\f06b";
}
.fa-leaf:before {
  content: "\f06c";
}
.fa-fire:before {
  content: "\f06d";
}
.fa-eye:before {
  content: "\f06e";
}
.fa-eye-slash:before {
  content: "\f070";
}
.fa-warning:before,
.fa-exclamation-triangle:before {
  content: "\f071";
}
.fa-plane:before {
  content: "\f072";
}
.fa-calendar:before {
  content: "\f073";
}
.fa-random:before {
  content: "\f074";
}
.fa-comment:before {
  content: "\f075";
}
.fa-magnet:before {
  content: "\f076";
}
.fa-chevron-up:before {
  content: "\f077";
}
.fa-chevron-down:before {
  content: "\f078";
}
.fa-retweet:before {
  content: "\f079";
}
.fa-shopping-cart:before {
  content: "\f07a";
}
.fa-folder:before {
  content: "\f07b";
}
.fa-folder-open:before {
  content: "\f07c";
}
.fa-arrows-v:before {
  content: "\f07d";
}
.fa-arrows-h:before {
  content: "\f07e";
}
.fa-bar-chart-o:before,
.fa-bar-chart:before {
  content: "\f080";
}
.fa-twitter-square:before {
  content: "\f081";
}
.fa-facebook-square:before {
  content: "\f082";
}
.fa-camera-retro:before {
  content: "\f083";
}
.fa-key:before {
  content: "\f084";
}
.fa-gears:before,
.fa-cogs:before {
  content: "\f085";
}
.fa-comments:before {
  content: "\f086";
}
.fa-thumbs-o-up:before {
  content: "\f087";
}
.fa-thumbs-o-down:before {
  content: "\f088";
}
.fa-star-half:before {
  content: "\f089";
}
.fa-heart-o:before {
  content: "\f08a";
}
.fa-sign-out:before {
  content: "\f08b";
}
.fa-linkedin-square:before {
  content: "\f08c";
}
.fa-thumb-tack:before {
  content: "\f08d";
}
.fa-external-link:before {
  content: "\f08e";
}
.fa-sign-in:before {
  content: "\f090";
}
.fa-trophy:before {
  content: "\f091";
}
.fa-github-square:before {
  content: "\f092";
}
.fa-upload:before {
  content: "\f093";
}
.fa-lemon-o:before {
  content: "\f094";
}
.fa-phone:before {
  content: "\f095";
}
.fa-square-o:before {
  content: "\f096";
}
.fa-bookmark-o:before {
  content: "\f097";
}
.fa-phone-square:before {
  content: "\f098";
}
.fa-twitter:before {
  content: "\f099";
}
.fa-facebook-f:before,
.fa-facebook:before {
  content: "\f09a";
}
.fa-github:before {
  content: "\f09b";
}
.fa-unlock:before {
  content: "\f09c";
}
.fa-credit-card:before {
  content: "\f09d";
}
.fa-feed:before,
.fa-rss:before {
  content: "\f09e";
}
.fa-hdd-o:before {
  content: "\f0a0";
}
.fa-bullhorn:before {
  content: "\f0a1";
}
.fa-bell:before {
  content: "\f0f3";
}
.fa-certificate:before {
  content: "\f0a3";
}
.fa-hand-o-right:before {
  content: "\f0a4";
}
.fa-hand-o-left:before {
  content: "\f0a5";
}
.fa-hand-o-up:before {
  content: "\f0a6";
}
.fa-hand-o-down:before {
  content: "\f0a7";
}
.fa-arrow-circle-left:before {
  content: "\f0a8";
}
.fa-arrow-circle-right:before {
  content: "\f0a9";
}
.fa-arrow-circle-up:before {
  content: "\f0aa";
}
.fa-arrow-circle-down:before {
  content: "\f0ab";
}
.fa-globe:before {
  content: "\f0ac";
}
.fa-wrench:before {
  content: "\f0ad";
}
.fa-tasks:before {
  content: "\f0ae";
}
.fa-filter:before {
  content: "\f0b0";
}
.fa-briefcase:before {
  content: "\f0b1";
}
.fa-arrows-alt:before {
  content: "\f0b2";
}
.fa-group:before,
.fa-users:before {
  content: "\f0c0";
}
.fa-chain:before,
.fa-link:before {
  content: "\f0c1";
}
.fa-cloud:before {
  content: "\f0c2";
}
.fa-flask:before {
  content: "\f0c3";
}
.fa-cut:before,
.fa-scissors:before {
  content: "\f0c4";
}
.fa-copy:before,
.fa-files-o:before {
  content: "\f0c5";
}
.fa-paperclip:before {
  content: "\f0c6";
}
.fa-save:before,
.fa-floppy-o:before {
  content: "\f0c7";
}
.fa-square:before {
  content: "\f0c8";
}
.fa-navicon:before,
.fa-reorder:before,
.fa-bars:before {
  content: "\f0c9";
}
.fa-list-ul:before {
  content: "\f0ca";
}
.fa-list-ol:before {
  content: "\f0cb";
}
.fa-strikethrough:before {
  content: "\f0cc";
}
.fa-underline:before {
  content: "\f0cd";
}
.fa-table:before {
  content: "\f0ce";
}
.fa-magic:before {
  content: "\f0d0";
}
.fa-truck:before {
  content: "\f0d1";
}
.fa-pinterest:before {
  content: "\f0d2";
}
.fa-pinterest-square:before {
  content: "\f0d3";
}
.fa-google-plus-square:before {
  content: "\f0d4";
}
.fa-google-plus:before {
  content: "\f0d5";
}
.fa-money:before {
  content: "\f0d6";
}
.fa-caret-down:before {
  content: "\f0d7";
}
.fa-caret-up:before {
  content: "\f0d8";
}
.fa-caret-left:before {
  content: "\f0d9";
}
.fa-caret-right:before {
  content: "\f0da";
}
.fa-columns:before {
  content: "\f0db";
}
.fa-unsorted:before,
.fa-sort:before {
  content: "\f0dc";
}
.fa-sort-down:before,
.fa-sort-desc:before {
  content: "\f0dd";
}
.fa-sort-up:before,
.fa-sort-asc:before {
  content: "\f0de";
}
.fa-envelope:before {
  content: "\f0e0";
}
.fa-linkedin:before {
  content: "\f0e1";
}
.fa-rotate-left:before,
.fa-undo:before {
  content: "\f0e2";
}
.fa-legal:before,
.fa-gavel:before {
  content: "\f0e3";
}
.fa-dashboard:before,
.fa-tachometer:before {
  content: "\f0e4";
}
.fa-comment-o:before {
  content: "\f0e5";
}
.fa-comments-o:before {
  content: "\f0e6";
}
.fa-flash:before,
.fa-bolt:before {
  content: "\f0e7";
}
.fa-sitemap:before {
  content: "\f0e8";
}
.fa-umbrella:before {
  content: "\f0e9";
}
.fa-paste:before,
.fa-clipboard:before {
  content: "\f0ea";
}
.fa-lightbulb-o:before {
  content: "\f0eb";
}
.fa-exchange:before {
  content: "\f0ec";
}
.fa-cloud-download:before {
  content: "\f0ed";
}
.fa-cloud-upload:before {
  content: "\f0ee";
}
.fa-user-md:before {
  content: "\f0f0";
}
.fa-stethoscope:before {
  content: "\f0f1";
}
.fa-suitcase:before {
  content: "\f0f2";
}
.fa-bell-o:before {
  content: "\f0a2";
}
.fa-coffee:before {
  content: "\f0f4";
}
.fa-cutlery:before {
  content: "\f0f5";
}
.fa-file-text-o:before {
  content: "\f0f6";
}
.fa-building-o:before {
  content: "\f0f7";
}
.fa-hospital-o:before {
  content: "\f0f8";
}
.fa-ambulance:before {
  content: "\f0f9";
}
.fa-medkit:before {
  content: "\f0fa";
}
.fa-fighter-jet:before {
  content: "\f0fb";
}
.fa-beer:before {
  content: "\f0fc";
}
.fa-h-square:before {
  content: "\f0fd";
}
.fa-plus-square:before {
  content: "\f0fe";
}
.fa-angle-double-left:before {
  content: "\f100";
}
.fa-angle-double-right:before {
  content: "\f101";
}
.fa-angle-double-up:before {
  content: "\f102";
}
.fa-angle-double-down:before {
  content: "\f103";
}
.fa-angle-left:before {
  content: "\f104";
}
.fa-angle-right:before {
  content: "\f105";
}
.fa-angle-up:before {
  content: "\f106";
}
.fa-angle-down:before {
  content: "\f107";
}
.fa-desktop:before {
  content: "\f108";
}
.fa-laptop:before {
  content: "\f109";
}
.fa-tablet:before {
  content: "\f10a";
}
.fa-mobile-phone:before,
.fa-mobile:before {
  content: "\f10b";
}
.fa-circle-o:before {
  content: "\f10c";
}
.fa-quote-left:before {
  content: "\f10d";
}
.fa-quote-right:before {
  content: "\f10e";
}
.fa-spinner:before {
  content: "\f110";
}
.fa-circle:before {
  content: "\f111";
}
.fa-mail-reply:before,
.fa-reply:before {
  content: "\f112";
}
.fa-github-alt:before {
  content: "\f113";
}
.fa-folder-o:before {
  content: "\f114";
}
.fa-folder-open-o:before {
  content: "\f115";
}
.fa-smile-o:before {
  content: "\f118";
}
.fa-frown-o:before {
  content: "\f119";
}
.fa-meh-o:before {
  content: "\f11a";
}
.fa-gamepad:before {
  content: "\f11b";
}
.fa-keyboard-o:before {
  content: "\f11c";
}
.fa-flag-o:before {
  content: "\f11d";
}
.fa-flag-checkered:before {
  content: "\f11e";
}
.fa-terminal:before {
  content: "\f120";
}
.fa-code:before {
  content: "\f121";
}
.fa-mail-reply-all:before,
.fa-reply-all:before {
  content: "\f122";
}
.fa-star-half-empty:before,
.fa-star-half-full:before,
.fa-star-half-o:before {
  content: "\f123";
}
.fa-location-arrow:before {
  content: "\f124";
}
.fa-crop:before {
  content: "\f125";
}
.fa-code-fork:before {
  content: "\f126";
}
.fa-unlink:before,
.fa-chain-broken:before {
  content: "\f127";
}
.fa-question:before {
  content: "\f128";
}
.fa-info:before {
  content: "\f129";
}
.fa-exclamation:before {
  content: "\f12a";
}
.fa-superscript:before {
  content: "\f12b";
}
.fa-subscript:before {
  content: "\f12c";
}
.fa-eraser:before {
  content: "\f12d";
}
.fa-puzzle-piece:before {
  content: "\f12e";
}
.fa-microphone:before {
  content: "\f130";
}
.fa-microphone-slash:before {
  content: "\f131";
}
.fa-shield:before {
  content: "\f132";
}
.fa-calendar-o:before {
  content: "\f133";
}
.fa-fire-extinguisher:before {
  content: "\f134";
}
.fa-rocket:before {
  content: "\f135";
}
.fa-maxcdn:before {
  content: "\f136";
}
.fa-chevron-circle-left:before {
  content: "\f137";
}
.fa-chevron-circle-right:before {
  content: "\f138";
}
.fa-chevron-circle-up:before {
  content: "\f139";
}
.fa-chevron-circle-down:before {
  content: "\f13a";
}
.fa-html5:before {
  content: "\f13b";
}
.fa-css3:before {
  content: "\f13c";
}
.fa-anchor:before {
  content: "\f13d";
}
.fa-unlock-alt:before {
  content: "\f13e";
}
.fa-bullseye:before {
  content: "\f140";
}
.fa-ellipsis-h:before {
  content: "\f141";
}
.fa-ellipsis-v:before {
  content: "\f142";
}
.fa-rss-square:before {
  content: "\f143";
}
.fa-play-circle:before {
  content: "\f144";
}
.fa-ticket:before {
  content: "\f145";
}
.fa-minus-square:before {
  content: "\f146";
}
.fa-minus-square-o:before {
  content: "\f147";
}
.fa-level-up:before {
  content: "\f148";
}
.fa-level-down:before {
  content: "\f149";
}
.fa-check-square:before {
  content: "\f14a";
}
.fa-pencil-square:before {
  content: "\f14b";
}
.fa-external-link-square:before {
  content: "\f14c";
}
.fa-share-square:before {
  content: "\f14d";
}
.fa-compass:before {
  content: "\f14e";
}
.fa-toggle-down:before,
.fa-caret-square-o-down:before {
  content: "\f150";
}
.fa-toggle-up:before,
.fa-caret-square-o-up:before {
  content: "\f151";
}
.fa-toggle-right:before,
.fa-caret-square-o-right:before {
  content: "\f152";
}
.fa-euro:before,
.fa-eur:before {
  content: "\f153";
}
.fa-gbp:before {
  content: "\f154";
}
.fa-dollar:before,
.fa-usd:before {
  content: "\f155";
}
.fa-rupee:before,
.fa-inr:before {
  content: "\f156";
}
.fa-cny:before,
.fa-rmb:before,
.fa-yen:before,
.fa-jpy:before {
  content: "\f157";
}
.fa-ruble:before,
.fa-rouble:before,
.fa-rub:before {
  content: "\f158";
}
.fa-won:before,
.fa-krw:before {
  content: "\f159";
}
.fa-bitcoin:before,
.fa-btc:before {
  content: "\f15a";
}
.fa-file:before {
  content: "\f15b";
}
.fa-file-text:before {
  content: "\f15c";
}
.fa-sort-alpha-asc:before {
  content: "\f15d";
}
.fa-sort-alpha-desc:before {
  content: "\f15e";
}
.fa-sort-amount-asc:before {
  content: "\f160";
}
.fa-sort-amount-desc:before {
  content: "\f161";
}
.fa-sort-numeric-asc:before {
  content: "\f162";
}
.fa-sort-numeric-desc:before {
  content: "\f163";
}
.fa-thumbs-up:before {
  content: "\f164";
}
.fa-thumbs-down:before {
  content: "\f165";
}
.fa-youtube-square:before {
  content: "\f166";
}
.fa-youtube:before {
  content: "\f167";
}
.fa-xing:before {
  content: "\f168";
}
.fa-xing-square:before {
  content: "\f169";
}
.fa-youtube-play:before {
  content: "\f16a";
}
.fa-dropbox:before {
  content: "\f16b";
}
.fa-stack-overflow:before {
  content: "\f16c";
}
.fa-instagram:before {
  content: "\f16d";
}
.fa-flickr:before {
  content: "\f16e";
}
.fa-adn:before {
  content: "\f170";
}
.fa-bitbucket:before {
  content: "\f171";
}
.fa-bitbucket-square:before {
  content: "\f172";
}
.fa-tumblr:before {
  content: "\f173";
}
.fa-tumblr-square:before {
  content: "\f174";
}
.fa-long-arrow-down:before {
  content: "\f175";
}
.fa-long-arrow-up:before {
  content: "\f176";
}
.fa-long-arrow-left:before {
  content: "\f177";
}
.fa-long-arrow-right:before {
  content: "\f178";
}
.fa-apple:before {
  content: "\f179";
}
.fa-windows:before {
  content: "\f17a";
}
.fa-android:before {
  content: "\f17b";
}
.fa-linux:before {
  content: "\f17c";
}
.fa-dribbble:before {
  content: "\f17d";
}
.fa-skype:before {
  content: "\f17e";
}
.fa-foursquare:before {
  content: "\f180";
}
.fa-trello:before {
  content: "\f181";
}
.fa-female:before {
  content: "\f182";
}
.fa-male:before {
  content: "\f183";
}
.fa-gittip:before,
.fa-gratipay:before {
  content: "\f184";
}
.fa-sun-o:before {
  content: "\f185";
}
.fa-moon-o:before {
  content: "\f186";
}
.fa-archive:before {
  content: "\f187";
}
.fa-bug:before {
  content: "\f188";
}
.fa-vk:before {
  content: "\f189";
}
.fa-weibo:before {
  content: "\f18a";
}
.fa-renren:before {
  content: "\f18b";
}
.fa-pagelines:before {
  content: "\f18c";
}
.fa-stack-exchange:before {
  content: "\f18d";
}
.fa-arrow-circle-o-right:before {
  content: "\f18e";
}
.fa-arrow-circle-o-left:before {
  content: "\f190";
}
.fa-toggle-left:before,
.fa-caret-square-o-left:before {
  content: "\f191";
}
.fa-dot-circle-o:before {
  content: "\f192";
}
.fa-wheelchair:before {
  content: "\f193";
}
.fa-vimeo-square:before {
  content: "\f194";
}
.fa-turkish-lira:before,
.fa-try:before {
  content: "\f195";
}
.fa-plus-square-o:before {
  content: "\f196";
}
.fa-space-shuttle:before {
  content: "\f197";
}
.fa-slack:before {
  content: "\f198";
}
.fa-envelope-square:before {
  content: "\f199";
}
.fa-wordpress:before {
  content: "\f19a";
}
.fa-openid:before {
  content: "\f19b";
}
.fa-institution:before,
.fa-bank:before,
.fa-university:before {
  content: "\f19c";
}
.fa-mortar-board:before,
.fa-graduation-cap:before {
  content: "\f19d";
}
.fa-yahoo:before {
  content: "\f19e";
}
.fa-google:before {
  content: "\f1a0";
}
.fa-reddit:before {
  content: "\f1a1";
}
.fa-reddit-square:before {
  content: "\f1a2";
}
.fa-stumbleupon-circle:before {
  content: "\f1a3";
}
.fa-stumbleupon:before {
  content: "\f1a4";
}
.fa-delicious:before {
  content: "\f1a5";
}
.fa-digg:before {
  content: "\f1a6";
}
.fa-pied-piper-pp:before {
  content: "\f1a7";
}
.fa-pied-piper-alt:before {
  content: "\f1a8";
}
.fa-drupal:before {
  content: "\f1a9";
}
.fa-joomla:before {
  content: "\f1aa";
}
.fa-language:before {
  content: "\f1ab";
}
.fa-fax:before {
  content: "\f1ac";
}
.fa-building:before {
  content: "\f1ad";
}
.fa-child:before {
  content: "\f1ae";
}
.fa-paw:before {
  content: "\f1b0";
}
.fa-spoon:before {
  content: "\f1b1";
}
.fa-cube:before {
  content: "\f1b2";
}
.fa-cubes:before {
  content: "\f1b3";
}
.fa-behance:before {
  content: "\f1b4";
}
.fa-behance-square:before {
  content: "\f1b5";
}
.fa-steam:before {
  content: "\f1b6";
}
.fa-steam-square:before {
  content: "\f1b7";
}
.fa-recycle:before {
  content: "\f1b8";
}
.fa-automobile:before,
.fa-car:before {
  content: "\f1b9";
}
.fa-cab:before,
.fa-taxi:before {
  content: "\f1ba";
}
.fa-tree:before {
  content: "\f1bb";
}
.fa-spotify:before {
  content: "\f1bc";
}
.fa-deviantart:before {
  content: "\f1bd";
}
.fa-soundcloud:before {
  content: "\f1be";
}
.fa-database:before {
  content: "\f1c0";
}
.fa-file-pdf-o:before {
  content: "\f1c1";
}
.fa-file-word-o:before {
  content: "\f1c2";
}
.fa-file-excel-o:before {
  content: "\f1c3";
}
.fa-file-powerpoint-o:before {
  content: "\f1c4";
}
.fa-file-photo-o:before,
.fa-file-picture-o:before,
.fa-file-image-o:before {
  content: "\f1c5";
}
.fa-file-zip-o:before,
.fa-file-archive-o:before {
  content: "\f1c6";
}
.fa-file-sound-o:before,
.fa-file-audio-o:before {
  content: "\f1c7";
}
.fa-file-movie-o:before,
.fa-file-video-o:before {
  content: "\f1c8";
}
.fa-file-code-o:before {
  content: "\f1c9";
}
.fa-vine:before {
  content: "\f1ca";
}
.fa-codepen:before {
  content: "\f1cb";
}
.fa-jsfiddle:before {
  content: "\f1cc";
}
.fa-life-bouy:before,
.fa-life-buoy:before,
.fa-life-saver:before,
.fa-support:before,
.fa-life-ring:before {
  content: "\f1cd";
}
.fa-circle-o-notch:before {
  content: "\f1ce";
}
.fa-ra:before,
.fa-resistance:before,
.fa-rebel:before {
  content: "\f1d0";
}
.fa-ge:before,
.fa-empire:before {
  content: "\f1d1";
}
.fa-git-square:before {
  content: "\f1d2";
}
.fa-git:before {
  content: "\f1d3";
}
.fa-y-combinator-square:before,
.fa-yc-square:before,
.fa-hacker-news:before {
  content: "\f1d4";
}
.fa-tencent-weibo:before {
  content: "\f1d5";
}
.fa-qq:before {
  content: "\f1d6";
}
.fa-wechat:before,
.fa-weixin:before {
  content: "\f1d7";
}
.fa-send:before,
.fa-paper-plane:before {
  content: "\f1d8";
}
.fa-send-o:before,
.fa-paper-plane-o:before {
  content: "\f1d9";
}
.fa-history:before {
  content: "\f1da";
}
.fa-circle-thin:before {
  content: "\f1db";
}
.fa-header:before {
  content: "\f1dc";
}
.fa-paragraph:before {
  content: "\f1dd";
}
.fa-sliders:before {
  content: "\f1de";
}
.fa-share-alt:before {
  content: "\f1e0";
}
.fa-share-alt-square:before {
  content: "\f1e1";
}
.fa-bomb:before {
  content: "\f1e2";
}
.fa-soccer-ball-o:before,
.fa-futbol-o:before {
  content: "\f1e3";
}
.fa-tty:before {
  content: "\f1e4";
}
.fa-binoculars:before {
  content: "\f1e5";
}
.fa-plug:before {
  content: "\f1e6";
}
.fa-slideshare:before {
  content: "\f1e7";
}
.fa-twitch:before {
  content: "\f1e8";
}
.fa-yelp:before {
  content: "\f1e9";
}
.fa-newspaper-o:before {
  content: "\f1ea";
}
.fa-wifi:before {
  content: "\f1eb";
}
.fa-calculator:before {
  content: "\f1ec";
}
.fa-paypal:before {
  content: "\f1ed";
}
.fa-google-wallet:before {
  content: "\f1ee";
}
.fa-cc-visa:before {
  content: "\f1f0";
}
.fa-cc-mastercard:before {
  content: "\f1f1";
}
.fa-cc-discover:before {
  content: "\f1f2";
}
.fa-cc-amex:before {
  content: "\f1f3";
}
.fa-cc-paypal:before {
  content: "\f1f4";
}
.fa-cc-stripe:before {
  content: "\f1f5";
}
.fa-bell-slash:before {
  content: "\f1f6";
}
.fa-bell-slash-o:before {
  content: "\f1f7";
}
.fa-trash:before {
  content: "\f1f8";
}
.fa-copyright:before {
  content: "\f1f9";
}
.fa-at:before {
  content: "\f1fa";
}
.fa-eyedropper:before {
  content: "\f1fb";
}
.fa-paint-brush:before {
  content: "\f1fc";
}
.fa-birthday-cake:before {
  content: "\f1fd";
}
.fa-area-chart:before {
  content: "\f1fe";
}
.fa-pie-chart:before {
  content: "\f200";
}
.fa-line-chart:before {
  content: "\f201";
}
.fa-lastfm:before {
  content: "\f202";
}
.fa-lastfm-square:before {
  content: "\f203";
}
.fa-toggle-off:before {
  content: "\f204";
}
.fa-toggle-on:before {
  content: "\f205";
}
.fa-bicycle:before {
  content: "\f206";
}
.fa-bus:before {
  content: "\f207";
}
.fa-ioxhost:before {
  content: "\f208";
}
.fa-angellist:before {
  content: "\f209";
}
.fa-cc:before {
  content: "\f20a";
}
.fa-shekel:before,
.fa-sheqel:before,
.fa-ils:before {
  content: "\f20b";
}
.fa-meanpath:before {
  content: "\f20c";
}
.fa-buysellads:before {
  content: "\f20d";
}
.fa-connectdevelop:before {
  content: "\f20e";
}
.fa-dashcube:before {
  content: "\f210";
}
.fa-forumbee:before {
  content: "\f211";
}
.fa-leanpub:before {
  content: "\f212";
}
.fa-sellsy:before {
  content: "\f213";
}
.fa-shirtsinbulk:before {
  content: "\f214";
}
.fa-simplybuilt:before {
  content: "\f215";
}
.fa-skyatlas:before {
  content: "\f216";
}
.fa-cart-plus:before {
  content: "\f217";
}
.fa-cart-arrow-down:before {
  content: "\f218";
}
.fa-diamond:before {
  content: "\f219";
}
.fa-ship:before {
  content: "\f21a";
}
.fa-user-secret:before {
  content: "\f21b";
}
.fa-motorcycle:before {
  content: "\f21c";
}
.fa-street-view:before {
  content: "\f21d";
}
.fa-heartbeat:before {
  content: "\f21e";
}
.fa-venus:before {
  content: "\f221";
}
.fa-mars:before {
  content: "\f222";
}
.fa-mercury:before {
  content: "\f223";
}
.fa-intersex:before,
.fa-transgender:before {
  content: "\f224";
}
.fa-transgender-alt:before {
  content: "\f225";
}
.fa-venus-double:before {
  content: "\f226";
}
.fa-mars-double:before {
  content: "\f227";
}
.fa-venus-mars:before {
  content: "\f228";
}
.fa-mars-stroke:before {
  content: "\f229";
}
.fa-mars-stroke-v:before {
  content: "\f22a";
}
.fa-mars-stroke-h:before {
  content: "\f22b";
}
.fa-neuter:before {
  content: "\f22c";
}
.fa-genderless:before {
  content: "\f22d";
}
.fa-facebook-official:before {
  content: "\f230";
}
.fa-pinterest-p:before {
  content: "\f231";
}
.fa-whatsapp:before {
  content: "\f232";
}
.fa-server:before {
  content: "\f233";
}
.fa-user-plus:before {
  content: "\f234";
}
.fa-user-times:before {
  content: "\f235";
}
.fa-hotel:before,
.fa-bed:before {
  content: "\f236";
}
.fa-viacoin:before {
  content: "\f237";
}
.fa-train:before {
  content: "\f238";
}
.fa-subway:before {
  content: "\f239";
}
.fa-medium:before {
  content: "\f23a";
}
.fa-yc:before,
.fa-y-combinator:before {
  content: "\f23b";
}
.fa-optin-monster:before {
  content: "\f23c";
}
.fa-opencart:before {
  content: "\f23d";
}
.fa-expeditedssl:before {
  content: "\f23e";
}
.fa-battery-4:before,
.fa-battery:before,
.fa-battery-full:before {
  content: "\f240";
}
.fa-battery-3:before,
.fa-battery-three-quarters:before {
  content: "\f241";
}
.fa-battery-2:before,
.fa-battery-half:before {
  content: "\f242";
}
.fa-battery-1:before,
.fa-battery-quarter:before {
  content: "\f243";
}
.fa-battery-0:before,
.fa-battery-empty:before {
  content: "\f244";
}
.fa-mouse-pointer:before {
  content: "\f245";
}
.fa-i-cursor:before {
  content: "\f246";
}
.fa-object-group:before {
  content: "\f247";
}
.fa-object-ungroup:before {
  content: "\f248";
}
.fa-sticky-note:before {
  content: "\f249";
}
.fa-sticky-note-o:before {
  content: "\f24a";
}
.fa-cc-jcb:before {
  content: "\f24b";
}
.fa-cc-diners-club:before {
  content: "\f24c";
}
.fa-clone:before {
  content: "\f24d";
}
.fa-balance-scale:before {
  content: "\f24e";
}
.fa-hourglass-o:before {
  content: "\f250";
}
.fa-hourglass-1:before,
.fa-hourglass-start:before {
  content: "\f251";
}
.fa-hourglass-2:before,
.fa-hourglass-half:before {
  content: "\f252";
}
.fa-hourglass-3:before,
.fa-hourglass-end:before {
  content: "\f253";
}
.fa-hourglass:before {
  content: "\f254";
}
.fa-hand-grab-o:before,
.fa-hand-rock-o:before {
  content: "\f255";
}
.fa-hand-stop-o:before,
.fa-hand-paper-o:before {
  content: "\f256";
}
.fa-hand-scissors-o:before {
  content: "\f257";
}
.fa-hand-lizard-o:before {
  content: "\f258";
}
.fa-hand-spock-o:before {
  content: "\f259";
}
.fa-hand-pointer-o:before {
  content: "\f25a";
}
.fa-hand-peace-o:before {
  content: "\f25b";
}
.fa-trademark:before {
  content: "\f25c";
}
.fa-registered:before {
  content: "\f25d";
}
.fa-creative-commons:before {
  content: "\f25e";
}
.fa-gg:before {
  content: "\f260";
}
.fa-gg-circle:before {
  content: "\f261";
}
.fa-tripadvisor:before {
  content: "\f262";
}
.fa-odnoklassniki:before {
  content: "\f263";
}
.fa-odnoklassniki-square:before {
  content: "\f264";
}
.fa-get-pocket:before {
  content: "\f265";
}
.fa-wikipedia-w:before {
  content: "\f266";
}
.fa-safari:before {
  content: "\f267";
}
.fa-chrome:before {
  content: "\f268";
}
.fa-firefox:before {
  content: "\f269";
}
.fa-opera:before {
  content: "\f26a";
}
.fa-internet-explorer:before {
  content: "\f26b";
}
.fa-tv:before,
.fa-television:before {
  content: "\f26c";
}
.fa-contao:before {
  content: "\f26d";
}
.fa-500px:before {
  content: "\f26e";
}
.fa-amazon:before {
  content: "\f270";
}
.fa-calendar-plus-o:before {
  content: "\f271";
}
.fa-calendar-minus-o:before {
  content: "\f272";
}
.fa-calendar-times-o:before {
  content: "\f273";
}
.fa-calendar-check-o:before {
  content: "\f274";
}
.fa-industry:before {
  content: "\f275";
}
.fa-map-pin:before {
  content: "\f276";
}
.fa-map-signs:before {
  content: "\f277";
}
.fa-map-o:before {
  content: "\f278";
}
.fa-map:before {
  content: "\f279";
}
.fa-commenting:before {
  content: "\f27a";
}
.fa-commenting-o:before {
  content: "\f27b";
}
.fa-houzz:before {
  content: "\f27c";
}
.fa-vimeo:before {
  content: "\f27d";
}
.fa-black-tie:before {
  content: "\f27e";
}
.fa-fonticons:before {
  content: "\f280";
}
.fa-reddit-alien:before {
  content: "\f281";
}
.fa-edge:before {
  content: "\f282";
}
.fa-credit-card-alt:before {
  content: "\f283";
}
.fa-codiepie:before {
  content: "\f284";
}
.fa-modx:before {
  content: "\f285";
}
.fa-fort-awesome:before {
  content: "\f286";
}
.fa-usb:before {
  content: "\f287";
}
.fa-product-hunt:before {
  content: "\f288";
}
.fa-mixcloud:before {
  content: "\f289";
}
.fa-scribd:before {
  content: "\f28a";
}
.fa-pause-circle:before {
  content: "\f28b";
}
.fa-pause-circle-o:before {
  content: "\f28c";
}
.fa-stop-circle:before {
  content: "\f28d";
}
.fa-stop-circle-o:before {
  content: "\f28e";
}
.fa-shopping-bag:before {
  content: "\f290";
}
.fa-shopping-basket:before {
  content: "\f291";
}
.fa-hashtag:before {
  content: "\f292";
}
.fa-bluetooth:before {
  content: "\f293";
}
.fa-bluetooth-b:before {
  content: "\f294";
}
.fa-percent:before {
  content: "\f295";
}
.fa-gitlab:before {
  content: "\f296";
}
.fa-wpbeginner:before {
  content: "\f297";
}
.fa-wpforms:before {
  content: "\f298";
}
.fa-envira:before {
  content: "\f299";
}
.fa-universal-access:before {
  content: "\f29a";
}
.fa-wheelchair-alt:before {
  content: "\f29b";
}
.fa-question-circle-o:before {
  content: "\f29c";
}
.fa-blind:before {
  content: "\f29d";
}
.fa-audio-description:before {
  content: "\f29e";
}
.fa-volume-control-phone:before {
  content: "\f2a0";
}
.fa-braille:before {
  content: "\f2a1";
}
.fa-assistive-listening-systems:before {
  content: "\f2a2";
}
.fa-asl-interpreting:before,
.fa-american-sign-language-interpreting:before {
  content: "\f2a3";
}
.fa-deafness:before,
.fa-hard-of-hearing:before,
.fa-deaf:before {
  content: "\f2a4";
}
.fa-glide:before {
  content: "\f2a5";
}
.fa-glide-g:before {
  content: "\f2a6";
}
.fa-signing:before,
.fa-sign-language:before {
  content: "\f2a7";
}
.fa-low-vision:before {
  content: "\f2a8";
}
.fa-viadeo:before {
  content: "\f2a9";
}
.fa-viadeo-square:before {
  content: "\f2aa";
}
.fa-snapchat:before {
  content: "\f2ab";
}
.fa-snapchat-ghost:before {
  content: "\f2ac";
}
.fa-snapchat-square:before {
  content: "\f2ad";
}
.fa-pied-piper:before {
  content: "\f2ae";
}
.fa-first-order:before {
  content: "\f2b0";
}
.fa-yoast:before {
  content: "\f2b1";
}
.fa-themeisle:before {
  content: "\f2b2";
}
.fa-google-plus-circle:before,
.fa-google-plus-official:before {
  content: "\f2b3";
}
.fa-fa:before,
.fa-font-awesome:before {
  content: "\f2b4";
}
.fa-handshake-o:before {
  content: "\f2b5";
}
.fa-envelope-open:before {
  content: "\f2b6";
}
.fa-envelope-open-o:before {
  content: "\f2b7";
}
.fa-linode:before {
  content: "\f2b8";
}
.fa-address-book:before {
  content: "\f2b9";
}
.fa-address-book-o:before {
  content: "\f2ba";
}
.fa-vcard:before,
.fa-address-card:before {
  content: "\f2bb";
}
.fa-vcard-o:before,
.fa-address-card-o:before {
  content: "\f2bc";
}
.fa-user-circle:before {
  content: "\f2bd";
}
.fa-user-circle-o:before {
  content: "\f2be";
}
.fa-user-o:before {
  content: "\f2c0";
}
.fa-id-badge:before {
  content: "\f2c1";
}
.fa-drivers-license:before,
.fa-id-card:before {
  content: "\f2c2";
}
.fa-drivers-license-o:before,
.fa-id-card-o:before {
  content: "\f2c3";
}
.fa-quora:before {
  content: "\f2c4";
}
.fa-free-code-camp:before {
  content: "\f2c5";
}
.fa-telegram:before {
  content: "\f2c6";
}
.fa-thermometer-4:before,
.fa-thermometer:before,
.fa-thermometer-full:before {
  content: "\f2c7";
}
.fa-thermometer-3:before,
.fa-thermometer-three-quarters:before {
  content: "\f2c8";
}
.fa-thermometer-2:before,
.fa-thermometer-half:before {
  content: "\f2c9";
}
.fa-thermometer-1:before,
.fa-thermometer-quarter:before {
  content: "\f2ca";
}
.fa-thermometer-0:before,
.fa-thermometer-empty:before {
  content: "\f2cb";
}
.fa-shower:before {
  content: "\f2cc";
}
.fa-bathtub:before,
.fa-s15:before,
.fa-bath:before {
  content: "\f2cd";
}
.fa-podcast:before {
  content: "\f2ce";
}
.fa-window-maximize:before {
  content: "\f2d0";
}
.fa-window-minimize:before {
  content: "\f2d1";
}
.fa-window-restore:before {
  content: "\f2d2";
}
.fa-times-rectangle:before,
.fa-window-close:before {
  content: "\f2d3";
}
.fa-times-rectangle-o:before,
.fa-window-close-o:before {
  content: "\f2d4";
}
.fa-bandcamp:before {
  content: "\f2d5";
}
.fa-grav:before {
  content: "\f2d6";
}
.fa-etsy:before {
  content: "\f2d7";
}
.fa-imdb:before {
  content: "\f2d8";
}
.fa-ravelry:before {
  content: "\f2d9";
}
.fa-eercast:before {
  content: "\f2da";
}
.fa-microchip:before {
  content: "\f2db";
}
.fa-snowflake-o:before {
  content: "\f2dc";
}
.fa-superpowers:before {
  content: "\f2dd";
}
.fa-wpexplorer:before {
  content: "\f2de";
}
.fa-meetup:before {
  content: "\f2e0";
}
.sr-only {
  position: absolute;
  width: 1px;
  height: 1px;
  padding: 0;
  margin: -1px;
  overflow: hidden;
  clip: rect(0, 0, 0, 0);
  border: 0;
}
.sr-only-focusable:active,
.sr-only-focusable:focus {
  position: static;
  width: auto;
  height: auto;
  margin: 0;
  overflow: visible;
  clip: auto;
}
.sr-only-focusable:active,
.sr-only-focusable:focus {
  position: static;
  width: auto;
  height: auto;
  margin: 0;
  overflow: visible;
  clip: auto;
}
/*!
*
* IPython base
*
*/
.modal.fade .modal-dialog {
  -webkit-transform: translate(0, 0);
  -ms-transform: translate(0, 0);
  -o-transform: translate(0, 0);
  transform: translate(0, 0);
}
code {
  color: #000;
}
pre {
  font-size: inherit;
  line-height: inherit;
}
label {
  font-weight: normal;
}
/* Make the page background atleast 100% the height of the view port */
/* Make the page itself atleast 70% the height of the view port */
.border-box-sizing {
  box-sizing: border-box;
  -moz-box-sizing: border-box;
  -webkit-box-sizing: border-box;
}
.corner-all {
  border-radius: 2px;
}
.no-padding {
  padding: 0px;
}
/* Flexible box model classes */
/* Taken from Alex Russell http://infrequently.org/2009/08/css-3-progress/ */
/* This file is a compatability layer.  It allows the usage of flexible box 
model layouts accross multiple browsers, including older browsers.  The newest,
universal implementation of the flexible box model is used when available (see
`Modern browsers` comments below).  Browsers that are known to implement this 
new spec completely include:

    Firefox 28.0+
    Chrome 29.0+
    Internet Explorer 11+ 
    Opera 17.0+

Browsers not listed, including Safari, are supported via the styling under the
`Old browsers` comments below.
*/
.hbox {
  /* Old browsers */
  display: -webkit-box;
  -webkit-box-orient: horizontal;
  -webkit-box-align: stretch;
  display: -moz-box;
  -moz-box-orient: horizontal;
  -moz-box-align: stretch;
  display: box;
  box-orient: horizontal;
  box-align: stretch;
  /* Modern browsers */
  display: flex;
  flex-direction: row;
  align-items: stretch;
}
.hbox > * {
  /* Old browsers */
  -webkit-box-flex: 0;
  -moz-box-flex: 0;
  box-flex: 0;
  /* Modern browsers */
  flex: none;
}
.vbox {
  /* Old browsers */
  display: -webkit-box;
  -webkit-box-orient: vertical;
  -webkit-box-align: stretch;
  display: -moz-box;
  -moz-box-orient: vertical;
  -moz-box-align: stretch;
  display: box;
  box-orient: vertical;
  box-align: stretch;
  /* Modern browsers */
  display: flex;
  flex-direction: column;
  align-items: stretch;
}
.vbox > * {
  /* Old browsers */
  -webkit-box-flex: 0;
  -moz-box-flex: 0;
  box-flex: 0;
  /* Modern browsers */
  flex: none;
}
.hbox.reverse,
.vbox.reverse,
.reverse {
  /* Old browsers */
  -webkit-box-direction: reverse;
  -moz-box-direction: reverse;
  box-direction: reverse;
  /* Modern browsers */
  flex-direction: row-reverse;
}
.hbox.box-flex0,
.vbox.box-flex0,
.box-flex0 {
  /* Old browsers */
  -webkit-box-flex: 0;
  -moz-box-flex: 0;
  box-flex: 0;
  /* Modern browsers */
  flex: none;
  width: auto;
}
.hbox.box-flex1,
.vbox.box-flex1,
.box-flex1 {
  /* Old browsers */
  -webkit-box-flex: 1;
  -moz-box-flex: 1;
  box-flex: 1;
  /* Modern browsers */
  flex: 1;
}
.hbox.box-flex,
.vbox.box-flex,
.box-flex {
  /* Old browsers */
  /* Old browsers */
  -webkit-box-flex: 1;
  -moz-box-flex: 1;
  box-flex: 1;
  /* Modern browsers */
  flex: 1;
}
.hbox.box-flex2,
.vbox.box-flex2,
.box-flex2 {
  /* Old browsers */
  -webkit-box-flex: 2;
  -moz-box-flex: 2;
  box-flex: 2;
  /* Modern browsers */
  flex: 2;
}
.box-group1 {
  /*  Deprecated */
  -webkit-box-flex-group: 1;
  -moz-box-flex-group: 1;
  box-flex-group: 1;
}
.box-group2 {
  /* Deprecated */
  -webkit-box-flex-group: 2;
  -moz-box-flex-group: 2;
  box-flex-group: 2;
}
.hbox.start,
.vbox.start,
.start {
  /* Old browsers */
  -webkit-box-pack: start;
  -moz-box-pack: start;
  box-pack: start;
  /* Modern browsers */
  justify-content: flex-start;
}
.hbox.end,
.vbox.end,
.end {
  /* Old browsers */
  -webkit-box-pack: end;
  -moz-box-pack: end;
  box-pack: end;
  /* Modern browsers */
  justify-content: flex-end;
}
.hbox.center,
.vbox.center,
.center {
  /* Old browsers */
  -webkit-box-pack: center;
  -moz-box-pack: center;
  box-pack: center;
  /* Modern browsers */
  justify-content: center;
}
.hbox.baseline,
.vbox.baseline,
.baseline {
  /* Old browsers */
  -webkit-box-pack: baseline;
  -moz-box-pack: baseline;
  box-pack: baseline;
  /* Modern browsers */
  justify-content: baseline;
}
.hbox.stretch,
.vbox.stretch,
.stretch {
  /* Old browsers */
  -webkit-box-pack: stretch;
  -moz-box-pack: stretch;
  box-pack: stretch;
  /* Modern browsers */
  justify-content: stretch;
}
.hbox.align-start,
.vbox.align-start,
.align-start {
  /* Old browsers */
  -webkit-box-align: start;
  -moz-box-align: start;
  box-align: start;
  /* Modern browsers */
  align-items: flex-start;
}
.hbox.align-end,
.vbox.align-end,
.align-end {
  /* Old browsers */
  -webkit-box-align: end;
  -moz-box-align: end;
  box-align: end;
  /* Modern browsers */
  align-items: flex-end;
}
.hbox.align-center,
.vbox.align-center,
.align-center {
  /* Old browsers */
  -webkit-box-align: center;
  -moz-box-align: center;
  box-align: center;
  /* Modern browsers */
  align-items: center;
}
.hbox.align-baseline,
.vbox.align-baseline,
.align-baseline {
  /* Old browsers */
  -webkit-box-align: baseline;
  -moz-box-align: baseline;
  box-align: baseline;
  /* Modern browsers */
  align-items: baseline;
}
.hbox.align-stretch,
.vbox.align-stretch,
.align-stretch {
  /* Old browsers */
  -webkit-box-align: stretch;
  -moz-box-align: stretch;
  box-align: stretch;
  /* Modern browsers */
  align-items: stretch;
}
div.error {
  margin: 2em;
  text-align: center;
}
div.error > h1 {
  font-size: 500%;
  line-height: normal;
}
div.error > p {
  font-size: 200%;
  line-height: normal;
}
div.traceback-wrapper {
  text-align: left;
  max-width: 800px;
  margin: auto;
}
div.traceback-wrapper pre.traceback {
  max-height: 600px;
  overflow: auto;
}
/**
 * Primary styles
 *
 * Author: Jupyter Development Team
 */
body {
  background-color: #fff;
  /* This makes sure that the body covers the entire window and needs to
       be in a different element than the display: box in wrapper below */
  position: absolute;
  left: 0px;
  right: 0px;
  top: 0px;
  bottom: 0px;
  overflow: visible;
}
body > #header {
  /* Initially hidden to prevent FLOUC */
  display: none;
  background-color: #fff;
  /* Display over codemirror */
  position: relative;
  z-index: 100;
}
body > #header #header-container {
  display: flex;
  flex-direction: row;
  justify-content: space-between;
  padding: 5px;
  padding-bottom: 5px;
  padding-top: 5px;
  box-sizing: border-box;
  -moz-box-sizing: border-box;
  -webkit-box-sizing: border-box;
}
body > #header .header-bar {
  width: 100%;
  height: 1px;
  background: #e7e7e7;
  margin-bottom: -1px;
}
@media print {
  body > #header {
    display: none !important;
  }
}
#header-spacer {
  width: 100%;
  visibility: hidden;
}
@media print {
  #header-spacer {
    display: none;
  }
}
#ipython_notebook {
  padding-left: 0px;
  padding-top: 1px;
  padding-bottom: 1px;
}
[dir="rtl"] #ipython_notebook {
  margin-right: 10px;
  margin-left: 0;
}
[dir="rtl"] #ipython_notebook.pull-left {
  float: right !important;
  float: right;
}
.flex-spacer {
  flex: 1;
}
#noscript {
  width: auto;
  padding-top: 16px;
  padding-bottom: 16px;
  text-align: center;
  font-size: 22px;
  color: red;
  font-weight: bold;
}
#ipython_notebook img {
  height: 28px;
}
#site {
  width: 100%;
  display: none;
  box-sizing: border-box;
  -moz-box-sizing: border-box;
  -webkit-box-sizing: border-box;
  overflow: auto;
}
@media print {
  #site {
    height: auto !important;
  }
}
/* Smaller buttons */
.ui-button .ui-button-text {
  padding: 0.2em 0.8em;
  font-size: 77%;
}
input.ui-button {
  padding: 0.3em 0.9em;
}
span#kernel_logo_widget {
  margin: 0 10px;
}
span#login_widget {
  float: right;
}
[dir="rtl"] span#login_widget {
  float: left;
}
span#login_widget > .button,
#logout {
  color: #333;
  background-color: #fff;
  border-color: #ccc;
}
span#login_widget > .button:focus,
#logout:focus,
span#login_widget > .button.focus,
#logout.focus {
  color: #333;
  background-color: #e6e6e6;
  border-color: #8c8c8c;
}
span#login_widget > .button:hover,
#logout:hover {
  color: #333;
  background-color: #e6e6e6;
  border-color: #adadad;
}
span#login_widget > .button:active,
#logout:active,
span#login_widget > .button.active,
#logout.active,
.open > .dropdown-togglespan#login_widget > .button,
.open > .dropdown-toggle#logout {
  color: #333;
  background-color: #e6e6e6;
  border-color: #adadad;
}
span#login_widget > .button:active:hover,
#logout:active:hover,
span#login_widget > .button.active:hover,
#logout.active:hover,
.open > .dropdown-togglespan#login_widget > .button:hover,
.open > .dropdown-toggle#logout:hover,
span#login_widget > .button:active:focus,
#logout:active:focus,
span#login_widget > .button.active:focus,
#logout.active:focus,
.open > .dropdown-togglespan#login_widget > .button:focus,
.open > .dropdown-toggle#logout:focus,
span#login_widget > .button:active.focus,
#logout:active.focus,
span#login_widget > .button.active.focus,
#logout.active.focus,
.open > .dropdown-togglespan#login_widget > .button.focus,
.open > .dropdown-toggle#logout.focus {
  color: #333;
  background-color: #d4d4d4;
  border-color: #8c8c8c;
}
span#login_widget > .button:active,
#logout:active,
span#login_widget > .button.active,
#logout.active,
.open > .dropdown-togglespan#login_widget > .button,
.open > .dropdown-toggle#logout {
  background-image: none;
}
span#login_widget > .button.disabled:hover,
#logout.disabled:hover,
span#login_widget > .button[disabled]:hover,
#logout[disabled]:hover,
fieldset[disabled] span#login_widget > .button:hover,
fieldset[disabled] #logout:hover,
span#login_widget > .button.disabled:focus,
#logout.disabled:focus,
span#login_widget > .button[disabled]:focus,
#logout[disabled]:focus,
fieldset[disabled] span#login_widget > .button:focus,
fieldset[disabled] #logout:focus,
span#login_widget > .button.disabled.focus,
#logout.disabled.focus,
span#login_widget > .button[disabled].focus,
#logout[disabled].focus,
fieldset[disabled] span#login_widget > .button.focus,
fieldset[disabled] #logout.focus {
  background-color: #fff;
  border-color: #ccc;
}
span#login_widget > .button .badge,
#logout .badge {
  color: #fff;
  background-color: #333;
}
.nav-header {
  text-transform: none;
}
#header > span {
  margin-top: 10px;
}
.modal_stretch .modal-dialog {
  /* Old browsers */
  display: -webkit-box;
  -webkit-box-orient: vertical;
  -webkit-box-align: stretch;
  display: -moz-box;
  -moz-box-orient: vertical;
  -moz-box-align: stretch;
  display: box;
  box-orient: vertical;
  box-align: stretch;
  /* Modern browsers */
  display: flex;
  flex-direction: column;
  align-items: stretch;
  min-height: 80vh;
}
.modal_stretch .modal-dialog .modal-body {
  max-height: calc(100vh - 200px);
  overflow: auto;
  flex: 1;
}
.modal-header {
  cursor: move;
}
@media (min-width: 768px) {
  .modal .modal-dialog {
    width: 700px;
  }
}
@media (min-width: 768px) {
  select.form-control {
    margin-left: 12px;
    margin-right: 12px;
  }
}
/*!
*
* IPython auth
*
*/
.center-nav {
  display: inline-block;
  margin-bottom: -4px;
}
[dir="rtl"] .center-nav form.pull-left {
  float: right !important;
  float: right;
}
[dir="rtl"] .center-nav .navbar-text {
  float: right;
}
[dir="rtl"] .navbar-inner {
  text-align: right;
}
[dir="rtl"] div.text-left {
  text-align: right;
}
/*!
*
* IPython tree view
*
*/
/* We need an invisible input field on top of the sentense*/
/* "Drag file onto the list ..." */
.alternate_upload {
  background-color: none;
  display: inline;
}
.alternate_upload.form {
  padding: 0;
  margin: 0;
}
.alternate_upload input.fileinput {
  position: absolute;
  display: block;
  width: 100%;
  height: 100%;
  overflow: hidden;
  cursor: pointer;
  opacity: 0;
  z-index: 2;
}
.alternate_upload .btn-xs > input.fileinput {
  margin: -1px -5px;
}
.alternate_upload .btn-upload {
  position: relative;
  height: 22px;
}
::-webkit-file-upload-button {
  cursor: pointer;
}
/**
 * Primary styles
 *
 * Author: Jupyter Development Team
 */
ul#tabs {
  margin-bottom: 4px;
}
ul#tabs a {
  padding-top: 6px;
  padding-bottom: 4px;
}
[dir="rtl"] ul#tabs.nav-tabs > li {
  float: right;
}
[dir="rtl"] ul#tabs.nav.nav-tabs {
  padding-right: 0;
}
ul.breadcrumb a:focus,
ul.breadcrumb a:hover {
  text-decoration: none;
}
ul.breadcrumb i.icon-home {
  font-size: 16px;
  margin-right: 4px;
}
ul.breadcrumb span {
  color: #5e5e5e;
}
.list_toolbar {
  padding: 4px 0 4px 0;
  vertical-align: middle;
}
.list_toolbar .tree-buttons {
  padding-top: 1px;
}
[dir="rtl"] .list_toolbar .tree-buttons .pull-right {
  float: left !important;
  float: left;
}
[dir="rtl"] .list_toolbar .col-sm-4,
[dir="rtl"] .list_toolbar .col-sm-8 {
  float: right;
}
.dynamic-buttons {
  padding-top: 3px;
  display: inline-block;
}
.list_toolbar [class*="span"] {
  min-height: 24px;
}
.list_header {
  font-weight: bold;
  background-color: #EEE;
}
.list_placeholder {
  font-weight: bold;
  padding-top: 4px;
  padding-bottom: 4px;
  padding-left: 7px;
  padding-right: 7px;
}
.list_container {
  margin-top: 4px;
  margin-bottom: 20px;
  border: 1px solid #ddd;
  border-radius: 2px;
}
.list_container > div {
  border-bottom: 1px solid #ddd;
}
.list_container > div:hover .list-item {
  background-color: red;
}
.list_container > div:last-child {
  border: none;
}
.list_item:hover .list_item {
  background-color: #ddd;
}
.list_item a {
  text-decoration: none;
}
.list_item:hover {
  background-color: #fafafa;
}
.list_header > div,
.list_item > div {
  padding-top: 4px;
  padding-bottom: 4px;
  padding-left: 7px;
  padding-right: 7px;
  line-height: 22px;
}
.list_header > div input,
.list_item > div input {
  margin-right: 7px;
  margin-left: 14px;
  vertical-align: text-bottom;
  line-height: 22px;
  position: relative;
  top: -1px;
}
.list_header > div .item_link,
.list_item > div .item_link {
  margin-left: -1px;
  vertical-align: baseline;
  line-height: 22px;
}
[dir="rtl"] .list_item > div input {
  margin-right: 0;
}
.new-file input[type=checkbox] {
  visibility: hidden;
}
.item_name {
  line-height: 22px;
  height: 24px;
}
.item_icon {
  font-size: 14px;
  color: #5e5e5e;
  margin-right: 7px;
  margin-left: 7px;
  line-height: 22px;
  vertical-align: baseline;
}
.item_modified {
  margin-right: 7px;
  margin-left: 7px;
}
[dir="rtl"] .item_modified.pull-right {
  float: left !important;
  float: left;
}
.item_buttons {
  line-height: 1em;
  margin-left: -5px;
}
.item_buttons .btn,
.item_buttons .btn-group,
.item_buttons .input-group {
  float: left;
}
.item_buttons > .btn,
.item_buttons > .btn-group,
.item_buttons > .input-group {
  margin-left: 5px;
}
.item_buttons .btn {
  min-width: 13ex;
}
.item_buttons .running-indicator {
  padding-top: 4px;
  color: #5cb85c;
}
.item_buttons .kernel-name {
  padding-top: 4px;
  color: #5bc0de;
  margin-right: 7px;
  float: left;
}
[dir="rtl"] .item_buttons.pull-right {
  float: left !important;
  float: left;
}
[dir="rtl"] .item_buttons .kernel-name {
  margin-left: 7px;
  float: right;
}
.toolbar_info {
  height: 24px;
  line-height: 24px;
}
.list_item input:not([type=checkbox]) {
  padding-top: 3px;
  padding-bottom: 3px;
  height: 22px;
  line-height: 14px;
  margin: 0px;
}
.highlight_text {
  color: blue;
}
#project_name {
  display: inline-block;
  padding-left: 7px;
  margin-left: -2px;
}
#project_name > .breadcrumb {
  padding: 0px;
  margin-bottom: 0px;
  background-color: transparent;
  font-weight: bold;
}
.sort_button {
  display: inline-block;
  padding-left: 7px;
}
[dir="rtl"] .sort_button.pull-right {
  float: left !important;
  float: left;
}
#tree-selector {
  padding-right: 0px;
}
#button-select-all {
  min-width: 50px;
}
[dir="rtl"] #button-select-all.btn {
  float: right ;
}
#select-all {
  margin-left: 7px;
  margin-right: 2px;
  margin-top: 2px;
  height: 16px;
}
[dir="rtl"] #select-all.pull-left {
  float: right !important;
  float: right;
}
.menu_icon {
  margin-right: 2px;
}
.tab-content .row {
  margin-left: 0px;
  margin-right: 0px;
}
.folder_icon:before {
  display: inline-block;
  font: normal normal normal 14px/1 FontAwesome;
  font-size: inherit;
  text-rendering: auto;
  -webkit-font-smoothing: antialiased;
  -moz-osx-font-smoothing: grayscale;
  content: "\f114";
}
.folder_icon:before.fa-pull-left {
  margin-right: .3em;
}
.folder_icon:before.fa-pull-right {
  margin-left: .3em;
}
.folder_icon:before.pull-left {
  margin-right: .3em;
}
.folder_icon:before.pull-right {
  margin-left: .3em;
}
.notebook_icon:before {
  display: inline-block;
  font: normal normal normal 14px/1 FontAwesome;
  font-size: inherit;
  text-rendering: auto;
  -webkit-font-smoothing: antialiased;
  -moz-osx-font-smoothing: grayscale;
  content: "\f02d";
  position: relative;
  top: -1px;
}
.notebook_icon:before.fa-pull-left {
  margin-right: .3em;
}
.notebook_icon:before.fa-pull-right {
  margin-left: .3em;
}
.notebook_icon:before.pull-left {
  margin-right: .3em;
}
.notebook_icon:before.pull-right {
  margin-left: .3em;
}
.running_notebook_icon:before {
  display: inline-block;
  font: normal normal normal 14px/1 FontAwesome;
  font-size: inherit;
  text-rendering: auto;
  -webkit-font-smoothing: antialiased;
  -moz-osx-font-smoothing: grayscale;
  content: "\f02d";
  position: relative;
  top: -1px;
  color: #5cb85c;
}
.running_notebook_icon:before.fa-pull-left {
  margin-right: .3em;
}
.running_notebook_icon:before.fa-pull-right {
  margin-left: .3em;
}
.running_notebook_icon:before.pull-left {
  margin-right: .3em;
}
.running_notebook_icon:before.pull-right {
  margin-left: .3em;
}
.file_icon:before {
  display: inline-block;
  font: normal normal normal 14px/1 FontAwesome;
  font-size: inherit;
  text-rendering: auto;
  -webkit-font-smoothing: antialiased;
  -moz-osx-font-smoothing: grayscale;
  content: "\f016";
  position: relative;
  top: -2px;
}
.file_icon:before.fa-pull-left {
  margin-right: .3em;
}
.file_icon:before.fa-pull-right {
  margin-left: .3em;
}
.file_icon:before.pull-left {
  margin-right: .3em;
}
.file_icon:before.pull-right {
  margin-left: .3em;
}
#notebook_toolbar .pull-right {
  padding-top: 0px;
  margin-right: -1px;
}
ul#new-menu {
  left: auto;
  right: 0;
}
#new-menu .dropdown-header {
  font-size: 10px;
  border-bottom: 1px solid #e5e5e5;
  padding: 0 0 3px;
  margin: -3px 20px 0;
}
.kernel-menu-icon {
  padding-right: 12px;
  width: 24px;
  content: "\f096";
}
.kernel-menu-icon:before {
  content: "\f096";
}
.kernel-menu-icon-current:before {
  content: "\f00c";
}
#tab_content {
  padding-top: 20px;
}
#running .panel-group .panel {
  margin-top: 3px;
  margin-bottom: 1em;
}
#running .panel-group .panel .panel-heading {
  background-color: #EEE;
  padding-top: 4px;
  padding-bottom: 4px;
  padding-left: 7px;
  padding-right: 7px;
  line-height: 22px;
}
#running .panel-group .panel .panel-heading a:focus,
#running .panel-group .panel .panel-heading a:hover {
  text-decoration: none;
}
#running .panel-group .panel .panel-body {
  padding: 0px;
}
#running .panel-group .panel .panel-body .list_container {
  margin-top: 0px;
  margin-bottom: 0px;
  border: 0px;
  border-radius: 0px;
}
#running .panel-group .panel .panel-body .list_container .list_item {
  border-bottom: 1px solid #ddd;
}
#running .panel-group .panel .panel-body .list_container .list_item:last-child {
  border-bottom: 0px;
}
.delete-button {
  display: none;
}
.duplicate-button {
  display: none;
}
.rename-button {
  display: none;
}
.move-button {
  display: none;
}
.download-button {
  display: none;
}
.shutdown-button {
  display: none;
}
.dynamic-instructions {
  display: inline-block;
  padding-top: 4px;
}
/*!
*
* IPython text editor webapp
*
*/
.selected-keymap i.fa {
  padding: 0px 5px;
}
.selected-keymap i.fa:before {
  content: "\f00c";
}
#mode-menu {
  overflow: auto;
  max-height: 20em;
}
.edit_app #header {
  -webkit-box-shadow: 0px 0px 12px 1px rgba(87, 87, 87, 0.2);
  box-shadow: 0px 0px 12px 1px rgba(87, 87, 87, 0.2);
}
.edit_app #menubar .navbar {
  /* Use a negative 1 bottom margin, so the border overlaps the border of the
    header */
  margin-bottom: -1px;
}
.dirty-indicator {
  display: inline-block;
  font: normal normal normal 14px/1 FontAwesome;
  font-size: inherit;
  text-rendering: auto;
  -webkit-font-smoothing: antialiased;
  -moz-osx-font-smoothing: grayscale;
  width: 20px;
}
.dirty-indicator.fa-pull-left {
  margin-right: .3em;
}
.dirty-indicator.fa-pull-right {
  margin-left: .3em;
}
.dirty-indicator.pull-left {
  margin-right: .3em;
}
.dirty-indicator.pull-right {
  margin-left: .3em;
}
.dirty-indicator-dirty {
  display: inline-block;
  font: normal normal normal 14px/1 FontAwesome;
  font-size: inherit;
  text-rendering: auto;
  -webkit-font-smoothing: antialiased;
  -moz-osx-font-smoothing: grayscale;
  width: 20px;
}
.dirty-indicator-dirty.fa-pull-left {
  margin-right: .3em;
}
.dirty-indicator-dirty.fa-pull-right {
  margin-left: .3em;
}
.dirty-indicator-dirty.pull-left {
  margin-right: .3em;
}
.dirty-indicator-dirty.pull-right {
  margin-left: .3em;
}
.dirty-indicator-clean {
  display: inline-block;
  font: normal normal normal 14px/1 FontAwesome;
  font-size: inherit;
  text-rendering: auto;
  -webkit-font-smoothing: antialiased;
  -moz-osx-font-smoothing: grayscale;
  width: 20px;
}
.dirty-indicator-clean.fa-pull-left {
  margin-right: .3em;
}
.dirty-indicator-clean.fa-pull-right {
  margin-left: .3em;
}
.dirty-indicator-clean.pull-left {
  margin-right: .3em;
}
.dirty-indicator-clean.pull-right {
  margin-left: .3em;
}
.dirty-indicator-clean:before {
  display: inline-block;
  font: normal normal normal 14px/1 FontAwesome;
  font-size: inherit;
  text-rendering: auto;
  -webkit-font-smoothing: antialiased;
  -moz-osx-font-smoothing: grayscale;
  content: "\f00c";
}
.dirty-indicator-clean:before.fa-pull-left {
  margin-right: .3em;
}
.dirty-indicator-clean:before.fa-pull-right {
  margin-left: .3em;
}
.dirty-indicator-clean:before.pull-left {
  margin-right: .3em;
}
.dirty-indicator-clean:before.pull-right {
  margin-left: .3em;
}
#filename {
  font-size: 16pt;
  display: table;
  padding: 0px 5px;
}
#current-mode {
  padding-left: 5px;
  padding-right: 5px;
}
#texteditor-backdrop {
  padding-top: 20px;
  padding-bottom: 20px;
}
@media not print {
  #texteditor-backdrop {
    background-color: #EEE;
  }
}
@media print {
  #texteditor-backdrop #texteditor-container .CodeMirror-gutter,
  #texteditor-backdrop #texteditor-container .CodeMirror-gutters {
    background-color: #fff;
  }
}
@media not print {
  #texteditor-backdrop #texteditor-container .CodeMirror-gutter,
  #texteditor-backdrop #texteditor-container .CodeMirror-gutters {
    background-color: #fff;
  }
}
@media not print {
  #texteditor-backdrop #texteditor-container {
    padding: 0px;
    background-color: #fff;
    -webkit-box-shadow: 0px 0px 12px 1px rgba(87, 87, 87, 0.2);
    box-shadow: 0px 0px 12px 1px rgba(87, 87, 87, 0.2);
  }
}
.CodeMirror-dialog {
  background-color: #fff;
}
/*!
*
* IPython notebook
*
*/
/* CSS font colors for translated ANSI escape sequences */
/* The color values are a mix of
   http://www.xcolors.net/dl/baskerville-ivorylight and
   http://www.xcolors.net/dl/euphrasia */
.ansi-black-fg {
  color: #3E424D;
}
.ansi-black-bg {
  background-color: #3E424D;
}
.ansi-black-intense-fg {
  color: #282C36;
}
.ansi-black-intense-bg {
  background-color: #282C36;
}
.ansi-red-fg {
  color: #E75C58;
}
.ansi-red-bg {
  background-color: #E75C58;
}
.ansi-red-intense-fg {
  color: #B22B31;
}
.ansi-red-intense-bg {
  background-color: #B22B31;
}
.ansi-green-fg {
  color: #00A250;
}
.ansi-green-bg {
  background-color: #00A250;
}
.ansi-green-intense-fg {
  color: #007427;
}
.ansi-green-intense-bg {
  background-color: #007427;
}
.ansi-yellow-fg {
  color: #DDB62B;
}
.ansi-yellow-bg {
  background-color: #DDB62B;
}
.ansi-yellow-intense-fg {
  color: #B27D12;
}
.ansi-yellow-intense-bg {
  background-color: #B27D12;
}
.ansi-blue-fg {
  color: #208FFB;
}
.ansi-blue-bg {
  background-color: #208FFB;
}
.ansi-blue-intense-fg {
  color: #0065CA;
}
.ansi-blue-intense-bg {
  background-color: #0065CA;
}
.ansi-magenta-fg {
  color: #D160C4;
}
.ansi-magenta-bg {
  background-color: #D160C4;
}
.ansi-magenta-intense-fg {
  color: #A03196;
}
.ansi-magenta-intense-bg {
  background-color: #A03196;
}
.ansi-cyan-fg {
  color: #60C6C8;
}
.ansi-cyan-bg {
  background-color: #60C6C8;
}
.ansi-cyan-intense-fg {
  color: #258F8F;
}
.ansi-cyan-intense-bg {
  background-color: #258F8F;
}
.ansi-white-fg {
  color: #C5C1B4;
}
.ansi-white-bg {
  background-color: #C5C1B4;
}
.ansi-white-intense-fg {
  color: #A1A6B2;
}
.ansi-white-intense-bg {
  background-color: #A1A6B2;
}
.ansi-default-inverse-fg {
  color: #FFFFFF;
}
.ansi-default-inverse-bg {
  background-color: #000000;
}
.ansi-bold {
  font-weight: bold;
}
.ansi-underline {
  text-decoration: underline;
}
/* The following styles are deprecated an will be removed in a future version */
.ansibold {
  font-weight: bold;
}
.ansi-inverse {
  outline: 0.5px dotted;
}
/* use dark versions for foreground, to improve visibility */
.ansiblack {
  color: black;
}
.ansired {
  color: darkred;
}
.ansigreen {
  color: darkgreen;
}
.ansiyellow {
  color: #c4a000;
}
.ansiblue {
  color: darkblue;
}
.ansipurple {
  color: darkviolet;
}
.ansicyan {
  color: steelblue;
}
.ansigray {
  color: gray;
}
/* and light for background, for the same reason */
.ansibgblack {
  background-color: black;
}
.ansibgred {
  background-color: red;
}
.ansibggreen {
  background-color: green;
}
.ansibgyellow {
  background-color: yellow;
}
.ansibgblue {
  background-color: blue;
}
.ansibgpurple {
  background-color: magenta;
}
.ansibgcyan {
  background-color: cyan;
}
.ansibggray {
  background-color: gray;
}
div.cell {
  /* Old browsers */
  display: -webkit-box;
  -webkit-box-orient: vertical;
  -webkit-box-align: stretch;
  display: -moz-box;
  -moz-box-orient: vertical;
  -moz-box-align: stretch;
  display: box;
  box-orient: vertical;
  box-align: stretch;
  /* Modern browsers */
  display: flex;
  flex-direction: column;
  align-items: stretch;
  border-radius: 2px;
  box-sizing: border-box;
  -moz-box-sizing: border-box;
  -webkit-box-sizing: border-box;
  border-width: 1px;
  border-style: solid;
  border-color: transparent;
  width: 100%;
  padding: 5px;
  /* This acts as a spacer between cells, that is outside the border */
  margin: 0px;
  outline: none;
  position: relative;
  overflow: visible;
}
div.cell:before {
  position: absolute;
  display: block;
  top: -1px;
  left: -1px;
  width: 5px;
  height: calc(100% +  2px);
  content: '';
  background: transparent;
}
div.cell.jupyter-soft-selected {
  border-left-color: #E3F2FD;
  border-left-width: 1px;
  padding-left: 5px;
  border-right-color: #E3F2FD;
  border-right-width: 1px;
  background: #E3F2FD;
}
@media print {
  div.cell.jupyter-soft-selected {
    border-color: transparent;
  }
}
div.cell.selected,
div.cell.selected.jupyter-soft-selected {
  border-color: #ababab;
}
div.cell.selected:before,
div.cell.selected.jupyter-soft-selected:before {
  position: absolute;
  display: block;
  top: -1px;
  left: -1px;
  width: 5px;
  height: calc(100% +  2px);
  content: '';
  background: #42A5F5;
}
@media print {
  div.cell.selected,
  div.cell.selected.jupyter-soft-selected {
    border-color: transparent;
  }
}
.edit_mode div.cell.selected {
  border-color: #66BB6A;
}
.edit_mode div.cell.selected:before {
  position: absolute;
  display: block;
  top: -1px;
  left: -1px;
  width: 5px;
  height: calc(100% +  2px);
  content: '';
  background: #66BB6A;
}
@media print {
  .edit_mode div.cell.selected {
    border-color: transparent;
  }
}
.prompt {
  /* This needs to be wide enough for 3 digit prompt numbers: In[100]: */
  min-width: 14ex;
  /* This padding is tuned to match the padding on the CodeMirror editor. */
  padding: 0.4em;
  margin: 0px;
  font-family: monospace;
  text-align: right;
  /* This has to match that of the the CodeMirror class line-height below */
  line-height: 1.21429em;
  /* Don't highlight prompt number selection */
  -webkit-touch-callout: none;
  -webkit-user-select: none;
  -khtml-user-select: none;
  -moz-user-select: none;
  -ms-user-select: none;
  user-select: none;
  /* Use default cursor */
  cursor: default;
}
@media (max-width: 540px) {
  .prompt {
    text-align: left;
  }
}
div.inner_cell {
  min-width: 0;
  /* Old browsers */
  display: -webkit-box;
  -webkit-box-orient: vertical;
  -webkit-box-align: stretch;
  display: -moz-box;
  -moz-box-orient: vertical;
  -moz-box-align: stretch;
  display: box;
  box-orient: vertical;
  box-align: stretch;
  /* Modern browsers */
  display: flex;
  flex-direction: column;
  align-items: stretch;
  /* Old browsers */
  -webkit-box-flex: 1;
  -moz-box-flex: 1;
  box-flex: 1;
  /* Modern browsers */
  flex: 1;
}
/* input_area and input_prompt must match in top border and margin for alignment */
div.input_area {
  border: 1px solid #cfcfcf;
  border-radius: 2px;
  background: #f7f7f7;
  line-height: 1.21429em;
}
/* This is needed so that empty prompt areas can collapse to zero height when there
   is no content in the output_subarea and the prompt. The main purpose of this is
   to make sure that empty JavaScript output_subareas have no height. */
div.prompt:empty {
  padding-top: 0;
  padding-bottom: 0;
}
div.unrecognized_cell {
  padding: 5px 5px 5px 0px;
  /* Old browsers */
  display: -webkit-box;
  -webkit-box-orient: horizontal;
  -webkit-box-align: stretch;
  display: -moz-box;
  -moz-box-orient: horizontal;
  -moz-box-align: stretch;
  display: box;
  box-orient: horizontal;
  box-align: stretch;
  /* Modern browsers */
  display: flex;
  flex-direction: row;
  align-items: stretch;
}
div.unrecognized_cell .inner_cell {
  border-radius: 2px;
  padding: 5px;
  font-weight: bold;
  color: red;
  border: 1px solid #cfcfcf;
  background: #eaeaea;
}
div.unrecognized_cell .inner_cell a {
  color: inherit;
  text-decoration: none;
}
div.unrecognized_cell .inner_cell a:hover {
  color: inherit;
  text-decoration: none;
}
@media (max-width: 540px) {
  div.unrecognized_cell > div.prompt {
    display: none;
  }
}
div.code_cell {
  /* avoid page breaking on code cells when printing */
}
@media print {
  div.code_cell {
    page-break-inside: avoid;
  }
}
/* any special styling for code cells that are currently running goes here */
div.input {
  page-break-inside: avoid;
  /* Old browsers */
  display: -webkit-box;
  -webkit-box-orient: horizontal;
  -webkit-box-align: stretch;
  display: -moz-box;
  -moz-box-orient: horizontal;
  -moz-box-align: stretch;
  display: box;
  box-orient: horizontal;
  box-align: stretch;
  /* Modern browsers */
  display: flex;
  flex-direction: row;
  align-items: stretch;
}
@media (max-width: 540px) {
  div.input {
    /* Old browsers */
    display: -webkit-box;
    -webkit-box-orient: vertical;
    -webkit-box-align: stretch;
    display: -moz-box;
    -moz-box-orient: vertical;
    -moz-box-align: stretch;
    display: box;
    box-orient: vertical;
    box-align: stretch;
    /* Modern browsers */
    display: flex;
    flex-direction: column;
    align-items: stretch;
  }
}
/* input_area and input_prompt must match in top border and margin for alignment */
div.input_prompt {
  color: #303F9F;
  border-top: 1px solid transparent;
}
div.input_area > div.highlight {
  margin: 0.4em;
  border: none;
  padding: 0px;
  background-color: transparent;
}
div.input_area > div.highlight > pre {
  margin: 0px;
  border: none;
  padding: 0px;
  background-color: transparent;
}
/* The following gets added to the <head> if it is detected that the user has a
 * monospace font with inconsistent normal/bold/italic height.  See
 * notebookmain.js.  Such fonts will have keywords vertically offset with
 * respect to the rest of the text.  The user should select a better font.
 * See: https://github.com/ipython/ipython/issues/1503
 *
 * .CodeMirror span {
 *      vertical-align: bottom;
 * }
 */
.CodeMirror {
  line-height: 1.21429em;
  /* Changed from 1em to our global default */
  font-size: 14px;
  height: auto;
  /* Changed to auto to autogrow */
  background: none;
  /* Changed from white to allow our bg to show through */
}
.CodeMirror-scroll {
  /*  The CodeMirror docs are a bit fuzzy on if overflow-y should be hidden or visible.*/
  /*  We have found that if it is visible, vertical scrollbars appear with font size changes.*/
  overflow-y: hidden;
  overflow-x: auto;
}
.CodeMirror-lines {
  /* In CM2, this used to be 0.4em, but in CM3 it went to 4px. We need the em value because */
  /* we have set a different line-height and want this to scale with that. */
  /* Note that this should set vertical padding only, since CodeMirror assumes
       that horizontal padding will be set on CodeMirror pre */
  padding: 0.4em 0;
}
.CodeMirror-linenumber {
  padding: 0 8px 0 4px;
}
.CodeMirror-gutters {
  border-bottom-left-radius: 2px;
  border-top-left-radius: 2px;
}
.CodeMirror pre {
  /* In CM3 this went to 4px from 0 in CM2. This sets horizontal padding only,
    use .CodeMirror-lines for vertical */
  padding: 0 0.4em;
  border: 0;
  border-radius: 0;
}
.CodeMirror-cursor {
  border-left: 1.4px solid black;
}
@media screen and (min-width: 2138px) and (max-width: 4319px) {
  .CodeMirror-cursor {
    border-left: 2px solid black;
  }
}
@media screen and (min-width: 4320px) {
  .CodeMirror-cursor {
    border-left: 4px solid black;
  }
}
/*

Original style from softwaremaniacs.org (c) Ivan Sagalaev <Maniac@SoftwareManiacs.Org>
Adapted from GitHub theme

*/
.highlight-base {
  color: #000;
}
.highlight-variable {
  color: #000;
}
.highlight-variable-2 {
  color: #1a1a1a;
}
.highlight-variable-3 {
  color: #333333;
}
.highlight-string {
  color: #BA2121;
}
.highlight-comment {
  color: #408080;
  font-style: italic;
}
.highlight-number {
  color: #080;
}
.highlight-atom {
  color: #88F;
}
.highlight-keyword {
  color: #008000;
  font-weight: bold;
}
.highlight-builtin {
  color: #008000;
}
.highlight-error {
  color: #f00;
}
.highlight-operator {
  color: #AA22FF;
  font-weight: bold;
}
.highlight-meta {
  color: #AA22FF;
}
/* previously not defined, copying from default codemirror */
.highlight-def {
  color: #00f;
}
.highlight-string-2 {
  color: #f50;
}
.highlight-qualifier {
  color: #555;
}
.highlight-bracket {
  color: #997;
}
.highlight-tag {
  color: #170;
}
.highlight-attribute {
  color: #00c;
}
.highlight-header {
  color: blue;
}
.highlight-quote {
  color: #090;
}
.highlight-link {
  color: #00c;
}
/* apply the same style to codemirror */
.cm-s-ipython span.cm-keyword {
  color: #008000;
  font-weight: bold;
}
.cm-s-ipython span.cm-atom {
  color: #88F;
}
.cm-s-ipython span.cm-number {
  color: #080;
}
.cm-s-ipython span.cm-def {
  color: #00f;
}
.cm-s-ipython span.cm-variable {
  color: #000;
}
.cm-s-ipython span.cm-operator {
  color: #AA22FF;
  font-weight: bold;
}
.cm-s-ipython span.cm-variable-2 {
  color: #1a1a1a;
}
.cm-s-ipython span.cm-variable-3 {
  color: #333333;
}
.cm-s-ipython span.cm-comment {
  color: #408080;
  font-style: italic;
}
.cm-s-ipython span.cm-string {
  color: #BA2121;
}
.cm-s-ipython span.cm-string-2 {
  color: #f50;
}
.cm-s-ipython span.cm-meta {
  color: #AA22FF;
}
.cm-s-ipython span.cm-qualifier {
  color: #555;
}
.cm-s-ipython span.cm-builtin {
  color: #008000;
}
.cm-s-ipython span.cm-bracket {
  color: #997;
}
.cm-s-ipython span.cm-tag {
  color: #170;
}
.cm-s-ipython span.cm-attribute {
  color: #00c;
}
.cm-s-ipython span.cm-header {
  color: blue;
}
.cm-s-ipython span.cm-quote {
  color: #090;
}
.cm-s-ipython span.cm-link {
  color: #00c;
}
.cm-s-ipython span.cm-error {
  color: #f00;
}
.cm-s-ipython span.cm-tab {
  background: url(data:image/png;base64,iVBORw0KGgoAAAANSUhEUgAAADAAAAAMCAYAAAAkuj5RAAAAAXNSR0IArs4c6QAAAGFJREFUSMft1LsRQFAQheHPowAKoACx3IgEKtaEHujDjORSgWTH/ZOdnZOcM/sgk/kFFWY0qV8foQwS4MKBCS3qR6ixBJvElOobYAtivseIE120FaowJPN75GMu8j/LfMwNjh4HUpwg4LUAAAAASUVORK5CYII=);
  background-position: right;
  background-repeat: no-repeat;
}
div.output_wrapper {
  /* this position must be relative to enable descendents to be absolute within it */
  position: relative;
  /* Old browsers */
  display: -webkit-box;
  -webkit-box-orient: vertical;
  -webkit-box-align: stretch;
  display: -moz-box;
  -moz-box-orient: vertical;
  -moz-box-align: stretch;
  display: box;
  box-orient: vertical;
  box-align: stretch;
  /* Modern browsers */
  display: flex;
  flex-direction: column;
  align-items: stretch;
  z-index: 1;
}
/* class for the output area when it should be height-limited */
div.output_scroll {
  /* ideally, this would be max-height, but FF barfs all over that */
  height: 24em;
  /* FF needs this *and the wrapper* to specify full width, or it will shrinkwrap */
  width: 100%;
  overflow: auto;
  border-radius: 2px;
  -webkit-box-shadow: inset 0 2px 8px rgba(0, 0, 0, 0.8);
  box-shadow: inset 0 2px 8px rgba(0, 0, 0, 0.8);
  display: block;
}
/* output div while it is collapsed */
div.output_collapsed {
  margin: 0px;
  padding: 0px;
  /* Old browsers */
  display: -webkit-box;
  -webkit-box-orient: vertical;
  -webkit-box-align: stretch;
  display: -moz-box;
  -moz-box-orient: vertical;
  -moz-box-align: stretch;
  display: box;
  box-orient: vertical;
  box-align: stretch;
  /* Modern browsers */
  display: flex;
  flex-direction: column;
  align-items: stretch;
}
div.out_prompt_overlay {
  height: 100%;
  padding: 0px 0.4em;
  position: absolute;
  border-radius: 2px;
}
div.out_prompt_overlay:hover {
  /* use inner shadow to get border that is computed the same on WebKit/FF */
  -webkit-box-shadow: inset 0 0 1px #000;
  box-shadow: inset 0 0 1px #000;
  background: rgba(240, 240, 240, 0.5);
}
div.output_prompt {
  color: #D84315;
}
/* This class is the outer container of all output sections. */
div.output_area {
  padding: 0px;
  page-break-inside: avoid;
  /* Old browsers */
  display: -webkit-box;
  -webkit-box-orient: horizontal;
  -webkit-box-align: stretch;
  display: -moz-box;
  -moz-box-orient: horizontal;
  -moz-box-align: stretch;
  display: box;
  box-orient: horizontal;
  box-align: stretch;
  /* Modern browsers */
  display: flex;
  flex-direction: row;
  align-items: stretch;
}
div.output_area .MathJax_Display {
  text-align: left !important;
}
div.output_area .rendered_html table {
  margin-left: 0;
  margin-right: 0;
}
div.output_area .rendered_html img {
  margin-left: 0;
  margin-right: 0;
}
div.output_area img,
div.output_area svg {
  max-width: 100%;
  height: auto;
}
div.output_area img.unconfined,
div.output_area svg.unconfined {
  max-width: none;
}
div.output_area .mglyph > img {
  max-width: none;
}
/* This is needed to protect the pre formating from global settings such
   as that of bootstrap */
.output {
  /* Old browsers */
  display: -webkit-box;
  -webkit-box-orient: vertical;
  -webkit-box-align: stretch;
  display: -moz-box;
  -moz-box-orient: vertical;
  -moz-box-align: stretch;
  display: box;
  box-orient: vertical;
  box-align: stretch;
  /* Modern browsers */
  display: flex;
  flex-direction: column;
  align-items: stretch;
}
@media (max-width: 540px) {
  div.output_area {
    /* Old browsers */
    display: -webkit-box;
    -webkit-box-orient: vertical;
    -webkit-box-align: stretch;
    display: -moz-box;
    -moz-box-orient: vertical;
    -moz-box-align: stretch;
    display: box;
    box-orient: vertical;
    box-align: stretch;
    /* Modern browsers */
    display: flex;
    flex-direction: column;
    align-items: stretch;
  }
}
div.output_area pre {
  margin: 0;
  padding: 1px 0 1px 0;
  border: 0;
  vertical-align: baseline;
  color: black;
  background-color: transparent;
  border-radius: 0;
}
/* This class is for the output subarea inside the output_area and after
   the prompt div. */
div.output_subarea {
  overflow-x: auto;
  padding: 0.4em;
  /* Old browsers */
  -webkit-box-flex: 1;
  -moz-box-flex: 1;
  box-flex: 1;
  /* Modern browsers */
  flex: 1;
  max-width: calc(100% - 14ex);
}
div.output_scroll div.output_subarea {
  overflow-x: visible;
}
/* The rest of the output_* classes are for special styling of the different
   output types */
/* all text output has this class: */
div.output_text {
  text-align: left;
  color: #000;
  /* This has to match that of the the CodeMirror class line-height below */
  line-height: 1.21429em;
}
/* stdout/stderr are 'text' as well as 'stream', but execute_result/error are *not* streams */
div.output_stderr {
  background: #fdd;
  /* very light red background for stderr */
}
div.output_latex {
  text-align: left;
}
/* Empty output_javascript divs should have no height */
div.output_javascript:empty {
  padding: 0;
}
.js-error {
  color: darkred;
}
/* raw_input styles */
div.raw_input_container {
  line-height: 1.21429em;
  padding-top: 5px;
}
pre.raw_input_prompt {
  /* nothing needed here. */
}
input.raw_input {
  font-family: monospace;
  font-size: inherit;
  color: inherit;
  width: auto;
  /* make sure input baseline aligns with prompt */
  vertical-align: baseline;
  /* padding + margin = 0.5em between prompt and cursor */
  padding: 0em 0.25em;
  margin: 0em 0.25em;
}
input.raw_input:focus {
  box-shadow: none;
}
p.p-space {
  margin-bottom: 10px;
}
div.output_unrecognized {
  padding: 5px;
  font-weight: bold;
  color: red;
}
div.output_unrecognized a {
  color: inherit;
  text-decoration: none;
}
div.output_unrecognized a:hover {
  color: inherit;
  text-decoration: none;
}
.rendered_html {
  color: #000;
  /* any extras will just be numbers: */
}
.rendered_html em {
  font-style: italic;
}
.rendered_html strong {
  font-weight: bold;
}
.rendered_html u {
  text-decoration: underline;
}
.rendered_html :link {
  text-decoration: underline;
}
.rendered_html :visited {
  text-decoration: underline;
}
.rendered_html h1 {
  font-size: 185.7%;
  margin: 1.08em 0 0 0;
  font-weight: bold;
  line-height: 1.0;
}
.rendered_html h2 {
  font-size: 157.1%;
  margin: 1.27em 0 0 0;
  font-weight: bold;
  line-height: 1.0;
}
.rendered_html h3 {
  font-size: 128.6%;
  margin: 1.55em 0 0 0;
  font-weight: bold;
  line-height: 1.0;
}
.rendered_html h4 {
  font-size: 100%;
  margin: 2em 0 0 0;
  font-weight: bold;
  line-height: 1.0;
}
.rendered_html h5 {
  font-size: 100%;
  margin: 2em 0 0 0;
  font-weight: bold;
  line-height: 1.0;
  font-style: italic;
}
.rendered_html h6 {
  font-size: 100%;
  margin: 2em 0 0 0;
  font-weight: bold;
  line-height: 1.0;
  font-style: italic;
}
.rendered_html h1:first-child {
  margin-top: 0.538em;
}
.rendered_html h2:first-child {
  margin-top: 0.636em;
}
.rendered_html h3:first-child {
  margin-top: 0.777em;
}
.rendered_html h4:first-child {
  margin-top: 1em;
}
.rendered_html h5:first-child {
  margin-top: 1em;
}
.rendered_html h6:first-child {
  margin-top: 1em;
}
.rendered_html ul:not(.list-inline),
.rendered_html ol:not(.list-inline) {
  padding-left: 2em;
}
.rendered_html ul {
  list-style: disc;
}
.rendered_html ul ul {
  list-style: square;
  margin-top: 0;
}
.rendered_html ul ul ul {
  list-style: circle;
}
.rendered_html ol {
  list-style: decimal;
}
.rendered_html ol ol {
  list-style: upper-alpha;
  margin-top: 0;
}
.rendered_html ol ol ol {
  list-style: lower-alpha;
}
.rendered_html ol ol ol ol {
  list-style: lower-roman;
}
.rendered_html ol ol ol ol ol {
  list-style: decimal;
}
.rendered_html * + ul {
  margin-top: 1em;
}
.rendered_html * + ol {
  margin-top: 1em;
}
.rendered_html hr {
  color: black;
  background-color: black;
}
.rendered_html pre {
  margin: 1em 2em;
  padding: 0px;
  background-color: #fff;
}
.rendered_html code {
  background-color: #eff0f1;
}
.rendered_html p code {
  padding: 1px 5px;
}
.rendered_html pre code {
  background-color: #fff;
}
.rendered_html pre,
.rendered_html code {
  border: 0;
  color: #000;
  font-size: 100%;
}
.rendered_html blockquote {
  margin: 1em 2em;
}
.rendered_html table {
  margin-left: auto;
  margin-right: auto;
  border: none;
  border-collapse: collapse;
  border-spacing: 0;
  color: black;
  font-size: 12px;
  table-layout: fixed;
}
.rendered_html thead {
  border-bottom: 1px solid black;
  vertical-align: bottom;
}
.rendered_html tr,
.rendered_html th,
.rendered_html td {
  text-align: right;
  vertical-align: middle;
  padding: 0.5em 0.5em;
  line-height: normal;
  white-space: normal;
  max-width: none;
  border: none;
}
.rendered_html th {
  font-weight: bold;
}
.rendered_html tbody tr:nth-child(odd) {
  background: #f5f5f5;
}
.rendered_html tbody tr:hover {
  background: rgba(66, 165, 245, 0.2);
}
.rendered_html * + table {
  margin-top: 1em;
}
.rendered_html p {
  text-align: left;
}
.rendered_html * + p {
  margin-top: 1em;
}
.rendered_html img {
  display: block;
  margin-left: auto;
  margin-right: auto;
}
.rendered_html * + img {
  margin-top: 1em;
}
.rendered_html img,
.rendered_html svg {
  max-width: 100%;
  height: auto;
}
.rendered_html img.unconfined,
.rendered_html svg.unconfined {
  max-width: none;
}
.rendered_html .alert {
  margin-bottom: initial;
}
.rendered_html * + .alert {
  margin-top: 1em;
}
[dir="rtl"] .rendered_html p {
  text-align: right;
}
div.text_cell {
  /* Old browsers */
  display: -webkit-box;
  -webkit-box-orient: horizontal;
  -webkit-box-align: stretch;
  display: -moz-box;
  -moz-box-orient: horizontal;
  -moz-box-align: stretch;
  display: box;
  box-orient: horizontal;
  box-align: stretch;
  /* Modern browsers */
  display: flex;
  flex-direction: row;
  align-items: stretch;
}
@media (max-width: 540px) {
  div.text_cell > div.prompt {
    display: none;
  }
}
div.text_cell_render {
  /*font-family: "Helvetica Neue", Arial, Helvetica, Geneva, sans-serif;*/
  outline: none;
  resize: none;
  width: inherit;
  border-style: none;
  padding: 0.5em 0.5em 0.5em 0.4em;
  color: #000;
  box-sizing: border-box;
  -moz-box-sizing: border-box;
  -webkit-box-sizing: border-box;
}
a.anchor-link:link {
  text-decoration: none;
  padding: 0px 20px;
  visibility: hidden;
}
h1:hover .anchor-link,
h2:hover .anchor-link,
h3:hover .anchor-link,
h4:hover .anchor-link,
h5:hover .anchor-link,
h6:hover .anchor-link {
  visibility: visible;
}
.text_cell.rendered .input_area {
  display: none;
}
.text_cell.rendered .rendered_html {
  overflow-x: auto;
  overflow-y: hidden;
}
.text_cell.rendered .rendered_html tr,
.text_cell.rendered .rendered_html th,
.text_cell.rendered .rendered_html td {
  max-width: none;
}
.text_cell.unrendered .text_cell_render {
  display: none;
}
.text_cell .dropzone .input_area {
  border: 2px dashed #bababa;
  margin: -1px;
}
.cm-header-1,
.cm-header-2,
.cm-header-3,
.cm-header-4,
.cm-header-5,
.cm-header-6 {
  font-weight: bold;
  font-family: "Helvetica Neue", Helvetica, Arial, sans-serif;
}
.cm-header-1 {
  font-size: 185.7%;
}
.cm-header-2 {
  font-size: 157.1%;
}
.cm-header-3 {
  font-size: 128.6%;
}
.cm-header-4 {
  font-size: 110%;
}
.cm-header-5 {
  font-size: 100%;
  font-style: italic;
}
.cm-header-6 {
  font-size: 100%;
  font-style: italic;
}
/*!
*
* IPython notebook webapp
*
*/
@media (max-width: 767px) {
  .notebook_app {
    padding-left: 0px;
    padding-right: 0px;
  }
}
#ipython-main-app {
  box-sizing: border-box;
  -moz-box-sizing: border-box;
  -webkit-box-sizing: border-box;
  height: 100%;
}
div#notebook_panel {
  margin: 0px;
  padding: 0px;
  box-sizing: border-box;
  -moz-box-sizing: border-box;
  -webkit-box-sizing: border-box;
  height: 100%;
}
div#notebook {
  font-size: 14px;
  line-height: 20px;
  overflow-y: hidden;
  overflow-x: auto;
  width: 100%;
  /* This spaces the page away from the edge of the notebook area */
  padding-top: 20px;
  margin: 0px;
  outline: none;
  box-sizing: border-box;
  -moz-box-sizing: border-box;
  -webkit-box-sizing: border-box;
  min-height: 100%;
}
@media not print {
  #notebook-container {
    padding: 15px;
    background-color: #fff;
    min-height: 0;
    -webkit-box-shadow: 0px 0px 12px 1px rgba(87, 87, 87, 0.2);
    box-shadow: 0px 0px 12px 1px rgba(87, 87, 87, 0.2);
  }
}
@media print {
  #notebook-container {
    width: 100%;
  }
}
div.ui-widget-content {
  border: 1px solid #ababab;
  outline: none;
}
pre.dialog {
  background-color: #f7f7f7;
  border: 1px solid #ddd;
  border-radius: 2px;
  padding: 0.4em;
  padding-left: 2em;
}
p.dialog {
  padding: 0.2em;
}
/* Word-wrap output correctly.  This is the CSS3 spelling, though Firefox seems
   to not honor it correctly.  Webkit browsers (Chrome, rekonq, Safari) do.
 */
pre,
code,
kbd,
samp {
  white-space: pre-wrap;
}
#fonttest {
  font-family: monospace;
}
p {
  margin-bottom: 0;
}
.end_space {
  min-height: 100px;
  transition: height .2s ease;
}
.notebook_app > #header {
  -webkit-box-shadow: 0px 0px 12px 1px rgba(87, 87, 87, 0.2);
  box-shadow: 0px 0px 12px 1px rgba(87, 87, 87, 0.2);
}
@media not print {
  .notebook_app {
    background-color: #EEE;
  }
}
kbd {
  border-style: solid;
  border-width: 1px;
  box-shadow: none;
  margin: 2px;
  padding-left: 2px;
  padding-right: 2px;
  padding-top: 1px;
  padding-bottom: 1px;
}
.jupyter-keybindings {
  padding: 1px;
  line-height: 24px;
  border-bottom: 1px solid gray;
}
.jupyter-keybindings input {
  margin: 0;
  padding: 0;
  border: none;
}
.jupyter-keybindings i {
  padding: 6px;
}
.well code {
  background-color: #ffffff;
  border-color: #ababab;
  border-width: 1px;
  border-style: solid;
  padding: 2px;
  padding-top: 1px;
  padding-bottom: 1px;
}
/* CSS for the cell toolbar */
.celltoolbar {
  border: thin solid #CFCFCF;
  border-bottom: none;
  background: #EEE;
  border-radius: 2px 2px 0px 0px;
  width: 100%;
  height: 29px;
  padding-right: 4px;
  /* Old browsers */
  display: -webkit-box;
  -webkit-box-orient: horizontal;
  -webkit-box-align: stretch;
  display: -moz-box;
  -moz-box-orient: horizontal;
  -moz-box-align: stretch;
  display: box;
  box-orient: horizontal;
  box-align: stretch;
  /* Modern browsers */
  display: flex;
  flex-direction: row;
  align-items: stretch;
  /* Old browsers */
  -webkit-box-pack: end;
  -moz-box-pack: end;
  box-pack: end;
  /* Modern browsers */
  justify-content: flex-end;
  display: -webkit-flex;
}
@media print {
  .celltoolbar {
    display: none;
  }
}
.ctb_hideshow {
  display: none;
  vertical-align: bottom;
}
/* ctb_show is added to the ctb_hideshow div to show the cell toolbar.
   Cell toolbars are only shown when the ctb_global_show class is also set.
*/
.ctb_global_show .ctb_show.ctb_hideshow {
  display: block;
}
.ctb_global_show .ctb_show + .input_area,
.ctb_global_show .ctb_show + div.text_cell_input,
.ctb_global_show .ctb_show ~ div.text_cell_render {
  border-top-right-radius: 0px;
  border-top-left-radius: 0px;
}
.ctb_global_show .ctb_show ~ div.text_cell_render {
  border: 1px solid #cfcfcf;
}
.celltoolbar {
  font-size: 87%;
  padding-top: 3px;
}
.celltoolbar select {
  display: block;
  width: 100%;
  height: 32px;
  padding: 6px 12px;
  font-size: 13px;
  line-height: 1.42857143;
  color: #555555;
  background-color: #fff;
  background-image: none;
  border: 1px solid #ccc;
  border-radius: 2px;
  -webkit-box-shadow: inset 0 1px 1px rgba(0, 0, 0, 0.075);
  box-shadow: inset 0 1px 1px rgba(0, 0, 0, 0.075);
  -webkit-transition: border-color ease-in-out .15s, box-shadow ease-in-out .15s;
  -o-transition: border-color ease-in-out .15s, box-shadow ease-in-out .15s;
  transition: border-color ease-in-out .15s, box-shadow ease-in-out .15s;
  height: 30px;
  padding: 5px 10px;
  font-size: 12px;
  line-height: 1.5;
  border-radius: 1px;
  width: inherit;
  font-size: inherit;
  height: 22px;
  padding: 0px;
  display: inline-block;
}
.celltoolbar select:focus {
  border-color: #66afe9;
  outline: 0;
  -webkit-box-shadow: inset 0 1px 1px rgba(0,0,0,.075), 0 0 8px rgba(102, 175, 233, 0.6);
  box-shadow: inset 0 1px 1px rgba(0,0,0,.075), 0 0 8px rgba(102, 175, 233, 0.6);
}
.celltoolbar select::-moz-placeholder {
  color: #999;
  opacity: 1;
}
.celltoolbar select:-ms-input-placeholder {
  color: #999;
}
.celltoolbar select::-webkit-input-placeholder {
  color: #999;
}
.celltoolbar select::-ms-expand {
  border: 0;
  background-color: transparent;
}
.celltoolbar select[disabled],
.celltoolbar select[readonly],
fieldset[disabled] .celltoolbar select {
  background-color: #eeeeee;
  opacity: 1;
}
.celltoolbar select[disabled],
fieldset[disabled] .celltoolbar select {
  cursor: not-allowed;
}
textarea.celltoolbar select {
  height: auto;
}
select.celltoolbar select {
  height: 30px;
  line-height: 30px;
}
textarea.celltoolbar select,
select[multiple].celltoolbar select {
  height: auto;
}
.celltoolbar label {
  margin-left: 5px;
  margin-right: 5px;
}
.tags_button_container {
  width: 100%;
  display: flex;
}
.tag-container {
  display: flex;
  flex-direction: row;
  flex-grow: 1;
  overflow: hidden;
  position: relative;
}
.tag-container > * {
  margin: 0 4px;
}
.remove-tag-btn {
  margin-left: 4px;
}
.tags-input {
  display: flex;
}
.cell-tag:last-child:after {
  content: "";
  position: absolute;
  right: 0;
  width: 40px;
  height: 100%;
  /* Fade to background color of cell toolbar */
  background: linear-gradient(to right, rgba(0, 0, 0, 0), #EEE);
}
.tags-input > * {
  margin-left: 4px;
}
.cell-tag,
.tags-input input,
.tags-input button {
  display: block;
  width: 100%;
  height: 32px;
  padding: 6px 12px;
  font-size: 13px;
  line-height: 1.42857143;
  color: #555555;
  background-color: #fff;
  background-image: none;
  border: 1px solid #ccc;
  border-radius: 2px;
  -webkit-box-shadow: inset 0 1px 1px rgba(0, 0, 0, 0.075);
  box-shadow: inset 0 1px 1px rgba(0, 0, 0, 0.075);
  -webkit-transition: border-color ease-in-out .15s, box-shadow ease-in-out .15s;
  -o-transition: border-color ease-in-out .15s, box-shadow ease-in-out .15s;
  transition: border-color ease-in-out .15s, box-shadow ease-in-out .15s;
  height: 30px;
  padding: 5px 10px;
  font-size: 12px;
  line-height: 1.5;
  border-radius: 1px;
  box-shadow: none;
  width: inherit;
  font-size: inherit;
  height: 22px;
  line-height: 22px;
  padding: 0px 4px;
  display: inline-block;
}
.cell-tag:focus,
.tags-input input:focus,
.tags-input button:focus {
  border-color: #66afe9;
  outline: 0;
  -webkit-box-shadow: inset 0 1px 1px rgba(0,0,0,.075), 0 0 8px rgba(102, 175, 233, 0.6);
  box-shadow: inset 0 1px 1px rgba(0,0,0,.075), 0 0 8px rgba(102, 175, 233, 0.6);
}
.cell-tag::-moz-placeholder,
.tags-input input::-moz-placeholder,
.tags-input button::-moz-placeholder {
  color: #999;
  opacity: 1;
}
.cell-tag:-ms-input-placeholder,
.tags-input input:-ms-input-placeholder,
.tags-input button:-ms-input-placeholder {
  color: #999;
}
.cell-tag::-webkit-input-placeholder,
.tags-input input::-webkit-input-placeholder,
.tags-input button::-webkit-input-placeholder {
  color: #999;
}
.cell-tag::-ms-expand,
.tags-input input::-ms-expand,
.tags-input button::-ms-expand {
  border: 0;
  background-color: transparent;
}
.cell-tag[disabled],
.tags-input input[disabled],
.tags-input button[disabled],
.cell-tag[readonly],
.tags-input input[readonly],
.tags-input button[readonly],
fieldset[disabled] .cell-tag,
fieldset[disabled] .tags-input input,
fieldset[disabled] .tags-input button {
  background-color: #eeeeee;
  opacity: 1;
}
.cell-tag[disabled],
.tags-input input[disabled],
.tags-input button[disabled],
fieldset[disabled] .cell-tag,
fieldset[disabled] .tags-input input,
fieldset[disabled] .tags-input button {
  cursor: not-allowed;
}
textarea.cell-tag,
textarea.tags-input input,
textarea.tags-input button {
  height: auto;
}
select.cell-tag,
select.tags-input input,
select.tags-input button {
  height: 30px;
  line-height: 30px;
}
textarea.cell-tag,
textarea.tags-input input,
textarea.tags-input button,
select[multiple].cell-tag,
select[multiple].tags-input input,
select[multiple].tags-input button {
  height: auto;
}
.cell-tag,
.tags-input button {
  padding: 0px 4px;
}
.cell-tag {
  background-color: #fff;
  white-space: nowrap;
}
.tags-input input[type=text]:focus {
  outline: none;
  box-shadow: none;
  border-color: #ccc;
}
.completions {
  position: absolute;
  z-index: 110;
  overflow: hidden;
  border: 1px solid #ababab;
  border-radius: 2px;
  -webkit-box-shadow: 0px 6px 10px -1px #adadad;
  box-shadow: 0px 6px 10px -1px #adadad;
  line-height: 1;
}
.completions select {
  background: white;
  outline: none;
  border: none;
  padding: 0px;
  margin: 0px;
  overflow: auto;
  font-family: monospace;
  font-size: 110%;
  color: #000;
  width: auto;
}
.completions select option.context {
  color: #286090;
}
#kernel_logo_widget .current_kernel_logo {
  display: none;
  margin-top: -1px;
  margin-bottom: -1px;
  width: 32px;
  height: 32px;
}
[dir="rtl"] #kernel_logo_widget {
  float: left !important;
  float: left;
}
.modal .modal-body .move-path {
  display: flex;
  flex-direction: row;
  justify-content: space;
  align-items: center;
}
.modal .modal-body .move-path .server-root {
  padding-right: 20px;
}
.modal .modal-body .move-path .path-input {
  flex: 1;
}
#menubar {
  box-sizing: border-box;
  -moz-box-sizing: border-box;
  -webkit-box-sizing: border-box;
  margin-top: 1px;
}
#menubar .navbar {
  border-top: 1px;
  border-radius: 0px 0px 2px 2px;
  margin-bottom: 0px;
}
#menubar .navbar-toggle {
  float: left;
  padding-top: 7px;
  padding-bottom: 7px;
  border: none;
}
#menubar .navbar-collapse {
  clear: left;
}
[dir="rtl"] #menubar .navbar-toggle {
  float: right;
}
[dir="rtl"] #menubar .navbar-collapse {
  clear: right;
}
[dir="rtl"] #menubar .navbar-nav {
  float: right;
}
[dir="rtl"] #menubar .nav {
  padding-right: 0px;
}
[dir="rtl"] #menubar .navbar-nav > li {
  float: right;
}
[dir="rtl"] #menubar .navbar-right {
  float: left !important;
}
[dir="rtl"] ul.dropdown-menu {
  text-align: right;
  left: auto;
}
[dir="rtl"] ul#new-menu.dropdown-menu {
  right: auto;
  left: 0;
}
.nav-wrapper {
  border-bottom: 1px solid #e7e7e7;
}
i.menu-icon {
  padding-top: 4px;
}
[dir="rtl"] i.menu-icon.pull-right {
  float: left !important;
  float: left;
}
ul#help_menu li a {
  overflow: hidden;
  padding-right: 2.2em;
}
ul#help_menu li a i {
  margin-right: -1.2em;
}
[dir="rtl"] ul#help_menu li a {
  padding-left: 2.2em;
}
[dir="rtl"] ul#help_menu li a i {
  margin-right: 0;
  margin-left: -1.2em;
}
[dir="rtl"] ul#help_menu li a i.pull-right {
  float: left !important;
  float: left;
}
.dropdown-submenu {
  position: relative;
}
.dropdown-submenu > .dropdown-menu {
  top: 0;
  left: 100%;
  margin-top: -6px;
  margin-left: -1px;
}
[dir="rtl"] .dropdown-submenu > .dropdown-menu {
  right: 100%;
  margin-right: -1px;
}
.dropdown-submenu:hover > .dropdown-menu {
  display: block;
}
.dropdown-submenu > a:after {
  display: inline-block;
  font: normal normal normal 14px/1 FontAwesome;
  font-size: inherit;
  text-rendering: auto;
  -webkit-font-smoothing: antialiased;
  -moz-osx-font-smoothing: grayscale;
  display: block;
  content: "\f0da";
  float: right;
  color: #333333;
  margin-top: 2px;
  margin-right: -10px;
}
.dropdown-submenu > a:after.fa-pull-left {
  margin-right: .3em;
}
.dropdown-submenu > a:after.fa-pull-right {
  margin-left: .3em;
}
.dropdown-submenu > a:after.pull-left {
  margin-right: .3em;
}
.dropdown-submenu > a:after.pull-right {
  margin-left: .3em;
}
[dir="rtl"] .dropdown-submenu > a:after {
  float: left;
  content: "\f0d9";
  margin-right: 0;
  margin-left: -10px;
}
.dropdown-submenu:hover > a:after {
  color: #262626;
}
.dropdown-submenu.pull-left {
  float: none;
}
.dropdown-submenu.pull-left > .dropdown-menu {
  left: -100%;
  margin-left: 10px;
}
#notification_area {
  float: right !important;
  float: right;
  z-index: 10;
}
[dir="rtl"] #notification_area {
  float: left !important;
  float: left;
}
.indicator_area {
  float: right !important;
  float: right;
  color: #777;
  margin-left: 5px;
  margin-right: 5px;
  width: 11px;
  z-index: 10;
  text-align: center;
  width: auto;
}
[dir="rtl"] .indicator_area {
  float: left !important;
  float: left;
}
#kernel_indicator {
  float: right !important;
  float: right;
  color: #777;
  margin-left: 5px;
  margin-right: 5px;
  width: 11px;
  z-index: 10;
  text-align: center;
  width: auto;
  border-left: 1px solid;
}
#kernel_indicator .kernel_indicator_name {
  padding-left: 5px;
  padding-right: 5px;
}
[dir="rtl"] #kernel_indicator {
  float: left !important;
  float: left;
  border-left: 0;
  border-right: 1px solid;
}
#modal_indicator {
  float: right !important;
  float: right;
  color: #777;
  margin-left: 5px;
  margin-right: 5px;
  width: 11px;
  z-index: 10;
  text-align: center;
  width: auto;
}
[dir="rtl"] #modal_indicator {
  float: left !important;
  float: left;
}
#readonly-indicator {
  float: right !important;
  float: right;
  color: #777;
  margin-left: 5px;
  margin-right: 5px;
  width: 11px;
  z-index: 10;
  text-align: center;
  width: auto;
  margin-top: 2px;
  margin-bottom: 0px;
  margin-left: 0px;
  margin-right: 0px;
  display: none;
}
.modal_indicator:before {
  width: 1.28571429em;
  text-align: center;
}
.edit_mode .modal_indicator:before {
  display: inline-block;
  font: normal normal normal 14px/1 FontAwesome;
  font-size: inherit;
  text-rendering: auto;
  -webkit-font-smoothing: antialiased;
  -moz-osx-font-smoothing: grayscale;
  content: "\f040";
}
.edit_mode .modal_indicator:before.fa-pull-left {
  margin-right: .3em;
}
.edit_mode .modal_indicator:before.fa-pull-right {
  margin-left: .3em;
}
.edit_mode .modal_indicator:before.pull-left {
  margin-right: .3em;
}
.edit_mode .modal_indicator:before.pull-right {
  margin-left: .3em;
}
.command_mode .modal_indicator:before {
  display: inline-block;
  font: normal normal normal 14px/1 FontAwesome;
  font-size: inherit;
  text-rendering: auto;
  -webkit-font-smoothing: antialiased;
  -moz-osx-font-smoothing: grayscale;
  content: ' ';
}
.command_mode .modal_indicator:before.fa-pull-left {
  margin-right: .3em;
}
.command_mode .modal_indicator:before.fa-pull-right {
  margin-left: .3em;
}
.command_mode .modal_indicator:before.pull-left {
  margin-right: .3em;
}
.command_mode .modal_indicator:before.pull-right {
  margin-left: .3em;
}
.kernel_idle_icon:before {
  display: inline-block;
  font: normal normal normal 14px/1 FontAwesome;
  font-size: inherit;
  text-rendering: auto;
  -webkit-font-smoothing: antialiased;
  -moz-osx-font-smoothing: grayscale;
  content: "\f10c";
}
.kernel_idle_icon:before.fa-pull-left {
  margin-right: .3em;
}
.kernel_idle_icon:before.fa-pull-right {
  margin-left: .3em;
}
.kernel_idle_icon:before.pull-left {
  margin-right: .3em;
}
.kernel_idle_icon:before.pull-right {
  margin-left: .3em;
}
.kernel_busy_icon:before {
  display: inline-block;
  font: normal normal normal 14px/1 FontAwesome;
  font-size: inherit;
  text-rendering: auto;
  -webkit-font-smoothing: antialiased;
  -moz-osx-font-smoothing: grayscale;
  content: "\f111";
}
.kernel_busy_icon:before.fa-pull-left {
  margin-right: .3em;
}
.kernel_busy_icon:before.fa-pull-right {
  margin-left: .3em;
}
.kernel_busy_icon:before.pull-left {
  margin-right: .3em;
}
.kernel_busy_icon:before.pull-right {
  margin-left: .3em;
}
.kernel_dead_icon:before {
  display: inline-block;
  font: normal normal normal 14px/1 FontAwesome;
  font-size: inherit;
  text-rendering: auto;
  -webkit-font-smoothing: antialiased;
  -moz-osx-font-smoothing: grayscale;
  content: "\f1e2";
}
.kernel_dead_icon:before.fa-pull-left {
  margin-right: .3em;
}
.kernel_dead_icon:before.fa-pull-right {
  margin-left: .3em;
}
.kernel_dead_icon:before.pull-left {
  margin-right: .3em;
}
.kernel_dead_icon:before.pull-right {
  margin-left: .3em;
}
.kernel_disconnected_icon:before {
  display: inline-block;
  font: normal normal normal 14px/1 FontAwesome;
  font-size: inherit;
  text-rendering: auto;
  -webkit-font-smoothing: antialiased;
  -moz-osx-font-smoothing: grayscale;
  content: "\f127";
}
.kernel_disconnected_icon:before.fa-pull-left {
  margin-right: .3em;
}
.kernel_disconnected_icon:before.fa-pull-right {
  margin-left: .3em;
}
.kernel_disconnected_icon:before.pull-left {
  margin-right: .3em;
}
.kernel_disconnected_icon:before.pull-right {
  margin-left: .3em;
}
.notification_widget {
  color: #777;
  z-index: 10;
  background: rgba(240, 240, 240, 0.5);
  margin-right: 4px;
  color: #333;
  background-color: #fff;
  border-color: #ccc;
}
.notification_widget:focus,
.notification_widget.focus {
  color: #333;
  background-color: #e6e6e6;
  border-color: #8c8c8c;
}
.notification_widget:hover {
  color: #333;
  background-color: #e6e6e6;
  border-color: #adadad;
}
.notification_widget:active,
.notification_widget.active,
.open > .dropdown-toggle.notification_widget {
  color: #333;
  background-color: #e6e6e6;
  border-color: #adadad;
}
.notification_widget:active:hover,
.notification_widget.active:hover,
.open > .dropdown-toggle.notification_widget:hover,
.notification_widget:active:focus,
.notification_widget.active:focus,
.open > .dropdown-toggle.notification_widget:focus,
.notification_widget:active.focus,
.notification_widget.active.focus,
.open > .dropdown-toggle.notification_widget.focus {
  color: #333;
  background-color: #d4d4d4;
  border-color: #8c8c8c;
}
.notification_widget:active,
.notification_widget.active,
.open > .dropdown-toggle.notification_widget {
  background-image: none;
}
.notification_widget.disabled:hover,
.notification_widget[disabled]:hover,
fieldset[disabled] .notification_widget:hover,
.notification_widget.disabled:focus,
.notification_widget[disabled]:focus,
fieldset[disabled] .notification_widget:focus,
.notification_widget.disabled.focus,
.notification_widget[disabled].focus,
fieldset[disabled] .notification_widget.focus {
  background-color: #fff;
  border-color: #ccc;
}
.notification_widget .badge {
  color: #fff;
  background-color: #333;
}
.notification_widget.warning {
  color: #fff;
  background-color: #f0ad4e;
  border-color: #eea236;
}
.notification_widget.warning:focus,
.notification_widget.warning.focus {
  color: #fff;
  background-color: #ec971f;
  border-color: #985f0d;
}
.notification_widget.warning:hover {
  color: #fff;
  background-color: #ec971f;
  border-color: #d58512;
}
.notification_widget.warning:active,
.notification_widget.warning.active,
.open > .dropdown-toggle.notification_widget.warning {
  color: #fff;
  background-color: #ec971f;
  border-color: #d58512;
}
.notification_widget.warning:active:hover,
.notification_widget.warning.active:hover,
.open > .dropdown-toggle.notification_widget.warning:hover,
.notification_widget.warning:active:focus,
.notification_widget.warning.active:focus,
.open > .dropdown-toggle.notification_widget.warning:focus,
.notification_widget.warning:active.focus,
.notification_widget.warning.active.focus,
.open > .dropdown-toggle.notification_widget.warning.focus {
  color: #fff;
  background-color: #d58512;
  border-color: #985f0d;
}
.notification_widget.warning:active,
.notification_widget.warning.active,
.open > .dropdown-toggle.notification_widget.warning {
  background-image: none;
}
.notification_widget.warning.disabled:hover,
.notification_widget.warning[disabled]:hover,
fieldset[disabled] .notification_widget.warning:hover,
.notification_widget.warning.disabled:focus,
.notification_widget.warning[disabled]:focus,
fieldset[disabled] .notification_widget.warning:focus,
.notification_widget.warning.disabled.focus,
.notification_widget.warning[disabled].focus,
fieldset[disabled] .notification_widget.warning.focus {
  background-color: #f0ad4e;
  border-color: #eea236;
}
.notification_widget.warning .badge {
  color: #f0ad4e;
  background-color: #fff;
}
.notification_widget.success {
  color: #fff;
  background-color: #5cb85c;
  border-color: #4cae4c;
}
.notification_widget.success:focus,
.notification_widget.success.focus {
  color: #fff;
  background-color: #449d44;
  border-color: #255625;
}
.notification_widget.success:hover {
  color: #fff;
  background-color: #449d44;
  border-color: #398439;
}
.notification_widget.success:active,
.notification_widget.success.active,
.open > .dropdown-toggle.notification_widget.success {
  color: #fff;
  background-color: #449d44;
  border-color: #398439;
}
.notification_widget.success:active:hover,
.notification_widget.success.active:hover,
.open > .dropdown-toggle.notification_widget.success:hover,
.notification_widget.success:active:focus,
.notification_widget.success.active:focus,
.open > .dropdown-toggle.notification_widget.success:focus,
.notification_widget.success:active.focus,
.notification_widget.success.active.focus,
.open > .dropdown-toggle.notification_widget.success.focus {
  color: #fff;
  background-color: #398439;
  border-color: #255625;
}
.notification_widget.success:active,
.notification_widget.success.active,
.open > .dropdown-toggle.notification_widget.success {
  background-image: none;
}
.notification_widget.success.disabled:hover,
.notification_widget.success[disabled]:hover,
fieldset[disabled] .notification_widget.success:hover,
.notification_widget.success.disabled:focus,
.notification_widget.success[disabled]:focus,
fieldset[disabled] .notification_widget.success:focus,
.notification_widget.success.disabled.focus,
.notification_widget.success[disabled].focus,
fieldset[disabled] .notification_widget.success.focus {
  background-color: #5cb85c;
  border-color: #4cae4c;
}
.notification_widget.success .badge {
  color: #5cb85c;
  background-color: #fff;
}
.notification_widget.info {
  color: #fff;
  background-color: #5bc0de;
  border-color: #46b8da;
}
.notification_widget.info:focus,
.notification_widget.info.focus {
  color: #fff;
  background-color: #31b0d5;
  border-color: #1b6d85;
}
.notification_widget.info:hover {
  color: #fff;
  background-color: #31b0d5;
  border-color: #269abc;
}
.notification_widget.info:active,
.notification_widget.info.active,
.open > .dropdown-toggle.notification_widget.info {
  color: #fff;
  background-color: #31b0d5;
  border-color: #269abc;
}
.notification_widget.info:active:hover,
.notification_widget.info.active:hover,
.open > .dropdown-toggle.notification_widget.info:hover,
.notification_widget.info:active:focus,
.notification_widget.info.active:focus,
.open > .dropdown-toggle.notification_widget.info:focus,
.notification_widget.info:active.focus,
.notification_widget.info.active.focus,
.open > .dropdown-toggle.notification_widget.info.focus {
  color: #fff;
  background-color: #269abc;
  border-color: #1b6d85;
}
.notification_widget.info:active,
.notification_widget.info.active,
.open > .dropdown-toggle.notification_widget.info {
  background-image: none;
}
.notification_widget.info.disabled:hover,
.notification_widget.info[disabled]:hover,
fieldset[disabled] .notification_widget.info:hover,
.notification_widget.info.disabled:focus,
.notification_widget.info[disabled]:focus,
fieldset[disabled] .notification_widget.info:focus,
.notification_widget.info.disabled.focus,
.notification_widget.info[disabled].focus,
fieldset[disabled] .notification_widget.info.focus {
  background-color: #5bc0de;
  border-color: #46b8da;
}
.notification_widget.info .badge {
  color: #5bc0de;
  background-color: #fff;
}
.notification_widget.danger {
  color: #fff;
  background-color: #d9534f;
  border-color: #d43f3a;
}
.notification_widget.danger:focus,
.notification_widget.danger.focus {
  color: #fff;
  background-color: #c9302c;
  border-color: #761c19;
}
.notification_widget.danger:hover {
  color: #fff;
  background-color: #c9302c;
  border-color: #ac2925;
}
.notification_widget.danger:active,
.notification_widget.danger.active,
.open > .dropdown-toggle.notification_widget.danger {
  color: #fff;
  background-color: #c9302c;
  border-color: #ac2925;
}
.notification_widget.danger:active:hover,
.notification_widget.danger.active:hover,
.open > .dropdown-toggle.notification_widget.danger:hover,
.notification_widget.danger:active:focus,
.notification_widget.danger.active:focus,
.open > .dropdown-toggle.notification_widget.danger:focus,
.notification_widget.danger:active.focus,
.notification_widget.danger.active.focus,
.open > .dropdown-toggle.notification_widget.danger.focus {
  color: #fff;
  background-color: #ac2925;
  border-color: #761c19;
}
.notification_widget.danger:active,
.notification_widget.danger.active,
.open > .dropdown-toggle.notification_widget.danger {
  background-image: none;
}
.notification_widget.danger.disabled:hover,
.notification_widget.danger[disabled]:hover,
fieldset[disabled] .notification_widget.danger:hover,
.notification_widget.danger.disabled:focus,
.notification_widget.danger[disabled]:focus,
fieldset[disabled] .notification_widget.danger:focus,
.notification_widget.danger.disabled.focus,
.notification_widget.danger[disabled].focus,
fieldset[disabled] .notification_widget.danger.focus {
  background-color: #d9534f;
  border-color: #d43f3a;
}
.notification_widget.danger .badge {
  color: #d9534f;
  background-color: #fff;
}
div#pager {
  background-color: #fff;
  font-size: 14px;
  line-height: 20px;
  overflow: hidden;
  display: none;
  position: fixed;
  bottom: 0px;
  width: 100%;
  max-height: 50%;
  padding-top: 8px;
  -webkit-box-shadow: 0px 0px 12px 1px rgba(87, 87, 87, 0.2);
  box-shadow: 0px 0px 12px 1px rgba(87, 87, 87, 0.2);
  /* Display over codemirror */
  z-index: 100;
  /* Hack which prevents jquery ui resizable from changing top. */
  top: auto !important;
}
div#pager pre {
  line-height: 1.21429em;
  color: #000;
  background-color: #f7f7f7;
  padding: 0.4em;
}
div#pager #pager-button-area {
  position: absolute;
  top: 8px;
  right: 20px;
}
div#pager #pager-contents {
  position: relative;
  overflow: auto;
  width: 100%;
  height: 100%;
}
div#pager #pager-contents #pager-container {
  position: relative;
  padding: 15px 0px;
  box-sizing: border-box;
  -moz-box-sizing: border-box;
  -webkit-box-sizing: border-box;
}
div#pager .ui-resizable-handle {
  top: 0px;
  height: 8px;
  background: #f7f7f7;
  border-top: 1px solid #cfcfcf;
  border-bottom: 1px solid #cfcfcf;
  /* This injects handle bars (a short, wide = symbol) for 
        the resize handle. */
}
div#pager .ui-resizable-handle::after {
  content: '';
  top: 2px;
  left: 50%;
  height: 3px;
  width: 30px;
  margin-left: -15px;
  position: absolute;
  border-top: 1px solid #cfcfcf;
}
.quickhelp {
  /* Old browsers */
  display: -webkit-box;
  -webkit-box-orient: horizontal;
  -webkit-box-align: stretch;
  display: -moz-box;
  -moz-box-orient: horizontal;
  -moz-box-align: stretch;
  display: box;
  box-orient: horizontal;
  box-align: stretch;
  /* Modern browsers */
  display: flex;
  flex-direction: row;
  align-items: stretch;
  line-height: 1.8em;
}
.shortcut_key {
  display: inline-block;
  width: 21ex;
  text-align: right;
  font-family: monospace;
}
.shortcut_descr {
  display: inline-block;
  /* Old browsers */
  -webkit-box-flex: 1;
  -moz-box-flex: 1;
  box-flex: 1;
  /* Modern browsers */
  flex: 1;
}
span.save_widget {
  height: 30px;
  margin-top: 4px;
  display: flex;
  justify-content: flex-start;
  align-items: baseline;
  width: 50%;
  flex: 1;
}
span.save_widget span.filename {
  height: 100%;
  line-height: 1em;
  margin-left: 16px;
  border: none;
  font-size: 146.5%;
  text-overflow: ellipsis;
  overflow: hidden;
  white-space: nowrap;
  border-radius: 2px;
}
span.save_widget span.filename:hover {
  background-color: #e6e6e6;
}
[dir="rtl"] span.save_widget.pull-left {
  float: right !important;
  float: right;
}
[dir="rtl"] span.save_widget span.filename {
  margin-left: 0;
  margin-right: 16px;
}
span.checkpoint_status,
span.autosave_status {
  font-size: small;
  white-space: nowrap;
  padding: 0 5px;
}
@media (max-width: 767px) {
  span.save_widget {
    font-size: small;
    padding: 0 0 0 5px;
  }
  span.checkpoint_status,
  span.autosave_status {
    display: none;
  }
}
@media (min-width: 768px) and (max-width: 991px) {
  span.checkpoint_status {
    display: none;
  }
  span.autosave_status {
    font-size: x-small;
  }
}
.toolbar {
  padding: 0px;
  margin-left: -5px;
  margin-top: 2px;
  margin-bottom: 5px;
  box-sizing: border-box;
  -moz-box-sizing: border-box;
  -webkit-box-sizing: border-box;
}
.toolbar select,
.toolbar label {
  width: auto;
  vertical-align: middle;
  margin-right: 2px;
  margin-bottom: 0px;
  display: inline;
  font-size: 92%;
  margin-left: 0.3em;
  margin-right: 0.3em;
  padding: 0px;
  padding-top: 3px;
}
.toolbar .btn {
  padding: 2px 8px;
}
.toolbar .btn-group {
  margin-top: 0px;
  margin-left: 5px;
}
.toolbar-btn-label {
  margin-left: 6px;
}
#maintoolbar {
  margin-bottom: -3px;
  margin-top: -8px;
  border: 0px;
  min-height: 27px;
  margin-left: 0px;
  padding-top: 11px;
  padding-bottom: 3px;
}
#maintoolbar .navbar-text {
  float: none;
  vertical-align: middle;
  text-align: right;
  margin-left: 5px;
  margin-right: 0px;
  margin-top: 0px;
}
.select-xs {
  height: 24px;
}
[dir="rtl"] .btn-group > .btn,
.btn-group-vertical > .btn {
  float: right;
}
.pulse,
.dropdown-menu > li > a.pulse,
li.pulse > a.dropdown-toggle,
li.pulse.open > a.dropdown-toggle {
  background-color: #F37626;
  color: white;
}
/**
 * Primary styles
 *
 * Author: Jupyter Development Team
 */
/** WARNING IF YOU ARE EDITTING THIS FILE, if this is a .css file, It has a lot
 * of chance of beeing generated from the ../less/[samename].less file, you can
 * try to get back the less file by reverting somme commit in history
 **/
/*
 * We'll try to get something pretty, so we
 * have some strange css to have the scroll bar on
 * the left with fix button on the top right of the tooltip
 */
@-moz-keyframes fadeOut {
  from {
    opacity: 1;
  }
  to {
    opacity: 0;
  }
}
@-webkit-keyframes fadeOut {
  from {
    opacity: 1;
  }
  to {
    opacity: 0;
  }
}
@-moz-keyframes fadeIn {
  from {
    opacity: 0;
  }
  to {
    opacity: 1;
  }
}
@-webkit-keyframes fadeIn {
  from {
    opacity: 0;
  }
  to {
    opacity: 1;
  }
}
/*properties of tooltip after "expand"*/
.bigtooltip {
  overflow: auto;
  height: 200px;
  -webkit-transition-property: height;
  -webkit-transition-duration: 500ms;
  -moz-transition-property: height;
  -moz-transition-duration: 500ms;
  transition-property: height;
  transition-duration: 500ms;
}
/*properties of tooltip before "expand"*/
.smalltooltip {
  -webkit-transition-property: height;
  -webkit-transition-duration: 500ms;
  -moz-transition-property: height;
  -moz-transition-duration: 500ms;
  transition-property: height;
  transition-duration: 500ms;
  text-overflow: ellipsis;
  overflow: hidden;
  height: 80px;
}
.tooltipbuttons {
  position: absolute;
  padding-right: 15px;
  top: 0px;
  right: 0px;
}
.tooltiptext {
  /*avoid the button to overlap on some docstring*/
  padding-right: 30px;
}
.ipython_tooltip {
  max-width: 700px;
  /*fade-in animation when inserted*/
  -webkit-animation: fadeOut 400ms;
  -moz-animation: fadeOut 400ms;
  animation: fadeOut 400ms;
  -webkit-animation: fadeIn 400ms;
  -moz-animation: fadeIn 400ms;
  animation: fadeIn 400ms;
  vertical-align: middle;
  background-color: #f7f7f7;
  overflow: visible;
  border: #ababab 1px solid;
  outline: none;
  padding: 3px;
  margin: 0px;
  padding-left: 7px;
  font-family: monospace;
  min-height: 50px;
  -moz-box-shadow: 0px 6px 10px -1px #adadad;
  -webkit-box-shadow: 0px 6px 10px -1px #adadad;
  box-shadow: 0px 6px 10px -1px #adadad;
  border-radius: 2px;
  position: absolute;
  z-index: 1000;
}
.ipython_tooltip a {
  float: right;
}
.ipython_tooltip .tooltiptext pre {
  border: 0;
  border-radius: 0;
  font-size: 100%;
  background-color: #f7f7f7;
}
.pretooltiparrow {
  left: 0px;
  margin: 0px;
  top: -16px;
  width: 40px;
  height: 16px;
  overflow: hidden;
  position: absolute;
}
.pretooltiparrow:before {
  background-color: #f7f7f7;
  border: 1px #ababab solid;
  z-index: 11;
  content: "";
  position: absolute;
  left: 15px;
  top: 10px;
  width: 25px;
  height: 25px;
  -webkit-transform: rotate(45deg);
  -moz-transform: rotate(45deg);
  -ms-transform: rotate(45deg);
  -o-transform: rotate(45deg);
}
ul.typeahead-list i {
  margin-left: -10px;
  width: 18px;
}
[dir="rtl"] ul.typeahead-list i {
  margin-left: 0;
  margin-right: -10px;
}
ul.typeahead-list {
  max-height: 80vh;
  overflow: auto;
}
ul.typeahead-list > li > a {
  /** Firefox bug **/
  /* see https://github.com/jupyter/notebook/issues/559 */
  white-space: normal;
}
ul.typeahead-list  > li > a.pull-right {
  float: left !important;
  float: left;
}
[dir="rtl"] .typeahead-list {
  text-align: right;
}
.cmd-palette .modal-body {
  padding: 7px;
}
.cmd-palette form {
  background: white;
}
.cmd-palette input {
  outline: none;
}
.no-shortcut {
  min-width: 20px;
  color: transparent;
}
[dir="rtl"] .no-shortcut.pull-right {
  float: left !important;
  float: left;
}
[dir="rtl"] .command-shortcut.pull-right {
  float: left !important;
  float: left;
}
.command-shortcut:before {
  content: "(command mode)";
  padding-right: 3px;
  color: #777777;
}
.edit-shortcut:before {
  content: "(edit)";
  padding-right: 3px;
  color: #777777;
}
[dir="rtl"] .edit-shortcut.pull-right {
  float: left !important;
  float: left;
}
#find-and-replace #replace-preview .match,
#find-and-replace #replace-preview .insert {
  background-color: #BBDEFB;
  border-color: #90CAF9;
  border-style: solid;
  border-width: 1px;
  border-radius: 0px;
}
[dir="ltr"] #find-and-replace .input-group-btn + .form-control {
  border-left: none;
}
[dir="rtl"] #find-and-replace .input-group-btn + .form-control {
  border-right: none;
}
#find-and-replace #replace-preview .replace .match {
  background-color: #FFCDD2;
  border-color: #EF9A9A;
  border-radius: 0px;
}
#find-and-replace #replace-preview .replace .insert {
  background-color: #C8E6C9;
  border-color: #A5D6A7;
  border-radius: 0px;
}
#find-and-replace #replace-preview {
  max-height: 60vh;
  overflow: auto;
}
#find-and-replace #replace-preview pre {
  padding: 5px 10px;
}
.terminal-app {
  background: #EEE;
}
.terminal-app #header {
  background: #fff;
  -webkit-box-shadow: 0px 0px 12px 1px rgba(87, 87, 87, 0.2);
  box-shadow: 0px 0px 12px 1px rgba(87, 87, 87, 0.2);
}
.terminal-app .terminal {
  width: 100%;
  float: left;
  font-family: monospace;
  color: white;
  background: black;
  padding: 0.4em;
  border-radius: 2px;
  -webkit-box-shadow: 0px 0px 12px 1px rgba(87, 87, 87, 0.4);
  box-shadow: 0px 0px 12px 1px rgba(87, 87, 87, 0.4);
}
.terminal-app .terminal,
.terminal-app .terminal dummy-screen {
  line-height: 1em;
  font-size: 14px;
}
.terminal-app .terminal .xterm-rows {
  padding: 10px;
}
.terminal-app .terminal-cursor {
  color: black;
  background: white;
}
.terminal-app #terminado-container {
  margin-top: 20px;
}
/*# sourceMappingURL=style.min.css.map */
    </style>
<style type="text/css">
    .highlight .hll { background-color: #ffffcc }
.highlight  { background: #f8f8f8; }
.highlight .c { color: #408080; font-style: italic } /* Comment */
.highlight .err { border: 1px solid #FF0000 } /* Error */
.highlight .k { color: #008000; font-weight: bold } /* Keyword */
.highlight .o { color: #666666 } /* Operator */
.highlight .ch { color: #408080; font-style: italic } /* Comment.Hashbang */
.highlight .cm { color: #408080; font-style: italic } /* Comment.Multiline */
.highlight .cp { color: #BC7A00 } /* Comment.Preproc */
.highlight .cpf { color: #408080; font-style: italic } /* Comment.PreprocFile */
.highlight .c1 { color: #408080; font-style: italic } /* Comment.Single */
.highlight .cs { color: #408080; font-style: italic } /* Comment.Special */
.highlight .gd { color: #A00000 } /* Generic.Deleted */
.highlight .ge { font-style: italic } /* Generic.Emph */
.highlight .gr { color: #FF0000 } /* Generic.Error */
.highlight .gh { color: #000080; font-weight: bold } /* Generic.Heading */
.highlight .gi { color: #00A000 } /* Generic.Inserted */
.highlight .go { color: #888888 } /* Generic.Output */
.highlight .gp { color: #000080; font-weight: bold } /* Generic.Prompt */
.highlight .gs { font-weight: bold } /* Generic.Strong */
.highlight .gu { color: #800080; font-weight: bold } /* Generic.Subheading */
.highlight .gt { color: #0044DD } /* Generic.Traceback */
.highlight .kc { color: #008000; font-weight: bold } /* Keyword.Constant */
.highlight .kd { color: #008000; font-weight: bold } /* Keyword.Declaration */
.highlight .kn { color: #008000; font-weight: bold } /* Keyword.Namespace */
.highlight .kp { color: #008000 } /* Keyword.Pseudo */
.highlight .kr { color: #008000; font-weight: bold } /* Keyword.Reserved */
.highlight .kt { color: #B00040 } /* Keyword.Type */
.highlight .m { color: #666666 } /* Literal.Number */
.highlight .s { color: #BA2121 } /* Literal.String */
.highlight .na { color: #7D9029 } /* Name.Attribute */
.highlight .nb { color: #008000 } /* Name.Builtin */
.highlight .nc { color: #0000FF; font-weight: bold } /* Name.Class */
.highlight .no { color: #880000 } /* Name.Constant */
.highlight .nd { color: #AA22FF } /* Name.Decorator */
.highlight .ni { color: #999999; font-weight: bold } /* Name.Entity */
.highlight .ne { color: #D2413A; font-weight: bold } /* Name.Exception */
.highlight .nf { color: #0000FF } /* Name.Function */
.highlight .nl { color: #A0A000 } /* Name.Label */
.highlight .nn { color: #0000FF; font-weight: bold } /* Name.Namespace */
.highlight .nt { color: #008000; font-weight: bold } /* Name.Tag */
.highlight .nv { color: #19177C } /* Name.Variable */
.highlight .ow { color: #AA22FF; font-weight: bold } /* Operator.Word */
.highlight .w { color: #bbbbbb } /* Text.Whitespace */
.highlight .mb { color: #666666 } /* Literal.Number.Bin */
.highlight .mf { color: #666666 } /* Literal.Number.Float */
.highlight .mh { color: #666666 } /* Literal.Number.Hex */
.highlight .mi { color: #666666 } /* Literal.Number.Integer */
.highlight .mo { color: #666666 } /* Literal.Number.Oct */
.highlight .sa { color: #BA2121 } /* Literal.String.Affix */
.highlight .sb { color: #BA2121 } /* Literal.String.Backtick */
.highlight .sc { color: #BA2121 } /* Literal.String.Char */
.highlight .dl { color: #BA2121 } /* Literal.String.Delimiter */
.highlight .sd { color: #BA2121; font-style: italic } /* Literal.String.Doc */
.highlight .s2 { color: #BA2121 } /* Literal.String.Double */
.highlight .se { color: #BB6622; font-weight: bold } /* Literal.String.Escape */
.highlight .sh { color: #BA2121 } /* Literal.String.Heredoc */
.highlight .si { color: #BB6688; font-weight: bold } /* Literal.String.Interpol */
.highlight .sx { color: #008000 } /* Literal.String.Other */
.highlight .sr { color: #BB6688 } /* Literal.String.Regex */
.highlight .s1 { color: #BA2121 } /* Literal.String.Single */
.highlight .ss { color: #19177C } /* Literal.String.Symbol */
.highlight .bp { color: #008000 } /* Name.Builtin.Pseudo */
.highlight .fm { color: #0000FF } /* Name.Function.Magic */
.highlight .vc { color: #19177C } /* Name.Variable.Class */
.highlight .vg { color: #19177C } /* Name.Variable.Global */
.highlight .vi { color: #19177C } /* Name.Variable.Instance */
.highlight .vm { color: #19177C } /* Name.Variable.Magic */
.highlight .il { color: #666666 } /* Literal.Number.Integer.Long */
    </style>
<style type="text/css">
    
/* Temporary definitions which will become obsolete with Notebook release 5.0 */
.ansi-black-fg { color: #3E424D; }
.ansi-black-bg { background-color: #3E424D; }
.ansi-black-intense-fg { color: #282C36; }
.ansi-black-intense-bg { background-color: #282C36; }
.ansi-red-fg { color: #E75C58; }
.ansi-red-bg { background-color: #E75C58; }
.ansi-red-intense-fg { color: #B22B31; }
.ansi-red-intense-bg { background-color: #B22B31; }
.ansi-green-fg { color: #00A250; }
.ansi-green-bg { background-color: #00A250; }
.ansi-green-intense-fg { color: #007427; }
.ansi-green-intense-bg { background-color: #007427; }
.ansi-yellow-fg { color: #DDB62B; }
.ansi-yellow-bg { background-color: #DDB62B; }
.ansi-yellow-intense-fg { color: #B27D12; }
.ansi-yellow-intense-bg { background-color: #B27D12; }
.ansi-blue-fg { color: #208FFB; }
.ansi-blue-bg { background-color: #208FFB; }
.ansi-blue-intense-fg { color: #0065CA; }
.ansi-blue-intense-bg { background-color: #0065CA; }
.ansi-magenta-fg { color: #D160C4; }
.ansi-magenta-bg { background-color: #D160C4; }
.ansi-magenta-intense-fg { color: #A03196; }
.ansi-magenta-intense-bg { background-color: #A03196; }
.ansi-cyan-fg { color: #60C6C8; }
.ansi-cyan-bg { background-color: #60C6C8; }
.ansi-cyan-intense-fg { color: #258F8F; }
.ansi-cyan-intense-bg { background-color: #258F8F; }
.ansi-white-fg { color: #C5C1B4; }
.ansi-white-bg { background-color: #C5C1B4; }
.ansi-white-intense-fg { color: #A1A6B2; }
.ansi-white-intense-bg { background-color: #A1A6B2; }

.ansi-bold { font-weight: bold; }

    </style>
<style type="text/css">
    body[data-notebook-name] > #header #header-container:not(.show-panel), /* body has data-notebook-name attribute when 
a notebook is open. this rule won't be applied when the notebook is not open (in 404 view for example) */
body[data-notebook-name] #menubar-container #maintoolbar:not(.show-panel),
body[data-notebook-name] #menubar-container ul.navbar-nav:not(.show-panel) {
  display: none;
}

#menubar.only-panel #menus.navbar-default {
    background: #fff;
    border-color: #fff;
}

.toolbar.with-statusbar{
    margin-top: 3px;
    margin-bottom: 0;
}

    </style>


<style type="text/css">
/* Overrides of notebook CSS for static HTML export */
body {
  overflow: visible;
  padding: 8px;
}

div#notebook {
  overflow: visible;
  border-top: none;
}@media print {
  div.cell {
    display: block;
    page-break-inside: avoid;
  } 
  div.output_wrapper { 
    display: block;
    page-break-inside: avoid; 
  }
  div.output { 
    display: block;
    page-break-inside: avoid; 
  }
}
</style>

<!-- Custom stylesheet, it must be in the same directory as the html file -->
<link rel="stylesheet" href="custom.css">

<!-- Loading mathjax macro -->
<!-- Load mathjax -->
    <script src="https://cdnjs.cloudflare.com/ajax/libs/mathjax/2.7.1/MathJax.js?config=TeX-AMS_HTML"></script>
    <!-- MathJax configuration -->
    <script type="text/x-mathjax-config">
    MathJax.Hub.Config({
        tex2jax: {
            inlineMath: [ ['$','$'], ["\\(","\\)"] ],
            displayMath: [ ['$$','$$'], ["\\[","\\]"] ],
            processEscapes: true,
            processEnvironments: true
        },
        // Center justify equations in code and markdown cells. Elsewhere
        // we use CSS to left justify single line equations in code cells.
        displayAlign: 'center',
        "HTML-CSS": {
            styles: {'.MathJax_Display': {"margin": 0}},
            linebreaks: { automatic: true }
        }
    });
    </script>
    <!-- End of mathjax configuration --></head>
<body>
  <div tabindex="-1" id="notebook" class="border-box-sizing">
    <div class="container" id="notebook-container">

<div class="cell border-box-sizing text_cell rendered"><div class="prompt input_prompt">
</div><div class="inner_cell">
<div class="text_cell_render border-box-sizing rendered_html">
<h2 id="Define-the-Convolutional-Neural-Network">Define the Convolutional Neural Network<a class="anchor-link" href="#Define-the-Convolutional-Neural-Network">&#182;</a></h2><p>After you've looked at the data you're working with and, in this case, know the shapes of the images and of the keypoints, you are ready to define a convolutional neural network that can <em>learn</em> from this data.</p>
<p>In this notebook and in <code>models.py</code>, you will:</p>
<ol>
<li>Define a CNN with images as input and keypoints as output</li>
<li>Construct the transformed FaceKeypointsDataset, just as before</li>
<li>Train the CNN on the training data, tracking loss</li>
<li>See how the trained model performs on test data</li>
<li>If necessary, modify the CNN structure and model hyperparameters, so that it performs <em>well</em> <strong>*</strong></li>
</ol>
<p><strong>*</strong> What does <em>well</em> mean?</p>
<p>"Well" means that the model's loss decreases during training <strong>and</strong>, when applied to test image data, the model produces keypoints that closely match the true keypoints of each face. And you'll see examples of this later in the notebook.</p>
<hr>

</div>
</div>
</div>
<div class="cell border-box-sizing text_cell rendered"><div class="prompt input_prompt">
</div><div class="inner_cell">
<div class="text_cell_render border-box-sizing rendered_html">
<h2 id="CNN-Architecture">CNN Architecture<a class="anchor-link" href="#CNN-Architecture">&#182;</a></h2><p>Recall that CNN's are defined by a few types of layers:</p>
<ul>
<li>Convolutional layers</li>
<li>Maxpooling layers</li>
<li>Fully-connected layers</li>
</ul>
<p>You are required to use the above layers and encouraged to add multiple convolutional layers and things like dropout layers that may prevent overfitting. You are also encouraged to look at literature on keypoint detection, such as <a href="https://arxiv.org/pdf/1710.00977.pdf">this paper</a>, to help you determine the structure of your network.</p>
<h3 id="TODO:-Define-your-model-in-the-provided-file-models.py-file">TODO: Define your model in the provided file <code>models.py</code> file<a class="anchor-link" href="#TODO:-Define-your-model-in-the-provided-file-models.py-file">&#182;</a></h3><p>This file is mostly empty but contains the expected name and some TODO's for creating your model.</p>
<hr>

</div>
</div>
</div>
<div class="cell border-box-sizing text_cell rendered"><div class="prompt input_prompt">
</div><div class="inner_cell">
<div class="text_cell_render border-box-sizing rendered_html">
<h2 id="PyTorch-Neural-Nets">PyTorch Neural Nets<a class="anchor-link" href="#PyTorch-Neural-Nets">&#182;</a></h2><p>To define a neural network in PyTorch, you define the layers of a model in the function <code>__init__</code> and define the feedforward behavior of a network that employs those initialized layers in the function <code>forward</code>, which takes in an input image tensor, <code>x</code>. The structure of this Net class is shown below and left for you to fill in.</p>
<p>Note: During training, PyTorch will be able to perform backpropagation by keeping track of the network's feedforward behavior and using autograd to calculate the update to the weights in the network.</p>
<h4 id="Define-the-Layers-in-__init__">Define the Layers in <code>__init__</code><a class="anchor-link" href="#Define-the-Layers-in-__init__">&#182;</a></h4><p>As a reminder, a conv/pool layer may be defined like this (in <code>__init__</code>):</p>

<pre><code># 1 input image channel (for grayscale images), 32 output channels/feature maps, 3x3 square convolution kernel
self.conv1 = nn.Conv2d(1, 32, 3)

# maxpool that uses a square window of kernel_size=2, stride=2
self.pool = nn.MaxPool2d(2, 2)</code></pre>
<h4 id="Refer-to-Layers-in-forward">Refer to Layers in <code>forward</code><a class="anchor-link" href="#Refer-to-Layers-in-forward">&#182;</a></h4><p>Then referred to in the <code>forward</code> function like this, in which the conv1 layer has a ReLu activation applied to it before maxpooling is applied:</p>

<pre><code>x = self.pool(F.relu(self.conv1(x)))</code></pre>
<p>Best practice is to place any layers whose weights will change during the training process in <code>__init__</code> and refer to them in the <code>forward</code> function; any layers or functions that always behave in the same way, such as a pre-defined activation function, should appear <em>only</em> in the <code>forward</code> function.</p>

</div>
</div>
</div>
<div class="cell border-box-sizing text_cell rendered"><div class="prompt input_prompt">
</div><div class="inner_cell">
<div class="text_cell_render border-box-sizing rendered_html">
<h4 id="Why-models.py">Why models.py<a class="anchor-link" href="#Why-models.py">&#182;</a></h4><p>You are tasked with defining the network in the <code>models.py</code> file so that any models you define can be saved and loaded by name in different notebooks in this project directory. For example, by defining a CNN class called <code>Net</code> in <code>models.py</code>, you can then create that same architecture in this and other notebooks by simply importing the class and instantiating a model:</p>

<pre><code>    from models import Net
    net = Net()</code></pre>

</div>
</div>
</div>
<div class="cell border-box-sizing code_cell rendered">
<div class="input">
<div class="prompt input_prompt">In&nbsp;[1]:</div>
<div class="inner_cell">
    <div class="input_area">
<div class=" highlight hl-ipython3"><pre><span></span><span class="c1"># load the data if you need to; if you have already loaded the data, you may comment this cell out</span>
<span class="c1"># -- DO NOT CHANGE THIS CELL -- #</span>
<span class="o">!</span>mkdir /data
<span class="o">!</span>wget -P /data/ https://s3.amazonaws.com/video.udacity-data.com/topher/2018/May/5aea1b91_train-test-data/train-test-data.zip
<span class="o">!</span>unzip -n /data/train-test-data.zip -d /data
</pre></div>

    </div>
</div>
</div>

<div class="output_wrapper">
<div class="output">


<div class="output_area">

    <div class="prompt"></div>


<div class="output_subarea output_stream output_stdout output_text">
<pre>mkdir: cannot create directory ‘/data’: File exists
--2020-03-08 21:09:10--  https://s3.amazonaws.com/video.udacity-data.com/topher/2018/May/5aea1b91_train-test-data/train-test-data.zip
Resolving s3.amazonaws.com (s3.amazonaws.com)... 52.217.36.190
Connecting to s3.amazonaws.com (s3.amazonaws.com)|52.217.36.190|:443... connected.
HTTP request sent, awaiting response... 200 OK
Length: 338613624 (323M) [application/zip]
Saving to: ‘/data/train-test-data.zip.2’

train-test-data.zip 100%[===================&gt;] 322.93M  16.4MB/s    in 21s     

2020-03-08 21:09:32 (15.1 MB/s) - ‘/data/train-test-data.zip.2’ saved [338613624/338613624]

Archive:  /data/train-test-data.zip
</pre>
</div>
</div>

</div>
</div>

</div>
<div class="cell border-box-sizing text_cell rendered"><div class="prompt input_prompt">
</div><div class="inner_cell">
<div class="text_cell_render border-box-sizing rendered_html">
<h2 id="Working-on-Collab:">Working on Collab:<a class="anchor-link" href="#Working-on-Collab:">&#182;</a></h2><p>To allow using GPU we need to install pytorch and torchvision then switch to GPU mode</p>

</div>
</div>
</div>
<div class="cell border-box-sizing text_cell rendered"><div class="prompt input_prompt">
</div><div class="inner_cell">
<div class="text_cell_render border-box-sizing rendered_html">
<p><div class="alert alert-info">**Note:** Workspaces automatically close connections after 30 minutes of inactivity (including inactivity while training!). Use the code snippet below to keep your workspace alive during training. (The active_session context manager is imported below.)
</div></p>

<pre><code>from workspace_utils import active_session

with active_session():
    train_model(num_epochs)</code></pre>

</div>
</div>
</div>
<div class="cell border-box-sizing code_cell rendered">
<div class="input">
<div class="prompt input_prompt">In&nbsp;[1]:</div>
<div class="inner_cell">
    <div class="input_area">
<div class=" highlight hl-ipython3"><pre><span></span><span class="o">!</span>pip3 install http://download.pytorch.org/whl/cu80/torch-0.3.0.post4-cp36-cp36m-linux_x86_64.whl 
</pre></div>

    </div>
</div>
</div>

<div class="output_wrapper">
<div class="output">


<div class="output_area">

    <div class="prompt"></div>


<div class="output_subarea output_stream output_stdout output_text">
<pre>Collecting torch==0.3.0.post4
  Downloading http://download.pytorch.org/whl/cu80/torch-0.3.0.post4-cp36-cp36m-linux_x86_64.whl (592.3MB)
     |████████████████████████████████| 592.3MB 2.0MB/s 
Requirement already satisfied: pyyaml in /usr/local/lib/python3.6/dist-packages (from torch==0.3.0.post4) (3.13)
Requirement already satisfied: numpy in /usr/local/lib/python3.6/dist-packages (from torch==0.3.0.post4) (1.17.5)
<span class="ansi-red-fg">ERROR: torchvision 0.5.0 has requirement torch==1.4.0, but you&#39;ll have torch 0.3.0.post4 which is incompatible.</span>
<span class="ansi-red-fg">ERROR: fastai 1.0.60 has requirement torch&gt;=1.0.0, but you&#39;ll have torch 0.3.0.post4 which is incompatible.</span>
Installing collected packages: torch
  Found existing installation: torch 1.4.0
    Uninstalling torch-1.4.0:
      Successfully uninstalled torch-1.4.0
Successfully installed torch-0.3.0.post4
</pre>
</div>
</div>

</div>
</div>

</div>
<div class="cell border-box-sizing code_cell rendered">
<div class="input">
<div class="prompt input_prompt">In&nbsp;[2]:</div>
<div class="inner_cell">
    <div class="input_area">
<div class=" highlight hl-ipython3"><pre><span></span><span class="o">!</span>pip3 install torchvision
</pre></div>

    </div>
</div>
</div>

<div class="output_wrapper">
<div class="output">


<div class="output_area">

    <div class="prompt"></div>


<div class="output_subarea output_stream output_stdout output_text">
<pre>Requirement already satisfied: torchvision in /usr/local/lib/python3.6/dist-packages (0.5.0)
Requirement already satisfied: pillow&gt;=4.1.1 in /usr/local/lib/python3.6/dist-packages (from torchvision) (6.2.2)
Requirement already satisfied: numpy in /usr/local/lib/python3.6/dist-packages (from torchvision) (1.17.5)
Requirement already satisfied: six in /usr/local/lib/python3.6/dist-packages (from torchvision) (1.12.0)
Collecting torch==1.4.0
  Downloading https://files.pythonhosted.org/packages/24/19/4804aea17cd136f1705a5e98a00618cb8f6ccc375ad8bfa437408e09d058/torch-1.4.0-cp36-cp36m-manylinux1_x86_64.whl (753.4MB)
     |████████████████████████████████| 753.4MB 19kB/s 
Installing collected packages: torch
  Found existing installation: torch 0.3.0.post4
    Uninstalling torch-0.3.0.post4:
      Successfully uninstalled torch-0.3.0.post4
Successfully installed torch-1.4.0
</pre>
</div>
</div>

</div>
</div>

</div>
<div class="cell border-box-sizing code_cell rendered">
<div class="input">
<div class="prompt input_prompt">In&nbsp;[1]:</div>
<div class="inner_cell">
    <div class="input_area">
<div class=" highlight hl-ipython3"><pre><span></span><span class="c1"># import the usual resources</span>
<span class="kn">import</span> <span class="nn">matplotlib.pyplot</span> <span class="k">as</span> <span class="nn">plt</span>
<span class="kn">import</span> <span class="nn">numpy</span> <span class="k">as</span> <span class="nn">np</span>

<span class="c1"># import utilities to keep workspaces alive during model training</span>
<span class="kn">from</span> <span class="nn">workspace_utils</span> <span class="k">import</span> <span class="n">active_session</span>

<span class="c1"># watch for any changes in model.py, if it changes, re-load it automatically</span>
<span class="o">%</span><span class="k">load_ext</span> autoreload
<span class="o">%</span><span class="k">autoreload</span> 2
</pre></div>

    </div>
</div>
</div>

</div>
<div class="cell border-box-sizing code_cell rendered">
<div class="input">
<div class="prompt input_prompt">In&nbsp;[16]:</div>
<div class="inner_cell">
    <div class="input_area">
<div class=" highlight hl-ipython3"><pre><span></span><span class="c1">## TODO: Define the Net in models.py</span>

<span class="kn">import</span> <span class="nn">torch</span>
<span class="kn">import</span> <span class="nn">torch.nn</span> <span class="k">as</span> <span class="nn">nn</span>
<span class="kn">import</span> <span class="nn">torch.nn.functional</span> <span class="k">as</span> <span class="nn">F</span>


<span class="kn">from</span> <span class="nn">models</span> <span class="k">import</span> <span class="n">Net</span>

<span class="n">net</span> <span class="o">=</span> <span class="n">Net</span><span class="p">()</span>
<span class="c1">#net.apply(net.init_weights)</span>
<span class="c1">#net2 = Net()</span>
<span class="k">if</span> <span class="n">torch</span><span class="o">.</span><span class="n">cuda</span><span class="o">.</span><span class="n">is_available</span><span class="p">():</span>
    <span class="n">net</span><span class="o">.</span><span class="n">cuda</span><span class="p">()</span>
<span class="nb">print</span><span class="p">(</span><span class="n">net</span><span class="p">)</span>
</pre></div>

    </div>
</div>
</div>

<div class="output_wrapper">
<div class="output">


<div class="output_area">

    <div class="prompt"></div>


<div class="output_subarea output_stream output_stdout output_text">
<pre>Net(
  (conv1): Conv2d(1, 32, kernel_size=(4, 4), stride=(1, 1))
  (drop1): Dropout(p=0.1, inplace=False)
  (conv2): Conv2d(32, 64, kernel_size=(3, 3), stride=(1, 1))
  (drop2): Dropout(p=0.2, inplace=False)
  (conv3): Conv2d(64, 128, kernel_size=(2, 2), stride=(1, 1))
  (drop3): Dropout(p=0.3, inplace=False)
  (conv4): Conv2d(128, 256, kernel_size=(1, 1), stride=(1, 1))
  (drop4): Dropout(p=0.4, inplace=False)
  (dense1): Linear(in_features=43264, out_features=1000, bias=True)
  (pool): MaxPool2d(kernel_size=2, stride=2, padding=0, dilation=1, ceil_mode=False)
  (drop5): Dropout(p=0.5, inplace=False)
  (drop6): Dropout(p=0.6, inplace=False)
  (dense2): Linear(in_features=1000, out_features=300, bias=True)
  (dense3): Linear(in_features=300, out_features=136, bias=True)
)
</pre>
</div>
</div>

</div>
</div>

</div>
<div class="cell border-box-sizing text_cell rendered"><div class="prompt input_prompt">
</div><div class="inner_cell">
<div class="text_cell_render border-box-sizing rendered_html">
<h2 id="Transform-the-dataset">Transform the dataset<a class="anchor-link" href="#Transform-the-dataset">&#182;</a></h2><p>To prepare for training, create a transformed dataset of images and keypoints.</p>
<h3 id="TODO:-Define-a-data-transform">TODO: Define a data transform<a class="anchor-link" href="#TODO:-Define-a-data-transform">&#182;</a></h3><p>In PyTorch, a convolutional neural network expects a torch image of a consistent size as input. For efficient training, and so your model's loss does not blow up during training, it is also suggested that you normalize the input images and keypoints. The necessary transforms have been defined in <code>data_load.py</code> and you <strong>do not</strong> need to modify these; take a look at this file (you'll see the same transforms that were defined and applied in Notebook 1).</p>
<p>To define the data transform below, use a <a href="http://pytorch.org/tutorials/beginner/data_loading_tutorial.html#compose-transforms">composition</a> of:</p>
<ol>
<li>Rescaling and/or cropping the data, such that you are left with a square image (the suggested size is 224x224px)</li>
<li>Normalizing the images and keypoints; turning each RGB image into a grayscale image with a color range of [0, 1] and transforming the given keypoints into a range of [-1, 1]</li>
<li>Turning these images and keypoints into Tensors</li>
</ol>
<p>These transformations have been defined in <code>data_load.py</code>, but it's up to you to call them and create a <code>data_transform</code> below. <strong>This transform will be applied to the training data and, later, the test data</strong>. It will change how you go about displaying these images and keypoints, but these steps are essential for efficient training.</p>
<p>As a note, should you want to perform data augmentation (which is optional in this project), and randomly rotate or shift these images, a square image size will be useful; rotating a 224x224 image by 90 degrees will result in the same shape of output.</p>

</div>
</div>
</div>
<div class="cell border-box-sizing code_cell rendered">
<div class="input">
<div class="prompt input_prompt">In&nbsp;[0]:</div>
<div class="inner_cell">
    <div class="input_area">
<div class=" highlight hl-ipython3"><pre><span></span><span class="kn">from</span> <span class="nn">torch.utils.data</span> <span class="k">import</span> <span class="n">Dataset</span><span class="p">,</span> <span class="n">DataLoader</span>
<span class="kn">from</span> <span class="nn">torchvision</span> <span class="k">import</span> <span class="n">transforms</span><span class="p">,</span> <span class="n">utils</span>

<span class="c1"># the dataset we created in Notebook 1 is copied in the helper file `data_load.py`</span>
<span class="kn">from</span> <span class="nn">data_load</span> <span class="k">import</span> <span class="n">FacialKeypointsDataset</span>
<span class="c1"># the transforms we defined in Notebook 1 are in the helper file `data_load.py`</span>
<span class="c1"># from data_load import Rescale, RandomCrop, Normalize, ToTensor</span>


<span class="c1">## TODO: define the data_transform using transforms.Compose([all tx&#39;s, . , .])</span>
<span class="c1"># order matters! i.e. rescaling should come before a smaller crop</span>
<span class="n">data_transform</span> <span class="o">=</span> <span class="n">transforms</span><span class="o">.</span><span class="n">Compose</span><span class="p">([</span><span class="n">Rescale</span><span class="p">(</span><span class="mi">250</span><span class="p">),</span>
                                     <span class="n">RandomCrop</span><span class="p">(</span><span class="mi">224</span><span class="p">),</span>
                                     <span class="n">Normalize</span><span class="p">(),</span>
                                     <span class="n">ToTensor</span><span class="p">()])</span>


<span class="c1"># testing that you&#39;ve defined a transform</span>
<span class="k">assert</span><span class="p">(</span><span class="n">data_transform</span> <span class="ow">is</span> <span class="ow">not</span> <span class="kc">None</span><span class="p">),</span> <span class="s1">&#39;Define a data_transform&#39;</span>
</pre></div>

    </div>
</div>
</div>

</div>
<div class="cell border-box-sizing code_cell rendered">
<div class="input">
<div class="prompt input_prompt">In&nbsp;[7]:</div>
<div class="inner_cell">
    <div class="input_area">
<div class=" highlight hl-ipython3"><pre><span></span><span class="c1"># create the transformed dataset</span>
<span class="n">transformed_dataset</span> <span class="o">=</span> <span class="n">FacialKeypointsDataset</span><span class="p">(</span><span class="n">csv_file</span><span class="o">=</span><span class="s1">&#39;/data/training_frames_keypoints.csv&#39;</span><span class="p">,</span>
                                             <span class="n">root_dir</span><span class="o">=</span><span class="s1">&#39;/data/training/&#39;</span><span class="p">,</span>
                                             <span class="n">transform</span><span class="o">=</span><span class="n">data_transform</span><span class="p">)</span>


<span class="nb">print</span><span class="p">(</span><span class="s1">&#39;Number of images: &#39;</span><span class="p">,</span> <span class="nb">len</span><span class="p">(</span><span class="n">transformed_dataset</span><span class="p">))</span>

<span class="c1"># iterate through the transformed dataset and print some stats about the first few samples</span>
<span class="k">for</span> <span class="n">i</span> <span class="ow">in</span> <span class="nb">range</span><span class="p">(</span><span class="mi">4</span><span class="p">):</span>
    <span class="n">sample</span> <span class="o">=</span> <span class="n">transformed_dataset</span><span class="p">[</span><span class="n">i</span><span class="p">]</span>
    <span class="nb">print</span><span class="p">(</span><span class="n">i</span><span class="p">,</span> <span class="n">sample</span><span class="p">[</span><span class="s1">&#39;image&#39;</span><span class="p">]</span><span class="o">.</span><span class="n">size</span><span class="p">(),</span> <span class="n">sample</span><span class="p">[</span><span class="s1">&#39;keypoints&#39;</span><span class="p">]</span><span class="o">.</span><span class="n">size</span><span class="p">())</span>
</pre></div>

    </div>
</div>
</div>

<div class="output_wrapper">
<div class="output">


<div class="output_area">

    <div class="prompt"></div>


<div class="output_subarea output_stream output_stdout output_text">
<pre>Number of images:  3462
0 torch.Size([1, 224, 224]) torch.Size([68, 2])
1 torch.Size([1, 224, 224]) torch.Size([68, 2])
2 torch.Size([1, 224, 224]) torch.Size([68, 2])
3 torch.Size([1, 224, 224]) torch.Size([68, 2])
</pre>
</div>
</div>

</div>
</div>

</div>
<div class="cell border-box-sizing text_cell rendered"><div class="prompt input_prompt">
</div><div class="inner_cell">
<div class="text_cell_render border-box-sizing rendered_html">
<h2 id="Batching-and-loading-data">Batching and loading data<a class="anchor-link" href="#Batching-and-loading-data">&#182;</a></h2><p>Next, having defined the transformed dataset, we can use PyTorch's DataLoader class to load the training data in batches of whatever size as well as to shuffle the data for training the model. You can read more about the parameters of the DataLoader, in <a href="http://pytorch.org/docs/master/data.html">this documentation</a>.</p>
<h4 id="Batch-size">Batch size<a class="anchor-link" href="#Batch-size">&#182;</a></h4><p>Decide on a good batch size for training your model. Try both small and large batch sizes and note how the loss decreases as the model trains. Too large a batch size may cause your model to crash and/or run out of memory while training.</p>
<p><strong>Note for Windows users</strong>: Please change the <code>num_workers</code> to 0 or you may face some issues with your DataLoader failing.</p>

</div>
</div>
</div>
<div class="cell border-box-sizing code_cell rendered">
<div class="input">
<div class="prompt input_prompt">In&nbsp;[0]:</div>
<div class="inner_cell">
    <div class="input_area">
<div class=" highlight hl-ipython3"><pre><span></span><span class="c1"># load training data in batches</span>
<span class="n">batch_size</span> <span class="o">=</span> <span class="mi">10</span>

<span class="n">train_loader</span> <span class="o">=</span> <span class="n">DataLoader</span><span class="p">(</span><span class="n">transformed_dataset</span><span class="p">,</span> 
                          <span class="n">batch_size</span><span class="o">=</span><span class="n">batch_size</span><span class="p">,</span>
                          <span class="n">shuffle</span><span class="o">=</span><span class="kc">True</span><span class="p">,</span> 
                          <span class="n">num_workers</span><span class="o">=</span><span class="mi">4</span><span class="p">)</span>
</pre></div>

    </div>
</div>
</div>

</div>
<div class="cell border-box-sizing text_cell rendered"><div class="prompt input_prompt">
</div><div class="inner_cell">
<div class="text_cell_render border-box-sizing rendered_html">
<h2 id="Before-training">Before training<a class="anchor-link" href="#Before-training">&#182;</a></h2><p>Take a look at how this model performs before it trains. You should see that the keypoints it predicts start off in one spot and don't match the keypoints on a face at all! It's interesting to visualize this behavior so that you can compare it to the model after training and see how the model has improved.</p>
<h4 id="Load-in-the-test-dataset">Load in the test dataset<a class="anchor-link" href="#Load-in-the-test-dataset">&#182;</a></h4><p>The test dataset is one that this model has <em>not</em> seen before, meaning it has not trained with these images. We'll load in this test data and before and after training, see how your model performs on this set!</p>
<p>To visualize this test data, we have to go through some un-transformation steps to turn our images into python images from tensors and to turn our keypoints back into a recognizable range.</p>

</div>
</div>
</div>
<div class="cell border-box-sizing code_cell rendered">
<div class="input">
<div class="prompt input_prompt">In&nbsp;[0]:</div>
<div class="inner_cell">
    <div class="input_area">
<div class=" highlight hl-ipython3"><pre><span></span><span class="c1"># load in the test data, using the dataset class</span>
<span class="c1"># AND apply the data_transform you defined above</span>

<span class="c1"># create the test dataset</span>
<span class="n">test_dataset</span> <span class="o">=</span> <span class="n">FacialKeypointsDataset</span><span class="p">(</span><span class="n">csv_file</span><span class="o">=</span><span class="s1">&#39;/data/test_frames_keypoints.csv&#39;</span><span class="p">,</span>
                                             <span class="n">root_dir</span><span class="o">=</span><span class="s1">&#39;/data/test/&#39;</span><span class="p">,</span>
                                             <span class="n">transform</span><span class="o">=</span><span class="n">data_transform</span><span class="p">)</span>
</pre></div>

    </div>
</div>
</div>

</div>
<div class="cell border-box-sizing code_cell rendered">
<div class="input">
<div class="prompt input_prompt">In&nbsp;[0]:</div>
<div class="inner_cell">
    <div class="input_area">
<div class=" highlight hl-ipython3"><pre><span></span><span class="c1"># load test data in batches</span>
<span class="n">batch_size</span> <span class="o">=</span> <span class="mi">10</span>

<span class="n">test_loader</span> <span class="o">=</span> <span class="n">DataLoader</span><span class="p">(</span><span class="n">test_dataset</span><span class="p">,</span> 
                          <span class="n">batch_size</span><span class="o">=</span><span class="n">batch_size</span><span class="p">,</span>
                          <span class="n">shuffle</span><span class="o">=</span><span class="kc">True</span><span class="p">,</span> 
                          <span class="n">num_workers</span><span class="o">=</span><span class="mi">4</span><span class="p">)</span>
</pre></div>

    </div>
</div>
</div>

</div>
<div class="cell border-box-sizing text_cell rendered"><div class="prompt input_prompt">
</div><div class="inner_cell">
<div class="text_cell_render border-box-sizing rendered_html">
<h2 id="Apply-the-model-on-a-test-sample">Apply the model on a test sample<a class="anchor-link" href="#Apply-the-model-on-a-test-sample">&#182;</a></h2><p>To test the model on a test sample of data, you have to follow these steps:</p>
<ol>
<li>Extract the image and ground truth keypoints from a sample</li>
<li>Wrap the image in a Variable, so that the net can process it as input and track how it changes as the image moves through the network.</li>
<li>Make sure the image is a FloatTensor, which the model expects.</li>
<li>Forward pass the image through the net to get the predicted, output keypoints.</li>
</ol>
<p>This function test how the network performs on the first batch of test data. It returns the images, the transformed images, the predicted keypoints (produced by the model), and the ground truth keypoints.</p>

</div>
</div>
</div>
<div class="cell border-box-sizing code_cell rendered">
<div class="input">
<div class="prompt input_prompt">In&nbsp;[0]:</div>
<div class="inner_cell">
    <div class="input_area">
<div class=" highlight hl-ipython3"><pre><span></span><span class="c1"># test the model on a batch of test images</span>

<span class="k">def</span> <span class="nf">net_sample_output</span><span class="p">():</span>
    
    <span class="c1"># iterate through the test dataset</span>
    <span class="k">for</span> <span class="n">i</span><span class="p">,</span> <span class="n">sample</span> <span class="ow">in</span> <span class="nb">enumerate</span><span class="p">(</span><span class="n">test_loader</span><span class="p">):</span>
        
        <span class="c1"># get sample data: images and ground truth keypoints</span>
        <span class="n">images</span> <span class="o">=</span> <span class="n">sample</span><span class="p">[</span><span class="s1">&#39;image&#39;</span><span class="p">]</span>
        <span class="n">key_pts</span> <span class="o">=</span> <span class="n">sample</span><span class="p">[</span><span class="s1">&#39;keypoints&#39;</span><span class="p">]</span>

        <span class="c1"># convert images to FloatTensors</span>
        <span class="n">images</span> <span class="o">=</span> <span class="n">images</span><span class="o">.</span><span class="n">type</span><span class="p">(</span><span class="n">torch</span><span class="o">.</span><span class="n">cuda</span><span class="o">.</span><span class="n">FloatTensor</span><span class="p">)</span>

        <span class="c1"># forward pass to get net output</span>
        <span class="n">output_pts</span> <span class="o">=</span> <span class="n">net</span><span class="p">(</span><span class="n">images</span><span class="p">)</span>
        
        <span class="c1"># reshape to batch_size x 68 x 2 pts</span>
        <span class="n">output_pts</span> <span class="o">=</span> <span class="n">output_pts</span><span class="o">.</span><span class="n">view</span><span class="p">(</span><span class="n">output_pts</span><span class="o">.</span><span class="n">size</span><span class="p">()[</span><span class="mi">0</span><span class="p">],</span> <span class="mi">68</span><span class="p">,</span> <span class="o">-</span><span class="mi">1</span><span class="p">)</span>
        
        <span class="c1"># break after first image is tested</span>
        <span class="k">if</span> <span class="n">i</span> <span class="o">==</span> <span class="mi">0</span><span class="p">:</span>
            <span class="k">return</span> <span class="n">images</span><span class="p">,</span> <span class="n">output_pts</span><span class="p">,</span> <span class="n">key_pts</span>
            
</pre></div>

    </div>
</div>
</div>

</div>
<div class="cell border-box-sizing text_cell rendered"><div class="prompt input_prompt">
</div><div class="inner_cell">
<div class="text_cell_render border-box-sizing rendered_html">
<h4 id="Debugging-tips">Debugging tips<a class="anchor-link" href="#Debugging-tips">&#182;</a></h4><p>If you get a size or dimension error here, make sure that your network outputs the expected number of keypoints! Or if you get a Tensor type error, look into changing the above code that casts the data into float types: <code>images = images.type(torch.FloatTensor)</code>.</p>

</div>
</div>
</div>
<div class="cell border-box-sizing code_cell rendered">
<div class="input">
<div class="prompt input_prompt">In&nbsp;[12]:</div>
<div class="inner_cell">
    <div class="input_area">
<div class=" highlight hl-ipython3"><pre><span></span><span class="c1"># call the above function</span>
<span class="c1"># returns: test images, test predicted keypoints, test ground truth keypoints</span>
<span class="n">test_images</span><span class="p">,</span> <span class="n">test_outputs</span><span class="p">,</span> <span class="n">gt_pts</span> <span class="o">=</span> <span class="n">net_sample_output</span><span class="p">()</span>

<span class="c1"># print out the dimensions of the data to see if they make sense</span>
<span class="nb">print</span><span class="p">(</span><span class="n">test_images</span><span class="o">.</span><span class="n">data</span><span class="o">.</span><span class="n">size</span><span class="p">())</span>
<span class="nb">print</span><span class="p">(</span><span class="n">test_outputs</span><span class="o">.</span><span class="n">data</span><span class="o">.</span><span class="n">size</span><span class="p">())</span>
<span class="nb">print</span><span class="p">(</span><span class="n">gt_pts</span><span class="o">.</span><span class="n">size</span><span class="p">())</span>
</pre></div>

    </div>
</div>
</div>

<div class="output_wrapper">
<div class="output">


<div class="output_area">

    <div class="prompt"></div>


<div class="output_subarea output_stream output_stdout output_text">
<pre>torch.Size([10, 1, 224, 224])
torch.Size([10, 68, 2])
torch.Size([10, 68, 2])
</pre>
</div>
</div>

</div>
</div>

</div>
<div class="cell border-box-sizing text_cell rendered"><div class="prompt input_prompt">
</div><div class="inner_cell">
<div class="text_cell_render border-box-sizing rendered_html">
<h2 id="Visualize-the-predicted-keypoints">Visualize the predicted keypoints<a class="anchor-link" href="#Visualize-the-predicted-keypoints">&#182;</a></h2><p>Once we've had the model produce some predicted output keypoints, we can visualize these points in a way that's similar to how we've displayed this data before, only this time, we have to "un-transform" the image/keypoint data to display it.</p>
<p>Note that I've defined a <em>new</em> function, <code>show_all_keypoints</code> that displays a grayscale image, its predicted keypoints and its ground truth keypoints (if provided).</p>

</div>
</div>
</div>
<div class="cell border-box-sizing code_cell rendered">
<div class="input">
<div class="prompt input_prompt">In&nbsp;[0]:</div>
<div class="inner_cell">
    <div class="input_area">
<div class=" highlight hl-ipython3"><pre><span></span><span class="k">def</span> <span class="nf">show_all_keypoints</span><span class="p">(</span><span class="n">image</span><span class="p">,</span> <span class="n">predicted_key_pts</span><span class="p">,</span> <span class="n">gt_pts</span><span class="o">=</span><span class="kc">None</span><span class="p">):</span>
    <span class="sd">&quot;&quot;&quot;Show image with predicted keypoints&quot;&quot;&quot;</span>
    <span class="c1"># image is grayscale</span>
    <span class="c1">#print(image)</span>
    <span class="n">plt</span><span class="o">.</span><span class="n">imshow</span><span class="p">(</span><span class="n">image</span><span class="p">,</span> <span class="n">cmap</span><span class="o">=</span><span class="s1">&#39;gray&#39;</span><span class="p">)</span>
    <span class="c1"># plot ground truth points as green pts</span>
    <span class="k">if</span> <span class="n">gt_pts</span> <span class="ow">is</span> <span class="ow">not</span> <span class="kc">None</span><span class="p">:</span>
        <span class="n">plt</span><span class="o">.</span><span class="n">scatter</span><span class="p">(</span><span class="n">gt_pts</span><span class="p">[:,</span> <span class="mi">0</span><span class="p">],</span> <span class="n">gt_pts</span><span class="p">[:,</span> <span class="mi">1</span><span class="p">],</span> <span class="n">s</span><span class="o">=</span><span class="mi">20</span><span class="p">,</span> <span class="n">marker</span><span class="o">=</span><span class="s1">&#39;.&#39;</span><span class="p">,</span> <span class="n">c</span><span class="o">=</span><span class="s1">&#39;g&#39;</span><span class="p">)</span>
    <span class="n">plt</span><span class="o">.</span><span class="n">scatter</span><span class="p">(</span><span class="n">predicted_key_pts</span><span class="p">[:,</span> <span class="mi">0</span><span class="p">],</span> <span class="n">predicted_key_pts</span><span class="p">[:,</span> <span class="mi">1</span><span class="p">],</span> <span class="n">s</span><span class="o">=</span><span class="mi">20</span><span class="p">,</span> <span class="n">marker</span><span class="o">=</span><span class="s1">&#39;.&#39;</span><span class="p">,</span> <span class="n">c</span><span class="o">=</span><span class="s1">&#39;m&#39;</span><span class="p">)</span>
</pre></div>

    </div>
</div>
</div>

</div>
<div class="cell border-box-sizing text_cell rendered"><div class="prompt input_prompt">
</div><div class="inner_cell">
<div class="text_cell_render border-box-sizing rendered_html">
<h4 id="Un-transformation">Un-transformation<a class="anchor-link" href="#Un-transformation">&#182;</a></h4><p>Next, you'll see a helper function. <code>visualize_output</code> that takes in a batch of images, predicted keypoints, and ground truth keypoints and displays a set of those images and their true/predicted keypoints.</p>
<p>This function's main role is to take batches of image and keypoint data (the input and output of your CNN), and transform them into numpy images and un-normalized keypoints (x, y) for normal display. The un-transformation process turns keypoints and images into numpy arrays from Tensors <em>and</em> it undoes the keypoint normalization done in the Normalize() transform; it's assumed that you applied these transformations when you loaded your test data.</p>

</div>
</div>
</div>
<div class="cell border-box-sizing code_cell rendered">
<div class="input">
<div class="prompt input_prompt">In&nbsp;[18]:</div>
<div class="inner_cell">
    <div class="input_area">
<div class=" highlight hl-ipython3"><pre><span></span><span class="c1"># visualize the output</span>
<span class="c1"># by default this shows a batch of 10 images</span>
<span class="k">def</span> <span class="nf">visualize_output</span><span class="p">(</span><span class="n">test_images</span><span class="p">,</span> <span class="n">test_outputs</span><span class="p">,</span> <span class="n">gt_pts</span><span class="o">=</span><span class="kc">None</span><span class="p">,</span> <span class="n">batch_size</span><span class="o">=</span><span class="mi">10</span><span class="p">):</span>

    <span class="k">for</span> <span class="n">i</span> <span class="ow">in</span> <span class="nb">range</span><span class="p">(</span><span class="n">batch_size</span><span class="p">):</span>
        <span class="n">plt</span><span class="o">.</span><span class="n">figure</span><span class="p">(</span><span class="n">figsize</span><span class="o">=</span><span class="p">(</span><span class="mi">20</span><span class="p">,</span><span class="mi">10</span><span class="p">))</span>
        <span class="n">ax</span> <span class="o">=</span> <span class="n">plt</span><span class="o">.</span><span class="n">subplot</span><span class="p">(</span><span class="mi">3</span><span class="p">,</span> <span class="n">batch_size</span><span class="p">,</span> <span class="n">i</span><span class="o">+</span><span class="mi">1</span><span class="p">)</span>

        <span class="c1"># un-transform the image data</span>
        <span class="n">image</span> <span class="o">=</span> <span class="n">test_images</span><span class="p">[</span><span class="n">i</span><span class="p">]</span><span class="o">.</span><span class="n">data</span>   <span class="c1"># get the image from it&#39;s Variable wrapper</span>
        <span class="n">image</span> <span class="o">=</span> <span class="n">image</span><span class="o">.</span><span class="n">cpu</span><span class="p">()</span><span class="o">.</span><span class="n">numpy</span><span class="p">()</span>   <span class="c1"># convert to numpy array from a Tensor</span>
        <span class="n">image</span> <span class="o">=</span> <span class="n">np</span><span class="o">.</span><span class="n">transpose</span><span class="p">(</span><span class="n">image</span><span class="p">,</span> <span class="p">(</span><span class="mi">1</span><span class="p">,</span> <span class="mi">2</span><span class="p">,</span> <span class="mi">0</span><span class="p">))</span>   <span class="c1"># transpose to go from torch to numpy image</span>
        

        <span class="c1"># un-transform the predicted key_pts data</span>
        <span class="n">predicted_key_pts</span> <span class="o">=</span> <span class="n">test_outputs</span><span class="p">[</span><span class="n">i</span><span class="p">]</span><span class="o">.</span><span class="n">data</span>
        <span class="n">predicted_key_pts</span> <span class="o">=</span> <span class="n">predicted_key_pts</span><span class="o">.</span><span class="n">cpu</span><span class="p">()</span><span class="o">.</span><span class="n">numpy</span><span class="p">()</span>
        <span class="c1"># undo normalization of keypoints  </span>
        <span class="n">predicted_key_pts</span> <span class="o">=</span> <span class="n">predicted_key_pts</span><span class="o">*</span><span class="mf">50.0</span><span class="o">+</span><span class="mi">100</span>
        <span class="n">predicted_key_pts</span> <span class="o">=</span> <span class="n">predicted_key_pts</span>
        <span class="c1"># plot ground truth points for comparison, if they exist</span>
        <span class="n">ground_truth_pts</span> <span class="o">=</span> <span class="kc">None</span>
        <span class="k">if</span> <span class="n">gt_pts</span> <span class="ow">is</span> <span class="ow">not</span> <span class="kc">None</span><span class="p">:</span>
            <span class="n">ground_truth_pts</span> <span class="o">=</span> <span class="n">gt_pts</span><span class="p">[</span><span class="n">i</span><span class="p">]</span>         
            <span class="n">ground_truth_pts</span> <span class="o">=</span> <span class="n">ground_truth_pts</span><span class="o">*</span><span class="mf">50.0</span><span class="o">+</span><span class="mi">100</span>
        
        <span class="c1"># call show_all_keypoints</span>
        <span class="c1">#plt.imshow(np.squeeze(image), cmap=&#39;gray&#39;)</span>
        <span class="n">show_all_keypoints</span><span class="p">(</span><span class="n">np</span><span class="o">.</span><span class="n">squeeze</span><span class="p">(</span><span class="n">image</span><span class="p">),</span> <span class="n">predicted_key_pts</span><span class="p">,</span> <span class="n">ground_truth_pts</span><span class="p">)</span>
            
        <span class="c1">#plt.axis(&#39;off&#39;)</span>

    <span class="n">plt</span><span class="o">.</span><span class="n">show</span><span class="p">()</span>
    
<span class="c1"># call it</span>
<span class="n">visualize_output</span><span class="p">(</span><span class="n">test_images</span><span class="p">,</span> <span class="n">test_outputs</span><span class="p">,</span> <span class="n">gt_pts</span><span class="p">)</span>
</pre></div>

    </div>
</div>
</div>

<div class="output_wrapper">
<div class="output">


<div class="output_area">

    <div class="prompt"></div>




<div class="output_png output_subarea ">
<img src="data:image/png;base64,iVBORw0KGgoAAAANSUhEUgAAAIYAAACBCAYAAAAFfMIpAAAABHNCSVQICAgIfAhkiAAAAAlwSFlz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"
>
</div>

</div>

<div class="output_area">

    <div class="prompt"></div>




<div class="output_png output_subarea ">
<img src="data:image/png;base64,iVBORw0KGgoAAAANSUhEUgAAAIYAAACBCAYAAAAFfMIpAAAABHNCSVQICAgIfAhkiAAAAAlwSFlz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"
>
</div>

</div>

<div class="output_area">

    <div class="prompt"></div>




<div class="output_png output_subarea ">
<img src="data:image/png;base64,iVBORw0KGgoAAAANSUhEUgAAAIYAAACBCAYAAAAFfMIpAAAABHNCSVQICAgIfAhkiAAAAAlwSFlz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"
>
</div>

</div>

<div class="output_area">

    <div class="prompt"></div>




<div class="output_png output_subarea ">
<img src="data:image/png;base64,iVBORw0KGgoAAAANSUhEUgAAAIYAAACBCAYAAAAFfMIpAAAABHNCSVQICAgIfAhkiAAAAAlwSFlz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"
>
</div>

</div>

<div class="output_area">

    <div class="prompt"></div>




<div class="output_png output_subarea ">
<img src="data:image/png;base64,iVBORw0KGgoAAAANSUhEUgAAAIYAAACBCAYAAAAFfMIpAAAABHNCSVQICAgIfAhkiAAAAAlwSFlz
AAALEgAACxIB0t1+/AAAADh0RVh0U29mdHdhcmUAbWF0cGxvdGxpYiB2ZXJzaW9uMy4xLjMsIGh0
dHA6Ly9tYXRwbG90bGliLm9yZy+AADFEAAAgAElEQVR4nO29eZBcZ3nv/zmnT+893T3TMyPNSKMZ
bdaCFluyjcA2GIOJoKDAdgIk14mhICHElyR1qQokuZWlbhWE1CUFBMJy+cH1TcU4CUvA4HgTlmWM
V8m2NksaLbNqtp7e9+5zzu+Pnuedt1sj2QQbj6v0qFTd0336nPe87/M+y/dZjuG6LpfpMrWT+VoP
4DItT7rMGJdpSbrMGJdpSbrMGJdpSbrMGJdpSbrMGJdpSXpVGMMwjL2GYZw0DOO0YRifeTWucZle
XTJeaRzDMAwPcAq4GZgAngF+23Xd46/ohS7Tq0qvhsS4Fjjtuu5Z13VrwD3A+16F61ymV5GsV+Gc
q4Bx7e8J4I3tBxmG8QfAHwD4/f7dGzZsoFgsEo1GaTQaGIZBpVIhGAySz+cxDAPXdfF6vYTDYQzD
oNFoUC6XAXAc56IDqtfreDweLMui0WhQKpUA8Hg8VKtVHMdBJKdpmliWhWma6prynbwahoHf76dW
q2FZFpZlqTEYhoFhGNRqNWzbVr9xHIdAIKA+q9frGIaBaZrUajUcx8Hr9WKaJo7jUKlUcBwHy7Jw
XRfbttX4ZCxyLZ/PRywWU+drJ9d1aTQamKZJOp2m0Whg27bMcdJ13Z7237wajPGyyHXdbwLfBBgY
GHC//vWvc/bsWfbu3cvDDz+M4zjUajW2bdvG4cOHgeaC2LbN7bffjmEYlEol/vmf/5nBwUGKxeIF
kyITNzo6yuTkJFdccQXxeJzjx49TqVSoVCpMT0+rhbEsC7/fT19fH/F4nEAgQKVSoV6v47ou1WqV
er2ObdusXLmSUqmE3+/niiuuoKOjg/Xr1zM9Pc3c3Bwvvvgi5XKZfD5PKBQiEAiQz+eJxWJUKhXF
nIVCgXw+j2VZBINBPB4PHR0dpNNphoeHKRaLBAIBdd1YLMbMzAyBQACfz0ej0SAUCvHWt76VN7zh
Dfh8Pjwej1p4mbPZ2Vni8Tj33HMPs7OzNBoNIpEIjz/++OhS6/NqqJJJYED7e/XCZxcln8/H2NgY
lUqFRx55hFKppG740KFDQHORPR4PfX195HI5Go0G8/PzdHd3U6lUgEWp4TiOet9oNPD7/ZTLZUZH
RxkZGaG7u5tyuUwymaRWq9FoNPB4PPj9foLBILFYjN7eXqLRKJFIhEQiQVdXF+FwmGg0ys6dO/H7
/XzoQx+is7OTyclJxsfHMU2TrVu3smHDBsLhML29vfT09OD3+wGUdLBtW43PsiwymQyNRoNqtYrr
ukxMTNDf38+aNWvo6urCdV06OjowTRPbtvF4PGruRAoeP36cYrGIZVnYtq02icxbvV7Hsiw6OjrU
2Do6Oi66Jq+GxHgG2GgYxlqaDPEh4Hcu9YNGo8HY2BgbNmwgEomoSb755puZm5vj9OnTAEpKHDhw
AK/XS61WU5MkkyEi13VdpSJE7aTTaWzbxrIsOjs7iUQiTE5OUi6X8fl8dHR0EI1G6erqIhQK4fV6
icfj2LZNrVZjcHCQQqFALBajv7+f4eFh1q1bx7XXXksul+PQoUM0Gg0sy+KKK67gzJkzipnOnj1L
vV7H6/XS1dVFKpWi0WjgOA5r165lbm6OEydOEIvFGBoaYnh4mGg0itfrpbOzk4mJCWKxGOVyGa/X
qyScSI1sNsvx48e5/vrr1X07jqPmR9SMML/MycXoFWcM13UbhmH8d+ABwAN823XdY5f6jcfjwXEc
zp49y5ve9Cbi8TgrVqzgyJEjrFixokU0VioVfD5fi20gennh+i3ntm1b2SViv4yMjGAYBoVCgUaj
gdfrxePxEAgECAQCeL1eJYaDwSDQnFiAUChEpVKhu7ubYrHI7t27efTRR9m9ezexWIxoNMrp06fx
er2sXLkSr9eL67oUCgVSqRSO41CtVunt7aVSqRCLxfD5fIphhLn8fj+lUolwOMzk5CS1Wo10Oo1p
mi12ieu6+Hw+arUayWQSx3HU5pBxi5QRRnAch0ajccFc6fSq2Biu694H3PdyjxdVYNu20tHz8/Ns
3LiR4eFhqtWq2iUyCWIU6v91aSEkCxyJRMhkMgB0dHQQDAaJRqMUi0XC4bDS7cFgkEAggGmaeDwe
fD6fYgqRPq7rUiqVGBwc5PHHH2fz5s3cfffd7N27l9HRUfr7+3Fdl+7ublzX5eTJk4qZKpUK+Xwe
n89HT08Px48fZ2xsjO3btzMxMcH27ds5ePAguVyOnTt3YpomwWCQYrFIsVgkFAqp8cgmkffpdJps
Nks4HFYSw3EcpVbE4BWGqtfrF12T18z41CmdTvODH/xA3fDAwADhcJiRkRFisRjxeJxarUYgEFA7
XMSkbmTJBOjegTBTLBYjFoth2zYTExNUKhXC4TADAwMEg0HlXQhT+P1+fD4fgUBA7TqZ2EqlwsTE
BMViEdu2GRkZ4YYbbuChhx7C5/PR19dHZ2cn+Xyec+fOUSqVcByHer1OMBgkGAySTqdbxP1Pf/pT
AK666ipuv/12jh49ytzcHB6PB6/Xi9/vV96EeDblcplQKEShUACgXC4raaAzs2wUj8eDYRhK2sox
S9GyYAwR9eL+pdNpJicnCYfD2LaN3+/H7/cTi8VIJBIEAgE6OjqIx+PKrRRVIrtAPoem5V8ul+np
6aFUKrF69WqGh4eJx+OEQiGld0Xse71epV4ajYYyGEVlGYZBOBwmFAqRy+VIp9M8/PDDSkJMTU1x
/vx55bbOzc0RCoXUgqxatYpMJkO9XmfNmjWk02ny+TyVSoWjR4+ybds29uzZw3333UcikeDMmTOs
XLmSyclJJV1lI1QqFcUI2WyW6elp1q5d27LwwlCu6xKJRNT8/NpVyS9LhmHQ0dGBZVlqkaPRqFqQ
crlMqVQik8lw8uRJJRlM01TuWSQSIRAIEI/HGRgYUO6cTJjP56NSqVCr1SgUCvT09LB27Vp1nOhu
mSzbtpWXICpKxxWCwSC1Wo01a9awcuVKqtUqxWJRGbIej4daraZsDZE4g4ODpFIpNm7cyPHjx4nH
4wDs3LmTdDrN448/zjPPPMPMzAydnZ2cOXMGj8fD5GTTsWvHVQTvkDGLWyvHyX2JtE0kEmruLoX9
LAvGME1TuVHBYFAtRKFQoFQqKResWq226HwBq1zXJZ1Oq3MdO3YMn89HZ2cnHR0deDweVq5cSTab
xePxUCqVGBoawufzKXBKcAqRULZtK69ByHVdarWa8gRkt4rxKPZJuVym0WjQaDSUmxgKhSiVSti2
rSRGT08PIyMjmKZJb2+vkoQjIyN0dnYqhs/lci3gmhiTolZ0KhaLaqy6CrQsS6ktUSnLXpXIIAOB
QIvfPzMzQ7lcJpVKUS6XlTgX3Sy/BZQagObOLpVK5HI5hWQODw/T19dHNBplYGBAqSFhOplA+b1Y
97rt4vV61euKFSuU7s/lcmSzWeXW1ut1SqWSYjRZlEgkQrVaZfXq1UxOTuLz+cjn8wwMDDA+Pq4w
k2w2SzqdVhvBsqwWvEVXE+1zMj8/34LnCINUq1VOnz7NrbfeykMPPaQkyMVoWTCGZVkMDQ3R2dnJ
li1b8Pv9VKtVAoEAMzMzyuA0TVMZcjpwA4siVnaFaZp4vV6FWpqmSbVapdFo0Nvbqyx3WISZA4EA
rutesKPkWqFQCJ/Pp1xosR9E78u5YrGYGmutVqNYLJLJZKhWq6xatYrnnnuOcDjMzMwMPT09zMzM
AFCtVkkkEszMzFAoFBSjibQUtSCeCCy6ntBkkjNnznD99der730+H47jcPr0ae68804SiYSaj2Uv
MUzTVLtl1apVRKNRMpmMEsmVSkXZHjJZIibbdaWAXLLYoiqgudNDoZBiErEt9OMFEPJ6vUQiEWVj
WJZFd3c30WhUGX25XE6d2+PxKANa1I3X68W2bYrFItVqFYBUKkVXV5dyKwWetm2bXC7H5s2b1YYQ
SaPjD3I/wWCQTCajPDSRDIVCQbmo4gn5/X7Wrl3Lfffdx65du9R963PTTsuCMTweD9FolHA4TCAQ
IBQKKdfO7/ermIUErgS1EwmhewtCwiz6zhAGlM/8fr+SEO0+v3wvCKvX61W7T34jIJT8xrZtZQMV
CgX8fr9aGGhKBLGJxLgWqSdG5LFjx5Srm0qlFOOKXSHBOJFool6EMUqlkgoamqZJvV6nXq8rafPc
c8+pOVoq4Ca0LBjDsiwGBgZYvXq1ciFt2yYYDBKPx6lUKhQKBbUrxfir1+vKc5BdJczS7rb6fD7C
4TAdHR3KwIxEIsrGMAxDRVXFfRYEFFDRT8uy8Hq9ZDIZBZKJxwQodSW7W8ctJHiWz+dJp9OKcarV
qpKAIj18Ph+rVq1SAbNisajuybIsFS0GlCEqiOjo6CiDg4OKWWQ+hPFFVbYbri1r8qqt9i9BEpOQ
3Tg3N0etVlPf9fT0MD09TalUUviCoJ+CFegGKaDcSkChlQJihUIhwuEwfr9fMYJuZPr9/hbXWTyM
fCFP3s7TE+oh0hEhU89Ac5hNoKlYIF1PY9mWupb8ViK3hUKBYrGo7kNId4kFqhcjNhQKKW9CzheP
x9X9iboV6SZAl37vAsXraQLLHsfI5/McOXKEK6+8UsU0JJKaTCY5evQogUAAj8ej7A5dSuhIZ3vs
REjEv0idSCRCJBJpsS9kour1ujq37OBypcynDn+KFwsvsjmyGb/PzwvpF7gqcRXfvO6b1Oo1/vLU
X/Ji4UU2BjbyyegnlXTRA17i2eTzeQClekRqid0iTC9jEK/Ltm1l7Ao+4fV6GR8fVxJNpJZIQJ0x
hC6FYcAyYQzRjceOHWN8fJxyuczc3BzJZJJqtar0cTAYpLOzU7lf5XJZTYL8rbtgeoRVbAK/308i
kSAcDqvjJIkFmhOWy+UoFArNoJTrUDbLOLbD8cJxHJqvBgYODoeSh3jg5w9gGqb6/lTlFNWuKl7b
2/y9p4zP7yNqRhXzzc7OUqlUFKwuDCMxjFqtxqZNm1i5ciUTExMqMiv3ND09TSKRIJPJEI/HiUaj
SkVWKhXK5XKLdJANoEvIZa9KOjs72b17N4AyLgVylsik4zjk83lGR0fVjhY30jAMtVvEENOlQL1e
JxAIAE1rXpiiXq+TTCbVca7rEggEmJiYIJ/PUywV+T+1/8OYO0a/088KewXT3mkS5QSWx2LGN8OA
McD82Dz1ep3+SD/nrfMMmUP4637KtTLfqH6DUWeUNazhw74PqziMJN8I1iFjll1uWRbT09PK3ikW
i2rRhcSFFhJpK5iM2BywiIoCRCIRhZBejJYFYwSDQW644QZlZVerVRWmzuVynDhxQqGionfL5TLZ
bJZyuawmSwwyCZeLHhePolqrUvVWyTayGGWD89nzlOfKLVa93+9ndnaWXC5HspJkNDqKa7hMmpNc
f/B61jXW4ak2EUkzYtIX62O6NI1t29w4fyOeqIdOXyd5X54CBUadURwcxhijREndQzgcVt6ISCzd
fZTUAskak80Qi8UoFou4rksqlSIUCilPxbIsCoUC8XicXC6ngoOwqDrElX5dqBLx4cUGME1TeQW9
vb2sWbMGWAz85PN58vk8J06cYGpqinPnznH27FlKpZKy/CV6KVLFH/Az+c5JvjH2DRiDgBGg5tZY
Za/itsJtOLZDOBxW8YlCoUChWCC6Pko2miWUCjFzZgbHdlS+hGVZzIZn1TVEaqXDaQr5AtFYlNWR
1UwwwYAxQJgwDV8zpa5cLismF3dU9xoAJeUcx1ExGAm9SygeUKqjo6MDv9/P9PQ0Z8+eVd6ORIll
zCtWrFBq5WK0LBijXq8zPT2twCPx3cUjyGQyyvOARf97y5YtDA0NsXHjRsbGxhgfHyeZTDI3N6d2
mxKhEZjzz6lrVtymlJkwJzifOU+YsPJMRBrl83mu+MUVlIwSbsGl2qgq8asHq2S3C3NIFLVcLvPO
0DsJJoKEjTB1T11JpWg0qvS82FJiP+ghcwHXBJOQ35TLZRKJBJVKhf7+flKpVAsoV6lU1ByKVBUv
SdIYdLXUTsuGMSYnJ5mZmVnSRhBrXUAg3eAUdNDr9bJ69Wq6urqUsap2o2Pjhl1mnBkmzWaU0rIt
bI9NZ6GT9GSaufocmzdvVr+R2ES1UgUbGvVGaz4ELnbAJlgKYkZMfGUfXsurAm3C0F6vlxX5FWR9
WeLxOIlEAtM06erqUganLJAwfzsiKd5HoVBQXoccPzg4iM/nY+fOnSSTSU6ePKngfp2xJC+lUqlw
/vx5stnsJddkWTCGTKa86i6WDj55vV7FHBI/yGazSiQLkCPJxI1GAxeX/YP7SYaSJMoJbhy7kUa2
AUVoeBsYZYOy2SxBkIWH1sRi2XkKgHJsMu/PUF9Zx6gbuF4X/6yfdQfWKWNP7sE0TbLZrEoSEmmg
R3J120hcWpkLwVIkUUdS+sR+KBaLzM/Pk8lkSCQS+Hw+ZZ/oGWd6zorkZUja4lK0rBhDjDAdnBFp
IJCwpNsJPCyLJUCXYBziutb9dZKhJK7hkgwm2X/Ffvyzfnrv68U0TGUfSH6FuLQ+n09Z9jJGhZWE
Xeor62CC63PBgGpvlUagQd2uY5Sbiy+LXKlUFOIq0LsOuAnkL+mF4k6KuFeQvN/HVHYKu2orfEQ8
jcnJSVX6UKvV6O/v5/Tp08rWEhUtHp/gQhejZcEYoh70uAfQgi3oSCZcqOMlN1Ikj+yaSrVCV7GL
VDiFiwvmwiL6G1CAht2ACGTyGWqNGqs3ryZuNWtPTp06pSSRKkoyIHtzFgzABeqAFzDgzN4zOJZD
JB1h0xObwEVlhIlUEINSAnkAPT09ilH6+vqULRCNRpmbm2NycpJiqcgLV75ALp4jko4QfSpKJBwh
Go0yMzNDrVYjlUqxfv16ZmZmVExGpI9sGJFKco2L0bJgDF2VCOlIph5KF8xfR/IEbpYYhUgUOc/N
kzdT89XY37ufVCgFBiTfliT+ozip96Ww+5vq43vu9/jX5L9yZeJKfm/973H+/HlVciAGZsNqNKXF
AmMES0HK0TKY4HgdMKDYWSTUE8LNN0V2Z2cnXV1ddHR04PP5lPQT3S8GabVaVdFfj8ej4iuWZWEH
bPLxPJhQ6Cxg+1ur3ICWXBCJOYlKERUnx+tqcylaVoyhk57gKwygZz6L2tGznmGxHBFQlV2WZVGv
17lh6gZ+tP5HYEC9r04j3sDus5uLDNSNplg+nDpMYH2AWCzG1NSUCrT5/X6MuoF/3k+1uwoGlKNl
ItkIxVgRj+Oh4WnQVeqiL9pHPVAnFArR19enbAlZdN01FYbO5/M0Gg0CgQDBYJBkMkk+n8d1XWJW
jHghTiaSoSPTQdANqmhzOBwmlUopO6VQKFCv1/H5fAo3gUWcR0d6L0bLgjEk40pQzPZB66WByqhc
EIvCHPIqzCC7QepFq9UqXsvbcl6Pz9NUBQt5LyErRMWusKNzByEnxMDAABMTEy11o16vl3X71zHy
thHKXWUi6Qibn9qMETaIWlGMkEFvpJeelT0kEgmVsie7WiBwWMw+k+SfYDCoMsP7+/uJxWIKs7E8
Fm8991ayjSy1dI1wKKwYKx6PMzc3pzyRQqGgsuAF9dWBLdlgrwtVIiLVNM2WAYvPLniEiEAxPPVd
uBQJw3g8HsJmmL56H1PWFEbdIHlLsiktDDBcg3vfeS/hUJjZc7NMTU0RCATo7e1V2eter1ft7o2P
bcQIG/jtZoTWZ/sIhoOEA2E645309fUxMDCgqsl0TEU8K7kf8TZM06RYLOLz+VRmu9xjPp9Xvy8W
ilQrVTo7O9W4JE9VPDLJga3X65TLZWq1mkozkGq2ZW98Qqt72J74KpCwzhC69BDjUwxXAYR0dE8w
gw/XP8yB0wd4fMPjzcpdF3AgUUsQ88QIW2HO5M+ohJfe3l7K5bISzzrGYdiG8iwkdyQej9Pd3U1f
Xx8ej4dMJtNiTOuRYTmfvhnkHgSHKZVKytZycZtgG64qXBLMQ+5PVLJ0CZCyBDm/oJ+iki9Gy4ox
dGNKLxgSKSGGJ7TmEui2h0ReAWV9q8xo0+Au4y5GNo7gdbw03AaRdISaXWO+e56PP/Fx7rrpLgDl
IWzZsoXBwUFVMS/GnLh7EsALh8MMDQ0Rj8eVe53NZpWEkYXRQTpRKXoWVjAYVJC+qMVyuYzltXj+
Dc+TCqcIzYcY3D+oIqgiMSVD3TRNotEoK1asULmjAtxJOB5Y/hJDXE3ZKcLRsGiEtqfttaf1L+XR
6IASQMkoMeo2g2J1s87ekb0UZgs8fs3juIbL86nnKbpFHMehu7tbFeesXr1alRcUi0WV0yFucTAY
pKenR0HNyWTyAjtIh6eFWdoTZfQNIakIwth5N08qksI1XIqJIk7Awa7aiuF8Ph+RSOQCw1LP9HIc
R8VXXhcFR1JXIiJWFlQ4XNoetOcQiBhuz+jWzyvWv23bhIwQQ54hRuwR+p1+BoODVFZWGG4MM+eb
Y1f3Lga7BykPlNX5xVUeGBjA5/MpaF4mW1RHNBoFUCCZqIL29MN2CaIjktDMBNM9NCmrsEt2E48J
pQinw/gaPhwcxTg+n494PK4QUGnnoLv1wggi6Za98SmiXuwDuVnZdXLDcqxMrHgf+g3qOY1Ai73h
8Xj4uOfjVD1VKEK1u8p3/d8l6STZFt/Gv777X5WRNjU1Ra1WUzo6lUoxOjqKaZoMDg6yatUqhVI2
Gg0lCSzLoqurC4/HQ6VSUS6nMInYRzrSq+9eGa9+jwJz3zx5M+Pz4zRyDRpWA4/fo4JmUrKQy+UY
GBggEolQq9VUfoYYuOFwuKV67WK0LBijUCgwMzNDNBqlv79fMYQgm36/X1V5y3e6dBHUUFcp8r2e
Ua0ilXWTulWn5qsxWhnFxuZY5hiHzxym09vJ9PS0iniGQiEsy6Knp4daraa68dRqNVatWoXP52sZ
jw6hSxqe2BN6Uq6e5Q6Lxrd4WdAq/QTACzpBGoEGRtBgaGhIlUVKDU06nWbFihVKaokdotfaiFq8
FC0LxiiVSjzwwANK7IqtIRMt5X89PT2qUq2zs+kS6tndsFgcJO+lUMk0zSYqSZHTL5zGa3np8Hew
KbSJk6WTbAlvwSyZjGXHVEF1f38/fX19RCIRSqUSPp+PcrnMk08+SS6X49y5c6xbt64JfC2MQxZd
N54lVU93WXU7qV0NCiCnR5ml5ZO4qNLgZXZ2FoDe3l6Gh4ep1WpkMhn6+vpUllg7w76UtIBlwhih
UIienh7F/e0hY7ER5ubmOH/+fEswSuIPiURCwc8rVqwgkUjQ19dHMBhsprjVa/z5yT/neO44azxr
+KjnoziOw1+s+QucoIOv5lMuqSQLC0qYy+VIJpOqhiQQCJBKpVRwS9IQpYWC7jnp9wIoCQetEqE9
mbldJWKAHbTpjnQTDAQVs4k6s22bsbExpdYymcxFG7Yt9Vk7LQvGCIfDvOtd71KSQcTc5OQkhUKB
8+fPq7YBEnaWHSj6uVAoUCgUmJiY4LnnnlPpfK7r0tnZSbAnyLGeYzg4jLqjVK0qbt4ll8tRzBZx
8o6ya+r1OplMRhUKyd+GYVAsFlUSjIBIsVhMFWUL0KQvujCGHj1uT8rR61dE6kkGueM6PNj/IMlg
kkQxwTsm34HHbBZqCy4xOjpKoVBQVWaS0dWe2nepskSdXpIxDMP4NvAeYNZ13W0Ln3UB/woMASPA
B1zXTRvNq34JeDdQAj7suu6hl7qGuHVSHyEu1po1a6jX6yobWvISRD3AotslhTzSDU860Igur2fq
dIe7mQvOscZcQ346z/T0NPcE7uFM/QzdpW5uGr8Jx3ZaFtJxHBzbwZf3EXbCzIXm6O7uJpVKYds2
qVRKlSvGYjG1EJKDKfiE3KeMWWeK9jQDIbnHmlUjGWymDqTCKcwOk4AdUDUnmUyGp59+WhUw5fN5
4vG4ShsQqSWq7lJuqtDLkRj/F/gK8P+0zz4D7HNd9++MZkvozwCfBt4FbFz4/0bgayzR47OdRC/r
LQ4ANamSeyBIoJ4GLxa75FHoWeDSWE0q2/6b+9+YLcxy8rmTzOXmmC3McrZ+VuVqTOWmCLthlQpX
r9dxGg5/dPKPWF9ZD0CDBgfff5CnO54mk8+oskNJqpHoqKg/3fbR0wjEOxFaaifLAgadID2VHuYC
c6xmNetWrMNu2Cpr/vTp0y2JTalUis7OTmCxb6kwuczbr4xjuK57wDCMobaP3wfcuPD+LmA/TcZ4
H/D/3OYVnzQMI24YRp/rulOXuobkPXq9XtXPQkflKpWK2sV6mZ6IfT0lTkLYOkBUr9dVAu3Q4BCH
nzjc7BlRs4jmomQ7snRkOqjn6kz4JyADNU/znF2VLtZV1mEshGAtLN74H2/kWq7lS+/6kgp1i26X
xRD7SK+cF8xF7kX3RJYiHZ95x8Q7yDVydAW6mAvM0Wg0mJ2d5fjx46RSKWKxmJoXSTSWLn9y3fYY
1KsBia/QFnsaWLHwfqmuwKuASzKGZIVLzEBC51ITIkmwkuSix0k8Ho/KhjZNU6kUadko0kLErEzG
3NwcuWyOVQ+tYqV/JTF/jKff9jS2ZTfjJwsbeODMAMZJzUhk8f2d99/JF9/5RfLFZrg8m82q8kOR
ZJI5Dq0GZruRKaRntgs5jkOtWmN6ZJoTmRMKtBLpKSpCVFS1WqVSqTA3N8eqVatUfqe49Hog8mL0
Kxufruu6hmH80p3qDa1ldFdXl8pX0C12cQHFMxHJIK6cGHntkLhMrjCMu1ByUK1WKZaKGB0GhWKh
qaYsL1TAWGU0mULWfeF1TWnN0uPHwOt66S31UvPXlDqURGUR3bpn1Q7t6yWEMmYZv541pn8nbaeE
EfS0A7mWZTWbyj766KO8+c1vZuvWrarPCCzaNHqfjXb6rzLGjKgIwzD6gNmFz192V2BXaxm9atUq
V1SJdLoJBoOqql0KbPSuc5JjsdTkAS2TLKHnSrXC/xr7X5wwT9Cxq4OtT29Vv1vhWYHlWDTMRlNi
LNBEeOKSE2FHbJyK0xKx1PxiPmEAACAASURBVEsOdbtCxiWLqY9Vd1X1zaHiKrg4webrUveqG7h6
QfW9997LqVOn+N3f/V3q9Trz8/OMjY2pzPuL0X+VMX4M3AH83cLrj7TP/7thGPfQNDqzL2VfQHMX
HDx4sEXU69XsO3fuZHBwUCXJit0gqkcPtQsD6TtUpEvBLnCydBIHh1w0R9VTVQXDPsvHB859gNHi
KJXJCiWaiUM7CztbxuriYmDg4pJMJJl351sAOVkYWCwLlJ2pL7ioGVEZuvGoShQWGN5xHfYP7md+
yzyezR6iP4iCS0ubBlE/ktoo82qaJidPnuTTn/606ga4fv16yuVyS6+Mdno57up3aRqa3YZhTAB/
TZMh/s0wjI8Co8AHFg6/j6arepqmu/qRlzq/kGmaqtxOJkTcTUlEaQe+JMAlv9H7U+lMIRMe88XY
FN7EyeJJ4qU43rqXkl1SNgGAv+HHCBiYVnOnT3oncXAwF9quuwv/puPT3LPnHiqlykVzJ/WF1gEl
Pb1AdyH18epZVnVfnfnwPK7h0ljZwAk4eCqeC9STbCpdekn8JhgMMjw8TL1eJxqNqu6GF6OX45X8
9kW+evsSx7rAnS91znbq6OjgzW9+szIcxcI/cuQIpmkqBE9IJIKOMOqTapqmiq/oRcIej4e/Gfob
ykaZc0fPsT+wn2qgGfksloo8veVpznvP47E92J7mYncVuvhSx5fom+vjyQ1PcnTdUdbMrmHo1BCe
ikdlR8HirhV1oScK6el8elaZHjEWtSeSRmwowzaI5+OkI2msKQujbGB5rSWZTdot6JVtOlI8MjKC
z+fj+uuvV5jPUrQskE9oisVYLNbS5mBqakrhGGKY6qJXD2C1B5ykkVq7ejFNE8u1WLtuLc+ffp5s
LovrNKvUpr3TTejZs2iEpsIpRiojjPvGObzhMJgwsnKE0PMhzJKJg0MlUiFUCuH3+i9ginYwSycd
SJO/RYW24xxXH72a89nzTJ2eavmtLi1EQnR3d6vUQEFpBb+Q2M3Pf/5zNm3adNH1WDaMIdTuSknX
G93Fg8XWR7ouhsUcT12MXmDtuw6fn/k8J9afINwVBhfynXksx8IxHLBpmZkj1x0hlAwRSAaodFfw
z/hJT6QxTIOp35vC9bqYdZMrH7yyBerWcQuhpdxFOV7C8bpHIlSv1aEApmHiuIsNX0WViFsvrRI6
OzvV7yUBWaHAC8HK559//qLrsCwYQ0cFLctSsLgeEZSd1F5GKEwgUkMPbQtTmKap0vwMwyBdS3Oy
eBLHcMjH801swoSG02DDvg2M7Ryj1lNrcV1L3SW6/m8XHZ4OfHUfwVAQesD1NouQHK9DPVbHV/S1
BMDa0UVRIWI8S2mCHqYHlBTR1Yy433pOipxTN7LT6bTKC+no6GBiYoLp6WmF5cBLZ3Atu8dripcB
tCy65DXo+EB74nB7TKJ9p8pOTAQSbA5vxoOHlfWVRHNRDMegI9OBE3CodddaK80c8M55iVpREv5m
y8l129exfdV2LMcCFzy2h45qx0UzytqxlvZxSSKNQnPrNUpmiXqj3oKP6FJI3wh6EpAUVMfjcdV5
p90Nbp+fdloWEgNacxJ0Q0q30qE1lH0x7EKHoHXXVX7v9Xr539v/N9l6ltHjo/zixV+QbqR5fOfj
nL3+bPNkC3MWzAUxTINyT5ns+7NcPXE1j619jGcCz9Df6OePCn/EdH0aT9pDOpJWSbc6eqsviuxq
sZX0VD9ZYBeXo7uPku/Mq3JHu2G33K/u0so960a2JO1IxpZku72ckDssQ8YQQ1FuQt7rhpOe5CLv
dVdVUFJxQQXwaQkeuRCzYuzevZtarca+o/sWkU8NEi8nygsDhGxHlsTmBHPGHK7hMmVNQQAGrUFy
9Ryu3Rx7oVB4yd2p20YiDSTGUbEq5DsXyxFr3hp+/CorS3d/9U0if0teyLlz51RVfCKRUC2rLmYM
67QsGEOPDbSLXMdplvwnEgkVMNOpvaxAzxuV3QOosj/ZVXLNYDDIlq1buP+J+1sQT3nfXe4m7U9j
mzaWaxEqhegP9HPec55+ux+zYlJzmpFVyb+UTHLdEJbdri+IqESRFBLncCsuoWSIUneJ8HwYs2zi
8Xtaip6WgtB1aSu9wkViSU6oeCnyu4vRsmAMaA07i0Emuz8YDLJmzRps227pri+TqRujgHITdXRR
QCwxClUvT9Pgfxz+Hzx1zVMLA0ExRSQbYeD5AZJvaVas1agxOjvKO73vxA7YRIwIVbuqVFalUlHj
lcDfxagFwNIq7FzXxbEdBn42oCrdLM+iEa0vfruKEqrVanR3d2Oazd4cMr5IJKJcfBmbpAa207Jg
jHaJIRCzqId9+/bxpS99SXWTkbqO7u5uVf0lgTi5ecmqEuaIRCLqGrZtKy8l08hwcPagYgiBuzGg
EC1wcsdJ9V0kFWHq9BTZYJaOjg5qwZrCSyTU7/f76erqUs+KbccphMTYVJ37HJsSpaar7DbnxKpa
GJahMtsAldyro5xAS9xIGK2np0eFDfTGLJcqGxBaFowh1B5LgKYUWLduHfF4XGVL6fkZ6XSaXC7H
8PAw+XxeiWPpRQ7NnFJ5kN2KFSvo7u5WzwbZunUru3t3c3DuIJFMhNv9t/Nv7r8x55sjnA1TiBea
jOHA2mfXLhZIL0ggCf1LRrrsRnENxQDVwShxu0XfO67DqTedopgoEkwGWfOzNUrlyX9AST6xL/RW
CjqQ1h7Gl9/Lse2tnJaiZcMYon91A1IilDfffDM9PT1KbZTL5ZYE3Vwup8LKkocgrp8+qcVikdOn
T6vHdUrhUGejkz3unmZmVMjmXeV3cfr8aZyiw9FdC95BKoJVtcBaTKzRO+DoTzKQx0zodoWOM4gR
LVKj4qlQTBTBhHJ3GSNsYNUX+4W3e1bt4Jd+/nYbRir82uf4YvEdoWXBGIZhKK9DLG6JdxiGwdzc
nMrglmMk58Hn86kH5opxJm5uZ2enerRVsViko6OjxSiDZqLvCy+8wGc/+1n8dT87duygXq/TF+0j
WUuy9Zmt1KwaZsXE8lrq0RaJRIKNGzeq1gKO47S0RRKbQY976EFAva2D0TAIzYcoJUqE5kP4bT8e
y3OBAQuL2WFSoiAkSLD0Xu/t7VXBRtu2VWtpmW/ds1uKlg1jSP6A3lRERPL4+LgqHBLIWJgJaHlk
hB6skuo1YTR5goGeoFKpVPjHf/xH5ubmyOfz7Nmzh1KppJqpBcrNQmE35Kr0QClLlNxSAeB0IEo8
KFE9KoS+sNt1WNx1XAYfGcQJOAScgOrj0Y436E3c9PCASAphWukWrC+82BW6BHpdeCWiiwWTECYR
l1I4X0//y2QyF8RJABWml+7AkmTs8/lUaD8cDpPNZvnQhz6kbJFCscCxkWOs71tPsVBk9erVqlrc
MAy6urqIxWIt7RJ1l1MeYiNqQtxQYWbbsal5a02V5LZGXHFpGpvexWer6Bla8pneqwxavRsxsqPR
aEu8RZhArqfnoV6Mlg1j6MidUHvqmV7fqkdX5fftVr8ATbLLpFeXMNcXv/hFLKv5vDHHdah8qMJ/
rPoPBs1BPuj5IH6fX3lBlmWpzrsSb5Cgl/yXDr16SaLK6nJsTr35FMWuIuH5MEOPDinv42KkBwz1
bHOgxQ2XfqfyRAVd9ci8CDOolhCvF4BLuLq9EQqgbAc5tl23LiUS9WCTnF8BSK7Lt771LSYnJxfx
hjA4/Q6YMM44FbOCp+FpsQ+y2azyiCSiKbaOYCzymCtdcjQaDWq+GsWupoFZTBRp+BpNycGFQJMu
JfR0AVGtoVCIYrFIMBgkEomoR3uLRJP7l3MtBa69FCy+LBgDFplD/usBI3nmuq5exCbRYw06wtie
KCt4RqlU4h/+4R9UpxoVjyk5WFMWjb4Gqz2rsR2b8zPnGRsdUwCRJCwLwwkpaLtWpeAWcAsudsNu
GZen4mkxMM2KqWB3fdGEgXXMRd8Yb3zjG7n//vtVxls2m8V1XTZu3EhXV9cF5ZvCdJIGqM/P68LG
kIHqC6oHjOQmdHUix12qeEc/Jh6P8/DDD7d0tRMGwQXv3V7CnWGyv5Xln2L/RFd3F1ecugLXWQzq
tQNxgjMYpsHTW58mF2324dzw+AZcZzGiC7D20bXYfhtP1QNLSHJ9F8s9iOqzLItUKsXWrVv57ne/
SyKRIJ/PKxtoeHhYPZgHmmWTPT096vlyekBvqTyRdloWjKGDMuKG6e6Z/N0uHURC6AbWUvpYduH+
/ft57LHHgMXO/uImq2MNk3Q0DQbMh+bJ2lkC9eax7TC36G7LsmgEGuSiOVzTJd+Zp2yUsRqWMvrU
ohfBZvFvWUhd5IuE0u2tRqPBVVddxQsvvKCScPSW0vl8vuXZ7tPT08zOzjI4OEg8Hr9A/b5ubAxh
Dt1QFG9CchP1nhI6TiDfCckE62L0wIEDPPfcc+qR2fl8viVZxuNpPskxGArSyDSa0U0Dzu06p3Y/
LOAIjg3hphehIO8qhFIhil1FQskQbtGlQesD/PRUAV3CyXu90ZocJ6pr8+bNfPzjH+c973mParwm
lW96KF3ux3Ecstmsypvt6+tT4YNgMHgBQtpOy4Ix4MJeW+05FLqR2W5wyoQL48hk6rtyfHxc7RzB
MwT4MYxmf9De3l5CoRBdZ7s4sOsArulS7iljRS3s3AKkbcDIW0aUd7H+5+vBaaq49Y+tp2bVcIvN
sL7UgMgYZeztpNtC+tjlb9u2+eAHP6ie7gSt5RUyT/pru2Sbm5sjm80yPz9Pd3d3Cw6zFC0bxtDx
f1ENOqoox8j7pSZFpISISkFGJTNajpPwuLiiUkGvAmF1P9FslGwsS6KY4N03vpsH7n+g6dV4qy3e
Rd1Xx1drtoF2bAeqzUCc4y6NLLbnaQDK2BRJKbu50WiQz+e56aabgOYjzQXk05vDLEXtNoSECEql
EvPz88zMzCgPZilaFoyhu5N6zYjgFBIDkSapej6CzigS1JL/Xq+X6elpTpw4odoSyHmFAWUxYNE1
zOfzrHp4FZ1GJ//zT/8njz76qDL2KtkKwWSQcneZcKqZK9FwW6OnlzLqZMHaYx36e1GV1WqVnTt3
8v73vx/TNDl9+jSmaap6m/ZkHaGlpKmeUG0YBul0+pLPLFkWjCEkYJQeJdSxAF21LPXa3kg9n89z
/vx5pbPl3LVareU57kLCGPF4nHA4jOM4nDhxgkqlQigUUgy65mdrMMIGnqpHeR46tUPWMh4dsLoY
8wjKWq/X6ejo4NZbb1UdAF544YWWel39Whebk/Y5k+u/brwS3V2Fxe57whh687X2Sm19YsS1tSxL
GWgSqtaDdDLBeuaXGIGiv03T5MiRI9RqNQWlR6NRgsEgMzMzuJ7WLKr2na9Tu4uoL2i79JAxfeQj
H6Gnp4fu7m6effZZRkZGWhKY2kMBuvS8FL3U97BMGAMW7QedOWR36wEnWUDRy+1GnWALmUyGbDZL
JBJpsTl011H/jZ5eJ9JJPB3Jx5Rdb5omq1evZnp6WhmHL+f+2u9VZypheHGfN27cyE033cTg4CBf
/vKXufvuuy9oNyUqsJ3ZLiWRXi4tG8bQo6rCHLL4iURCRTsFkgZadKzsNJngF1988QJbRAxU3aBt
SZhpk0KSVCzHAcrwkwhmSyBMo3bpoHtI+nX04+SYSCTCHXfcQVdXF47jcO7cOdVvVK+Z0aWULn1e
iileCsOAZcIYuqumL5y8T6VSFItFLGvx0ZD6YsuulddHH320JVMbWnfpxaB03aOBRQBLPofWTj5b
tmzhyJEjSnWJvaIHsOTa+t9L3b9eKvF3f/d3XHnlldi2zcGDBzl8+LCqq5H7bVcn+jjbjc+l7ImX
YqBlwRjQOnk6c/h8Pu666y7y+bxyYfWJlBiAtJzu6elRzwdprwbTX2Xnyms7bqKPRRhEjpU2DO1Z
YnJNPc4h19IBJd3tBlo+//3f/32uuOIKQqEQk5OTjI+PqzaN7dV5+hjls3aXXuiljM12WjaMIROn
i1y5GQGm5KYljU4WSzCKaDSqOui2L7Sex6E/4kImS1SFHsCTh+YFAgHC4bBKL5yZmSGbzarv8vm8
eiy33MtS0kbfve3RTa/XSyAQ4GMf+5jCbzweDwcPHlRlizpi2h5T0tWIzI1+fy9XzQgtC8YQsEmy
nRqN5pOQpT3SH/7hH6rm7ZKhJD0fpK/m+Pg4Bw8eVBiFaZrq6T4y6Y7T7P4/NzdHKBQiHA6rbGo5
nxTmdHZ2Eo/HVQW+nFfiJcIgjz32mHpYXS6XU4k0ukQSiSCJzJK/IQwTDAbVtf/sz/6MW265hVgs
RjKZ5OzZs2zdulWBb+0LDYvBPZF80ipa3yChUEhJWKmW83q9PPLII0uuifGrWq+vBO3cudP9z//8
TzWRsoh6LETEsi6qZSKEAcTrkMdd6fkcci5BFqXRujwxWRBFvYGr9BIXFFIiqboXMT8/3/LcEJlP
icPIrpVxt4e/hckEhZX7EhLJoLvjMn6J97TP0aZNm9T9i82klxlkMhmSySThcJgbbrjhoOu6V7ev
ybKQGJZlMTMzw5EjR7j11lsZHx9n3759uK7L3r17uf/++7n99tsJh8McOnSIn/70pwwMDPDRj36U
gwcP8otf/IK1a9fy9re/nWAwSLlc5u6776ZSqXDrrbeqBJquri5++MMf4vP5yGQyeDwe3vCGNygJ
dfr0aQzD4CMf+QiPPfYYjzzyCHv27GHHjh3cf//9ahFvueUWNdGSB9qehqeLfHkvqkdfaN0T041W
OY+oFF21GobBzMyMsruEqcXV7e/vV+dpp3vvvZf169dz7bXXXtLNXhbV7o1Ggw9/+MN89atfJZVK
8ZOf/IRvfetbJJNJfud3focvf/nL6ulCH/vYx/joRz/KyMgI+/fv54477uD5559vSZ754z/+Y/bv
34/P5+Paa69l37593HfffRw6dIjPfvaz/NM//ROTk5P09vbyyCOP8Pd///fcc8897Nixgx/+8Id8
4Qtf4BOf+ATvec97+OQnP8lPfvIT3vrWt/L1r3+dAwcOKJhexLH+JCVZVD3pVi8v0GMcukEq7/Uu
hZK4LOfQfy9dkEulkkpELpfLdHZ2thwn7u2f/MmfcPPNNxOJRFi1ahWRSOSSsZKXZAzDMAYMw3jE
MIzjhmEcMwzjTxY+7zIM4yHDMIYXXjsXPjcMw/iyYRinDcM4bBjGrpe6htgXn/jEJ/jxj39MPB4n
mUzyla98hTvuuINkMqlsjp6eHgYGBti8eTOFQoE//dM/ZXp6mjvvvJNTp05Rq9UYHh5my5YtXHfd
dWqRuru7W5jn+eef5+6771ZhasMwuOOOOzh27BiVSoVgMMj27dvp7+9nYmKCkydP0t3dzV//9V+r
MgR9sSQHU89Ca/9bmKH9v3687PL2Y/TPbLv1sVq6TRONRltcb5/Px759+xgZGWHlypV873vf46mn
nqJarar6l/8SYwAN4FOu624F9gB3GoaxlcW20RuBfQt/Q2vb6D+g2Tb6kpROp6lWq3znO9/hrrvu
IpPJEIlE6OrqUp39P/e5z/H973+fqakpPv/5z3P33XeTSCR46KGHeN/73ke9XmdkZASv18ub3vQm
vv/97/NXf/VXRCIRVq9ezf3338+3v/1tNm3aRKVSYdeuXdx2221KpQB84QtfoNFosHv3blKpFF/5
ylcYGxtjcHCQT37yk3R0dPDVr35V1XtKuqDUsuhSov1/O1ze/l07I+mkM5CMVart9FIFYQRReaZp
cvjwYf72b/+WjRs3EovF8Pl89PT0cO7cOe69996LrskvbXwahvEjmr3FvwLc6C72+tzvuu4mwzC+
sfD+uwvHn5TjLnbO7du3u08//TQej4cTJ06wdu1aRkZGWLFiBdVqVSXXJhIJwuEwTz75JL29vWzb
to1sNsuxY8fYsWOHQiMbjQanTp2iUqlw5swZ3ve+93HkyBHC4TCbNm3i3LlzKlIbDAbJ5XLqMRa5
XE49n+Tw4cPs2LED0zSZm5tTk93b26sCc3rEUkc1L5Z3IWPUg3e65/JSbqVhGKRSKZ566illAMv1
EokEu3fvVjkmjUaD2267jT179pDJZAgGg0xNTfHNb36Tz372s5w/f56vfe1rv7rxaTR7il8FPMWv
2Dba0DoDDwwMKP26fft2XNdl+/btatLEqhcD6+1vf7ua+Gg0ynXXXQcsRlc9Hg9bt27FMAyuueYa
HMdh+/btCu8YGhpSk1mr1RgcHFTnk0hmOBzmjW98I7VardmDfGioRWRLwoxOugiXcctuDwaDVCqV
FtUgv2n3UtrjRbqxCqgEYN3QLZfL7Ny5U6UXuK7LoUOH2L59O8lkUhmoN954I9BMKj5w4MBF1/pl
G5+GYUSA7wN/6rpuS0tZtznqX0r0uK77Tdd1r3Zd9+qenh6y2awCn/TG8aZpMj8/T6FQuKCgVweu
yuWySqPXG7IVCgVeeOEFxsfHFY4Ai9Fbx3HU88pkl+nPDNPzP1x3sbe5iHLBJNofbyWf6c9VWSpw
Both+KWkjIwvnU4zNzfH7OwsyWSSYrGoWmcLI8rzVeR8//7v/95SdV+pVNi2bRv1ep23ve1t/M3f
/M1F1+dlSQzDMLw0meJfXNf9wcLHv3LbaKFUKsUTTzzB1q1befDBB9mzZw8/+9nPuP766zl06BD9
/f10dnZy+PBhhQrKg+2z2SzXXXcdTz75pNKvfr+fjo4O9uzZQ7Va5Wtf+xobN27khhtu4KGHHmLX
rl2MjY2xZs0aLMvi7NmzChOo1+vs2rWLZ599lttuu43u7m7l/un1IiL+dcBJdLvoe0kWkt0qybtC
9XpdBcZ0zEU8Ht3bECzGsiz1TFYZDzQfBiTNUVzX5YknnuCqq67i2LFjKmfWdV2OHj3K9u3bXzKQ
9nK8EgP4/4AXXdf9B+0raRsNF7aN/r0F72QPL6NttNRMDA8Ps23bNiqVCtdffz3Dw8O84x3vwLZt
pqenGRwcpFAoKDF/5MgRhoaGSKVSbNu2jXA4rOIYgUBAJf7u3LmTI0eOMDk5id/vJ5fLsXv3bgYH
BwFYv349q1atwrZtbrnlFjKZDKtXr27N7gZVVCRNX/XiattuPvRWEEdZ9GKxSKFQULaSMFK1WiWd
TpNOp9U5q9Uq+XyeZDLJ1NQUmUympSFuuVxWRU+SBiDSKxQKqVIDwzA4efIk4+Pj9PX1ceWVV7J+
/XqlQtvTDpZc95cRor0eeAw4AsiZ/oKmnfFvwBoW2ka7rptaYKSvAHtZaBvtuu6zl7rG7t273Ucf
fVSBU9JQTKrGF8ahbI1isUgkElHiX54gKCSgkuweQS3lb4/HQzKZVA/clQCV4BECzQuULDt1bGxM
uc7igchjusQWCAQCSn0IvB8Oh1Xi7erVq3EcRyGmIqXkuanyPDMd0BIjs1KpkM1mFaMJs5qmyXvf
+15WrlypPvvUpz7Fu9/9blKpFI899hgHDhzgO9/5jgLYtm7dyi233MKPf/zj/5rx6bruz1myPAZ4
hdpGG4ahCoWlQEZEsB44kniF5GboPbPlv8DXekaWLJYwgBixeqa17OZcLofjNFsaJBKJC8LbgFr4
eDyual8l31RUQ7FYVGI+Go2q99JNT2IqYptIM1u9m297joheGyvwvaghn8+nNkoul1PA18aNG5mZ
meHBBx+kWCyqB/5ezKYRWhaQeLVaZXR0FEDtGNHTehhZ9/l1D0G37CUmIpJEXk3TVEagFAEDyoAD
VJBMpIrX62VgYEBZ+seOHWNychLbtunp6SESiRAOhymVShQKBWXfeDwepqenlUrRK+anpqYUE0qV
PDQrzqLRKMlkkrm5OTUGuW95fLjYQrKwoVCIarXK2NiYeoT39PS0Yq4tW7bgui7XXHMNhUKBRqPB
+Pg4pVKJz33uc/zkJz9Zck2WRRCts7PTvfbaa1t8+/acBR3cac8zkO91AxBoQTrbmUyOa3cd9aQf
CdDpcQuRSu3qSvcw9B5Z+vn1ZCL9HvVXIf1zvWe67qa2h/V1t1c/tr3nln69n/70p8s3iFYulzl8
+DCpVEp9pqfitZM+abqqgdY0uvbQtEiYpSZQpJHOXDqTyfn0RdeDXwK9yy49evSoEu86wqkDUjrJ
teU6+r2LetXdZkk5EDsmGAy2MKwwoEg0YSLZXPp9LEXLgjEGBgb49Kc/zZ133qk43HWbdSIbNmxg
y5YtPPPMM3R3d7N161YAnnzyScbGxti7d69K9ZcHx7397W/n2Wef5ZprrqFer/O9732Pt73tbTzw
wAP8xm/8Bul0mmeeeYZIJKKMsTVr1tDV1UVPTw//8i//wnvf+15+9rOfsXv3bg4dOsSePXvYt28f
fr+f3/zN3+TBBx9k7969uK7Lww8/TCwWo6+vj0KhwFve8haGhoZUbodhGPzoRz/iAx/4APfff79a
JHlE54033sjPf/5zXNflt37rt3Ach+9///tcffXVHDp0iPe///3MzMywcuVKCoUC+/bt473vfS/H
jh1jdnaWm266if379+PxeFi9ejU7duzgiSee4IYbbuDIkSNcccUVyvYYHh5m8+bNPPHEE2zYsIGp
qaUdxmWhSgzDyAMnX+txvEzqBpKv9SBeBr3ccQ66rtvT/uGykBjAyaX03HIkwzCefT2M9Vcd57LI
x7hMy48uM8ZlWpKWC2N887UewC9Br5ex/krjXBbG52VafrRcJMZlWmZ0mTEu05L0mjOGYRh7DcM4
uZA8/JmX/sWrOpZvG4YxaxjGUe2zVyzp+RUc56ueoN2Cwf+6/wMe4AywDvABLwBbX8PxvAXYBRzV
Pvt74DML7z8DfH7h/buB/6QZed4DPPVrHGcfsGvhfQdwCtj6So71tWaMNwEPaH//OfDnr/GYhtoY
4yTQpy3IyYX33wB+e6njXoMx/wi4+ZUc62utSi6WOLyc6JdNev610q+YoH1Req0Z43VFbnO7LRv/
/pVO0NbptWaMXzpxeRXaPwAAAKlJREFU+DWgmYVkZ37VpOdXki6VoP1KjPW1ZoxngI2GYaw1DMMH
fIhmMvFyolcs6fmVol9HgvZranwuGELvpmlVnwH+8jUey3dpFkbVaerhjwIJmiWYw8DDQNfCsQbw
1YVxHwGu/jWO83qaauIw8PzC/3e/kmO9DIlfpiXptVYll2mZ0mXGuExL0mXGuExL0mXGuExL0mXG
uExL0mXGuExL0mXGuExL0v8PPBBB9i7QqagAAAAASUVORK5CYII=
"
>
</div>

</div>

<div class="output_area">

    <div class="prompt"></div>




<div class="output_png output_subarea ">
<img src="data:image/png;base64,iVBORw0KGgoAAAANSUhEUgAAAIYAAACBCAYAAAAFfMIpAAAABHNCSVQICAgIfAhkiAAAAAlwSFlz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"
>
</div>

</div>

<div class="output_area">

    <div class="prompt"></div>




<div class="output_png output_subarea ">
<img src="data:image/png;base64,iVBORw0KGgoAAAANSUhEUgAAAIYAAACBCAYAAAAFfMIpAAAABHNCSVQICAgIfAhkiAAAAAlwSFlz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==
"
>
</div>

</div>

<div class="output_area">

    <div class="prompt"></div>




<div class="output_png output_subarea ">
<img src="data:image/png;base64,iVBORw0KGgoAAAANSUhEUgAAAIYAAACBCAYAAAAFfMIpAAAABHNCSVQICAgIfAhkiAAAAAlwSFlz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"
>
</div>

</div>

<div class="output_area">

    <div class="prompt"></div>




<div class="output_png output_subarea ">
<img src="data:image/png;base64,iVBORw0KGgoAAAANSUhEUgAAAIYAAACBCAYAAAAFfMIpAAAABHNCSVQICAgIfAhkiAAAAAlwSFlz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=
"
>
</div>

</div>

<div class="output_area">

    <div class="prompt"></div>




<div class="output_png output_subarea ">
<img src="data:image/png;base64,iVBORw0KGgoAAAANSUhEUgAAAIYAAACBCAYAAAAFfMIpAAAABHNCSVQICAgIfAhkiAAAAAlwSFlz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"
>
</div>

</div>

</div>
</div>

</div>
<div class="cell border-box-sizing text_cell rendered"><div class="prompt input_prompt">
</div><div class="inner_cell">
<div class="text_cell_render border-box-sizing rendered_html">
<h2 id="Training">Training<a class="anchor-link" href="#Training">&#182;</a></h2><h4 id="Loss-function">Loss function<a class="anchor-link" href="#Loss-function">&#182;</a></h4><p>Training a network to predict keypoints is different than training a network to predict a class; instead of outputting a distribution of classes and using cross entropy loss, you may want to choose a loss function that is suited for regression, which directly compares a predicted value and target value. Read about the various kinds of loss functions (like MSE or L1/SmoothL1 loss) in <a href="http://pytorch.org/docs/master/_modules/torch/nn/modules/loss.html">this documentation</a>.</p>
<h3 id="TODO:-Define-the-loss-and-optimization">TODO: Define the loss and optimization<a class="anchor-link" href="#TODO:-Define-the-loss-and-optimization">&#182;</a></h3><p>Next, you'll define how the model will train by deciding on the loss function and optimizer.</p>
<hr>

</div>
</div>
</div>
<div class="cell border-box-sizing code_cell rendered">
<div class="input">
<div class="prompt input_prompt">In&nbsp;[0]:</div>
<div class="inner_cell">
    <div class="input_area">
<div class=" highlight hl-ipython3"><pre><span></span><span class="c1">## TODO: Define the loss and optimization</span>
<span class="kn">import</span> <span class="nn">torch.optim</span> <span class="k">as</span> <span class="nn">optim</span>

<span class="n">criterion</span> <span class="o">=</span> <span class="n">nn</span><span class="o">.</span><span class="n">SmoothL1Loss</span><span class="p">()</span>

<span class="n">optimizer</span> <span class="o">=</span> <span class="n">optim</span><span class="o">.</span><span class="n">Adam</span><span class="p">(</span><span class="n">net</span><span class="o">.</span><span class="n">parameters</span><span class="p">(),</span> <span class="n">lr</span><span class="o">=</span><span class="mf">0.001</span><span class="p">,</span> <span class="n">betas</span><span class="o">=</span><span class="p">(</span><span class="mf">0.9</span><span class="p">,</span> <span class="mf">0.999</span><span class="p">),</span> <span class="n">eps</span><span class="o">=</span><span class="mf">1e-08</span><span class="p">)</span>
</pre></div>

    </div>
</div>
</div>

</div>
<div class="cell border-box-sizing text_cell rendered"><div class="prompt input_prompt">
</div><div class="inner_cell">
<div class="text_cell_render border-box-sizing rendered_html">
<h2 id="Training-and-Initial-Observation">Training and Initial Observation<a class="anchor-link" href="#Training-and-Initial-Observation">&#182;</a></h2><p>Now, you'll train on your batched training data from <code>train_loader</code> for a number of epochs.</p>
<p>To quickly observe how your model is training and decide on whether or not you should modify it's structure or hyperparameters, you're encouraged to start off with just one or two epochs at first. As you train, note how your the model's loss behaves over time: does it decrease quickly at first and then slow down? Does it take a while to decrease in the first place? What happens if you change the batch size of your training data or modify your loss function? etc.</p>
<p>Use these initial observations to make changes to your model and decide on the best architecture before you train for many epochs and create a final model.</p>

</div>
</div>
</div>
<div class="cell border-box-sizing code_cell rendered">
<div class="input">
<div class="prompt input_prompt">In&nbsp;[0]:</div>
<div class="inner_cell">
    <div class="input_area">
<div class=" highlight hl-ipython3"><pre><span></span><span class="k">def</span> <span class="nf">train_net</span><span class="p">(</span><span class="n">n_epochs</span><span class="p">):</span>

    <span class="c1"># prepare the net for training</span>
    <span class="n">net</span><span class="o">.</span><span class="n">train</span><span class="p">()</span>

    <span class="k">for</span> <span class="n">epoch</span> <span class="ow">in</span> <span class="nb">range</span><span class="p">(</span><span class="n">n_epochs</span><span class="p">):</span>  <span class="c1"># loop over the dataset multiple times</span>
        
        <span class="n">running_loss</span> <span class="o">=</span> <span class="mf">0.0</span>

        <span class="c1"># train on batches of data, assumes you already have train_loader</span>
        <span class="k">for</span> <span class="n">batch_i</span><span class="p">,</span> <span class="n">data</span> <span class="ow">in</span> <span class="nb">enumerate</span><span class="p">(</span><span class="n">train_loader</span><span class="p">):</span>
            <span class="c1"># get the input images and their corresponding labels</span>
            <span class="n">images</span> <span class="o">=</span> <span class="n">data</span><span class="p">[</span><span class="s1">&#39;image&#39;</span><span class="p">]</span>
            <span class="n">key_pts</span> <span class="o">=</span> <span class="n">data</span><span class="p">[</span><span class="s1">&#39;keypoints&#39;</span><span class="p">]</span>

            <span class="c1"># flatten pts</span>
            <span class="n">key_pts</span> <span class="o">=</span> <span class="n">key_pts</span><span class="o">.</span><span class="n">view</span><span class="p">(</span><span class="n">key_pts</span><span class="o">.</span><span class="n">size</span><span class="p">(</span><span class="mi">0</span><span class="p">),</span> <span class="o">-</span><span class="mi">1</span><span class="p">)</span>

            <span class="c1"># convert variables to floats for regression loss</span>
            <span class="n">key_pts</span> <span class="o">=</span> <span class="n">key_pts</span><span class="o">.</span><span class="n">type</span><span class="p">(</span><span class="n">torch</span><span class="o">.</span><span class="n">cuda</span><span class="o">.</span><span class="n">FloatTensor</span><span class="p">)</span>
            <span class="n">images</span> <span class="o">=</span> <span class="n">images</span><span class="o">.</span><span class="n">type</span><span class="p">(</span><span class="n">torch</span><span class="o">.</span><span class="n">cuda</span><span class="o">.</span><span class="n">FloatTensor</span><span class="p">)</span>

            <span class="c1"># forward pass to get outputs</span>
            <span class="n">output_pts</span> <span class="o">=</span> <span class="n">net</span><span class="p">(</span><span class="n">images</span><span class="p">)</span>

            <span class="c1"># calculate the loss between predicted and target keypoints</span>
            <span class="n">loss</span> <span class="o">=</span> <span class="n">criterion</span><span class="p">(</span><span class="n">output_pts</span><span class="p">,</span> <span class="n">key_pts</span><span class="p">)</span>

            <span class="c1"># zero the parameter (weight) gradients</span>
            <span class="n">optimizer</span><span class="o">.</span><span class="n">zero_grad</span><span class="p">()</span>
            
            <span class="c1"># backward pass to calculate the weight gradients</span>
            <span class="n">loss</span><span class="o">.</span><span class="n">backward</span><span class="p">()</span>

            <span class="c1"># update the weights</span>
            <span class="n">optimizer</span><span class="o">.</span><span class="n">step</span><span class="p">()</span>

            <span class="c1"># print loss statistics</span>
            <span class="n">running_loss</span> <span class="o">+=</span> <span class="n">loss</span><span class="o">.</span><span class="n">item</span><span class="p">()</span>
            <span class="k">if</span> <span class="n">batch_i</span> <span class="o">%</span> <span class="mi">50</span> <span class="o">==</span> <span class="mi">49</span><span class="p">:</span>    <span class="c1"># print every 50 batches</span>
                <span class="nb">print</span><span class="p">(</span><span class="s1">&#39;Epoch: </span><span class="si">{}</span><span class="s1">, Batch: </span><span class="si">{}</span><span class="s1">, Avg. Loss: </span><span class="si">{}</span><span class="s1">&#39;</span><span class="o">.</span><span class="n">format</span><span class="p">(</span><span class="n">epoch</span> <span class="o">+</span> <span class="mi">1</span><span class="p">,</span> <span class="n">batch_i</span><span class="o">+</span><span class="mi">1</span><span class="p">,</span> <span class="n">running_loss</span><span class="o">/</span><span class="mi">10</span><span class="p">))</span>
                <span class="n">running_loss</span> <span class="o">=</span> <span class="mf">0.0</span>

    <span class="nb">print</span><span class="p">(</span><span class="s1">&#39;Finished Training&#39;</span><span class="p">)</span>
</pre></div>

    </div>
</div>
</div>

</div>
<div class="cell border-box-sizing code_cell rendered">
<div class="input">
<div class="prompt input_prompt">In&nbsp;[0]:</div>
<div class="inner_cell">
    <div class="input_area">
<div class=" highlight hl-ipython3"><pre><span></span><span class="n">use_cuda</span> <span class="o">=</span> <span class="kc">True</span>
</pre></div>

    </div>
</div>
</div>

</div>
<div class="cell border-box-sizing code_cell rendered">
<div class="input">
<div class="prompt input_prompt">In&nbsp;[0]:</div>
<div class="inner_cell">
    <div class="input_area">
<div class=" highlight hl-ipython3"><pre><span></span><span class="k">if</span> <span class="n">use_cuda</span> <span class="ow">and</span> <span class="n">torch</span><span class="o">.</span><span class="n">cuda</span><span class="o">.</span><span class="n">is_available</span><span class="p">():</span>
    <span class="n">net</span><span class="o">.</span><span class="n">cuda</span><span class="p">()</span>
</pre></div>

    </div>
</div>
</div>

</div>
<div class="cell border-box-sizing code_cell rendered">
<div class="input">
<div class="prompt input_prompt">In&nbsp;[24]:</div>
<div class="inner_cell">
    <div class="input_area">
<div class=" highlight hl-ipython3"><pre><span></span><span class="c1"># train your network</span>
<span class="n">n_epochs</span> <span class="o">=</span> <span class="mi">40</span> <span class="c1"># start small, and increase when you&#39;ve decided on your model structure and hyperparams</span>

<span class="c1"># this is a Workspaces-specific context manager to keep the connection</span>
<span class="c1"># alive while training your model, not part of pytorch</span>

<span class="n">train_net</span><span class="p">(</span><span class="n">n_epochs</span><span class="p">)</span>
</pre></div>

    </div>
</div>
</div>

<div class="output_wrapper">
<div class="output">


<div class="output_area">

    <div class="prompt"></div>


<div class="output_subarea output_stream output_stdout output_text">
<pre>Epoch: 1, Batch: 50, Avg. Loss: 0.8679014973342418
Epoch: 1, Batch: 100, Avg. Loss: 0.6799363672733307
Epoch: 1, Batch: 150, Avg. Loss: 0.6364385955035686
Epoch: 1, Batch: 200, Avg. Loss: 0.5908289164304733
Epoch: 1, Batch: 250, Avg. Loss: 0.6226748272776603
Epoch: 1, Batch: 300, Avg. Loss: 0.5730293214321136
Epoch: 2, Batch: 50, Avg. Loss: 0.5508660208433867
Epoch: 2, Batch: 100, Avg. Loss: 0.5601676430553197
Epoch: 2, Batch: 150, Avg. Loss: 0.5666195809841156
Epoch: 2, Batch: 200, Avg. Loss: 0.5262618869543075
Epoch: 2, Batch: 250, Avg. Loss: 0.5368483759462833
Epoch: 2, Batch: 300, Avg. Loss: 0.5033714327961206
Epoch: 3, Batch: 50, Avg. Loss: 0.5114313121885061
Epoch: 3, Batch: 100, Avg. Loss: 0.517350535094738
Epoch: 3, Batch: 150, Avg. Loss: 0.5386496596038342
Epoch: 3, Batch: 200, Avg. Loss: 0.522952963039279
Epoch: 3, Batch: 250, Avg. Loss: 0.49432016238570214
Epoch: 3, Batch: 300, Avg. Loss: 0.4989257507026196
Epoch: 4, Batch: 50, Avg. Loss: 0.4407082159072161
Epoch: 4, Batch: 100, Avg. Loss: 0.4490388836711645
Epoch: 4, Batch: 150, Avg. Loss: 0.5269332744181157
Epoch: 4, Batch: 200, Avg. Loss: 0.46648015044629576
Epoch: 4, Batch: 250, Avg. Loss: 0.48611431308090686
Epoch: 4, Batch: 300, Avg. Loss: 0.4229242719709873
Epoch: 5, Batch: 50, Avg. Loss: 0.40468011908233165
Epoch: 5, Batch: 100, Avg. Loss: 0.4438907738775015
Epoch: 5, Batch: 150, Avg. Loss: 0.44249977320432665
Epoch: 5, Batch: 200, Avg. Loss: 0.48028377406299116
Epoch: 5, Batch: 250, Avg. Loss: 0.5425212562084198
Epoch: 5, Batch: 300, Avg. Loss: 0.45372739546000956
Epoch: 6, Batch: 50, Avg. Loss: 0.4349930718541145
Epoch: 6, Batch: 100, Avg. Loss: 0.42210271432995794
Epoch: 6, Batch: 150, Avg. Loss: 0.42976144831627605
Epoch: 6, Batch: 200, Avg. Loss: 0.422037211433053
Epoch: 6, Batch: 250, Avg. Loss: 0.43940248563885687
Epoch: 6, Batch: 300, Avg. Loss: 0.39679911360144615
Epoch: 7, Batch: 50, Avg. Loss: 0.3830180434510112
Epoch: 7, Batch: 100, Avg. Loss: 0.40850779600441456
Epoch: 7, Batch: 150, Avg. Loss: 0.41031368225812914
Epoch: 7, Batch: 200, Avg. Loss: 0.41031994894146917
Epoch: 7, Batch: 250, Avg. Loss: 0.4345283333212137
Epoch: 7, Batch: 300, Avg. Loss: 0.37764428053051236
Epoch: 8, Batch: 50, Avg. Loss: 0.4202822454273701
Epoch: 8, Batch: 100, Avg. Loss: 0.37867174483835697
Epoch: 8, Batch: 150, Avg. Loss: 0.4343158798292279
Epoch: 8, Batch: 200, Avg. Loss: 0.39341004826128484
Epoch: 8, Batch: 250, Avg. Loss: 0.41591786351054905
Epoch: 8, Batch: 300, Avg. Loss: 0.3713754039257765
Epoch: 9, Batch: 50, Avg. Loss: 0.37636761255562307
Epoch: 9, Batch: 100, Avg. Loss: 0.37184203546494243
Epoch: 9, Batch: 150, Avg. Loss: 0.36230675391852857
Epoch: 9, Batch: 200, Avg. Loss: 0.39266986176371577
Epoch: 9, Batch: 250, Avg. Loss: 0.37594795748591425
Epoch: 9, Batch: 300, Avg. Loss: 0.3654310509562492
Epoch: 10, Batch: 50, Avg. Loss: 0.6304334096610547
Epoch: 10, Batch: 100, Avg. Loss: 0.4515722941607237
Epoch: 10, Batch: 150, Avg. Loss: 0.5035983912646771
Epoch: 10, Batch: 200, Avg. Loss: 0.4529191102832556
Epoch: 10, Batch: 250, Avg. Loss: 0.45658188201487065
Epoch: 10, Batch: 300, Avg. Loss: 0.4155978035181761
Epoch: 11, Batch: 50, Avg. Loss: 0.4260504378005862
Epoch: 11, Batch: 100, Avg. Loss: 0.4652854688465595
Epoch: 11, Batch: 150, Avg. Loss: 0.5038530938327312
Epoch: 11, Batch: 200, Avg. Loss: 0.4827865816652775
Epoch: 11, Batch: 250, Avg. Loss: 0.4874370628967881
Epoch: 11, Batch: 300, Avg. Loss: 0.45023557618260385
Epoch: 12, Batch: 50, Avg. Loss: 0.4366359733045101
Epoch: 12, Batch: 100, Avg. Loss: 0.4326436992734671
Epoch: 12, Batch: 150, Avg. Loss: 0.4890225544571877
Epoch: 12, Batch: 200, Avg. Loss: 0.46492911614477633
Epoch: 12, Batch: 250, Avg. Loss: 0.4091355733573437
Epoch: 12, Batch: 300, Avg. Loss: 0.41872257106006144
Epoch: 13, Batch: 50, Avg. Loss: 0.4099775955080986
Epoch: 13, Batch: 100, Avg. Loss: 0.47828110978007315
Epoch: 13, Batch: 150, Avg. Loss: 0.47681305818259717
Epoch: 13, Batch: 200, Avg. Loss: 0.4489997997879982
Epoch: 13, Batch: 250, Avg. Loss: 0.44781567007303236
Epoch: 13, Batch: 300, Avg. Loss: 0.40657203905284406
Epoch: 14, Batch: 50, Avg. Loss: 0.4270741447806358
Epoch: 14, Batch: 100, Avg. Loss: 0.484472319483757
Epoch: 14, Batch: 150, Avg. Loss: 0.4641959674656391
Epoch: 14, Batch: 200, Avg. Loss: 0.5004616510123014
Epoch: 14, Batch: 250, Avg. Loss: 0.45582071505486965
Epoch: 14, Batch: 300, Avg. Loss: 0.40791965648531914
Epoch: 15, Batch: 50, Avg. Loss: 0.42366523537784817
Epoch: 15, Batch: 100, Avg. Loss: 0.4491937354207039
Epoch: 15, Batch: 150, Avg. Loss: 0.45502211786806585
Epoch: 15, Batch: 200, Avg. Loss: 0.4720806688070297
Epoch: 15, Batch: 250, Avg. Loss: 0.4535441994667053
Epoch: 15, Batch: 300, Avg. Loss: 0.4125179834663868
Epoch: 16, Batch: 50, Avg. Loss: 0.4133243139833212
Epoch: 16, Batch: 100, Avg. Loss: 0.48221891075372697
Epoch: 16, Batch: 150, Avg. Loss: 0.48477580584585667
Epoch: 16, Batch: 200, Avg. Loss: 0.4335943952202797
Epoch: 16, Batch: 250, Avg. Loss: 0.43135222643613813
Epoch: 16, Batch: 300, Avg. Loss: 0.4331911448389292
Epoch: 17, Batch: 50, Avg. Loss: 0.41807442530989647
Epoch: 17, Batch: 100, Avg. Loss: 0.46375465467572213
Epoch: 17, Batch: 150, Avg. Loss: 0.44491213746368885
Epoch: 17, Batch: 200, Avg. Loss: 0.42053704261779784
Epoch: 17, Batch: 250, Avg. Loss: 0.4893531948328018
Epoch: 17, Batch: 300, Avg. Loss: 0.4518089473247528
Epoch: 18, Batch: 50, Avg. Loss: 0.45207404159009457
Epoch: 18, Batch: 100, Avg. Loss: 0.45608432628214357
Epoch: 18, Batch: 150, Avg. Loss: 0.4791852477937937
Epoch: 18, Batch: 200, Avg. Loss: 0.4590605953708291
Epoch: 18, Batch: 250, Avg. Loss: 0.46983045525848866
Epoch: 18, Batch: 300, Avg. Loss: 0.4236147288233042
Epoch: 19, Batch: 50, Avg. Loss: 0.4138488359749317
Epoch: 19, Batch: 100, Avg. Loss: 0.46627599783241747
Epoch: 19, Batch: 150, Avg. Loss: 0.4230734080076218
Epoch: 19, Batch: 200, Avg. Loss: 0.44226765222847464
Epoch: 19, Batch: 250, Avg. Loss: 0.493932169303298
Epoch: 19, Batch: 300, Avg. Loss: 0.4075877031311393
Epoch: 20, Batch: 50, Avg. Loss: 0.4589112024754286
Epoch: 20, Batch: 100, Avg. Loss: 0.47651812732219695
Epoch: 20, Batch: 150, Avg. Loss: 0.4335635270923376
Epoch: 20, Batch: 200, Avg. Loss: 0.43869333639740943
Epoch: 20, Batch: 250, Avg. Loss: 0.4541923858225346
Epoch: 20, Batch: 300, Avg. Loss: 0.4195485956966877
Epoch: 21, Batch: 50, Avg. Loss: 0.43352438155561684
Epoch: 21, Batch: 100, Avg. Loss: 0.4379497315734625
Epoch: 21, Batch: 150, Avg. Loss: 0.44412982240319254
Epoch: 21, Batch: 200, Avg. Loss: 0.44393672943115237
Epoch: 21, Batch: 250, Avg. Loss: 0.4516037985682487
Epoch: 21, Batch: 300, Avg. Loss: 0.44552245996892453
Epoch: 22, Batch: 50, Avg. Loss: 0.42937667705118654
Epoch: 22, Batch: 100, Avg. Loss: 0.47668816074728965
Epoch: 22, Batch: 150, Avg. Loss: 0.4271181672811508
Epoch: 22, Batch: 200, Avg. Loss: 0.41399771608412267
Epoch: 22, Batch: 250, Avg. Loss: 0.45032677203416827
Epoch: 22, Batch: 300, Avg. Loss: 0.42859276980161665
Epoch: 23, Batch: 50, Avg. Loss: 0.3840171083807945
Epoch: 23, Batch: 100, Avg. Loss: 0.44744413569569585
Epoch: 23, Batch: 150, Avg. Loss: 0.44417639821767807
Epoch: 23, Batch: 200, Avg. Loss: 0.4328863199800253
Epoch: 23, Batch: 250, Avg. Loss: 0.4960946310311556
Epoch: 23, Batch: 300, Avg. Loss: 0.42941322065889836
Epoch: 24, Batch: 50, Avg. Loss: 0.42166611216962335
Epoch: 24, Batch: 100, Avg. Loss: 0.47495020367205143
Epoch: 24, Batch: 150, Avg. Loss: 0.4094343062490225
Epoch: 24, Batch: 200, Avg. Loss: 0.4736978016793728
Epoch: 24, Batch: 250, Avg. Loss: 0.4659312404692173
Epoch: 24, Batch: 300, Avg. Loss: 0.45407533645629883
Epoch: 25, Batch: 50, Avg. Loss: 0.4092911284416914
Epoch: 25, Batch: 100, Avg. Loss: 0.470543210208416
Epoch: 25, Batch: 150, Avg. Loss: 0.47973090410232544
Epoch: 25, Batch: 200, Avg. Loss: 0.44319133646786213
Epoch: 25, Batch: 250, Avg. Loss: 0.5065797314047813
Epoch: 25, Batch: 300, Avg. Loss: 0.4165287338197231
Epoch: 26, Batch: 50, Avg. Loss: 0.3982310391962528
Epoch: 26, Batch: 100, Avg. Loss: 0.452253220975399
Epoch: 26, Batch: 150, Avg. Loss: 0.47870719730854033
Epoch: 26, Batch: 200, Avg. Loss: 0.45917205326259136
Epoch: 26, Batch: 250, Avg. Loss: 0.47326832450926304
Epoch: 26, Batch: 300, Avg. Loss: 0.43821186684072017
Epoch: 27, Batch: 50, Avg. Loss: 0.38713358640670775
Epoch: 27, Batch: 100, Avg. Loss: 0.4905297741293907
Epoch: 27, Batch: 150, Avg. Loss: 0.48670153729617593
Epoch: 27, Batch: 200, Avg. Loss: 0.43469376899302004
Epoch: 27, Batch: 250, Avg. Loss: 0.48311949521303177
Epoch: 27, Batch: 300, Avg. Loss: 0.3960997868329287
Epoch: 28, Batch: 50, Avg. Loss: 0.41137335300445554
Epoch: 28, Batch: 100, Avg. Loss: 0.45070942528545854
Epoch: 28, Batch: 150, Avg. Loss: 0.4816957492381334
Epoch: 28, Batch: 200, Avg. Loss: 0.4320864178240299
Epoch: 28, Batch: 250, Avg. Loss: 0.45549547858536243
Epoch: 28, Batch: 300, Avg. Loss: 0.4174852047115564
Epoch: 29, Batch: 50, Avg. Loss: 0.40398677363991736
Epoch: 29, Batch: 100, Avg. Loss: 0.5004508037120103
Epoch: 29, Batch: 150, Avg. Loss: 0.48859403394162654
Epoch: 29, Batch: 200, Avg. Loss: 0.4266617320477962
Epoch: 29, Batch: 250, Avg. Loss: 0.481647115200758
Epoch: 29, Batch: 300, Avg. Loss: 0.42354948446154594
Epoch: 30, Batch: 50, Avg. Loss: 0.4485948920249939
Epoch: 30, Batch: 100, Avg. Loss: 0.4539016101509333
Epoch: 30, Batch: 150, Avg. Loss: 0.4518728293478489
Epoch: 30, Batch: 200, Avg. Loss: 0.43740345127880575
Epoch: 30, Batch: 250, Avg. Loss: 0.4528781048953533
Epoch: 30, Batch: 300, Avg. Loss: 0.4095899760723114
Epoch: 31, Batch: 50, Avg. Loss: 0.4091231931000948
Epoch: 31, Batch: 100, Avg. Loss: 0.44270179979503155
Epoch: 31, Batch: 150, Avg. Loss: 0.46503172591328623
Epoch: 31, Batch: 200, Avg. Loss: 0.43806931003928185
Epoch: 31, Batch: 250, Avg. Loss: 0.4635069642215967
Epoch: 31, Batch: 300, Avg. Loss: 0.40714627392590047
Epoch: 32, Batch: 50, Avg. Loss: 0.4377112418413162
Epoch: 32, Batch: 100, Avg. Loss: 0.448888423666358
Epoch: 32, Batch: 150, Avg. Loss: 0.4471523743122816
Epoch: 32, Batch: 200, Avg. Loss: 0.4653426010161638
Epoch: 32, Batch: 250, Avg. Loss: 0.47791136130690576
Epoch: 32, Batch: 300, Avg. Loss: 0.5023827336728572
Epoch: 33, Batch: 50, Avg. Loss: 0.4151524886488914
Epoch: 33, Batch: 100, Avg. Loss: 0.4606212951242924
Epoch: 33, Batch: 150, Avg. Loss: 0.4801654599606991
Epoch: 33, Batch: 200, Avg. Loss: 0.4415780074894428
Epoch: 33, Batch: 250, Avg. Loss: 0.4478560071438551
Epoch: 33, Batch: 300, Avg. Loss: 0.4679473642259836
Epoch: 34, Batch: 50, Avg. Loss: 0.4292570322751999
Epoch: 34, Batch: 100, Avg. Loss: 0.43945274837315085
Epoch: 34, Batch: 150, Avg. Loss: 0.4749627400189638
Epoch: 34, Batch: 200, Avg. Loss: 0.444294473528862
Epoch: 34, Batch: 250, Avg. Loss: 0.4489824667572975
Epoch: 34, Batch: 300, Avg. Loss: 0.4274011094123125
Epoch: 35, Batch: 50, Avg. Loss: 0.39622183591127397
Epoch: 35, Batch: 100, Avg. Loss: 0.4335395712405443
Epoch: 35, Batch: 150, Avg. Loss: 0.43095655739307404
Epoch: 35, Batch: 200, Avg. Loss: 0.47861204035580157
Epoch: 35, Batch: 250, Avg. Loss: 0.4715218089520931
Epoch: 35, Batch: 300, Avg. Loss: 0.4811713363975286
Epoch: 36, Batch: 50, Avg. Loss: 0.4021630026400089
Epoch: 36, Batch: 100, Avg. Loss: 0.4508344829082489
Epoch: 36, Batch: 150, Avg. Loss: 0.45973538197577
Epoch: 36, Batch: 200, Avg. Loss: 0.47539435476064684
Epoch: 36, Batch: 250, Avg. Loss: 0.4786958504468203
Epoch: 36, Batch: 300, Avg. Loss: 0.4487893199548125
Epoch: 37, Batch: 50, Avg. Loss: 0.4631334118545055
Epoch: 37, Batch: 100, Avg. Loss: 0.4114603977650404
Epoch: 37, Batch: 150, Avg. Loss: 0.469304184243083
Epoch: 37, Batch: 200, Avg. Loss: 0.46272624023258685
Epoch: 37, Batch: 250, Avg. Loss: 0.4600611008703709
Epoch: 37, Batch: 300, Avg. Loss: 0.4382603045552969
Epoch: 38, Batch: 50, Avg. Loss: 0.4227696318179369
Epoch: 38, Batch: 100, Avg. Loss: 0.42242295332252977
Epoch: 38, Batch: 150, Avg. Loss: 0.4184352021664381
Epoch: 38, Batch: 200, Avg. Loss: 0.45541078634560106
Epoch: 38, Batch: 250, Avg. Loss: 0.4306473210453987
Epoch: 38, Batch: 300, Avg. Loss: 0.45605159141123297
Epoch: 39, Batch: 50, Avg. Loss: 0.4242145843803883
Epoch: 39, Batch: 100, Avg. Loss: 0.4827390559017658
Epoch: 39, Batch: 150, Avg. Loss: 0.43021412566304207
Epoch: 39, Batch: 200, Avg. Loss: 0.46437894441187383
Epoch: 39, Batch: 250, Avg. Loss: 0.44283874332904816
Epoch: 39, Batch: 300, Avg. Loss: 0.43662391528487204
Epoch: 40, Batch: 50, Avg. Loss: 0.40396699495613575
Epoch: 40, Batch: 100, Avg. Loss: 0.45595035366714
Epoch: 40, Batch: 150, Avg. Loss: 0.49139863029122355
Epoch: 40, Batch: 200, Avg. Loss: 0.4561976075172424
Epoch: 40, Batch: 250, Avg. Loss: 0.39561483189463614
Epoch: 40, Batch: 300, Avg. Loss: 0.4264241561293602
Finished Training
</pre>
</div>
</div>

</div>
</div>

</div>
<div class="cell border-box-sizing text_cell rendered"><div class="prompt input_prompt">
</div><div class="inner_cell">
<div class="text_cell_render border-box-sizing rendered_html">
<h2 id="Test-data">Test data<a class="anchor-link" href="#Test-data">&#182;</a></h2><p>See how your model performs on previously unseen, test data. We've already loaded and transformed this data, similar to the training data. Next, run your trained model on these images to see what kind of keypoints are produced. You should be able to see if your model is fitting each new face it sees, if the points are distributed randomly, or if the points have actually overfitted the training data and do not generalize.</p>

</div>
</div>
</div>
<div class="cell border-box-sizing code_cell rendered">
<div class="input">
<div class="prompt input_prompt">In&nbsp;[25]:</div>
<div class="inner_cell">
    <div class="input_area">
<div class=" highlight hl-ipython3"><pre><span></span><span class="c1"># get a sample of test data again</span>

<span class="n">test_images</span><span class="p">,</span> <span class="n">test_outputs</span><span class="p">,</span> <span class="n">gt_pts</span> <span class="o">=</span> <span class="n">net_sample_output</span><span class="p">()</span>

<span class="nb">print</span><span class="p">(</span><span class="n">test_images</span><span class="o">.</span><span class="n">data</span><span class="o">.</span><span class="n">size</span><span class="p">())</span>
<span class="nb">print</span><span class="p">(</span><span class="n">test_outputs</span><span class="o">.</span><span class="n">data</span><span class="o">.</span><span class="n">size</span><span class="p">())</span>
<span class="nb">print</span><span class="p">(</span><span class="n">gt_pts</span><span class="o">.</span><span class="n">size</span><span class="p">())</span>
</pre></div>

    </div>
</div>
</div>

<div class="output_wrapper">
<div class="output">


<div class="output_area">

    <div class="prompt"></div>


<div class="output_subarea output_stream output_stdout output_text">
<pre>torch.Size([10, 1, 224, 224])
torch.Size([10, 68, 2])
torch.Size([10, 68, 2])
</pre>
</div>
</div>

</div>
</div>

</div>
<div class="cell border-box-sizing code_cell rendered">
<div class="input">
<div class="prompt input_prompt">In&nbsp;[26]:</div>
<div class="inner_cell">
    <div class="input_area">
<div class=" highlight hl-ipython3"><pre><span></span><span class="c1">## TODO: visualize your test output</span>
<span class="c1"># you can use the same function as before, by un-commenting the line below:</span>

<span class="n">visualize_output</span><span class="p">(</span><span class="n">test_images</span><span class="p">,</span> <span class="n">test_outputs</span><span class="p">,</span> <span class="n">gt_pts</span><span class="p">)</span>
</pre></div>

    </div>
</div>
</div>

<div class="output_wrapper">
<div class="output">


<div class="output_area">

    <div class="prompt"></div>




<div class="output_png output_subarea ">
<img src="data:image/png;base64,iVBORw0KGgoAAAANSUhEUgAAAIYAAACBCAYAAAAFfMIpAAAABHNCSVQICAgIfAhkiAAAAAlwSFlz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"
>
</div>

</div>

<div class="output_area">

    <div class="prompt"></div>




<div class="output_png output_subarea ">
<img src="data:image/png;base64,iVBORw0KGgoAAAANSUhEUgAAAIYAAACBCAYAAAAFfMIpAAAABHNCSVQICAgIfAhkiAAAAAlwSFlz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"
>
</div>

</div>

<div class="output_area">

    <div class="prompt"></div>




<div class="output_png output_subarea ">
<img src="data:image/png;base64,iVBORw0KGgoAAAANSUhEUgAAAIYAAACBCAYAAAAFfMIpAAAABHNCSVQICAgIfAhkiAAAAAlwSFlz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=
"
>
</div>

</div>

<div class="output_area">

    <div class="prompt"></div>




<div class="output_png output_subarea ">
<img src="data:image/png;base64,iVBORw0KGgoAAAANSUhEUgAAAIYAAACBCAYAAAAFfMIpAAAABHNCSVQICAgIfAhkiAAAAAlwSFlz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"
>
</div>

</div>

<div class="output_area">

    <div class="prompt"></div>




<div class="output_png output_subarea ">
<img src="data:image/png;base64,iVBORw0KGgoAAAANSUhEUgAAAIYAAACBCAYAAAAFfMIpAAAABHNCSVQICAgIfAhkiAAAAAlwSFlz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"
>
</div>

</div>

<div class="output_area">

    <div class="prompt"></div>




<div class="output_png output_subarea ">
<img src="data:image/png;base64,iVBORw0KGgoAAAANSUhEUgAAAIYAAACBCAYAAAAFfMIpAAAABHNCSVQICAgIfAhkiAAAAAlwSFlz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"
>
</div>

</div>

<div class="output_area">

    <div class="prompt"></div>




<div class="output_png output_subarea ">
<img src="data:image/png;base64,iVBORw0KGgoAAAANSUhEUgAAAIYAAACBCAYAAAAFfMIpAAAABHNCSVQICAgIfAhkiAAAAAlwSFlz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==
"
>
</div>

</div>

<div class="output_area">

    <div class="prompt"></div>




<div class="output_png output_subarea ">
<img src="data:image/png;base64,iVBORw0KGgoAAAANSUhEUgAAAIYAAACBCAYAAAAFfMIpAAAABHNCSVQICAgIfAhkiAAAAAlwSFlz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=
"
>
</div>

</div>

<div class="output_area">

    <div class="prompt"></div>




<div class="output_png output_subarea ">
<img src="data:image/png;base64,iVBORw0KGgoAAAANSUhEUgAAAIYAAACBCAYAAAAFfMIpAAAABHNCSVQICAgIfAhkiAAAAAlwSFlz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"
>
</div>

</div>

<div class="output_area">

    <div class="prompt"></div>




<div class="output_png output_subarea ">
<img src="data:image/png;base64,iVBORw0KGgoAAAANSUhEUgAAAIYAAACBCAYAAAAFfMIpAAAABHNCSVQICAgIfAhkiAAAAAlwSFlz
AAALEgAACxIB0t1+/AAAADh0RVh0U29mdHdhcmUAbWF0cGxvdGxpYiB2ZXJzaW9uMy4xLjMsIGh0
dHA6Ly9tYXRwbG90bGliLm9yZy+AADFEAAAgAElEQVR4nO29eZRcV33v+9nnnDo1V1dVD+pRak0t
S2pZ19jYGGRiDAbDTYwxXGdYywZe8pJ383xzAyzGdxd35d7LekkgJCTxTTCEDCtZcR4kwWgFYoYY
YzwbWbIltVpTSz13Vw/VNdcZ3x/Ve/epcsuSsY1bWfqt1auqT1Wds8/Z3/2bf78tfN/nCl2hVtJe
7wFcoY1JV4BxhdalK8C4QuvSFWBcoXXpCjCu0Lp0BRhXaF16TYAhhLhNCDEqhDgthPjUa3GNK/Ta
kni1/RhCCB04CdwKTALPAL/s+/7xV/VCV+g1pdeCY1wPnPZ9/6zv+xbwAPDe1+A6V+g1JOM1OGcf
MBH4fxK4ofVLQohfB34dwDTNazdt2nRJJ0+n03iehxBCnke9GsZrcTuo80vuKt8Hj12udOjQoQXf
9ztbj792T/Ii5Pv+/cD9AJs3b/Y//vGPr/edpleA22+/Hdu2EUKgaRq6riOEIBwOk81m1WQFJ/Hl
kq7r6hyatsZU5THf99F1HQDXdV8SNJqm4fv+umCW5Hle028vlS713l7qnJFI5Px6x18LYEwBA4H/
+1ePvSJab6KDAGh9/WkA0UpCCHWe4CQLIXBdV4FSCIGu63iepwAgwSPHIwHWCqCNSq8FMJ4Bdgoh
ttIAxC8Bv/JKTngpk32xhywn9FLIcRwMw0AIod4DHD9+nKmpKVKpFNdccw22bRMOh/E8j1wux/nz
5/E8j2g0SrVaxXEcAEKhELZtk06n2bJlC9Fo9JLG8XrSqw4M3/cdIcS9wEOADnzN9/1jF/udZKfr
UZAtu6677ufrrcjW71xgvOt+5jiOAobruvi+z/HjxxkaGmJkZIR0Ok1HRwe1Wo3JyUlOnTrFjh07
yGQyCgjhcJhIJIJlWeRyOc6ePcvY2Bg9PT0MDQ0BYJommqatK3IuRq8lx3lNdAzf978NfPu1OHcr
BVn3hcRNUBy0UpDdCyHwPK9JZEjA1mo1pqenCYfDuK7LiRMnuPHGGxkdHWVhYYH+/n7a2tooFAoA
xONxPM+jVqspEdPd3c3ExATHjx+nVquxefNmUqkU4XBYjf/VEIGvBr1uyuerRfKBSk5yqZwi+Pvg
dwzDoFKpsLS0hO/7OI6DZVmYpkmpVOL5558nHA5jWRb5fJ7JyUlyuRyVSoVEIsGOHTvYt28f5XIZ
IQTj4+N8//vfZ3Z2lkKhgO/7hEIhstkse/bs4dZbb2XLli3EYjGi0eiG0T0ue2C8HLoQSKQuIISg
Vqvx8MMPo+s69XqdUChEPp9nfHyc+fl5pqensSyLAwcOcPz4cU6ePEkmk0EIwZEjR3jmmWd49NFH
GRgYwHVdZmZmmJubQwhBIpEgm82yuLjImTNnmJmZwbZt7r33XorFIsCG0T8ue2BI/SLow7gQS17v
WL1ex7IsbNtmenqa8+fPY5om/f39fO1rX8M0TRYWFjBNE9M0sW0bXdeZnJxkbm6Ot73tbczPz3Pm
zBmEEBQKBQ4dOkSxWCQSiVCr1ejq6qJYLLK8vEylUuHAgQNYlsWxY8c4cuQIX//613n3u9+N4zgb
RpxcVsAI+hFCoRCe5ykdwfO8JhYc1A+CJqMQAtu2qdVqPPbYY2zdupVkMolt2xw7doz5+XlM0ySV
SjEwMEC1WmV6eprZ2VlyuRzhcJgdO3awsLCglMZisYjneYTDYQYGBjBNk1gsRj6fxzAMhoeHWVlZ
YWFhgfHxcb7zne8ghCAajdLW1sahQ4cwDIO3ve1tRCIRNdZQKKTMYKn3BHWR9RTxV4suK2C8FEl/
glxt0pKQn0k9xHVdyuUy4+PjPPzww0xOTrJr1y40TWNmZoaVlRW2bt1KLpejUChQq9WwbZvl5WU8
zyOZTKqVvXXrVsbGxpiaarhpOjo6MAwD27ZZWlqiWCxSKBQQQpDNZqlWq9i2TalUAhr6TL1eZ2Zm
hh/84Afkcjne+c53smnTJuLxOKlUCsdxFCjkvQRfXyv6dwGMoKnnuq7iDK7rKv1BOqN838cwDK6+
+moOHz7ME088wYkTJ+jo6KBUKqHrOidOnFBOq3PnzmHbNoZh4DgO9XqdyclJent7OXz4MFNTU/T1
9REKhVhcXKRWqxGJRKhWqwAMDAzgeR4jIyOUSiWWl5exLAshBJZlUa/XMU2TYrFILpfDtm3e/va3
09XVxczMDJ2dnWSzWXWfjuOg67ryuL5WdNkDQz6cVpdzq2a/srKC4ziYpsn8/DwnT57k7NmzRCIR
bNvGsiz1XcltFhYWKJfLZDIZHMdhdHQU27aJRqMsLCwosVOr1VheXsZxHCKRCJqmKbd9uVxmYWEB
y7IUIOTEVioVdF0nmUwqk/XJJ59kfHycvXv3snXrVlZWVrjqqquIRqOYptnk67js/Bg/Swoqa8E4
haZpSscwDINwOIzjOOTzeb7xjW/w+OOPEwqFuOqqqygUCk2rXa7KYrGoJl0IgWma1Ot1ksmkEhEA
y8vLSlTZtk0+n1eAq9fr1Go1Na5QKNQ0qfV6HSEE1WqVUCikrjE3N0c4HKa3t5cPfOAD7N27l1qt
RiKRUO72l3IKvlLaEMAIOqdaSXo0WwNV8rOgU8q27aYYRpDd5vN57r//fhYWFsjn82SzWUzTpFwu
4/s+8/PzLCwsEIvFiEQiSheRDirpe5CgkSLKcZymP3k/tVpNfR4Er+RGqVRKWVK2bSsQRSIRyuUy
9Xqd3t5eyuUyDzzwAL/2a79GIpGgVquh6zqJRALTNNX9yzEGnX3BZ/ZyucuGAMbLofUik4ZhNN24
fFCu62IYBrqu88QTT/D000+TSqWIx+NYlkWpVCKfz6uHKOMblUpFrcqg1zQajSrTuFgsYhhGkwiS
4JATLr8rxyaVXylGTNNE13W1+h3HUbqJ4ziEQiEF7pmZGd70pjcxMTGhgNXX14dpmgCUSiXS6XQT
GF6JyLnsgAHN4AjGSGQY/tSpU5w4cYL9+/fT2dlJoVDgxIkTRCIRfN9Xfot8Pq+4TDgcBtbC6FIf
keQ4jvJOSn3Atm1lskpuIbkXoADiOA6e52FZlgJfrVajVqthGAbJZFLdk23beJ5HvV4nGo0Sj8cx
DIPnn3+enTt34nmecrRpmsbAwABCCJaWlojFYuo+flpOIemyAkar7gBrK8v3fcWC77vvPjRN44EH
HuCNb3wjiUSCQ4cOoes6tm2zsLCgfmPbNgDlchmASCSici0syyIajTZNdjgcJpPJkEqlsG1bnadW
q1EqlZrEneQ4knvV63VyuRzValU5u+r1OrquEw6HMU1TAcd1XfL5PABtbW089dRTjI2Ncdddd5FO
p3n44YdxXVf5QqSICfpvXgldVsCAZn9FMJGmXC6TTCap1Wq4rsttt93G8vIyL7zwAj/60Y8Ui4bG
5NfrdaUwSk1fruxMJoOu60pMuK6rFMNIJEJHR4dKCpIu7EqlwsrKinK0ycmVv7csC8dxSKfTlEol
ZmdnldUjwRnkekERads2586dw/M8/uEf/oFbb72V9vZ2zpw5w759+3BdV+kcrUHDlwogvhRddsBY
j2q1GouLixSLRUZHR6nVamzbto0XXnhBsW9pKUjLI5FIqBUvnUimaeJ5HsVikXQ6TSwWU34RTdNo
a2sjk8nQ3d3Njh07FDeRukG1WlXcoVarKZ3DdV31WTabpVKpkE6nyeVyLCwsMDY2pj4Ph8Mv0gsq
lQqu6zI2Nsb111/Po48+Snd3N8lkEt/3OXfuHG984xuxLEvlkbxS1/qGB0Yw/C1ZZTAuImX34uIi
XV1dvOENb+CHP/wh//Iv/8ITTzxBMpmkWCyyuLhIZ2cnkUgEz/OUu1rmQ1iWhed5xGIx2tvbSaVS
tLW1Kde7EILNmzfT3d1Nf38/mzZtanJTyygsNExQ27apVCpNYXfp0LJtW1kcs7Oz6LrO9PQ0lUoF
QHEiCbhQKKQU3R/+8IdomsbZs2d53/veR71eZ3FxEdM0m6yiV8It4DIARisF/RRSiZRa/lVXXaXk
+NLSEp2dnSwuLipnk5w4yRkkSR9FPB4nnU7T19dHNpulvb1dWQaGYdDf3097ezvJZFKZysE0Pnle
KaIMw2jK7ZDmpLRGIpGI8nrKSKw8l/S0SkUUGvrNysoKiUQCwzCUgy0YQ5H305qj8nJpwwMjqF23
ursty8J1XUzTJJvNEovFqFQqtLe3qziH9CwGXcmO4xAOh9F1HU3TCIfDJJNJBgcH6ezspK+vT5m1
crWapkkikVCTJoElJz6oG2iapnQYaA7oBTmQYRjKb9LZ2cno6ChHjx4FaNJRAJUgBCglt1qt8vjj
jzelCAQtJXntf3cco9WrKVeQfO/7vkqgCYVCnD59mscee4z5+XkA9ZDkKpUTKlMEZY5EMpkkm82y
adMmurq66O7uJhKJKFAEfQ1yLHJswZUpzyvBJyeydSUHUwWkGdzb26tM0UKhoMxWSdJxJ5Vl27ZV
6P/OO+/k1KlTSu+QgJeA/HcHjCBJy8GyrCaTVQjBwsIChw4dYnZ2lt7eXnK5HJlMhlqthmVZij0H
o5TSEZVOp2lra6O7u1tFNWOxGKFQiFAoBDTnowavG8wMD1o20uRsdWxJM1iSBI6u68TjcXp7e+nr
68MwDOVyl3qDpKDPZHFxkfb2dh599FF27NhBJBJh165dbN++nVQqta4H9FJpQwOj1eySyTJS25ei
4vjx4ziOw3XXXUdXVxdPP/00hUKBpaUl9T0hhNL4hRCkUimy2Sy9vb309PTQ3t5OOp3GNM0mt7r0
U8jxBB+ynPBWv0qtVlNKpgSIFCFBZVW+l7qP53kkEgkqlYq6d6mwSnNbjiEcDrO8vKx0ou3btzM0
NMT09DSPP/44U1NT1Go13v3udzM4ONgEkEuxVjY0MFpJPkiZRSV1ivHxcXp7e9m7dy8PP/wwgJqU
crmsdJEgl0ilUnR0dNDZ2UlHRwdtbW1KbEirRz5EyW1aOYf8k34IOfmwfkJy0IoJJhHJ6xmGQSQS
UTmlksMEFVrJ/cLhMKVSiWPHjimOk0qlGB4eplar8c///M9MTk4yPT3NJz/5SZWcLK93sWz0ywoY
MlAmH7RhGJw4cYLOzk7leTx69Ci1Wo1oNKosCjmB1WqVaDRKIpFQIiSdTitvp/RBSEVVWjNBERBU
foMTLAESVCyD7LvVcpD6iNR55HWkbmOaJqFQiHq9rsSH5DTQ4Ey2bZNMJjl9+jSLi4vMzc3R2dnJ
kSNHKBQKXH311YyMjFCtVonH4+o6l8I1LitgSG9kNBpVnsQzZ84wNDTE6Ogo3/nOdxgbG6NQKDSZ
pMHJiMVi9PX1sWnTJjo6OojFYk0rWVoTMlQvwRFUNg3DIBqNNnEXKVakk0lSkMsFgbJe5FOezzRN
VZMCDU6Sz+cV55PizXEc5ufnlaPr4MGDHDp0iEgkQiQS4fjx4/zWb/0WkUiEYrGoosOXQpcVMGRo
OSjbpTVQrVY5fPgw1WpVOauk/S9XfCgUUrqF9GxKXwOsKbjSLJaTEKxfheZUgNbaVulXkACThUtS
FAXBIMEmryfPHXwvwSJBGgSwtKxKpZKKtczMzBAOh4nH47zxjW9UrvM9e/aoc15KvuiG7ajT6rmT
NyQjm67rcvLkSZLJpAqKTU1NUa/Xm7yMciKk/G5rayORSCiWLc8lOZBhGMpMba2elwCTEyTFTlA5
lUm8MldC3kPQ2SW5UNCclBMlRYjUJSQQQqGQistIUzhYJVculymVSgpktm1TLpf5+te/rnwcUsxd
igm7YTlGUAZKtmvbNiMjIyre8bd/+7eq+iudTlOpVFQGVtD/AY2Vkkgk6OzsJJlMEo/HlW6hCx2j
ZOAkVvNDhY62oiE6BfjgLXqIrGgChFSApfcyWOAsgem6LnhgFA38Nh8PD72g48U9rLqFtqLhR/2m
CY5EIiSTSer1utIv5MKQCUSSW8rfCCFUlph0rjmOw7lz5wiHw9x0001As6l9WesYQVRL5TESidDb
20soFFI+jb6+PpVvKZ1gUizIGAs0inmSyaTiBrquI3xB+n+kCZ0MYQ/ZVP5HhdCnQugjOmKPAAO8
5z30/Trx343jpb0mLhF0uikO5/l4ix5EwfiEgXHMwN/tY2KijWg4Qw6e72GeNKntqHH+v651IpA6
RqtjTU6qNNflQpFKrxxPKBRi9+7d9PT0sLi4SE9PD1u3bm16nq1m93q0YYHROnDfX8takjkMP//z
P8+Pf/xjVlZWlJ1vGIZaPXLSpHiQjivFTXyBMWUQOhlCuILQyRDJfBJtREO4Ao6BJzxwwT3kUnx3
EX2/jvEnhrIUpOhSFocHoU+GEMcF3k4P7dTquY6DQCA8gTHaeOzCE0RORzDLJpqnYcUsFeWVJrIE
h4wJSZKe06BVJDnZ3r17ueGGG5ibm+P2228nHA43mduXUji9YYHRStKsq1arKj9THpP6hHQxy9hB
8CFLli+VO9d26fhCB5FTEfyoD3Xw9/joO3S0qzW85z3YC0IT+M83JhwX3CMu1rSFk2yIHVnJJs1H
b8lj87HNCE+gjWqUB8vEz8c5OXCSGjWGJ4apbas1uMKoQX17nZ6v9BA5E6GyrcLp3zyNltZUErL0
WaysrABrZRASMHKCpbVRq9X4xje+wRNPPMGdd97ZpKe8nGjrZQGMoLt5fHychx56iLNnzwJQKBSU
shYOh1UeRDBKKVeXVCY9z0MUGqtV+AJqUPlSBW2bhlbX8P+XjygI/DYfgcBf9gn9vyG0EQ13t0vV
rOLVPGX5SGC4nssXyl/gNwd+k+GJYU4NnOLeu+9lqDTEaGIUH59sOctd4i6GeoboCHUA0PfbfQhP
EDsbo16uE0lFlNUkvaimaSoPqRSNkqvAmnIrOeTc3BxPP/00v/iLv9gs5gJW0WXp4AregGTbruvy
7LPPYpomHR0d6iFYlsXy8rJykUu7XXKH9ULQ9Wid6vYq0bNRnF0OTr+DW2uwasdxQAM3v1bN5n3c
w8/7iIzAqBhKtkvzuFKpMFee47R+mo988COky2ny8Ty+5jOSHCFTzpCP59E0jaWJJQ7NHSLVluJg
5iAfHfgowxPDnN58mk87n2ZrcSu/EfsN0um0Aoa0KoJ+iKDjTdd1ZU1BAygjIyOcPXuW3bt3N+lB
lxI72bDAgDU9Qypgtm1z1VVX8W//9m9s27aNHTt2MD4+zujoKMVikb1791IsFllaWgJokskyH0Mp
pr5H7tM5MnqG5egyKT9FqVyi4BSI2BG0kkY+nidJEr2k4yZdiIJu6yBQWVrVapVyuUyxWKS0XKIj
20EuksNzPVKFFMVkkb6ZPraMbkHEBN1eN7VojYpfYclaYqJ9go988CNkKg3geMJjzBmjHquTTqcp
Fovk8/kXBQGD+SVSYZUmcjAW88gjj7B9+3aV2QVrebIvlRu6YYHRqnhKNuk4Dps2beKqq64iHo+r
hJqf/OQn3HnnnZRKJf78z/9clQgEKagk6rqOMASfnPkkJ6sn2RHege/4LOeX+Z/f+J/snNhJsb+I
Jzx2TOygNFhi8sOT2Jk1S8C2bcrFMs6iQ82vUa/VOXD6AAWngFbViNVivPfoexlYHmA6PY3QBL1L
vcy2z/K9N3+Pil+ho9rBQnSBaDRKSksx7o+zLbSNjJEhpscopRslDouLi1iWpfwvnudRKpXUPQUz
0GR1nG3bPPHEE9x+++309PQozhsE2IXoosAQQnwN+Hlg3vf94dVjWeAfgEHgHHCX7/vLogHJLwHv
ASrAh3zfP3TJaGi+LrCWCCPN05GREYaHh9myZQuFQoHx8XHGxsawbZs//MM/ZPv27czMzKjEGsMw
cCyHlJtCE9pa6F7XeG7qOUZro/jC53T1NF/86y+yd3wvuq8jEOwd3wuiYb0kzibY9d93URgocOLX
T6CHdHzXZ/dXdpOZzrDYvchDtz0EMQjbYW5/8na65roalgiC3uVeBAINjZ6FHu4+eDeLPYtks1kK
+QIZM9OI7qZNOsIdDP7xINEzUXZs2cF33/1dcrkc5XK5qTwgGAsql8vKlJUBQc/zOHHiBP/0T//E
vffeq0z3oIl9IboUz+dfAbe1HPsU8APf93cCP1j9H+DdwM7Vv18H/uySkdBCrdFJwzBob29n165d
FItFTp8+rSKoCwsLpNNp8vk8TzzxhHL8+L6P8AX3nr2Xz77wWX7lmV9BIPB8j/tK9/Gl2pcwPAPh
CwYXBtk7sRfDX42s4lMza9SNOj6rsRZPIzWRwl5o5HNqBY3MdAbN02ifaSfpNmpQE06CrvkutNXH
6+NTNatUQpW1c/mN34i8oCPSQcgI4TouRt2APETPRBGeIHk+SV+8kVEmY0TlSpmyKINoZHbJQihp
1pbLZVUXk0ql+OEPf9i45qq+JV9fii4KDN/3fwQstRx+L/DXq+//GrgjcPxv/AY9CaSFED0Xu8ZF
rt8Y6OrN3Hjjjezfv5+9e/cyPDzMTTfdpHwUsVhMfTeZTDa8iF6SwdIgOjq9y71gQdkvM+6P4wsf
W9hc9+x19BzpYSIxgctqyyYEUTtK1I4iWC2cxmOpZ4l6tFEMFOmJUN1WxdM8FnsWqYaruK5LySgx
mZ5sOlfEiRBxIupcjnAYbx9npjaj6lellVMKlahsq+BrPtXtVRL9Cdrb20kkEni+x9StU5y78xwz
75zBDJsqBTFofchC7Wg0ysTERJPe9Vr6MTb5vj+z+n4WkG191+sK3AfM8ApJytFyuaxiHY7jqCSU
W265hdOnT3P+/HlWVlZoa2ujWq2y5C1xJnqG7dXtnOg7wf/u+d/0Or2019tZiCzQXmlnT+ceIv0R
ntj9BM9bz3Pj926kY7aDXFcOfOjKdbHQvcAz734GK26R0lL09/ezefNmtL/UmH16ltHSKNY5Symi
X9n9Fdr8Nu46cRe9+V6O9h9Fd3R2z+7mWP8xPnfn51hILpAup/mPuf+oiodM08T1XE7951NErShu
0sW1XQYGBiiXyyzVl6h11kCDSkeFeGecsBNWxVbSUoOGkpnJZCiXyxw/fpy3vvWtTcVTL0WvWPn0
fd8XQrzspEIRaBmdyWQu6Teapqm0+kqlohJ5b7zxRh5++GFCoRC9vb04jsPi4mKjvC9k8Eeb/4hE
OMGzdzyLr/lM+VO88+w70YTGlo4thJKNJNrl/DKz9VlOveEUwhZYWEQjUdKkcRIOiVCCqB4lFosp
/aX6m1Uyz2e4Zus1zL1rrpF9pQn8hI+ru3zz575JaarEVGyKZC3J0HVDFAeL5NpyICCfzOOsOKp7
jrIqPIdatIbmaSqGkkgkCNkhIrkItc4aieUEel3HxVUcR8aEpGPLMAza2to4deoUBw4cUD6fi1Wr
/bTAmBNC9Pi+P7MqKuZXj19yV2A/0DJ6YGDgosBqNV1d11V5kUNDQ8zOznLVVVcxPDzMV7/6VfL5
vAq7265NySmRrWRZji/T7XTTHm4nmUgSMhrN15aXlymVS5QoMbpvlFK6RFuhjeFDw8yb87TZbXi+
p7yORsjgEz/4BJ898lkMzyB2Nka73k4hUuD7A99nKbZEW7GNA2cO8OxNz5JP5GkrtjFmjpGL5Ah5
IWzNpsfuYVNyE4ZuqKisaZoIX6CtaHiptXhPJBLB0A36vteHG3FJaklIAgJVTAVQrVbJZDK0t7eT
zWaJx+NMTU2phJ1LKWH8aYHxLeCDwO+uvj4YOH6vEOIBGo3lVwIi52VRaxILNMAR7FElV0IikeBD
H/oQAwMDzM3NUavVaGtro1wuKw5Tq9S49YVb6b6uGyqQD+VV/6yFhQXKlTLP7X+OYroIgsZqbssz
+uZRFswF0sU0bxt/m/IZFJwCjzuPc3TgKMMTw9hDNpmtGUr5Ekss4QufleQKy/oy+WS+8X9qpaF8
CnA1l3sq99Br9BJvjwMNJ1U0GsXQDAb/eJD4WJzSYIlT//mUSt+T3Xp0SyecCqvC60QioarhhBBK
x9I0jauvvprJyUkqlcoldwW8FHP174GbgQ4hxCTw32kA4v8TQvwqcB64a/Xr36Zhqp6mYa5++JJG
ceFrq9dgDoHMORgbG6Ner9Pf309HRweTk5McPHiQXC6nvler1fBdn49NfYydYzspnijy1C89RTgc
bpiyrkPRL+KFPYqZVVD4gAfZepZcZJXlp/J4UU+F7JNakn3pfXz8no9zc+VmPvwfPoxZNOlN9TKw
MsAEE3RUO+igg45KBwuxBbrqXQhNMBeao9frpdfoJRJuZFtJwOm6jl7QiY/FEZ4gcS6BVtTwjTUX
v9AEtmljhhsmuYwsS9d8LBZjcXERz/Po7OxUQbSgk+xirZouCgzf93/5Ah+9fZ3v+sD/fbFzvhIK
9vmemJjguuuuo1gs8kd/9EccPnxYmbCe57FlyxZM02TyhUl21neio5OaSJF0k9RjdTzf46Huh1jY
ukCikCBMmLpfR3d0ErUEy4llDNfA0R2ypSz9mX6y2Wyj+Mdz0XyNL/zNFxieGMYZcrA+3kjr+y/+
f2FyeRJTmDiDDpsKm6iVa0TcBghqeo2OaAdm2FRBMtnCQNd1rLBFbUeNyOkIpcESVsxC2I0s+WQq
yeFrDlPOllkqLHFX9S4Egnw+T61Wo1KpKB2oXq8zPDysiqmfe+45brnlFuUwvGzD7q3/B1PvALLZ
LIcPH+bIkSMcP35cdcCRiuGtt97Kzp07+cynP8PpyGl21ndS2lKCNMRrcRbriyzEFvCFT7Gt2DAl
BXiGx0pipcHydZdbRm+hW+8muz2r2HOZMuenz7N3Yi+6p6Od0ojUIxCFsBmmO9Gtxi4jrzK5J62l
VU+McDisxqsmS8D4b4/jLXlKAdXc1V6mcShny6DBSmqFQrFAe6RdVap5nqfiRtVqlWKxyC233MIj
jzyiOOh66YqttGGBsV70LyhaLMti+/btHDx4ULUIkKUB6XSad73rXUxOTjbAYtX4g6E/4MC2Awxd
P0TICOG4Dm1uG71OL9PGNJo+ltoAAB2HSURBVJvsTfiez3x4nk3WJjzPIxfJ0VHpoEt0kUqmGlbB
aqAqHUoz0DvAsf5jDE8Mw1UQ6gxhVSxCoRCRSEQpqrJwSYJDjrU1mVgm5Li2CytQj63lrMqJjLgR
UvkUhXSB1EoKK29Rz9SbYkEyd8NxHB5//HHe//73E41GmZmZeVGa34VowwIjSNKLGWxhJB9qLBYj
m82qJiNXX321qkZ/6qmnePTHjzJxywSVjgorlRV25neid+lKabu7djcVq4LpNLLKS1YJ0250AC4u
F0lqSdoG2pQeID2Nnu81PJurimqD2QhVpFQqldT3ZdZ3MHlIxn3q9TpLS0trSTlCZ8uXthA7G6M0
WOLk/3USzdCU+SkQ7Du0j7ydJ+bHWIotEY/FVS6KzP4KhULs2bOHarXK+fPned/73sfx48dVWcNl
yzHgxRaJXIEypzMUCnHTTTcxOzvL9PQ027Zto7u7G8MwOHPmTCPwZFhUOioIBJ/5+mfYN7GP8mCZ
0d8YRY82HnbIDeFpjckyXAPbt9E1HdMzVccaWWZgGAa+61PIFTg/tSZK/BEfd9HFMz2MokEkHGFx
aZGVlRW6u7vVeCUgpVgJKoOu66KXdGJnY0rxDFVCuCm3qeBIIEiKpHKvy0RnGTTct28fd9xxBzt2
7ODgwYPE43GVNS6ttIvRhgbGeiR1DdnwJBwOMz4+TjQa5Y477uDMmTM888wznD9/vtGMpOYRX4xj
hk32TuxF8zQS5xKYVROvzVMliXI1w1p9qBCCtrY24vG4Kii2ahbRz0VpG23j9wd+n2O9xxieGqa2
tUapUKLzy53Ex+JYQxZz759janoKTdPo7OxUjidArXCZ/S2V5nqsTmmwROJcgtJgqZGg7KPyPmSi
rxQFUmzpuk5nZydnzpzhkUceoVAocP3111OpVOjo6FBlDUFr5LJUPi9EUkZLHeTJJ5+kVCrx2c9+
lm3btpFKpRgdHWXLli0cPnyYTV2bMJ4ysAyLqbYpBvIDFDcXseM2hjAa8YdVhVbJ+FXlViYPA6qN
Un2ujjnacEBtHd+KY642K5nw2fzJzWi+hkBgnjTJallm9VnV98KyLFKplALjeuR6LiP/5whaQcNr
89DR8dxGDEU2YqlUK1iGRVeiix07dtDR0UG9XmdwcJChoSH27NnDn/3Zn/Hcc8/x+c9/nmw225Tw
JJ2El72OESTp05Ba/PDwMB0dHXR1deH7PmfOnGHbtm0888wzZDIZDhw4wD/+4z8iLMFf7fsrhvuH
6RzqJKGtrV6ZPwlrWd/S3R7MAxFCUAlXKPQVSE2mEAgMy0AgiNfjjTRAfDzhUdxcpBxqxHVmZ2eB
RoGyVESD9bHBV8/z8PCwYha6pyM8oZTJer1OrV7j1JtPUe2sMl+a50D0AJFIhFKpxOTkJOfPn2f/
/v3s37+fM2fOcODAAWKxWFM/j0spat6wBUcXomCVluu6dHR0sG/fPlUEnM1mKRaLvPDCCxw4cIDh
4WHVK6tar7LoLeIuulh1Sym0QVkvxZQs85NtDWQuqe3YPPaLj7Hcs4wnPJywgytcyuEyjuYwkZ7g
y2//Mo/e+SiVakW1ZJSb4+TzeSqVSlP7BGmG27aNa7sYBQPfW6t1lQVRlmVRoUK1swoaLCeX8WM+
8XictrY21fn4T/7kTzh16hS9vb2qFiUYH7msssTXk3dSXLR6PoNlfbKqS1ZwDQ4O8qd/+qfk83mG
h4fZtGmT8gy6jss7v/tONi9vprilyNl7zzadW3KieDyudBnZ2G1+fp5UKgXA+OQ4T257ksE3DNLX
3YdpmYxFxuAEnLHPsDK7wrHiMbZ2baWnu4fe3l4KhQL5fJ7Z2Vl1HzJ/QrJ23/XZ89U9JMeTFAYK
HP0/jlKxKqrttOd5tEfbSeVTFNNFBhggKZIq+CabzRWLRWzbJpPJqBBC6zO+rHM+L0Styb1SDPi+
T3d3N1u2bFFN5EulUmP3gJDB/H+Yp/+5fjRfIzmehBVw290mNiudP0F9Q66wWrWGWTap1+rYjs0t
j9/CluUtALzZeDOGa3A2dpaPfPAjmBGTCXuCm8dvVpXmmqaxsrKizNegOHFdF6NskBxPqoQgVsCN
uU2iLJlIcsOJG/CjPtfsuoa6qCtLJ5PJsLS0pOpsJAgvJZWvlS5LYLTWSARZYywW4+677+b8+fPc
d999dHV1NVLi2sNM9E6ooFe+P08tUlP+C1nFHiw1lAU8lmUhELzlG28hM5VhT3oP/+2O/0b/U/0q
8cZ0TASCreWt/N6Dv8eumV0c7T/Kg/seZGVlRfkPLMtiZWVFBcSChUBaVKO0pUTifIKV/hUqZgXf
WTNTpV/EdV1wGxVvjuNQKBRUT41iscjw8DCnTp1SmfIvFxRwGQGjtZZVvgbfSwfP9ddfzze/+U3u
v/9+7rvvPnK5HHs37SW5kuSj93yUbYvb+AXzF8g4GUJmqKkYWeZKSlBUKhVqlRqb5jaRmcqg+Rp9
y3188rufREdXvgQXFw0NHZ3dU7vR0BgeH+bh1MOUaiUiPZGGu91r7NHq+75qLymB7rouT//y04Qr
Yay4hWM5Ta2bVKdATeCEHRzXIeQ1vJhnz56lXC7znve8h8HBQUZGRohGoz8VKOAyAkarfGzNCQ1a
FhIwH/rQh+ju7ubb3/52Y5eBZ31WnBUGsgPUt9ab2jW1du6Xyp5jOdz2Z7cRskL4olGYPJmYZNfU
LmWFSK7h46s8TwcHW7P57aO/DUdhKjvFg297EN1oONXknmlyzK7rgg+hcohqvIrv+k0ubmktIeCx
nY+xnFjmiH2E/1T5T8SiMd71rncpMD/11FNq+06lv7xMgGxoqyQoLoJKqDweTDiRySxBc1bXdd73
vvfxxS9+kbvuuouO9g60isbiwiKLC4vUZmo4dqNxqww6ybR7uW9aeDZMyAo13N2+4F+u/xf+Yvgv
sHVbcQsfH0tY1EUjcbim1/ibq/8G0zdVlnjPUk9DP1lNHiqVSuRyObXDoiY0rv3ba/m5+36Oa//2
WqqVKpVKhVKppPQLz/OoaTWW48v4wmfGmOHc/DluvPFG9uzZQyKRYGVlhcOHD+P7PkNDQ00V8fJZ
XtZtEFrpQjeyntkV1Ds0TePJJ5/k4MGDTExMNCwBy+a279/GlvwW8v15nrvnuSYFD9YCXiupFRzT
wbAMfOHznqffw/7kfkzXbOIYYb+R1i8QRNwI9zx/D47hoDmNtTeTnaFoFHHqayJBArJUKhGpRlTG
eWY6g17UcXCaakZ838ewDBLLCYqZIpFchC2dW8hkMqoq7lvf+hbJZBLTNNm/f39TJZ58Npfix7hs
gHEhCpqwQX1D+iMAnnzySc6cOUM6naazq5NHo48ycHQAzddIT6UxKyZO0lHg8H1fcQ7LsXjwVx8k
O5Xl5m/djI5OX7GPqcQUfaU+LN3CdE0mkhNsqmwi4q62R8JAczS+9d5vUQ6VWYotEbNiVCtV1alH
uvVrtRq2brPYs0j7dDuL3YuUQ2Wwmzf5kRbSjsd2ML0yTXuknYEPNXZ6PHjwIDMzM9xwww384Ac/
4B3veAfXXXedskqCrSMlF3mpQNplDwxJwZpMuSrkAx0aGuIv//Iv2bZtGyIumOufU9bJ/KZ5KmYF
wzOoVqvqYVWrDVYus6Jy4RxD7UP0LPUwkZpQusRyepmCWWDH7A7lDvfxcYTDbHaWc+Icj217jIXo
AtlylmuOXNPon7EKQtm2wTRNHv6FhzGKBnmRh9XNElTBdKCDjm3ZeAWProEustksR48e5eTJk8zP
z3P+/Hnm5uYYGRnhc5/7HHfffTf9/f1kMhkFEBmpfSm67IBxsXCxlMUyICaE4Oabb1Yb7lZrVdrb
2/noPR+ld7KXt5TfwoAzgG7oqi2jrFaTf/V6nXKlzN9d93dEahHw4N4f34uOTvdSN110YfiGAsSx
gWP8zgd+B8/16P5xN7mrG+mBi7FFFuoLiKggWU0S0kPEY3HCldXMMUOnGqriOz6+t+bxbPWQSoBM
T0/z+c9/nuXlZWzbbgoInj17lnPnzvHMM8/wpje9ife+973s3r1bdQ6+mJ6xYYARXOHrKZfQrDus
JzNb4w5CNLazkvuonz59mmqlyh0rd3Bq5BSVXIXqpiq1ao1wJUw1XFUmZdA6kZFNx3GwDRszZDLT
PkPvYi8z7TPkw3l2zeziWH8DEMvJ5UaOhgftTjuRXIR6Z51YPsYLN72Aa7jojs5Nj93EBx77AH3L
fcx3zfPQbQ818jxWV3awKYsEhASKpmmqh6nMv5DiQWZpAczOzvKv//qvjIyMsGPHDq6//nre8Y53
qG3HL0QbBhiS1hustPElUIJID/r/W93mwfyNT3ziE3zsYx9r9ACNRNk9sJtz7jmKxSJv+vqb6F3o
ZbF3kR/d8SMQjWvIjrzByQhHwtimzW/d/VtKgdSFjm7qoDdKDxuDhEwpQ3+6nx1nd8As1M06j2Qe
aaQMGi62Z9O73Ivma42SxhUNJ+GoBJ4g0KvVKq7nUvJL1K26qlOVYwh2GpQVbbLTn6ZpSsQ8+eST
fOtb3+LGG2/krW996wXnYcMAY71yAfl/UKlspVbPXrDwJpj1de211/L+97+fBx98kFwuR1dXF+FI
mOP9x+n+UXejlnS6HZbBSTXEkFy10rlUt+r8ZOgn5JP5tcwtb5XbiUad7AfGP4BlW1TKFSiDCAtS
yVRju03XxnRN4tU4hXABu24zkZpgc2Ezsx2zlM2Gwim5U5NCrQme2/ccK6kVzCGT5D8l0URzG8qg
fgUvbkrr+40N/86fP8/CwoLa6WA92jDAkBRc8evJwGCPzVYKtlgOhublbz784Q8zNDTEAw88QKVS
wQk7TPSsucnnu+ZZ0VYwagYxKwaBnvBCCKpatQEKjUaJgQux5RimYZJvy5OpZKjn61i6BeXVRmph
p5Hmn0yQr+f5q6/8FV3zXUylp/jK7q/w1T1fpTfei5Nw0L21bTOCXYk1TaNChUKqABpY3RZexEOr
rz0L+byCOpj0BsscjOB2XtVq9fICBlx8B8D1XOLBwFcwt0GyWF3XaW9v513vehdLS0t885vf5OSp
k0Tbo3zsno8xMDfAjYUbwYbbHrqN7oVu5rvm+fvr/16tYL/qo7s6rnAxXINrn7wWo2ZgOzYjbxph
ObXMt/d+G0d36Kx2IoQgF8mpehKrbvGruV9F93X68n1EahFybo5T1VMkagna2tqU6JPWg1rxVUG6
lCafyGPMGrhFF8M0mp6BfGZBRVWaxnL7LBlrkRHnC9GGA8Z6oGhVSuX7VtYpHVrys0qlojrsHD9+
nLGxMU6cOMF3v/tdlV/R+e1O2gfaSepJ7HabcCVM90K3kvsJJ0FVa/gevIiHq7sgwNEbBcOGZlCr
1yilSvhawypBwEJ0oeH88hvh8KX4EoTg2MAxhseHGU+Okxd5BQKZGCRzR+T9eJ5HpVrBi3i85fRb
KDgFTj53kipV9bvggmgVrcH/pb4hd60ObiDYShsOGHJSg+xRHpcAkLGNYKtl13XJ5XKUSiXGxsY4
d+4cIyMjjI+PMzMzw9TU1It2DdI0jXqtjltwcZMNfYIoTGen6V3qZb5rHr/NR883+oG2FdvIFDPk
U3naK+0c2naoUWJQ7aCj1uiMo3s6juaQrWXRfZ3P/MNn2Duxl6MDR/noBz/K79z5O7z56Tez6Czi
2WvufRnnkJ0FJSgs2+KFN7xAMV0kW1nzg8gcVfl7aZ4HLbmgMhrsgiwBclmYq5JauUCw8z7A3Nwc
xWKRlZUVpqenyeVy5HI5pqamKJfLqshGhsuDnkNY8/zJLnjFYhFAyWErbPHADQ+QdJKIbMNZZVs2
HzzyQQZLg0ycneCBtz9AOBLm4M6D+MJnMbLIlsUt5CI5ktUkHh6LsUUGZgYYHh9G93WGJ4bJlDJs
P7KdnJ3D8zwVdpf7k0i/hdSLLMuiIioU00V8zWcpvoQTdlQ5o7Rc1lM6g8ckQCRHaW2Evx5tKGDI
m5BWgEyyqVQqau/z48ePq078wc64cv9SKVODYAKaTF1p6slmZrLBWiKZoKpXSfkpPMMjUm9MXLga
Vs1XBgoDJPIJnJRDtpxlObbMH3/tj9k1vavBFe75KL7wQYOJ7gnGkmMMFgc51n8Mx3bQKg3rRno9
5SZ7cqLkpjsyi9zwDVKFFIVUgWw5S5xGAbTkFsHJb7Xegul8kqR+cTHaEMDwPI+JiQlKpRLQvOW1
fJUsENZWvTwWDJPL38uHG4wuymPBOAqsbphrWxx/43GKmSKpfIr9h/crR1FFq3A2dpZtlW2MxcaY
Kk8RdsNc+8K16I7OVVNXKa7QM9HDUmyJWkeNyEKEP+j5A9K9aYqpItsf207dW1vlcn/3eDyuJiy4
OORz2P/cfrSkRpvRBvoaV5WcIHhf8vfBfFFY3w3wUu0QNgQw6vU6586da6TgrSbKBH0QwZuQbFA+
NMk15OdBWRsUR6ZpKhBJP4c85rouRa/YqHbXoJAuUKZMzI41vu97fHnXl/GWPSpmhVC5UeLYGByM
J8fZXNjM2ehZ4o/FSWgJqqJKyA7hGz7VcJWklkSLaMo6CNZ3BFexar6Gj2VahKwQmtAI1UMIQzQV
GbWG1IEmYAR7kQWfo7RWNryOEdTK5YTK5BS5ZWTQBJO6A6z5NYIrTJ4jyDKDsROZOR38LmUIz4Wp
b6oTX4ojKqKRcyHd8LqgGqniOi7Yzdnq922/j6gVpWSUCLuNiTU8Ay2qqSox6VMJcgc5JhmPkT0w
dEPnJ8M/odBWIJlPsu/QPrUlltSF5PXlcwj6cGRWmHSpS39IcIFdFrES3/eVmGg9HgQBNPsrgkpW
kOR3WjfeDZ4XaFo9mtAw/s6go7eD/mw/Lu6L0u7lSpSmblBR9MM+sUijOZxUJKVTKSgaJDjkpMki
IkBVpdWMGoW2Ar7mNxq5xFDljZLTlcvlpqauQQdXsMd48Fldak0JbJAMLgmMYDwkmPLWmsEVBEXw
N/DivIygJzAod4OAUtVnPjgrTqNuNWziRlzqVr0poiknOGgqw9rORK0e22COh/y953mq2BnWquuU
GC35JPIJhCdIFVJE/ahSVIN5Fa2WiJz84LOQvb2Cxy4WcocNwjEkyRtrTd8Llgdc6E/ShW48qIi1
Hg9e03EcypUyY28do5guEl+Ks+vJXfju2nZTchJlnqhsYB/UdWBtE13JZTRNU7sgSFYv/RHyHL7f
CLkPPzuMG3GJ+TGMcKOUMrgLgRyzfJUgCepQ8pyO09hNUt5vq7d0PdpQwAhSa11HcOeAYCg6+NqU
ih+YbMnaW+s4pOwNbohXq9WYKcxQSDfiEqVsqVGf6oCW0tALugKDTOYNKntyjK3tqoNs3vM8isUi
y8vLOK6DF/VUWwelE2g6Ya+xYZ5s8BrkpsEJDpqnkpPJPwnO4O9h/VhTkC6lB9cA8Dc0enn6wP2+
739JvMpto4NsXd68dFJJTT24e5H8bmv74+DDaX0I63ENOckyigpQyVUw50ysTRbRXBS7YDN+8zil
bIlILkL7wXZlWsqxwVqeqIytBMkwDKVQq3pY12H61mmqnVUSywnaj7SrZGGgaQtxeb+t4iv42qqQ
S/BL342snQ2KvQvRpXAMB/iY7/uHhBBJ4CdCiO8BH6LRNvp3hRCfotE2+pM0t42+gUbb6BsudpHg
5MqbkseDrxejVmePJDkZQTkNzTmVQdAl/zFJrCOG6ZhUIhVK2RJoUOusYbQZWEWLQqGg+nZLIEgl
unVTX1jbhEal9aUMVYdaypSoalXCbljpBrLsUvpcgnkprUpnq14VdHkLIZQiLrmv5GAXoktpGT0j
V7zv+0VghEa331etbbRUPqVSJ//kZLUqpq2WQmsoXgJjvc9gjRUHlVd5TqkgVsoV6kt1XMdFq2pE
c1HwILYQIyESyiU9NzdHoVig5JcwQo39WJWuICdGE4QyISLRiBIjlUoFKhBfioMHiaUEfslXoIjF
YqpaTVofrWZua5Q5eM+tYgZo2sJcAvRC9LJ0DCHEIHAN8BSvsG20CHQGluw4qLxJxAetkOCf/H6Q
WvWMIFCCXGI9jtH6JxuZxWIxQkaIgX8bwApZ6DUd3/SVaFjOLzP65lGqHVVS+RTXPH+NYttCCMKR
MCduOEExXSS2GKPv+32s+qjQNI3BHw5CHOLE0QxNlSEG90QLioygmGrlFC3Pt+m9VHClshu0VNaj
SzZXhRAJ4B+B3/Z9vxD8zG8sjZdV6uT7/v2+71/n+/510mwLUnDyL6RwBj9v9XW0jP1CY3iR6Rok
CSAhGgVBRs1omLSrE2MYBkabQbWjqjymC9UFALWvCHFUEKzcXqYqqkpXiEQihM0wcT+OGTJVW+hg
hZq8vuQY61lirfd0Id+O1IkuxWS9JI4hhAjRAMXf+b7/T6uHX3Hb6PUo6L6VipzcVSAoM4OeSwkE
KXtbXcDyN62v8jzyL2j5yP+DWr6U00EF0rRNorko1c4q0YUolKFAYe1cix7RxSiV9grRXJSoH8WM
mKp9k+QK0vqQLD7Y1S/YZU/21ljPDR68r1ZrRb6GQiEymYyqursQXYpVIoC/AEZ83/9i4KPXtG20
vLHWlbMetWrr8GKuERQ7QREVXF2tWj2scQ3pxZQmZbA148C/DeCEnYYbXVsrQZAg3fLwFryIh2EZ
RJPRpo37DMNQfT6DE6y6AK+eQ3IL6Ut5OV7MoMiR17xYk7ZL4RhvAe4GXhBCHF499hle5bbRrY6a
YNjc99eay1/KOYIPQeoqwcmWq15Gb4Mxk+BKC8ZfpB4kJ1TGLSQ4APz4Wg6EtCSCCrAe1ZVbG1At
ooPflQk1stm8dKfLMclV3urhldQKlmANieRO8nm+VF/xS2kZ/WPgQtB8TdpGN2n0gbjDyyHJbYLW
RvD8rceC1ApQubJkU9fg+SWbbwVtMF4RNDnlvchjUjzJ45JLyKBbcKIloOU9XCgLq9Uakcq3XGxS
VF1WOZ/rkdSiX4p1SnGynlUSpJdSuoJmnPxtcAtN2f1O/gUnKrjagxxK6goSGPL6EhRSNAUBIV+D
4QCZ3SXT8tYzwy+Fgvd2oYUBGwQYrTI+6LGT5tl6nfWCOQ2wvhMsCISg30JyAjmxwd4akuVKsiyL
fD5PV1dXkxdSZlzLawQjxEFwBvM4peex1eci2XswYgqs7bli26rJm6T1TNSgyAgeCy4s13VVbe6F
aEMAIxiBDCqEQdkvqdV1Hjz+UmYprEVqpRXyUjpL0K0u0wvL5TLpdLpptQbfB30OcuzBpixBbiBl
f6sOAGscUh6zLEttfFev19fVDV7q3lvFsez90RrPCdKGAYZMowvK0PX0govZ3+tRK7DW830EKSi7
gzkYKysrJBIJZVZC827JwQkPchIJiFYlsTXhJmiFBdsVeJ5Hf38/hw8fbrpuq7+iFRxBMMjr+76v
Nrx5yWf20zzoV5uEEEVg9PUexyVSB7Dweg/iEuhSx7nF9/3O1oMbgmMAo77vX/d6D+JSSAjx7OUw
1lc6zg2RwXWFNh5dAcYVWpc2CjDuf70H8DLochnrKxrnhlA+r9DGo43CMa7QBqMrwLhC69LrDgwh
xG1CiFEhxGnRyB19PcfyNSHEvBDiaOBYVgjxPSHEqdXXzOpxIYT449VxPy+EeMPPcJwDQoiHhRDH
hRDHhBD/9VUf64VS234WfzSaGZ0BtgEmcATY8zqO563AG4CjgWO/D3xq9f2ngN9bff8e4Ds0Is9v
Ap76GY6zB3jD6vskcBLY82qO9fUGxo3AQ4H/Pw18+nUe02ALMEaBnsCEjK6+/zLwy+t973UY84PA
ra/mWF9vUXKhxOGNRC836flnSuKVJWhfkF5vYFxW5DeW24ax78WrnKAdpNcbGK8ocfhnRHNitS5G
vIpJz6+UxEskaL8aY329gfEMsFMIsVUIYQK/RCOZeCORTHqGFyc937Oq8b+JnzLp+achIS6aoP3K
x/p6KnqritB7aGjVZ4D/53Uey9/TKIyyacjhXwXagR8Ap4DvA9nV7wrgvtVxvwBc9zMc5wEaYuJ5
4PDq33tezbFecYlfoXXp9RYlV2iD0hVgXKF16QowrtC6dAUYV2hdugKMK7QuXQHGFVqXrgDjCq1L
/z8lnXUHrLUnswAAAABJRU5ErkJggg==
"
>
</div>

</div>

</div>
</div>

</div>
<div class="cell border-box-sizing text_cell rendered"><div class="prompt input_prompt">
</div><div class="inner_cell">
<div class="text_cell_render border-box-sizing rendered_html">
<p>Once you've found a good model (or two), save your model so you can load it and use it later!</p>
<p>Save your models but please <strong>delete any checkpoints and saved models before you submit your project</strong> otherwise your workspace may be too large to submit.</p>

</div>
</div>
</div>
<div class="cell border-box-sizing code_cell rendered">
<div class="input">
<div class="prompt input_prompt">In&nbsp;[0]:</div>
<div class="inner_cell">
    <div class="input_area">
<div class=" highlight hl-ipython3"><pre><span></span><span class="c1">## TODO: change the name to something uniqe for each new model</span>


<span class="c1"># # after training, save your model parameters in the dir &#39;saved_models&#39;</span>
<span class="c1"># torch.save(net.state_dict(), model_dir+model_name)</span>
<span class="c1">#saving in google drive</span>

<span class="n">model_save_name</span> <span class="o">=</span> <span class="s1">&#39;keypoints_model_1.pt&#39;</span>
<span class="n">path</span> <span class="o">=</span> <span class="n">F</span><span class="s2">&quot;/content/gdrive/My Drive/</span><span class="si">{model_save_name}</span><span class="s2">&quot;</span> 
<span class="n">torch</span><span class="o">.</span><span class="n">save</span><span class="p">(</span><span class="n">net</span><span class="o">.</span><span class="n">state_dict</span><span class="p">(),</span> <span class="n">path</span><span class="p">)</span>
</pre></div>

    </div>
</div>
</div>

</div>
<div class="cell border-box-sizing text_cell rendered"><div class="prompt input_prompt">
</div><div class="inner_cell">
<div class="text_cell_render border-box-sizing rendered_html">
<p>After you've trained a well-performing model, answer the following questions so that we have some insight into your training and architecture selection process. Answering all questions is required to pass this project.</p>

</div>
</div>
</div>
<div class="cell border-box-sizing text_cell rendered"><div class="prompt input_prompt">
</div><div class="inner_cell">
<div class="text_cell_render border-box-sizing rendered_html">
<h3 id="Question-1:-What-optimization-and-loss-functions-did-you-choose-and-why?">Question 1: What optimization and loss functions did you choose and why?<a class="anchor-link" href="#Question-1:-What-optimization-and-loss-functions-did-you-choose-and-why?">&#182;</a></h3>
</div>
</div>
</div>
<div class="cell border-box-sizing text_cell rendered"><div class="prompt input_prompt">
</div><div class="inner_cell">
<div class="text_cell_render border-box-sizing rendered_html">
<p><strong>Answer</strong>:</p>
<p>I used Adam optimizer to adjust the loss using gradient descent approach which performed well compared to the results, as for the loss functions I have tried to use the root mean square but it had bad results with so many outliers so I decided to use smoothL1Loos to deal with the outliers.</p>

</div>
</div>
</div>
<div class="cell border-box-sizing text_cell rendered"><div class="prompt input_prompt">
</div><div class="inner_cell">
<div class="text_cell_render border-box-sizing rendered_html">
<h3 id="Question-2:-What-kind-of-network-architecture-did-you-start-with-and-how-did-it-change-as-you-tried-different-architectures?-Did-you-decide-to-add-more-convolutional-layers-or-any-layers-to-avoid-overfitting-the-data?">Question 2: What kind of network architecture did you start with and how did it change as you tried different architectures? Did you decide to add more convolutional layers or any layers to avoid overfitting the data?<a class="anchor-link" href="#Question-2:-What-kind-of-network-architecture-did-you-start-with-and-how-did-it-change-as-you-tried-different-architectures?-Did-you-decide-to-add-more-convolutional-layers-or-any-layers-to-avoid-overfitting-the-data?">&#182;</a></h3>
</div>
</div>
</div>
<div class="cell border-box-sizing text_cell rendered"><div class="prompt input_prompt">
</div><div class="inner_cell">
<div class="text_cell_render border-box-sizing rendered_html">
<p><strong>Answer</strong>:</p>
<p>I applied the NamishNet Layer architecture, every layer is the same except for one simple difference was the input and output of the last 2 fully connected layers made the input 1000 and the output 300 then 300 to 136 to get our 68 points.</p>

</div>
</div>
</div>
<div class="cell border-box-sizing text_cell rendered"><div class="prompt input_prompt">
</div><div class="inner_cell">
<div class="text_cell_render border-box-sizing rendered_html">
<h3 id="Question-3:-How-did-you-decide-on-the-number-of-epochs-and-batch_size-to-train-your-model?">Question 3: How did you decide on the number of epochs and batch_size to train your model?<a class="anchor-link" href="#Question-3:-How-did-you-decide-on-the-number-of-epochs-and-batch_size-to-train-your-model?">&#182;</a></h3>
</div>
</div>
</div>
<div class="cell border-box-sizing text_cell rendered"><div class="prompt input_prompt">
</div><div class="inner_cell">
<div class="text_cell_render border-box-sizing rendered_html">
<p><strong>Answer</strong>:</p>
<p>Batch of size 10 seems to be small but it ended up with what we can call "fine" results and 40 as number of epochs also gives a tolerable result.</p>

</div>
</div>
</div>
<div class="cell border-box-sizing text_cell rendered"><div class="prompt input_prompt">
</div><div class="inner_cell">
<div class="text_cell_render border-box-sizing rendered_html">
<h2 id="Feature-Visualization">Feature Visualization<a class="anchor-link" href="#Feature-Visualization">&#182;</a></h2><p>Sometimes, neural networks are thought of as a black box, given some input, they learn to produce some output. CNN's are actually learning to recognize a variety of spatial patterns and you can visualize what each convolutional layer has been trained to recognize by looking at the weights that make up each convolutional kernel and applying those one at a time to a sample image. This technique is called feature visualization and it's useful for understanding the inner workings of a CNN.</p>

</div>
</div>
</div>
<div class="cell border-box-sizing text_cell rendered"><div class="prompt input_prompt">
</div><div class="inner_cell">
<div class="text_cell_render border-box-sizing rendered_html">
<p>In the cell below, you can see how to extract a single filter (by index) from your first convolutional layer. The filter should appear as a grayscale grid.</p>

</div>
</div>
</div>
<div class="cell border-box-sizing code_cell rendered">
<div class="input">
<div class="prompt input_prompt">In&nbsp;[45]:</div>
<div class="inner_cell">
    <div class="input_area">
<div class=" highlight hl-ipython3"><pre><span></span><span class="c1"># Get the weights in the first conv layer, &quot;conv1&quot;</span>
<span class="c1"># if necessary, change this to reflect the name of your first conv layer</span>
<span class="n">weights1</span> <span class="o">=</span> <span class="n">net</span><span class="o">.</span><span class="n">conv1</span><span class="o">.</span><span class="n">weight</span><span class="o">.</span><span class="n">data</span>

<span class="n">w</span> <span class="o">=</span> <span class="n">weights1</span><span class="o">.</span><span class="n">cpu</span><span class="p">()</span><span class="o">.</span><span class="n">numpy</span><span class="p">()</span>

<span class="n">filter_index</span> <span class="o">=</span> <span class="mi">0</span>

<span class="nb">print</span><span class="p">(</span><span class="n">w</span><span class="p">[</span><span class="n">filter_index</span><span class="p">][</span><span class="mi">0</span><span class="p">])</span>
<span class="nb">print</span><span class="p">(</span><span class="n">w</span><span class="p">[</span><span class="n">filter_index</span><span class="p">][</span><span class="mi">0</span><span class="p">]</span><span class="o">.</span><span class="n">shape</span><span class="p">)</span>

<span class="c1"># display the filter weights</span>
<span class="n">plt</span><span class="o">.</span><span class="n">imshow</span><span class="p">(</span><span class="n">w</span><span class="p">[</span><span class="n">filter_index</span><span class="p">][</span><span class="mi">0</span><span class="p">],</span> <span class="n">cmap</span><span class="o">=</span><span class="s1">&#39;gray&#39;</span><span class="p">)</span>
</pre></div>

    </div>
</div>
</div>

<div class="output_wrapper">
<div class="output">


<div class="output_area">

    <div class="prompt"></div>


<div class="output_subarea output_stream output_stdout output_text">
<pre>[[-0.35115218 -0.09079338 -0.0828445  -0.00131632]
 [-0.06596946  0.07061893 -0.2311623  -0.18147647]
 [ 0.07151993  0.05409577 -0.20769988  0.00866154]
 [ 0.06129741  0.04135942 -0.05903475  0.02106058]]
(4, 4)
</pre>
</div>
</div>

<div class="output_area">

    <div class="prompt output_prompt">Out[45]:</div>




<div class="output_text output_subarea output_execute_result">
<pre>&lt;matplotlib.image.AxesImage at 0x7f9bf305be80&gt;</pre>
</div>

</div>

<div class="output_area">

    <div class="prompt"></div>




<div class="output_png output_subarea ">
<img src="data:image/png;base64,iVBORw0KGgoAAAANSUhEUgAAAQcAAAD8CAYAAAB6iWHJAAAABHNCSVQICAgIfAhkiAAAAAlwSFlz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"
>
</div>

</div>

</div>
</div>

</div>
<div class="cell border-box-sizing text_cell rendered"><div class="prompt input_prompt">
</div><div class="inner_cell">
<div class="text_cell_render border-box-sizing rendered_html">
<h2 id="Feature-maps">Feature maps<a class="anchor-link" href="#Feature-maps">&#182;</a></h2><p>Each CNN has at least one convolutional layer that is composed of stacked filters (also known as convolutional kernels). As a CNN trains, it learns what weights to include in it's convolutional kernels and when these kernels are applied to some input image, they produce a set of <strong>feature maps</strong>. So, feature maps are just sets of filtered images; they are the images produced by applying a convolutional kernel to an input image. These maps show us the features that the different layers of the neural network learn to extract. For example, you might imagine a convolutional kernel that detects the vertical edges of a face or another one that detects the corners of eyes. You can see what kind of features each of these kernels detects by applying them to an image. One such example is shown below; from the way it brings out the lines in an the image, you might characterize this as an edge detection filter.</p>
<p><img src='images/feature_map_ex.png' width=50% height=50%/></p>
<p>Next, choose a test image and filter it with one of the convolutional kernels in your trained CNN; look at the filtered output to get an idea what that particular kernel detects.</p>
<h3 id="TODO:-Filter-an-image-to-see-the-effect-of-a-convolutional-kernel">TODO: Filter an image to see the effect of a convolutional kernel<a class="anchor-link" href="#TODO:-Filter-an-image-to-see-the-effect-of-a-convolutional-kernel">&#182;</a></h3><hr>

</div>
</div>
</div>
<div class="cell border-box-sizing code_cell rendered">
<div class="input">
<div class="prompt input_prompt">In&nbsp;[69]:</div>
<div class="inner_cell">
    <div class="input_area">
<div class=" highlight hl-ipython3"><pre><span></span><span class="c1">##TODO: load in and display any image from the transformed test dataset</span>

<span class="c1">## TODO: Using cv&#39;s filter2D function,</span>
<span class="c1">## apply a specific set of filter weights (like the one displayed above) to the test image</span>
<span class="n">weights1</span> <span class="o">=</span> <span class="n">net</span><span class="o">.</span><span class="n">conv2</span><span class="o">.</span><span class="n">weight</span><span class="o">.</span><span class="n">data</span>

<span class="n">w</span> <span class="o">=</span> <span class="n">weights1</span><span class="o">.</span><span class="n">cpu</span><span class="p">()</span><span class="o">.</span><span class="n">numpy</span><span class="p">()</span>

<span class="n">filter_index</span> <span class="o">=</span> <span class="mi">0</span>

<span class="nb">print</span><span class="p">(</span><span class="n">w</span><span class="p">[</span><span class="n">filter_index</span><span class="p">][</span><span class="mi">0</span><span class="p">])</span>
<span class="nb">print</span><span class="p">(</span><span class="n">w</span><span class="p">[</span><span class="n">filter_index</span><span class="p">][</span><span class="mi">0</span><span class="p">]</span><span class="o">.</span><span class="n">shape</span><span class="p">)</span>


<span class="c1"># display the filter weights</span>
<span class="c1">#plt.imshow(w[filter_index][9], cmap=&#39;gray&#39;)</span>
<span class="n">image</span> <span class="o">=</span> <span class="n">np</span><span class="o">.</span><span class="n">squeeze</span><span class="p">(</span><span class="n">test_images</span><span class="p">[</span><span class="mi">9</span><span class="p">]</span><span class="o">.</span><span class="n">data</span><span class="o">.</span><span class="n">cpu</span><span class="p">()</span><span class="o">.</span><span class="n">numpy</span><span class="p">())</span>

<span class="n">fig</span> <span class="o">=</span> <span class="n">plt</span><span class="o">.</span><span class="n">figure</span><span class="p">()</span>
<span class="n">ax1</span> <span class="o">=</span> <span class="n">fig</span><span class="o">.</span><span class="n">add_subplot</span><span class="p">(</span><span class="mi">2</span><span class="p">,</span><span class="mi">2</span><span class="p">,</span><span class="mi">1</span><span class="p">)</span>
<span class="n">ax1</span><span class="o">.</span><span class="n">imshow</span><span class="p">(</span><span class="n">image</span><span class="p">,</span> <span class="n">cmap</span><span class="o">=</span><span class="s2">&quot;gray&quot;</span><span class="p">)</span>

<span class="n">filtered_img</span> <span class="o">=</span> <span class="n">cv2</span><span class="o">.</span><span class="n">filter2D</span><span class="p">(</span><span class="n">image</span><span class="p">,</span> <span class="o">-</span><span class="mi">1</span><span class="p">,</span> <span class="n">w</span><span class="p">[</span><span class="n">filter_index</span><span class="p">][</span><span class="mi">0</span><span class="p">])</span>
<span class="n">ax2</span> <span class="o">=</span> <span class="n">fig</span><span class="o">.</span><span class="n">add_subplot</span><span class="p">(</span><span class="mi">2</span><span class="p">,</span><span class="mi">2</span><span class="p">,</span><span class="mi">2</span><span class="p">)</span>
<span class="n">ax2</span><span class="o">.</span><span class="n">imshow</span><span class="p">(</span><span class="n">filtered_img</span><span class="p">,</span> <span class="n">cmap</span><span class="o">=</span><span class="s2">&quot;gray&quot;</span><span class="p">)</span>



<span class="c1"># fig = plt.figure()</span>
<span class="c1"># ax1 = fig.add_subplot(2,2,1)</span>
<span class="c1"># ax1.imshow(...)</span>
</pre></div>

    </div>
</div>
</div>

<div class="output_wrapper">
<div class="output">


<div class="output_area">

    <div class="prompt"></div>


<div class="output_subarea output_stream output_stdout output_text">
<pre>[[-0.06053015  0.0559083   0.0353152 ]
 [ 0.02949966  0.01822006  0.01578912]
 [-0.026814   -0.00724248  0.00155842]]
(3, 3)
</pre>
</div>
</div>

<div class="output_area">

    <div class="prompt output_prompt">Out[69]:</div>




<div class="output_text output_subarea output_execute_result">
<pre>&lt;matplotlib.image.AxesImage at 0x7f9bf2076240&gt;</pre>
</div>

</div>

<div class="output_area">

    <div class="prompt"></div>




<div class="output_png output_subarea ">
<img src="data:image/png;base64,iVBORw0KGgoAAAANSUhEUgAAAUEAAACGCAYAAABDlDiJAAAABHNCSVQICAgIfAhkiAAAAAlwSFlz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"
>
</div>

</div>

</div>
</div>

</div>
<div class="cell border-box-sizing text_cell rendered"><div class="prompt input_prompt">
</div><div class="inner_cell">
<div class="text_cell_render border-box-sizing rendered_html">
<h3 id="Question-4:-Choose-one-filter-from-your-trained-CNN-and-apply-it-to-a-test-image;-what-purpose-do-you-think-it-plays?-What-kind-of-feature-do-you-think-it-detects?">Question 4: Choose one filter from your trained CNN and apply it to a test image; what purpose do you think it plays? What kind of feature do you think it detects?<a class="anchor-link" href="#Question-4:-Choose-one-filter-from-your-trained-CNN-and-apply-it-to-a-test-image;-what-purpose-do-you-think-it-plays?-What-kind-of-feature-do-you-think-it-detects?">&#182;</a></h3>
</div>
</div>
</div>
<div class="cell border-box-sizing text_cell rendered"><div class="prompt input_prompt">
</div><div class="inner_cell">
<div class="text_cell_render border-box-sizing rendered_html">
<p><strong>Answer</strong>: 
The filter does seem to blur out noise and darken it a little bit.</p>

</div>
</div>
</div>
<div class="cell border-box-sizing text_cell rendered"><div class="prompt input_prompt">
</div><div class="inner_cell">
<div class="text_cell_render border-box-sizing rendered_html">
<hr>
<h2 id="Moving-on!">Moving on!<a class="anchor-link" href="#Moving-on!">&#182;</a></h2><p>Now that you've defined and trained your model (and saved the best model), you are ready to move on to the last notebook, which combines a face detector with your saved model to create a facial keypoint detection system that can predict the keypoints on <em>any</em> face in an image!</p>

</div>
</div>
</div>
    </div>
  </div>
</body>

 


</html>
